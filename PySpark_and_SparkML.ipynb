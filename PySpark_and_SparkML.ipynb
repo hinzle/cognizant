{
  "nbformat": 4,
  "nbformat_minor": 0,
  "metadata": {
    "colab": {
      "provenance": [],
      "collapsed_sections": [],
      "include_colab_link": true
    },
    "kernelspec": {
      "name": "python3",
      "display_name": "Python 3"
    },
    "language_info": {
      "name": "python"
    }
  },
  "cells": [
    {
      "cell_type": "markdown",
      "metadata": {
        "id": "view-in-github",
        "colab_type": "text"
      },
      "source": [
        "<a href=\"https://colab.research.google.com/github/hinzle/cognizant/blob/main/PySpark_and_SparkML.ipynb\" target=\"_parent\"><img src=\"https://colab.research.google.com/assets/colab-badge.svg\" alt=\"Open In Colab\"/></a>"
      ]
    },
    {
      "cell_type": "markdown",
      "metadata": {
        "id": "WZdCWj0J-h37"
      },
      "source": [
        "## Welcome to this course \"Getting started with Apache Spark\"\n",
        "\n",
        "![PySpark](https://drive.google.com/uc?id=1oU2tHXn4Tb4NJ0GQLbFQanLUVWj-3M-G)"
      ]
    },
    {
      "cell_type": "markdown",
      "metadata": {
        "id": "uxgd2dUX84JY"
      },
      "source": [
        "## Contents\n",
        "- Setting up the environment\n",
        "- Read data\n",
        "- Preprocessing data using SparkML\n",
        "- Modeling using SparkML\n",
        "- Prediction on Test data\n",
        "- Evaluation of predictions"
      ]
    },
    {
      "cell_type": "markdown",
      "metadata": {
        "id": "lZOGrY2mf5wK"
      },
      "source": [
        "## Setting up the PySpark environment\n",
        "\n",
        "- You can use the below cell to install all the required libraries and files"
      ]
    },
    {
      "cell_type": "code",
      "metadata": {
        "id": "l7C3o1Vqp5De"
      },
      "source": [
        "from pyspark.sql import SparkSession\n",
        "import numpy as np\n",
        "import pandas as pd\n",
        "import json\n",
        "import pyspark.sql.functions as F\n",
        "import pyspark.sql\n",
        "from pyspark.sql.functions import col, skewness, kurtosis\n",
        "from pyspark.context import SparkContext\n",
        "from pyspark.sql.functions import * \n",
        "from pyspark.sql.functions import isnan, when, count, col\n",
        "from pyspark.sql.functions import when\n",
        "from pyspark.sql.functions import UserDefinedFunction\n",
        "from pyspark.sql.functions import from_unixtime, unix_timestamp\n",
        "from pyspark.sql.types import StringType\n",
        "from datetime import date, timedelta, datetime\n",
        "import time"
      ],
      "execution_count": null,
      "outputs": []
    },
    {
      "cell_type": "markdown",
      "metadata": {
        "id": "9tdA-RWoozaM"
      },
      "source": [
        "### Initialize SparkSession"
      ]
    },
    {
      "cell_type": "code",
      "metadata": {
        "id": "VecXeDgQRfgw"
      },
      "source": [
        "spark = SparkSession.builder.getOrCreate()"
      ],
      "execution_count": null,
      "outputs": []
    },
    {
      "cell_type": "code",
      "metadata": {
        "id": "HyNSC9w52GXz",
        "colab": {
          "base_uri": "https://localhost:8080/",
          "height": 35
        },
        "outputId": "310fad62-b76e-4674-d6d1-b24a60d017a6"
      },
      "source": [
        "spark.version"
      ],
      "execution_count": null,
      "outputs": [
        {
          "output_type": "execute_result",
          "data": {
            "text/plain": [
              "'3.3.0'"
            ],
            "application/vnd.google.colaboratory.intrinsic+json": {
              "type": "string"
            }
          },
          "metadata": {},
          "execution_count": 22
        }
      ]
    },
    {
      "cell_type": "markdown",
      "metadata": {
        "id": "FkxPdO75nLrH"
      },
      "source": [
        "### Read data\n",
        "Dataset (Wine quality red): https://archive.ics.uci.edu/ml/machine-learning-databases/wine-quality/winequality-red.csv"
      ]
    },
    {
      "cell_type": "code",
      "metadata": {
        "id": "bLhz2C8EiP5o"
      },
      "source": [
        "!wget -q https://archive.ics.uci.edu/ml/machine-learning-databases/wine-quality/winequality-red.csv -P sample_data/"
      ],
      "execution_count": null,
      "outputs": []
    },
    {
      "cell_type": "code",
      "metadata": {
        "id": "Co-iMsc8V_H-",
        "colab": {
          "base_uri": "https://localhost:8080/"
        },
        "outputId": "967afb18-9f29-4d70-9a8c-e0371da6a030"
      },
      "source": [
        "# We can set header='true' and inferSchema='true' to infer the schema while reading the data\n",
        "\n",
        "filepath = \"sample_data/winequality-red.csv\"\n",
        "spark_df = spark.read.format('csv').options(header='true', inferSchema='true', delimiter=\";\").load(filepath)\n",
        "spark_df.show(5, truncate=False)"
      ],
      "execution_count": null,
      "outputs": [
        {
          "output_type": "stream",
          "name": "stdout",
          "text": [
            "+-------------+----------------+-----------+--------------+---------+-------------------+--------------------+-------+----+---------+-------+-------+\n",
            "|fixed acidity|volatile acidity|citric acid|residual sugar|chlorides|free sulfur dioxide|total sulfur dioxide|density|pH  |sulphates|alcohol|quality|\n",
            "+-------------+----------------+-----------+--------------+---------+-------------------+--------------------+-------+----+---------+-------+-------+\n",
            "|7.4          |0.7             |0.0        |1.9           |0.076    |11.0               |34.0                |0.9978 |3.51|0.56     |9.4    |5      |\n",
            "|7.8          |0.88            |0.0        |2.6           |0.098    |25.0               |67.0                |0.9968 |3.2 |0.68     |9.8    |5      |\n",
            "|7.8          |0.76            |0.04       |2.3           |0.092    |15.0               |54.0                |0.997  |3.26|0.65     |9.8    |5      |\n",
            "|11.2         |0.28            |0.56       |1.9           |0.075    |17.0               |60.0                |0.998  |3.16|0.58     |9.8    |6      |\n",
            "|7.4          |0.7             |0.0        |1.9           |0.076    |11.0               |34.0                |0.9978 |3.51|0.56     |9.4    |5      |\n",
            "+-------------+----------------+-----------+--------------+---------+-------------------+--------------------+-------+----+---------+-------+-------+\n",
            "only showing top 5 rows\n",
            "\n"
          ]
        }
      ]
    },
    {
      "cell_type": "markdown",
      "metadata": {
        "id": "67dhT84UQhli"
      },
      "source": [
        "## Introduction"
      ]
    },
    {
      "cell_type": "code",
      "metadata": {
        "id": "SYl9OrelQqlR"
      },
      "source": [
        "from pyspark.sql import functions as F\n",
        "from pyspark.sql import types as T\n",
        "\n",
        "# StringIndexer is similar to labelencoder which gives a label to each category\n",
        "# OneHotEncoder created onehot encoding vector\n",
        "from pyspark.ml.feature import StringIndexer, OneHotEncoder\n",
        "\n",
        "# VectorAssembler is used to create vector from the features. MOdeling takes vector as an input\n",
        "from pyspark.ml.feature import VectorAssembler\n",
        "\n",
        "# DecisionTreeClassifier is used for classiication problems\n",
        "from pyspark.ml.classification import DecisionTreeClassifier"
      ],
      "execution_count": null,
      "outputs": []
    },
    {
      "cell_type": "code",
      "metadata": {
        "colab": {
          "base_uri": "https://localhost:8080/"
        },
        "id": "BLPMAMd9cWn8",
        "outputId": "1342b5bf-2bf0-42bd-cd61-79973c7412ef"
      },
      "source": [
        "# Create a categorical column for explanation purpose\n",
        "spark_df = spark_df.withColumn(\"alcohol\", F.when(F.col(\"alcohol\") > 10.5, \"High\").otherwise(\"Low\"))\n",
        "spark_df.show(3, truncate=False)\n",
        "\n",
        "spark_df.groupby(\"alcohol\").count().show(), spark_df.select(\"quality\").distinct().show()"
      ],
      "execution_count": null,
      "outputs": [
        {
          "output_type": "stream",
          "name": "stdout",
          "text": [
            "+-------------+----------------+-----------+--------------+---------+-------------------+--------------------+-------+----+---------+-------+-------+\n",
            "|fixed acidity|volatile acidity|citric acid|residual sugar|chlorides|free sulfur dioxide|total sulfur dioxide|density|pH  |sulphates|alcohol|quality|\n",
            "+-------------+----------------+-----------+--------------+---------+-------------------+--------------------+-------+----+---------+-------+-------+\n",
            "|7.4          |0.7             |0.0        |1.9           |0.076    |11.0               |34.0                |0.9978 |3.51|0.56     |Low    |5      |\n",
            "|7.8          |0.88            |0.0        |2.6           |0.098    |25.0               |67.0                |0.9968 |3.2 |0.68     |Low    |5      |\n",
            "|7.8          |0.76            |0.04       |2.3           |0.092    |15.0               |54.0                |0.997  |3.26|0.65     |Low    |5      |\n",
            "+-------------+----------------+-----------+--------------+---------+-------------------+--------------------+-------+----+---------+-------+-------+\n",
            "only showing top 3 rows\n",
            "\n",
            "+-------+-----+\n",
            "|alcohol|count|\n",
            "+-------+-----+\n",
            "|   High|  616|\n",
            "|    Low|  983|\n",
            "+-------+-----+\n",
            "\n",
            "+-------+\n",
            "|quality|\n",
            "+-------+\n",
            "|      6|\n",
            "|      3|\n",
            "|      5|\n",
            "|      4|\n",
            "|      8|\n",
            "|      7|\n",
            "+-------+\n",
            "\n"
          ]
        },
        {
          "output_type": "execute_result",
          "data": {
            "text/plain": [
              "(None, None)"
            ]
          },
          "metadata": {},
          "execution_count": 26
        }
      ]
    },
    {
      "cell_type": "code",
      "metadata": {
        "colab": {
          "base_uri": "https://localhost:8080/"
        },
        "id": "MyrNkQG2Vu8m",
        "outputId": "7959c984-b374-4668-f73b-ca05dd59a888"
      },
      "source": [
        "(train_df, test_df) = spark_df.randomSplit([0.8, 0.2], 11)\n",
        "print(\"Number of train samples: \" + str(train_df.count()))\n",
        "print(\"Number of test samples: \" + str(test_df.count()))"
      ],
      "execution_count": null,
      "outputs": [
        {
          "output_type": "stream",
          "name": "stdout",
          "text": [
            "Number of train samples: 1279\n",
            "Number of test samples: 320\n"
          ]
        }
      ]
    },
    {
      "cell_type": "markdown",
      "metadata": {
        "id": "aDhB1fmOQKYV"
      },
      "source": [
        "## Modeling"
      ]
    },
    {
      "cell_type": "code",
      "metadata": {
        "colab": {
          "base_uri": "https://localhost:8080/"
        },
        "id": "o9AcffeUQcmN",
        "outputId": "3450778d-287c-4060-a9a1-12747d7b71f4"
      },
      "source": [
        "train_df.show(3, truncate=False)"
      ],
      "execution_count": null,
      "outputs": [
        {
          "output_type": "stream",
          "name": "stdout",
          "text": [
            "+-------------+----------------+-----------+--------------+---------+-------------------+--------------------+-------+----+---------+-------+-------+\n",
            "|fixed acidity|volatile acidity|citric acid|residual sugar|chlorides|free sulfur dioxide|total sulfur dioxide|density|pH  |sulphates|alcohol|quality|\n",
            "+-------------+----------------+-----------+--------------+---------+-------------------+--------------------+-------+----+---------+-------+-------+\n",
            "|4.6          |0.52            |0.15       |2.1           |0.054    |8.0                |65.0                |0.9934 |3.9 |0.56     |High   |4      |\n",
            "|4.7          |0.6             |0.17       |2.3           |0.058    |17.0               |106.0               |0.9932 |3.85|0.6      |High   |6      |\n",
            "|4.9          |0.42            |0.0        |2.1           |0.048    |16.0               |42.0                |0.99154|3.71|0.74     |High   |7      |\n",
            "+-------------+----------------+-----------+--------------+---------+-------------------+--------------------+-------+----+---------+-------+-------+\n",
            "only showing top 3 rows\n",
            "\n"
          ]
        }
      ]
    },
    {
      "cell_type": "code",
      "metadata": {
        "id": "oiMohirvO0Wv",
        "colab": {
          "base_uri": "https://localhost:8080/"
        },
        "outputId": "e6567a81-89d7-457b-d9f2-b3699b378911"
      },
      "source": [
        "alcohol_indexer = StringIndexer(inputCol=\"alcohol\", outputCol=\"alcoholIndex\")\n",
        "alcohol_indexer = alcohol_indexer.fit(train_df)\n",
        "train_df = alcohol_indexer.transform(train_df)\n",
        "train_df.show(3, truncate=False)"
      ],
      "execution_count": null,
      "outputs": [
        {
          "output_type": "stream",
          "name": "stdout",
          "text": [
            "+-------------+----------------+-----------+--------------+---------+-------------------+--------------------+-------+----+---------+-------+-------+------------+\n",
            "|fixed acidity|volatile acidity|citric acid|residual sugar|chlorides|free sulfur dioxide|total sulfur dioxide|density|pH  |sulphates|alcohol|quality|alcoholIndex|\n",
            "+-------------+----------------+-----------+--------------+---------+-------------------+--------------------+-------+----+---------+-------+-------+------------+\n",
            "|4.6          |0.52            |0.15       |2.1           |0.054    |8.0                |65.0                |0.9934 |3.9 |0.56     |High   |4      |1.0         |\n",
            "|4.7          |0.6             |0.17       |2.3           |0.058    |17.0               |106.0               |0.9932 |3.85|0.6      |High   |6      |1.0         |\n",
            "|4.9          |0.42            |0.0        |2.1           |0.048    |16.0               |42.0                |0.99154|3.71|0.74     |High   |7      |1.0         |\n",
            "+-------------+----------------+-----------+--------------+---------+-------------------+--------------------+-------+----+---------+-------+-------+------------+\n",
            "only showing top 3 rows\n",
            "\n"
          ]
        }
      ]
    },
    {
      "cell_type": "code",
      "metadata": {
        "colab": {
          "base_uri": "https://localhost:8080/"
        },
        "id": "5UTzTbleScqE",
        "outputId": "9655d996-27c0-45d8-9daf-9fdd5586edd8"
      },
      "source": [
        "print(train_df.columns)"
      ],
      "execution_count": null,
      "outputs": [
        {
          "output_type": "stream",
          "name": "stdout",
          "text": [
            "['fixed acidity', 'volatile acidity', 'citric acid', 'residual sugar', 'chlorides', 'free sulfur dioxide', 'total sulfur dioxide', 'density', 'pH', 'sulphates', 'alcohol', 'quality', 'alcoholIndex']\n"
          ]
        }
      ]
    },
    {
      "cell_type": "code",
      "metadata": {
        "id": "cL_RVJk7SarP"
      },
      "source": [
        "inputCols = ['fixed acidity', 'volatile acidity', 'citric acid', 'residual sugar', 'chlorides', 'free sulfur dioxide', 'total sulfur dioxide', 'density', 'pH', 'sulphates', 'alcoholIndex']\n",
        "\n",
        "outputCol = \"features\"\n",
        "vector_assembler = VectorAssembler(inputCols = inputCols, outputCol = outputCol)\n",
        "train_df = vector_assembler.transform(train_df)"
      ],
      "execution_count": null,
      "outputs": []
    },
    {
      "cell_type": "code",
      "metadata": {
        "colab": {
          "base_uri": "https://localhost:8080/"
        },
        "id": "1LkkY1JgS3pj",
        "outputId": "a538ba8d-eee2-43ff-a953-55806e437504"
      },
      "source": [
        "train_df.show(3, truncate=False)"
      ],
      "execution_count": null,
      "outputs": [
        {
          "output_type": "stream",
          "name": "stdout",
          "text": [
            "+-------------+----------------+-----------+--------------+---------+-------------------+--------------------+-------+----+---------+-------+-------+------------+--------------------------------------------------------+\n",
            "|fixed acidity|volatile acidity|citric acid|residual sugar|chlorides|free sulfur dioxide|total sulfur dioxide|density|pH  |sulphates|alcohol|quality|alcoholIndex|features                                                |\n",
            "+-------------+----------------+-----------+--------------+---------+-------------------+--------------------+-------+----+---------+-------+-------+------------+--------------------------------------------------------+\n",
            "|4.6          |0.52            |0.15       |2.1           |0.054    |8.0                |65.0                |0.9934 |3.9 |0.56     |High   |4      |1.0         |[4.6,0.52,0.15,2.1,0.054,8.0,65.0,0.9934,3.9,0.56,1.0]  |\n",
            "|4.7          |0.6             |0.17       |2.3           |0.058    |17.0               |106.0               |0.9932 |3.85|0.6      |High   |6      |1.0         |[4.7,0.6,0.17,2.3,0.058,17.0,106.0,0.9932,3.85,0.6,1.0] |\n",
            "|4.9          |0.42            |0.0        |2.1           |0.048    |16.0               |42.0                |0.99154|3.71|0.74     |High   |7      |1.0         |[4.9,0.42,0.0,2.1,0.048,16.0,42.0,0.99154,3.71,0.74,1.0]|\n",
            "+-------------+----------------+-----------+--------------+---------+-------------------+--------------------+-------+----+---------+-------+-------+------------+--------------------------------------------------------+\n",
            "only showing top 3 rows\n",
            "\n"
          ]
        }
      ]
    },
    {
      "cell_type": "code",
      "metadata": {
        "colab": {
          "base_uri": "https://localhost:8080/"
        },
        "id": "yyJDIDDPS8sk",
        "outputId": "86af9399-80fd-4f52-f512-45f8fb7e2386"
      },
      "source": [
        "modeling_df = train_df.select(['features', 'quality'])\n",
        "modeling_df.show(3, truncate=False)"
      ],
      "execution_count": null,
      "outputs": [
        {
          "output_type": "stream",
          "name": "stdout",
          "text": [
            "+--------------------------------------------------------+-------+\n",
            "|features                                                |quality|\n",
            "+--------------------------------------------------------+-------+\n",
            "|[4.6,0.52,0.15,2.1,0.054,8.0,65.0,0.9934,3.9,0.56,1.0]  |4      |\n",
            "|[4.7,0.6,0.17,2.3,0.058,17.0,106.0,0.9932,3.85,0.6,1.0] |6      |\n",
            "|[4.9,0.42,0.0,2.1,0.048,16.0,42.0,0.99154,3.71,0.74,1.0]|7      |\n",
            "+--------------------------------------------------------+-------+\n",
            "only showing top 3 rows\n",
            "\n"
          ]
        }
      ]
    },
    {
      "cell_type": "code",
      "metadata": {
        "id": "SN9IRtXpS3mT"
      },
      "source": [
        "# Create DecisionTreeClassifier model\n",
        "dt_model = DecisionTreeClassifier(labelCol=\"quality\", featuresCol=\"features\")\n",
        "\n",
        "# Train model with Training Data\n",
        "dt_model = dt_model.fit(modeling_df)"
      ],
      "execution_count": null,
      "outputs": []
    },
    {
      "cell_type": "code",
      "metadata": {
        "colab": {
          "base_uri": "https://localhost:8080/"
        },
        "id": "l6phLPMLS3j9",
        "outputId": "e74eb905-89f2-4b33-df70-a23775310cd5"
      },
      "source": [
        "predictions = dt_model.transform(modeling_df)\n",
        "predictions.show(5, truncate=False)"
      ],
      "execution_count": null,
      "outputs": [
        {
          "output_type": "stream",
          "name": "stdout",
          "text": [
            "+--------------------------------------------------------+-------+----------------------------------------+----------------------------------------------------------------------------------------------------------------------+----------+\n",
            "|features                                                |quality|rawPrediction                           |probability                                                                                                           |prediction|\n",
            "+--------------------------------------------------------+-------+----------------------------------------+----------------------------------------------------------------------------------------------------------------------+----------+\n",
            "|[4.6,0.52,0.15,2.1,0.054,8.0,65.0,0.9934,3.9,0.56,1.0]  |4      |[0.0,0.0,0.0,3.0,4.0,31.0,11.0,1.0,0.0] |[0.0,0.0,0.0,0.06,0.08,0.62,0.22,0.02,0.0]                                                                            |5.0       |\n",
            "|[4.7,0.6,0.17,2.3,0.058,17.0,106.0,0.9932,3.85,0.6,1.0] |6      |[0.0,0.0,0.0,0.0,0.0,0.0,1.0,4.0,2.0]   |[0.0,0.0,0.0,0.0,0.0,0.0,0.14285714285714285,0.5714285714285714,0.2857142857142857]                                   |7.0       |\n",
            "|[4.9,0.42,0.0,2.1,0.048,16.0,42.0,0.99154,3.71,0.74,1.0]|7      |[0.0,0.0,0.0,0.0,9.0,20.0,89.0,16.0,0.0]|[0.0,0.0,0.0,0.0,0.06716417910447761,0.14925373134328357,0.664179104477612,0.11940298507462686,0.0]                   |6.0       |\n",
            "|[5.0,0.38,0.01,1.6,0.048,26.0,60.0,0.99084,3.7,0.75,1.0]|6      |[0.0,0.0,0.0,0.0,9.0,20.0,89.0,16.0,0.0]|[0.0,0.0,0.0,0.0,0.06716417910447761,0.14925373134328357,0.664179104477612,0.11940298507462686,0.0]                   |6.0       |\n",
            "|[5.0,0.4,0.5,4.3,0.046,29.0,80.0,0.9902,3.49,0.66,1.0]  |6      |[0.0,0.0,0.0,0.0,1.0,17.0,68.0,32.0,2.0]|[0.0,0.0,0.0,0.0,0.008333333333333333,0.14166666666666666,0.5666666666666667,0.26666666666666666,0.016666666666666666]|6.0       |\n",
            "+--------------------------------------------------------+-------+----------------------------------------+----------------------------------------------------------------------------------------------------------------------+----------+\n",
            "only showing top 5 rows\n",
            "\n"
          ]
        }
      ]
    },
    {
      "cell_type": "code",
      "metadata": {
        "colab": {
          "base_uri": "https://localhost:8080/"
        },
        "id": "2an50dsGD0Ut",
        "outputId": "6e1826e3-6dac-4de4-cf2f-4849d617638d"
      },
      "source": [
        "from pyspark.ml.evaluation import MulticlassClassificationEvaluator\n",
        "\n",
        "evaluatorDT = MulticlassClassificationEvaluator(labelCol=\"quality\")\n",
        "area_under_curve = evaluatorDT.evaluate(predictions)\n",
        "\n",
        "print(area_under_curve)"
      ],
      "execution_count": null,
      "outputs": [
        {
          "output_type": "stream",
          "name": "stdout",
          "text": [
            "0.6096614519053557\n"
          ]
        }
      ]
    },
    {
      "cell_type": "markdown",
      "metadata": {
        "id": "vUDs07YVXUCc"
      },
      "source": [
        "## Test predictions"
      ]
    },
    {
      "cell_type": "code",
      "metadata": {
        "colab": {
          "base_uri": "https://localhost:8080/"
        },
        "id": "YS7vzFqOWKj8",
        "outputId": "73ff84cf-3bd2-41af-9cc2-cd4770fc8659"
      },
      "source": [
        "# On Test data - Transform test data using all the transformers and estimators in the same order \n",
        "\n",
        "test_df = alcohol_indexer.transform(test_df)\n",
        "test_df = vector_assembler.transform(test_df)\n",
        "test_predictions = dt_model.transform(test_df)\n",
        "\n",
        "test_predictions.show(3, truncate=False)"
      ],
      "execution_count": null,
      "outputs": [
        {
          "output_type": "stream",
          "name": "stdout",
          "text": [
            "+-------------+----------------+-----------+--------------+---------+-------------------+--------------------+-------+----+---------+-------+-------+------------+---------------------------------------------------------+----------------------------------------+---------------------------------------------------------------------------------------------------+----------+\n",
            "|fixed acidity|volatile acidity|citric acid|residual sugar|chlorides|free sulfur dioxide|total sulfur dioxide|density|pH  |sulphates|alcohol|quality|alcoholIndex|features                                                 |rawPrediction                           |probability                                                                                        |prediction|\n",
            "+-------------+----------------+-----------+--------------+---------+-------------------+--------------------+-------+----+---------+-------+-------+------------+---------------------------------------------------------+----------------------------------------+---------------------------------------------------------------------------------------------------+----------+\n",
            "|5.0          |0.42            |0.24       |2.0           |0.06     |19.0               |50.0                |0.9917 |3.72|0.74     |High   |8      |1.0         |[5.0,0.42,0.24,2.0,0.06,19.0,50.0,0.9917,3.72,0.74,1.0]  |[0.0,0.0,0.0,0.0,9.0,20.0,89.0,16.0,0.0]|[0.0,0.0,0.0,0.0,0.06716417910447761,0.14925373134328357,0.664179104477612,0.11940298507462686,0.0]|6.0       |\n",
            "|5.0          |0.74            |0.0        |1.2           |0.041    |16.0               |46.0                |0.99258|4.01|0.59     |High   |6      |1.0         |[5.0,0.74,0.0,1.2,0.041,16.0,46.0,0.99258,4.01,0.59,1.0] |[0.0,0.0,0.0,0.0,9.0,20.0,89.0,16.0,0.0]|[0.0,0.0,0.0,0.0,0.06716417910447761,0.14925373134328357,0.664179104477612,0.11940298507462686,0.0]|6.0       |\n",
            "|5.1          |0.585           |0.0        |1.7           |0.044    |14.0               |86.0                |0.99264|3.56|0.94     |High   |7      |1.0         |[5.1,0.585,0.0,1.7,0.044,14.0,86.0,0.99264,3.56,0.94,1.0]|[0.0,0.0,0.0,0.0,0.0,0.0,1.0,4.0,2.0]   |[0.0,0.0,0.0,0.0,0.0,0.0,0.14285714285714285,0.5714285714285714,0.2857142857142857]                |7.0       |\n",
            "+-------------+----------------+-----------+--------------+---------+-------------------+--------------------+-------+----+---------+-------+-------+------------+---------------------------------------------------------+----------------------------------------+---------------------------------------------------------------------------------------------------+----------+\n",
            "only showing top 3 rows\n",
            "\n"
          ]
        }
      ]
    },
    {
      "cell_type": "code",
      "metadata": {
        "colab": {
          "base_uri": "https://localhost:8080/"
        },
        "id": "ExkV4pLCVgnk",
        "outputId": "b19cd17c-1f75-4f30-9bcf-56ddee57365c"
      },
      "source": [
        "area_under_curve = evaluatorDT.evaluate(test_predictions)\n",
        "area_under_curve"
      ],
      "execution_count": null,
      "outputs": [
        {
          "output_type": "execute_result",
          "data": {
            "text/plain": [
              "0.5816548284862043"
            ]
          },
          "metadata": {},
          "execution_count": 38
        }
      ]
    },
    {
      "cell_type": "code",
      "metadata": {
        "id": "pCEnrMOm4zO-"
      },
      "source": [],
      "execution_count": null,
      "outputs": []
    }
  ]
}
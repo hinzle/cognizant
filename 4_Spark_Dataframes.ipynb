{
  "cells": [
    {
      "cell_type": "markdown",
      "id": "fuzzy-facial",
      "metadata": {
        "id": "fuzzy-facial"
      },
      "source": [
        "# Spark DataFrames"
      ]
    },
    {
      "cell_type": "markdown",
      "id": "sharp-granny",
      "metadata": {
        "id": "sharp-granny"
      },
      "source": [
        "### Introduction"
      ]
    },
    {
      "cell_type": "markdown",
      "id": "pending-venue",
      "metadata": {
        "id": "pending-venue"
      },
      "source": [
        "Now normally, when working with Pyspark, we work on a higher level of abstraction, which is to work with a dataframe.  In this lesson, we'll get started working with a dataframe."
      ]
    },
    {
      "cell_type": "markdown",
      "id": "mighty-ability",
      "metadata": {
        "id": "mighty-ability"
      },
      "source": [
        "### Introducing a Dataframe"
      ]
    },
    {
      "cell_type": "markdown",
      "id": "chronic-bottom",
      "metadata": {
        "id": "chronic-bottom"
      },
      "source": [
        "The first step to creating a dataframe, is to initialize a spark session."
      ]
    },
    {
      "cell_type": "code",
      "source": [
        "!pip install pyspark --quiet\n",
        "!pip install -U -q PyDrive --quiet \n",
        "!apt install openjdk-8-jdk-headless &> /dev/null"
      ],
      "metadata": {
        "colab": {
          "base_uri": "https://localhost:8080/"
        },
        "id": "5JDScKKShN7e",
        "outputId": "506d79f4-33b9-47cf-8c30-9e3013c0a78d"
      },
      "id": "5JDScKKShN7e",
      "execution_count": 1,
      "outputs": [
        {
          "output_type": "stream",
          "name": "stdout",
          "text": [
            "\u001b[K     |████████████████████████████████| 281.3 MB 43 kB/s \n",
            "\u001b[K     |████████████████████████████████| 199 kB 51.9 MB/s \n",
            "\u001b[?25h  Building wheel for pyspark (setup.py) ... \u001b[?25l\u001b[?25hdone\n"
          ]
        }
      ]
    },
    {
      "cell_type": "code",
      "execution_count": 7,
      "id": "developing-preserve",
      "metadata": {
        "id": "developing-preserve"
      },
      "outputs": [],
      "source": [
        "from pyspark.sql import SparkSession\n",
        "\n",
        "spark = SparkSession \\\n",
        "    .builder \\\n",
        "    .appName(\"Python Spark SQL basic example\") \\\n",
        "    .config(\"spark.some.config.option\", \"some-value\") \\\n",
        "    .getOrCreate()"
      ]
    },
    {
      "cell_type": "markdown",
      "id": "spanish-duplicate",
      "metadata": {
        "id": "spanish-duplicate"
      },
      "source": [
        "Now, a spark session is very similar to a spark context, which we worked with in previous lessons.  A spark session, wraps around a spark context -- creating a new spark context if one doesn't currently exist. "
      ]
    },
    {
      "cell_type": "markdown",
      "id": "reasonable-gender",
      "metadata": {
        "id": "reasonable-gender"
      },
      "source": [
        "> So if we want to get the spark context from our session we can do so with the following."
      ]
    },
    {
      "cell_type": "code",
      "execution_count": 8,
      "id": "structural-lighter",
      "metadata": {
        "id": "structural-lighter",
        "outputId": "abcba874-c1bb-457c-b372-7f48c37e36c1",
        "colab": {
          "base_uri": "https://localhost:8080/",
          "height": 196
        }
      },
      "outputs": [
        {
          "output_type": "execute_result",
          "data": {
            "text/plain": [
              "<SparkContext master=local[*] appName=Python Spark SQL basic example>"
            ],
            "text/html": [
              "\n",
              "        <div>\n",
              "            <p><b>SparkContext</b></p>\n",
              "\n",
              "            <p><a href=\"http://d70f374aed80:4040\">Spark UI</a></p>\n",
              "\n",
              "            <dl>\n",
              "              <dt>Version</dt>\n",
              "                <dd><code>v3.3.0</code></dd>\n",
              "              <dt>Master</dt>\n",
              "                <dd><code>local[*]</code></dd>\n",
              "              <dt>AppName</dt>\n",
              "                <dd><code>Python Spark SQL basic example</code></dd>\n",
              "            </dl>\n",
              "        </div>\n",
              "        "
            ]
          },
          "metadata": {},
          "execution_count": 8
        }
      ],
      "source": [
        "spark.sparkContext"
      ]
    },
    {
      "cell_type": "markdown",
      "id": "precise-stream",
      "metadata": {
        "id": "precise-stream"
      },
      "source": [
        "So this spark session is really just a thin wrapper around our spark context, which is one way for us to connect to our spark cluster.  The spark session is the other way.\n",
        "\n",
        "Now let's use the spark session to create a dataframe."
      ]
    },
    {
      "cell_type": "markdown",
      "id": "behavioral-declaration",
      "metadata": {
        "id": "behavioral-declaration"
      },
      "source": [
        "### Creating a DataFrame"
      ]
    },
    {
      "cell_type": "markdown",
      "id": "naked-pakistan",
      "metadata": {
        "id": "naked-pakistan"
      },
      "source": [
        "To create our dataframe, we can start with a list of dictionaries in Python."
      ]
    },
    {
      "cell_type": "code",
      "execution_count": 4,
      "id": "oriental-point",
      "metadata": {
        "id": "oriental-point"
      },
      "outputs": [],
      "source": [
        "movies = [{\n",
        "  'index': 1,\n",
        "  'title': 'Shazam!',\n",
        "  'release_date': 1553299200,\n",
        "  'genre': 'Comedy'}, \n",
        "  {\n",
        "  'index': 2,\n",
        "  'title': 'Captain Marvel',\n",
        "  'release_date': 1551830400,\n",
        "  'genre': 'Action'},  \n",
        "  {\n",
        "  'index': 3,\n",
        "  'title': 'Escape Room',\n",
        "  'release_date': 1546473600,\n",
        "  'genre': 'Horror'}, \n",
        "  {\n",
        "  'index': 4,\n",
        "  'title': 'How to Train A Dragon',\n",
        "  'release_date': 1546473600,\n",
        "  'genre': 'Animation'}\n",
        "  ]"
      ]
    },
    {
      "cell_type": "code",
      "source": [
        "movies"
      ],
      "metadata": {
        "id": "_s4gvibhfahX",
        "outputId": "18bf3dbd-e4f0-454d-b2cb-89b95fe9c02b",
        "colab": {
          "base_uri": "https://localhost:8080/"
        }
      },
      "id": "_s4gvibhfahX",
      "execution_count": 5,
      "outputs": [
        {
          "output_type": "execute_result",
          "data": {
            "text/plain": [
              "[{'index': 1,\n",
              "  'title': 'Shazam!',\n",
              "  'release_date': 1553299200,\n",
              "  'genre': 'Comedy'},\n",
              " {'index': 2,\n",
              "  'title': 'Captain Marvel',\n",
              "  'release_date': 1551830400,\n",
              "  'genre': 'Action'},\n",
              " {'index': 3,\n",
              "  'title': 'Escape Room',\n",
              "  'release_date': 1546473600,\n",
              "  'genre': 'Horror'},\n",
              " {'index': 4,\n",
              "  'title': 'How to Train A Dragon',\n",
              "  'release_date': 1546473600,\n",
              "  'genre': 'Animation'}]"
            ]
          },
          "metadata": {},
          "execution_count": 5
        }
      ]
    },
    {
      "cell_type": "markdown",
      "id": "framed-bridge",
      "metadata": {
        "id": "framed-bridge"
      },
      "source": [
        "> So here we have a list of movies displaying the `title`, `release_date` and `genre` of each movie."
      ]
    },
    {
      "cell_type": "markdown",
      "id": "laden-stress",
      "metadata": {
        "id": "laden-stress"
      },
      "source": [
        "And then we can use the `createDataFrame` method on the spark session to create our dataframe."
      ]
    },
    {
      "cell_type": "code",
      "execution_count": 9,
      "id": "becoming-jackson",
      "metadata": {
        "id": "becoming-jackson"
      },
      "outputs": [],
      "source": [
        "movies_df = spark.createDataFrame(movies)"
      ]
    },
    {
      "cell_type": "markdown",
      "id": "excellent-uganda",
      "metadata": {
        "id": "excellent-uganda"
      },
      "source": [
        "And we can view that dataframe by running the `show` method."
      ]
    },
    {
      "cell_type": "code",
      "execution_count": null,
      "id": "turned-hamilton",
      "metadata": {
        "id": "turned-hamilton",
        "outputId": "6349bb5a-a422-430a-f670-ec28bbb74832",
        "colab": {
          "base_uri": "https://localhost:8080/"
        }
      },
      "outputs": [
        {
          "output_type": "stream",
          "name": "stdout",
          "text": [
            "+---------+-----+------------+--------------------+\n",
            "|    genre|index|release_date|               title|\n",
            "+---------+-----+------------+--------------------+\n",
            "|   Comedy|    1|  1553299200|             Shazam!|\n",
            "|   Action|    2|  1551830400|      Captain Marvel|\n",
            "|   Horror|    3|  1546473600|         Escape Room|\n",
            "|Animation|    4|  1546473600|How to Train A Dr...|\n",
            "+---------+-----+------------+--------------------+\n",
            "\n"
          ]
        }
      ],
      "source": [
        "movies_df.show()"
      ]
    },
    {
      "cell_type": "markdown",
      "id": "veterinary-mitchell",
      "metadata": {
        "id": "veterinary-mitchell"
      },
      "source": [
        "So we can see from the above, that our dataframe organizes our data in a table.  It has associated our records with various columns."
      ]
    },
    {
      "cell_type": "markdown",
      "id": "black-fiber",
      "metadata": {
        "id": "black-fiber"
      },
      "source": [
        "We can also see the *schema on read* characteristic from spark.  That even without specifying a datatype, Spark was able to determine the datatype for each column."
      ]
    },
    {
      "cell_type": "code",
      "execution_count": 10,
      "id": "other-system",
      "metadata": {
        "id": "other-system",
        "outputId": "842035ef-0932-45ee-dd62-86cbf7427f93",
        "colab": {
          "base_uri": "https://localhost:8080/"
        }
      },
      "outputs": [
        {
          "output_type": "stream",
          "name": "stdout",
          "text": [
            "root\n",
            " |-- genre: string (nullable = true)\n",
            " |-- index: long (nullable = true)\n",
            " |-- release_date: long (nullable = true)\n",
            " |-- title: string (nullable = true)\n",
            "\n"
          ]
        }
      ],
      "source": [
        "movies_df.printSchema()"
      ]
    },
    {
      "cell_type": "markdown",
      "id": "promotional-credit",
      "metadata": {
        "id": "promotional-credit"
      },
      "source": [
        "### From DataFrame to RDD"
      ]
    },
    {
      "cell_type": "markdown",
      "id": "atmospheric-brake",
      "metadata": {
        "id": "atmospheric-brake"
      },
      "source": [
        "Now a dataframe in Pyspark creates an RDD under the hood."
      ]
    },
    {
      "cell_type": "code",
      "execution_count": 11,
      "id": "composed-habitat",
      "metadata": {
        "id": "composed-habitat",
        "outputId": "525bcf55-d101-407d-ba2c-334cfbd4259f",
        "colab": {
          "base_uri": "https://localhost:8080/"
        }
      },
      "outputs": [
        {
          "output_type": "execute_result",
          "data": {
            "text/plain": [
              "MapPartitionsRDD[8] at javaToPython at NativeMethodAccessorImpl.java:0"
            ]
          },
          "metadata": {},
          "execution_count": 11
        }
      ],
      "source": [
        "movies_df.rdd"
      ]
    },
    {
      "cell_type": "code",
      "execution_count": 12,
      "id": "unlikely-herald",
      "metadata": {
        "id": "unlikely-herald",
        "outputId": "104b526d-a137-443c-d4a5-92862ee41018",
        "colab": {
          "base_uri": "https://localhost:8080/"
        }
      },
      "outputs": [
        {
          "output_type": "execute_result",
          "data": {
            "text/plain": [
              "[Row(genre='Comedy', index=1, release_date=1553299200, title='Shazam!'),\n",
              " Row(genre='Action', index=2, release_date=1551830400, title='Captain Marvel'),\n",
              " Row(genre='Horror', index=3, release_date=1546473600, title='Escape Room'),\n",
              " Row(genre='Animation', index=4, release_date=1546473600, title='How to Train A Dragon')]"
            ]
          },
          "metadata": {},
          "execution_count": 12
        }
      ],
      "source": [
        "movies_df.rdd.collect()"
      ]
    },
    {
      "cell_type": "markdown",
      "id": "aware-ensemble",
      "metadata": {
        "id": "aware-ensemble"
      },
      "source": [
        "1. It's distributed"
      ]
    },
    {
      "cell_type": "markdown",
      "id": "incident-belly",
      "metadata": {
        "id": "incident-belly"
      },
      "source": [
        "And that even though this looks like a unified dataset, it's really distributed across different nodes."
      ]
    },
    {
      "cell_type": "code",
      "execution_count": 13,
      "id": "unlike-insured",
      "metadata": {
        "id": "unlike-insured",
        "outputId": "a15daf9a-a4f6-479e-9968-60db7ae22753",
        "colab": {
          "base_uri": "https://localhost:8080/"
        }
      },
      "outputs": [
        {
          "output_type": "execute_result",
          "data": {
            "text/plain": [
              "2"
            ]
          },
          "metadata": {},
          "execution_count": 13
        }
      ],
      "source": [
        "movies_df.rdd.getNumPartitions()"
      ]
    },
    {
      "cell_type": "markdown",
      "id": "cubic-launch",
      "metadata": {
        "id": "cubic-launch"
      },
      "source": [
        "2. It's lazy"
      ]
    },
    {
      "cell_type": "markdown",
      "id": "permanent-consent",
      "metadata": {
        "id": "permanent-consent"
      },
      "source": [
        "Because our dataset is built on RDDs, is also operates in lazy manner.  So for example, if we want to select all of the titles of an RDD, we'll use a `map` function to select the title from each row.  But because `map` is a transformation, it will not operate on our data, until we follow up with an action."
      ]
    },
    {
      "cell_type": "code",
      "execution_count": 14,
      "id": "featured-producer",
      "metadata": {
        "id": "featured-producer",
        "outputId": "0faa9fe0-876d-497a-f89c-7f3ca1e04539",
        "colab": {
          "base_uri": "https://localhost:8080/"
        }
      },
      "outputs": [
        {
          "output_type": "execute_result",
          "data": {
            "text/plain": [
              "PythonRDD[9] at RDD at PythonRDD.scala:53"
            ]
          },
          "metadata": {},
          "execution_count": 14
        }
      ],
      "source": [
        "movies_df.rdd.map(lambda movie: movie['title'])"
      ]
    },
    {
      "cell_type": "code",
      "execution_count": 15,
      "id": "concrete-friendship",
      "metadata": {
        "id": "concrete-friendship",
        "outputId": "845beafb-5da4-40c2-8cef-9247d68f212f",
        "colab": {
          "base_uri": "https://localhost:8080/"
        }
      },
      "outputs": [
        {
          "output_type": "execute_result",
          "data": {
            "text/plain": [
              "['Shazam!', 'Captain Marvel', 'Escape Room', 'How to Train A Dragon']"
            ]
          },
          "metadata": {},
          "execution_count": 15
        }
      ],
      "source": [
        "movies_df.rdd.map(lambda movie: movie['title']).collect()"
      ]
    },
    {
      "cell_type": "markdown",
      "id": "treated-istanbul",
      "metadata": {
        "id": "treated-istanbul"
      },
      "source": [
        "If we perform the equivalent operation with a dataframe, the operation is also treated as a transformation.  Let's see this.  Below, we'll select the `title` of each record."
      ]
    },
    {
      "cell_type": "code",
      "execution_count": 16,
      "id": "excited-durham",
      "metadata": {
        "id": "excited-durham",
        "outputId": "be9221fb-aec7-4888-a2e1-ba9dd0c23770",
        "colab": {
          "base_uri": "https://localhost:8080/"
        }
      },
      "outputs": [
        {
          "output_type": "execute_result",
          "data": {
            "text/plain": [
              "DataFrame[title: string]"
            ]
          },
          "metadata": {},
          "execution_count": 16
        }
      ],
      "source": [
        "movies_df.select('title')"
      ]
    },
    {
      "cell_type": "markdown",
      "id": "minor-national",
      "metadata": {
        "id": "minor-national"
      },
      "source": [
        "So again, spark will not search through each of the records until an action is called."
      ]
    },
    {
      "cell_type": "code",
      "execution_count": 17,
      "id": "monthly-saudi",
      "metadata": {
        "id": "monthly-saudi",
        "outputId": "cb7e30a9-07ca-43fa-d266-e33b4bbabb94",
        "colab": {
          "base_uri": "https://localhost:8080/"
        }
      },
      "outputs": [
        {
          "output_type": "stream",
          "name": "stdout",
          "text": [
            "+--------------------+\n",
            "|               title|\n",
            "+--------------------+\n",
            "|             Shazam!|\n",
            "|      Captain Marvel|\n",
            "|         Escape Room|\n",
            "|How to Train A Dr...|\n",
            "+--------------------+\n",
            "\n"
          ]
        }
      ],
      "source": [
        "movies_df.select('title').show()"
      ]
    },
    {
      "cell_type": "markdown",
      "id": "driving-assault",
      "metadata": {
        "id": "driving-assault"
      },
      "source": [
        "> So we can see that `show` is similar to `collect`. "
      ]
    },
    {
      "cell_type": "markdown",
      "id": "swedish-phone",
      "metadata": {
        "id": "swedish-phone"
      },
      "source": [
        "Let's do this one more time, this time with two columns."
      ]
    },
    {
      "cell_type": "code",
      "execution_count": 18,
      "id": "changed-bloom",
      "metadata": {
        "id": "changed-bloom",
        "outputId": "f832edf5-db2b-488c-fd5e-7fb559992513",
        "colab": {
          "base_uri": "https://localhost:8080/"
        }
      },
      "outputs": [
        {
          "output_type": "stream",
          "name": "stdout",
          "text": [
            "+--------------------+---------+\n",
            "|               title|    genre|\n",
            "+--------------------+---------+\n",
            "|             Shazam!|   Comedy|\n",
            "|      Captain Marvel|   Action|\n",
            "|         Escape Room|   Horror|\n",
            "|How to Train A Dr...|Animation|\n",
            "+--------------------+---------+\n",
            "\n"
          ]
        }
      ],
      "source": [
        "movies_df.select(['title', 'genre']).show()"
      ]
    },
    {
      "cell_type": "markdown",
      "id": "italian-velvet",
      "metadata": {
        "id": "italian-velvet"
      },
      "source": [
        "> So to select multiple columns, we pass through a list of columns."
      ]
    },
    {
      "cell_type": "markdown",
      "id": "laden-baseball",
      "metadata": {
        "id": "laden-baseball"
      },
      "source": [
        "4. Only Coarse Grained Operations"
      ]
    },
    {
      "cell_type": "markdown",
      "id": "monthly-shipping",
      "metadata": {
        "id": "monthly-shipping"
      },
      "source": [
        "Remember that with our RDDs, we only have coarse grained methods available to us -- those methods like `map` or `filter` that operate across a dataset.  This makes things a little tricky if we want to just select a single row.  For example, we may think that with our dataframe above, we want to select the entry at a specific index.  With our dataframe, the only way to do this is to use something akin to the filter method -- where we ask to *select* the rows that have an id of 1.  But we'll learn how to do that with our dataframe in a future lesson."
      ]
    },
    {
      "cell_type": "markdown",
      "id": "dynamic-violence",
      "metadata": {
        "id": "dynamic-violence"
      },
      "source": [
        "### Summary"
      ]
    },
    {
      "cell_type": "markdown",
      "id": "absent-checkout",
      "metadata": {
        "id": "absent-checkout"
      },
      "source": [
        "In this lesson we learned how to create a DataFrame in Spark.  We do so, not through our Spark context but by creating a Spark session.  "
      ]
    },
    {
      "cell_type": "code",
      "execution_count": null,
      "id": "dying-obligation",
      "metadata": {
        "id": "dying-obligation"
      },
      "outputs": [],
      "source": [
        "from pyspark.sql import SparkSession\n",
        "\n",
        "spark = SparkSession \\\n",
        "    .builder \\\n",
        "    .appName(\"Python Spark SQL basic example\") \\\n",
        "    .config(\"spark.some.config.option\", \"some-value\") \\\n",
        "    .getOrCreate()"
      ]
    },
    {
      "cell_type": "code",
      "execution_count": null,
      "id": "lyric-cruise",
      "metadata": {
        "id": "lyric-cruise"
      },
      "outputs": [],
      "source": [
        "movies_df = spark.createDataFrame(movies)"
      ]
    },
    {
      "cell_type": "markdown",
      "id": "martial-grant",
      "metadata": {
        "id": "martial-grant"
      },
      "source": [
        "We then saw that our dataframe is really just a simpler interface for interacting with our resilient distributed dataset.  And because of this, it contains the same features of our RDD: it's distributed, it's lazy, and allows for only coarse grained transformations.\n",
        "\n",
        "This knowledge gave us some insight into how to interact with our dataframe.  So we saw that to select specific columns, we have to use the `select` method, which operates as a `transformation` and then use the `show` method as our action. "
      ]
    },
    {
      "cell_type": "code",
      "execution_count": null,
      "id": "proprietary-money",
      "metadata": {
        "id": "proprietary-money",
        "outputId": "6b59d888-d6e7-4cfb-b328-19d9221d57a4",
        "colab": {
          "base_uri": "https://localhost:8080/"
        }
      },
      "outputs": [
        {
          "output_type": "stream",
          "name": "stdout",
          "text": [
            "+--------------------+---------+\n",
            "|               title|    genre|\n",
            "+--------------------+---------+\n",
            "|             Shazam!|   Comedy|\n",
            "|      Captain Marvel|   Action|\n",
            "|         Escape Room|   Horror|\n",
            "|How to Train A Dr...|Animation|\n",
            "+--------------------+---------+\n",
            "\n"
          ]
        }
      ],
      "source": [
        "movies_df.select(['title', 'genre']).show()"
      ]
    },
    {
      "cell_type": "markdown",
      "id": "technical-province",
      "metadata": {
        "id": "technical-province"
      },
      "source": [
        "### Resources\n",
        "\n",
        "[Pyspark operations](https://hendra-herviawan.github.io/)\n",
        "\n",
        "[Pyspark DataFrame Rows and Columns](https://hendra-herviawan.github.io/pyspark-dataframe-row-columns.html)\n",
        "\n",
        "[Creating a Dataframe](https://neapowers.com/pyspark/createdataframe-todf/)\n",
        "\n",
        "[Spark by Examples](https://sparkbyexamples.com/pyspark-tutorial/#pyspark-dataframe)\n",
        "\n",
        "[Data Partitioning Spark](https://kontext.tech/column/spark/296/data-partitioning-in-spark-pyspark-in-depth-walkthrough)\n"
      ]
    },
    {
      "cell_type": "markdown",
      "id": "occasional-trouble",
      "metadata": {
        "id": "occasional-trouble"
      },
      "source": [
        "[DataBricks RDD to Dataframe](https://databricks.com/glossary/what-is-rdd)"
      ]
    },
    {
      "cell_type": "markdown",
      "id": "supposed-circuit",
      "metadata": {
        "id": "supposed-circuit"
      },
      "source": [
        "[DataFrame Programming Guide](https://spark.apache.org/docs/latest/sql-programming-guide.html)"
      ]
    }
  ],
  "metadata": {
    "kernelspec": {
      "display_name": "Python 3",
      "language": "python",
      "name": "python3"
    },
    "language_info": {
      "codemirror_mode": {
        "name": "ipython",
        "version": 3
      },
      "file_extension": ".py",
      "mimetype": "text/x-python",
      "name": "python",
      "nbconvert_exporter": "python",
      "pygments_lexer": "ipython3",
      "version": "3.8.6"
    },
    "colab": {
      "provenance": []
    }
  },
  "nbformat": 4,
  "nbformat_minor": 5
}
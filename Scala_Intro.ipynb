{
  "cells": [
    {
      "cell_type": "markdown",
      "metadata": {
        "id": "view-in-github",
        "colab_type": "text"
      },
      "source": [
        "<a href=\"https://colab.research.google.com/github/hinzle/cognizant/blob/main/Scala_Intro.ipynb\" target=\"_parent\"><img src=\"https://colab.research.google.com/assets/colab-badge.svg\" alt=\"Open In Colab\"/></a>"
      ]
    },
    {
      "cell_type": "markdown",
      "metadata": {
        "id": "up2G8zDbhsEN"
      },
      "source": [
        "# Scala in Colab"
      ]
    },
    {
      "cell_type": "markdown",
      "metadata": {
        "id": "sL1Vq6r6J6dA"
      },
      "source": [
        "## Install the Scala Kernel\n",
        "If you get a \"scala\" kernel not recognized warning when loading up the notebook for the first time, start by running the two cells below. Once you are done **reload the page** to load the notebook in the installed Scala kernel."
      ]
    },
    {
      "cell_type": "code",
      "execution_count": null,
      "metadata": {
        "colab": {
          "base_uri": "https://localhost:8080/"
        },
        "id": "RoCcdvTCAqeR",
        "outputId": "8661f616-c887-4719-d861-6d974b27dd2f"
      },
      "outputs": [
        {
          "output_type": "stream",
          "name": "stdout",
          "text": [
            "  % Total    % Received % Xferd  Average Speed   Time    Time     Time  Current\n",
            "                                 Dload  Upload   Total   Spent    Left  Speed\n",
            "\r  0     0    0     0    0     0      0      0 --:--:-- --:--:-- --:--:--     0\r  0     0    0     0    0     0      0      0 --:--:-- --:--:-- --:--:--     0\n",
            "\r  0     0    0     0    0     0      0      0 --:--:-- --:--:-- --:--:--     0\n",
            "\r100 42577  100 42577    0     0   253k      0 --:--:-- --:--:-- --:--:--  253k\n",
            "\u001b[2KDownloaded 1 missing file(s) / 58\n",
            "\u001b[1A\u001b[2KDownloaded 2 missing file(s) / 58\n",
            "\u001b[1A\u001b[2KDownloaded 3 missing file(s) / 58\n",
            "\u001b[1A\u001b[2KDownloaded 4 missing file(s) / 58\n",
            "\u001b[1A\u001b[2KDownloaded 5 missing file(s) / 58\n",
            "\u001b[1A\u001b[2KDownloaded 6 missing file(s) / 58\n",
            "\u001b[1A\u001b[2KDownloaded 7 missing file(s) / 58\n",
            "\u001b[1A\u001b[2KDownloaded 8 missing file(s) / 58\n",
            "\u001b[1A\u001b[2KDownloaded 9 missing file(s) / 58\n",
            "\u001b[1A\u001b[2KDownloaded 10 missing file(s) / 58\n",
            "\u001b[1A\u001b[2KDownloaded 11 missing file(s) / 58\n",
            "\u001b[1A\u001b[2KDownloaded 12 missing file(s) / 58\n",
            "\u001b[1A\u001b[2KDownloaded 13 missing file(s) / 58\n",
            "\u001b[1A\u001b[2KDownloaded 14 missing file(s) / 58\n",
            "\u001b[1A\u001b[2KDownloaded 15 missing file(s) / 58\n",
            "\u001b[1A\u001b[2KDownloaded 16 missing file(s) / 58\n",
            "\u001b[1A\u001b[2KDownloaded 17 missing file(s) / 58\n",
            "\u001b[1A\u001b[2KDownloaded 18 missing file(s) / 58\n",
            "\u001b[1A\u001b[2KDownloaded 19 missing file(s) / 58\n",
            "\u001b[1A\u001b[2KDownloaded 20 missing file(s) / 58\n",
            "\u001b[1A\u001b[2KDownloaded 21 missing file(s) / 58\n",
            "\u001b[1A\u001b[2KDownloaded 22 missing file(s) / 58\n",
            "\u001b[1A\u001b[2KDownloaded 23 missing file(s) / 58\n",
            "\u001b[1A\u001b[2KDownloaded 24 missing file(s) / 58\n",
            "\u001b[1A\u001b[2KDownloaded 25 missing file(s) / 58\n",
            "\u001b[1A\u001b[2KDownloaded 26 missing file(s) / 58\n",
            "\u001b[1A\u001b[2KDownloaded 27 missing file(s) / 58\n",
            "\u001b[1A\u001b[2KDownloaded 28 missing file(s) / 58\n",
            "\u001b[1A\u001b[2KDownloaded 29 missing file(s) / 58\n",
            "\u001b[1A\u001b[2KDownloaded 30 missing file(s) / 58\n",
            "\u001b[1A\u001b[2KDownloaded 31 missing file(s) / 58\n",
            "\u001b[1A\u001b[2KDownloaded 32 missing file(s) / 58\n",
            "\u001b[1A\u001b[2KDownloaded 33 missing file(s) / 58\n",
            "\u001b[1A\u001b[2KDownloaded 34 missing file(s) / 58\n",
            "\u001b[1A\u001b[2KDownloaded 35 missing file(s) / 58\n",
            "\u001b[1A\u001b[2KDownloaded 36 missing file(s) / 58\n",
            "\u001b[1A\u001b[2KDownloaded 37 missing file(s) / 58\n",
            "\u001b[1A\u001b[2KDownloaded 38 missing file(s) / 58\n",
            "\u001b[1A\u001b[2KDownloaded 39 missing file(s) / 58\n",
            "\u001b[1A\u001b[2KDownloaded 40 missing file(s) / 58\n",
            "\u001b[1A\u001b[2KDownloaded 41 missing file(s) / 58\n",
            "\u001b[1A\u001b[2KDownloaded 42 missing file(s) / 58\n",
            "\u001b[1A\u001b[2KDownloaded 43 missing file(s) / 58\n",
            "\u001b[1A\u001b[2KDownloaded 44 missing file(s) / 58\n",
            "\u001b[1A\u001b[2KDownloaded 45 missing file(s) / 58\n",
            "\u001b[1A\u001b[2KDownloaded 46 missing file(s) / 58\n",
            "\u001b[1A\u001b[2KDownloaded 47 missing file(s) / 58\n",
            "\u001b[1A\u001b[2KDownloaded 48 missing file(s) / 58\n",
            "\u001b[1A\u001b[2KDownloaded 49 missing file(s) / 58\n",
            "\u001b[1A\u001b[2KDownloaded 50 missing file(s) / 58\n",
            "\u001b[1A\u001b[2KDownloaded 51 missing file(s) / 58\n",
            "\u001b[1A\u001b[2KDownloaded 52 missing file(s) / 58\n",
            "\u001b[1A\u001b[2KDownloaded 53 missing file(s) / 58\n",
            "\u001b[1A\u001b[2KDownloaded 54 missing file(s) / 58\n",
            "\u001b[1A\u001b[2KDownloaded 55 missing file(s) / 58\n",
            "\u001b[1A\u001b[2KDownloaded 56 missing file(s) / 58\n",
            "\u001b[1A\u001b[2KDownloaded 57 missing file(s) / 58\n",
            "\u001b[1A\u001b[2KDownloaded 58 missing file(s) / 58\n",
            "\u001b[1A\u001b[2K\u001b[2Khttps://repo1.maven.org/maven2/sh/almond/scala-kernel_2.12.8/0.3.0+16-548dc10f-…\n",
            "\u001b[2K    0.0% [          ] 0B (0B / s)\n",
            "\u001b[2A\u001b[10000D\u001b[2K\u001b[1B\u001b[2K\u001b[1B\u001b[2A\u001b[10000D\u001b[2Khttps://repo1.maven.org/maven2/sh/almond/scala-kernel_2.12.8/0.3.0+16-548dc10f-…\n",
            "\u001b[2K    0.0% [          ] 0B (0B / s)\n",
            "\u001b[2A\u001b[10000D\u001b[2Khttps://jitpack.io/sh/almond/scala-kernel_2.12.8/0.3.0+16-548dc10f-SNAPSHOT/sca…\n",
            "\u001b[2K    0.0% [          ] 0B (0B / s)\n",
            "\u001b[2A\u001b[10000D\u001b[2Khttps://jitpack.io/sh/almond/scala-kernel_2.12.8/0.3.0+16-548dc10f-SNAPSHOT/sca…\n",
            "\u001b[2K    0.0% [          ] 0B (0B / s)\n",
            "\u001b[2A\u001b[10000D\u001b[2Khttps://jitpack.io/sh/almond/scala-kernel_2.12.8/0.3.0+16-548dc10f-SNAPSHOT/mav…\n",
            "\u001b[2K    0.0% [          ] 0B (0B / s)\n",
            "\u001b[2A\u001b[10000D\u001b[2Khttps://jitpack.io/sh/almond/scala-kernel_2.12.8/0.3.0+16-548dc10f-SNAPSHOT/mav…\n",
            "\u001b[2K    0.0% [          ] 0B (0B / s)\n",
            "\u001b[2A\u001b[10000D\u001b[2Khttps://oss.sonatype.org/content/repositories/snapshots/sh/almond/scala-kernel_…\n",
            "\u001b[2K    0.0% [          ] 0B (0B / s)\n",
            "\u001b[2A\u001b[10000D\u001b[2Khttps://oss.sonatype.org/content/repositories/snapshots/sh/almond/scala-kernel_…\n",
            "\u001b[2K    0.0% [          ] 0B (0B / s)\n",
            "\u001b[2A\u001b[10000D\u001b[2Khttps://oss.sonatype.org/content/repositories/snapshots/sh/almond/scala-kernel_…\n",
            "\u001b[2K  100.0% [##########] 2.2 KiB (16.2 KiB / s)\n",
            "\u001b[2Khttps://oss.sonatype.org/content/repositories/snapshots/sh/almond/scala-kernel_…\n",
            "\u001b[2K    0.0% [          ] 0B (0B / s)\n",
            "\u001b[2A\u001b[10000D\u001b[2Khttps://oss.sonatype.org/content/repositories/snapshots/sh/almond/scala-kernel_…\n",
            "\u001b[2K    0.0% [          ] 0B (0B / s)\n",
            "\u001b[2A\u001b[10000D\u001b[2K\u001b[1B\u001b[2K\u001b[1B\u001b[2A\u001b[10000D\u001b[2Khttps://repo1.maven.org/maven2/com/github/alexarchambault/case-app_2.12/2.0.0-M…\n",
            "\u001b[2K    0.0% [          ] 0B (0B / s)\n",
            "\u001b[2A\u001b[10000D\u001b[2Khttps://repo1.maven.org/maven2/com/github/alexarchambault/case-app_2.12/2.0.0-M…\n",
            "\u001b[2K  100.0% [##########] 2.0 KiB (54.9 KiB / s)\n",
            "\u001b[2Khttps://repo1.maven.org/maven2/org/scala-lang/scala-library/2.12.8/scala-librar…\n",
            "\u001b[2K  100.0% [##########] 1.6 KiB (62.4 KiB / s)\n",
            "\u001b[2Khttps://repo1.maven.org/maven2/sh/almond/kernel_2.12/0.3.0+16-548dc10f-SNAPSHOT…\n",
            "\u001b[2K    0.0% [          ] 0B (0B / s)\n",
            "\u001b[2Khttps://repo1.maven.org/maven2/sh/almond/scala-interpreter_2.12.8/0.3.0+16-548d…\n",
            "\u001b[2K    0.0% [          ] 0B (0B / s)\n",
            "\u001b[2A\u001b[2A\u001b[10000D\u001b[2Khttps://repo1.maven.org/maven2/sh/almond/kernel_2.12/0.3.0+16-548dc10f-SNAPSHOT…\n",
            "\u001b[2K    0.0% [          ] 0B (0B / s)\n",
            "\u001b[2Khttps://repo1.maven.org/maven2/sh/almond/scala-interpreter_2.12.8/0.3.0+16-548d…\n",
            "\u001b[2K    0.0% [          ] 0B (0B / s)\n",
            "\u001b[2A\u001b[2A\u001b[10000D\u001b[2Khttps://repo1.maven.org/maven2/sh/almond/kernel_2.12/0.3.0+16-548dc10f-SNAPSHOT…\n",
            "\u001b[2K    0.0% [          ] 0B (0B / s)\n",
            "\u001b[2Khttps://repo1.maven.org/maven2/sh/almond/scala-interpreter_2.12.8/0.3.0+16-548d…\n",
            "\u001b[2K    0.0% [          ] 0B (0B / s)\n",
            "\u001b[2A\u001b[2A\u001b[10000D\u001b[2Khttps://jitpack.io/sh/almond/kernel_2.12/0.3.0+16-548dc10f-SNAPSHOT/kernel_2.12…\n",
            "\u001b[2K    0.0% [          ] 0B (0B / s)\n",
            "\u001b[2Khttps://jitpack.io/sh/almond/scala-interpreter_2.12.8/0.3.0+16-548dc10f-SNAPSHO…\n",
            "\u001b[2K    0.0% [          ] 0B (0B / s)\n",
            "\u001b[2A\u001b[2A\u001b[10000D\u001b[2Khttps://jitpack.io/sh/almond/scala-interpreter_2.12.8/0.3.0+16-548dc10f-SNAPSHO…\n",
            "\u001b[2K    0.0% [          ] 0B (0B / s)\n",
            "\u001b[2Khttps://jitpack.io/sh/almond/kernel_2.12/0.3.0+16-548dc10f-SNAPSHOT/kernel_2.12…\n",
            "\u001b[2K    0.0% [          ] 0B (0B / s)\n",
            "\u001b[2A\u001b[2A\u001b[10000D\u001b[2Khttps://jitpack.io/sh/almond/scala-interpreter_2.12.8/0.3.0+16-548dc10f-SNAPSHO…\n",
            "\u001b[2K    0.0% [          ] 0B (0B / s)\n",
            "\u001b[2Khttps://jitpack.io/sh/almond/kernel_2.12/0.3.0+16-548dc10f-SNAPSHOT/maven-metad…\n",
            "\u001b[2K    0.0% [          ] 0B (0B / s)\n",
            "\u001b[2A\u001b[2A\u001b[10000D\u001b[2Khttps://jitpack.io/sh/almond/scala-interpreter_2.12.8/0.3.0+16-548dc10f-SNAPSHO…\n",
            "\u001b[2K    0.0% [          ] 0B (0B / s)\n",
            "\u001b[2K\u001b[1B\u001b[2K\u001b[1B\u001b[2A\u001b[2A\u001b[10000D\u001b[2Khttps://jitpack.io/sh/almond/kernel_2.12/0.3.0+16-548dc10f-SNAPSHOT/maven-metad…\n",
            "\u001b[2K    0.0% [          ] 0B (0B / s)\n",
            "\u001b[2Khttps://jitpack.io/sh/almond/scala-interpreter_2.12.8/0.3.0+16-548dc10f-SNAPSHO…\n",
            "\u001b[2K    0.0% [          ] 0B (0B / s)\n",
            "\u001b[2A\u001b[2A\u001b[10000D\u001b[2Khttps://jitpack.io/sh/almond/scala-interpreter_2.12.8/0.3.0+16-548dc10f-SNAPSHO…\n",
            "\u001b[2K    0.0% [          ] 0B (0B / s)\n",
            "\u001b[2Khttps://oss.sonatype.org/content/repositories/snapshots/sh/almond/kernel_2.12/0…\n",
            "\u001b[2K    0.0% [          ] 0B (0B / s)\n",
            "\u001b[2A\u001b[2A\u001b[10000D\u001b[2Khttps://oss.sonatype.org/content/repositories/snapshots/sh/almond/kernel_2.12/0…\n",
            "\u001b[2K  100.0% [##########] 2.4 KiB (62.3 KiB / s)\n",
            "\u001b[2Khttps://oss.sonatype.org/content/repositories/snapshots/sh/almond/scala-interpr…\n",
            "\u001b[2K    0.0% [          ] 0B (0B / s)\n",
            "\u001b[2A\u001b[10000D\u001b[2Khttps://oss.sonatype.org/content/repositories/snapshots/sh/almond/scala-interpr…\n",
            "\u001b[2K  100.0% [##########] 2.7 KiB (46.9 KiB / s)\n",
            "\u001b[2Khttps://oss.sonatype.org/content/repositories/snapshots/sh/almond/scala-interpr…\n",
            "\u001b[2K  100.0% [##########] 40B (2.3 KiB / s)\n",
            "\u001b[2A\u001b[10000D\u001b[2K\u001b[1B\u001b[2K\u001b[1B\u001b[2A\u001b[10000D\u001b[2Khttps://repo1.maven.org/maven2/co/fs2/fs2-core_2.12/1.0.4/fs2-core_2.12-1.0.4.p…\n",
            "\u001b[2K  100.0% [##########] 3.6 KiB (179.8 KiB / s)\n",
            "\u001b[2Khttps://repo1.maven.org/maven2/com/github/alexarchambault/case-app-annotations_…\n",
            "\u001b[2K  100.0% [##########] 1.7 KiB (128.8 KiB / s)\n",
            "\u001b[2Khttps://repo1.maven.org/maven2/sh/almond/interpreter_2.12/0.3.0+16-548dc10f-SNA…\n",
            "\u001b[2K    0.0% [          ] 0B (0B / s)\n",
            "\u001b[2Khttps://repo1.maven.org/maven2/sh/almond/scala-kernel-api_2.12.8/0.3.0+16-548dc…\n",
            "\u001b[2K    0.0% [          ] 0B (0B / s)\n",
            "\u001b[2Khttps://repo1.maven.org/maven2/com/github/alexarchambault/case-app-util_2.12/2.…\n",
            "\u001b[2K    0.0% [          ] 0B (0B / s)\n",
            "\u001b[2A\u001b[2A\u001b[2A\u001b[10000D\u001b[2Khttps://repo1.maven.org/maven2/com/github/alexarchambault/case-app-util_2.12/2.…\n",
            "\u001b[2K    0.0% [          ] 0B (0B / s)\n",
            "\u001b[2Khttps://repo1.maven.org/maven2/sh/almond/scala-kernel-api_2.12.8/0.3.0+16-548dc…\n",
            "\u001b[2K    0.0% [          ] 0B (0B / s)\n",
            "\u001b[2Khttps://repo1.maven.org/maven2/sh/almond/interpreter_2.12/0.3.0+16-548dc10f-SNA…\n",
            "\u001b[2K    0.0% [          ] 0B (0B / s)\n",
            "\u001b[2A\u001b[2A\u001b[2A\u001b[10000D\u001b[2Khttps://repo1.maven.org/maven2/com/github/alexarchambault/case-app-util_2.12/2.…\n",
            "\u001b[2K  100.0% [##########] 2.2 KiB (54.7 KiB / s)\n",
            "\u001b[2Khttps://repo1.maven.org/maven2/sh/almond/interpreter_2.12/0.3.0+16-548dc10f-SNA…\n",
            "\u001b[2K    0.0% [          ] 0B (0B / s)\n",
            "\u001b[2Khttps://repo1.maven.org/maven2/sh/almond/scala-kernel-api_2.12.8/0.3.0+16-548dc…\n",
            "\u001b[2K    0.0% [          ] 0B (0B / s)\n",
            "\u001b[2A\u001b[2A\u001b[10000D\u001b[2Khttps://repo1.maven.org/maven2/sh/almond/interpreter_2.12/0.3.0+16-548dc10f-SNA…\n",
            "\u001b[2K    0.0% [          ] 0B (0B / s)\n",
            "\u001b[2Khttps://jitpack.io/sh/almond/scala-kernel-api_2.12.8/0.3.0+16-548dc10f-SNAPSHOT…\n",
            "\u001b[2K    0.0% [          ] 0B (0B / s)\n",
            "\u001b[2A\u001b[2A\u001b[10000D\u001b[2Khttps://repo1.maven.org/maven2/sh/almond/interpreter_2.12/0.3.0+16-548dc10f-SNA…\n",
            "\u001b[2K    0.0% [          ] 0B (0B / s)\n",
            "\u001b[2Khttps://jitpack.io/sh/almond/scala-kernel-api_2.12.8/0.3.0+16-548dc10f-SNAPSHOT…\n",
            "\u001b[2K    0.0% [          ] 0B (0B / s)\n",
            "\u001b[2A\u001b[2A\u001b[10000D\u001b[2Khttps://repo1.maven.org/maven2/sh/almond/interpreter_2.12/0.3.0+16-548dc10f-SNA…\n",
            "\u001b[2K    0.0% [          ] 0B (0B / s)\n",
            "\u001b[2Khttps://jitpack.io/sh/almond/scala-kernel-api_2.12.8/0.3.0+16-548dc10f-SNAPSHOT…\n",
            "\u001b[2K    0.0% [          ] 0B (0B / s)\n",
            "\u001b[2A\u001b[2A\u001b[10000D\u001b[2Khttps://jitpack.io/sh/almond/scala-kernel-api_2.12.8/0.3.0+16-548dc10f-SNAPSHOT…\n",
            "\u001b[2K    0.0% [          ] 0B (0B / s)\n",
            "\u001b[2Khttps://jitpack.io/sh/almond/interpreter_2.12/0.3.0+16-548dc10f-SNAPSHOT/interp…\n",
            "\u001b[2K    0.0% [          ] 0B (0B / s)\n",
            "\u001b[2A\u001b[2A\u001b[10000D\u001b[2Khttps://jitpack.io/sh/almond/scala-kernel-api_2.12.8/0.3.0+16-548dc10f-SNAPSHOT…\n",
            "\u001b[2K    0.0% [          ] 0B (0B / s)\n",
            "\u001b[2K\u001b[1B\u001b[2K\u001b[1B\u001b[2A\u001b[2A\u001b[10000D\u001b[2Khttps://jitpack.io/sh/almond/interpreter_2.12/0.3.0+16-548dc10f-SNAPSHOT/interp…\n",
            "\u001b[2K    0.0% [          ] 0B (0B / s)\n",
            "\u001b[2Khttps://oss.sonatype.org/content/repositories/snapshots/sh/almond/scala-kernel-…\n",
            "\u001b[2K    0.0% [          ] 0B (0B / s)\n",
            "\u001b[2A\u001b[2A\u001b[10000D\u001b[2Khttps://oss.sonatype.org/content/repositories/snapshots/sh/almond/scala-kernel-…\n",
            "\u001b[2K  100.0% [##########] 2.2 KiB (78.2 KiB / s)\n",
            "\u001b[2Khttps://jitpack.io/sh/almond/interpreter_2.12/0.3.0+16-548dc10f-SNAPSHOT/maven-…\n",
            "\u001b[2K    0.0% [          ] 0B (0B / s)\n",
            "\u001b[2Khttps://oss.sonatype.org/content/repositories/snapshots/sh/almond/scala-kernel-…\n",
            "\u001b[2K    0.0% [          ] 0B (0B / s)\n",
            "\u001b[2A\u001b[2A\u001b[10000D\u001b[2Khttps://jitpack.io/sh/almond/interpreter_2.12/0.3.0+16-548dc10f-SNAPSHOT/maven-…\n",
            "\u001b[2K    0.0% [          ] 0B (0B / s)\n",
            "\u001b[2K\u001b[1B\u001b[2K\u001b[1B\u001b[2A\u001b[2A\u001b[10000D\u001b[2Khttps://oss.sonatype.org/content/repositories/snapshots/sh/almond/interpreter_2…\n",
            "\u001b[2K  100.0% [##########] 2.7 KiB (143.5 KiB / s)\n",
            "\u001b[10000D\u001b[10000D\u001b[2Khttps://repo1.maven.org/maven2/org/typelevel/cats-effect_2.12/1.2.0/cats-effect…\n",
            "\u001b[2K    0.0% [          ] 0B (0B / s)\n",
            "\u001b[2Khttps://repo1.maven.org/maven2/sh/almond/protocol_2.12/0.3.0+16-548dc10f-SNAPSH…\n",
            "\u001b[2K    0.0% [          ] 0B (0B / s)\n",
            "\u001b[2A\u001b[2A\u001b[10000D\u001b[2Khttps://repo1.maven.org/maven2/com/lihaoyi/ammonite-repl_2.12.8/1.6.4/ammonite-…\n",
            "\u001b[2K  100.0% [##########] 2.9 KiB (209.1 KiB / s)\n",
            "\u001b[2Khttps://repo1.maven.org/maven2/org/typelevel/cats-effect_2.12/1.2.0/cats-effect…\n",
            "\u001b[2K  100.0% [##########] 2.8 KiB (131.7 KiB / s)\n",
            "\u001b[2Khttps://repo1.maven.org/maven2/sh/almond/protocol_2.12/0.3.0+16-548dc10f-SNAPSH…\n",
            "\u001b[2K    0.0% [          ] 0B (0B / s)\n",
            "\u001b[2A\u001b[10000D\u001b[2Khttps://repo1.maven.org/maven2/sh/almond/protocol_2.12/0.3.0+16-548dc10f-SNAPSH…\n",
            "\u001b[2K    0.0% [          ] 0B (0B / s)\n",
            "\u001b[2Khttps://repo1.maven.org/maven2/org/scalameta/metabrowse-server_2.12/0.2.2/metab…\n",
            "\u001b[2K    0.0% [          ] 0B (0B / s)\n",
            "\u001b[2Khttps://repo1.maven.org/maven2/org/typelevel/cats-core_2.12/1.6.0/cats-core_2.1…\n",
            "\u001b[2K    0.0% [          ] 0B (0B / s)\n",
            "\u001b[2A\u001b[2A\u001b[2A\u001b[10000D\u001b[2Khttps://repo1.maven.org/maven2/org/scalameta/metabrowse-server_2.12/0.2.2/metab…\n",
            "\u001b[2K  100.0% [##########] 3.0 KiB (129.0 KiB / s)\n",
            "\u001b[2Khttps://repo1.maven.org/maven2/org/typelevel/cats-core_2.12/1.6.0/cats-core_2.1…\n",
            "\u001b[2K  100.0% [##########] 4.5 KiB (212.6 KiB / s)\n",
            "\u001b[2Khttps://repo1.maven.org/maven2/sh/almond/protocol_2.12/0.3.0+16-548dc10f-SNAPSH…\n",
            "\u001b[2K    0.0% [          ] 0B (0B / s)\n",
            "\u001b[2Khttps://repo1.maven.org/maven2/org/scodec/scodec-bits_2.12/1.1.9/scodec-bits_2.…\n",
            "\u001b[2K    0.0% [          ] 0B (0B / s)\n",
            "\u001b[2Khttps://repo1.maven.org/maven2/com/lihaoyi/scalatags_2.12/0.6.7/scalatags_2.12-…\n",
            "\u001b[2K    0.0% [          ] 0B (0B / s)\n",
            "\u001b[2A\u001b[2A\u001b[2A\u001b[10000D\u001b[2Khttps://repo1.maven.org/maven2/com/lihaoyi/scalatags_2.12/0.6.7/scalatags_2.12-…\n",
            "\u001b[2K  100.0% [##########] 2.6 KiB (81.3 KiB / s)\n",
            "\u001b[2Khttps://repo1.maven.org/maven2/org/slf4j/slf4j-nop/1.7.26/slf4j-nop-1.7.26.pom\n",
            "\u001b[2K  100.0% [##########] 790B (59.3 KiB / s)\n",
            "\u001b[2Khttps://repo1.maven.org/maven2/org/scodec/scodec-bits_2.12/1.1.9/scodec-bits_2.…\n",
            "\u001b[2K    0.0% [          ] 0B (0B / s)\n",
            "\u001b[2Khttps://repo1.maven.org/maven2/sh/almond/protocol_2.12/0.3.0+16-548dc10f-SNAPSH…\n",
            "\u001b[2K    0.0% [          ] 0B (0B / s)\n",
            "\u001b[2Khttps://repo1.maven.org/maven2/org/scala-lang/modules/scala-collection-compat_2…\n",
            "\u001b[2K    0.0% [          ] 0B (0B / s)\n",
            "\u001b[2Khttps://jitpack.io/com/github/jupyter/jvm-repr/0.4.0/jvm-repr-0.4.0.pom\n",
            "\u001b[2K    0.0% [          ] 0B (0B / s)\n",
            "\u001b[2A\u001b[2A\u001b[2A\u001b[2A\u001b[10000D\u001b[2Khttps://repo1.maven.org/maven2/org/scala-lang/modules/scala-collection-compat_2…\n",
            "\u001b[2K  100.0% [##########] 1.9 KiB (62.8 KiB / s)\n",
            "\u001b[2Khttps://repo1.maven.org/maven2/org/scodec/scodec-bits_2.12/1.1.9/scodec-bits_2.…\n",
            "\u001b[2K  100.0% [##########] 2.0 KiB (32.6 KiB / s)\n",
            "\u001b[2Khttps://jitpack.io/com/github/jupyter/jvm-repr/0.4.0/jvm-repr-0.4.0.pom\n",
            "\u001b[2K    0.0% [          ] 0B (0B / s)\n",
            "\u001b[2Khttps://jitpack.io/sh/almond/protocol_2.12/0.3.0+16-548dc10f-SNAPSHOT/protocol_…\n",
            "\u001b[2K    0.0% [          ] 0B (0B / s)\n",
            "\u001b[2A\u001b[2A\u001b[10000D\u001b[2Khttps://repo1.maven.org/maven2/com/chuusai/shapeless_2.12/2.3.3/shapeless_2.12-…\n",
            "\u001b[2K  100.0% [##########] 2.2 KiB (131.7 KiB / s)\n",
            "\u001b[2Khttps://jitpack.io/com/github/jupyter/jvm-repr/0.4.0/jvm-repr-0.4.0.pom\n",
            "\u001b[2K    0.0% [          ] 0B (0B / s)\n",
            "\u001b[2Khttps://jitpack.io/sh/almond/protocol_2.12/0.3.0+16-548dc10f-SNAPSHOT/protocol_…\n",
            "\u001b[2K    0.0% [          ] 0B (0B / s)\n",
            "\u001b[2Khttps://repo1.maven.org/maven2/sh/almond/interpreter-api_2.12/0.3.0+16-548dc10f…\n",
            "\u001b[2K    0.0% [          ] 0B (0B / s)\n",
            "\u001b[2A\u001b[2A\u001b[2A\u001b[10000D\u001b[2Khttps://jitpack.io/com/github/jupyter/jvm-repr/0.4.0/jvm-repr-0.4.0.pom\n",
            "\u001b[2K    0.0% [          ] 0B (0B / s)\n",
            "\u001b[2Khttps://jitpack.io/sh/almond/interpreter-api_2.12/0.3.0+16-548dc10f-SNAPSHOT/in…\n",
            "\u001b[2K    0.0% [          ] 0B (0B / s)\n",
            "\u001b[2K\u001b[1B\u001b[2K\u001b[1B\u001b[2A\u001b[2A\u001b[2A\u001b[10000D\u001b[2Khttps://jitpack.io/com/github/jupyter/jvm-repr/0.4.0/jvm-repr-0.4.0.pom\n",
            "\u001b[2K    0.0% [          ] 0B (0B / s)\n",
            "\u001b[2Khttps://jitpack.io/sh/almond/interpreter-api_2.12/0.3.0+16-548dc10f-SNAPSHOT/in…\n",
            "\u001b[2K    0.0% [          ] 0B (0B / s)\n",
            "\u001b[2Khttps://jitpack.io/sh/almond/protocol_2.12/0.3.0+16-548dc10f-SNAPSHOT/maven-met…\n",
            "\u001b[2K    0.0% [          ] 0B (0B / s)\n",
            "\u001b[2A\u001b[2A\u001b[2A\u001b[10000D\u001b[2Khttps://jitpack.io/com/github/jupyter/jvm-repr/0.4.0/jvm-repr-0.4.0.pom\n",
            "\u001b[2K  100.0% [##########] 1.4 KiB (14.0 KiB / s)\n",
            "\u001b[2Khttps://jitpack.io/sh/almond/interpreter-api_2.12/0.3.0+16-548dc10f-SNAPSHOT/in…\n",
            "\u001b[2K    0.0% [          ] 0B (0B / s)\n",
            "\u001b[2Khttps://jitpack.io/sh/almond/protocol_2.12/0.3.0+16-548dc10f-SNAPSHOT/maven-met…\n",
            "\u001b[2K    0.0% [          ] 0B (0B / s)\n",
            "\u001b[2Khttps://jitpack.io/com/github/jupyter/jvm-repr/0.4.0/jvm-repr-0.4.0.pom.sha1\n",
            "\u001b[2K    0.0% [          ] 0B (0B / s)\n",
            "\u001b[2A\u001b[2A\u001b[2A\u001b[10000D\u001b[2Khttps://jitpack.io/com/github/jupyter/jvm-repr/0.4.0/jvm-repr-0.4.0.pom.sha1\n",
            "\u001b[2K  100.0% [##########] 40B (1.4 KiB / s)\n",
            "\u001b[2Khttps://jitpack.io/sh/almond/interpreter-api_2.12/0.3.0+16-548dc10f-SNAPSHOT/in…\n",
            "\u001b[2K    0.0% [          ] 0B (0B / s)\n",
            "\u001b[2Khttps://oss.sonatype.org/content/repositories/snapshots/sh/almond/protocol_2.12…\n",
            "\u001b[2K    0.0% [          ] 0B (0B / s)\n",
            "\u001b[2A\u001b[2A\u001b[2A\u001b[10000D\u001b[2Khttps://jitpack.io/sh/almond/interpreter-api_2.12/0.3.0+16-548dc10f-SNAPSHOT/in…\n",
            "\u001b[2K    0.0% [          ] 0B (0B / s)\n",
            "\u001b[2Khttps://oss.sonatype.org/content/repositories/snapshots/sh/almond/protocol_2.12…\n",
            "\u001b[2K    0.0% [          ] 0B (0B / s)\n",
            "\u001b[2K\u001b[1B\u001b[2K\u001b[1B\u001b[2A\u001b[2A\u001b[2A\u001b[10000D\u001b[2Khttps://oss.sonatype.org/content/repositories/snapshots/sh/almond/protocol_2.12…\n",
            "\u001b[2K  100.0% [##########] 2.0 KiB (37.9 KiB / s)\n",
            "\u001b[2Khttps://oss.sonatype.org/content/repositories/snapshots/sh/almond/protocol_2.12…\n",
            "\u001b[2K  100.0% [##########] 40B (1.7 KiB / s)\n",
            "\u001b[2Khttps://jitpack.io/sh/almond/interpreter-api_2.12/0.3.0+16-548dc10f-SNAPSHOT/in…\n",
            "\u001b[2K    0.0% [          ] 0B (0B / s)\n",
            "\u001b[2A\u001b[2A\u001b[10000D\u001b[2Khttps://jitpack.io/sh/almond/interpreter-api_2.12/0.3.0+16-548dc10f-SNAPSHOT/ma…\n",
            "\u001b[2K    0.0% [          ] 0B (0B / s)\n",
            "\u001b[2K\u001b[1B\u001b[2K\u001b[1B\u001b[2A\u001b[2A\u001b[10000D\u001b[2Khttps://jitpack.io/sh/almond/interpreter-api_2.12/0.3.0+16-548dc10f-SNAPSHOT/ma…\n",
            "\u001b[2K    0.0% [          ] 0B (0B / s)\n",
            "\u001b[2A\u001b[10000D\u001b[2Khttps://oss.sonatype.org/content/repositories/snapshots/sh/almond/interpreter-a…\n",
            "\u001b[2K    0.0% [          ] 0B (0B / s)\n",
            "\u001b[2A\u001b[10000D\u001b[2Khttps://oss.sonatype.org/content/repositories/snapshots/sh/almond/interpreter-a…\n",
            "\u001b[2K  100.0% [##########] 1.6 KiB (56.5 KiB / s)\n",
            "\u001b[2Khttps://oss.sonatype.org/content/repositories/snapshots/sh/almond/interpreter-a…\n",
            "\u001b[2K    0.0% [          ] 0B (0B / s)\n",
            "\u001b[2A\u001b[10000D\u001b[2K\u001b[1B\u001b[2K\u001b[1B\u001b[2A\u001b[10000D\u001b[2Khttps://repo1.maven.org/maven2/org/slf4j/slf4j-parent/1.7.26/slf4j-parent-1.7.2…\n",
            "\u001b[2K  100.0% [##########] 13.4 KiB (668.0 KiB / s)\n",
            "\u001b[10000D\u001b[2Khttps://repo1.maven.org/maven2/io/undertow/undertow-core/2.0.17.Final/undertow-…\n",
            "\u001b[2K  100.0% [##########] 26.7 KiB (2.0 MiB / s)\n",
            "\u001b[2A\u001b[10000D\u001b[2Khttps://repo1.maven.org/maven2/io/undertow/undertow-core/2.0.17.Final/undertow-…\n",
            "\u001b[2K  100.0% [##########] 26.7 KiB (810.1 KiB / s)\n",
            "\u001b[2Khttps://repo1.maven.org/maven2/com/github/javaparser/javaparser-core/3.2.5/java…\n",
            "\u001b[2K    0.0% [          ] 0B (0B / s)\n",
            "\u001b[2A\u001b[10000D\u001b[2Khttps://repo1.maven.org/maven2/com/github/javaparser/javaparser-core/3.2.5/java…\n",
            "\u001b[2K  100.0% [##########] 6.9 KiB (312.0 KiB / s)\n",
            "\u001b[2Khttps://repo1.maven.org/maven2/sh/almond/channels_2.12/0.3.0+16-548dc10f-SNAPSH…\n",
            "\u001b[2K    0.0% [          ] 0B (0B / s)\n",
            "\u001b[2A\u001b[10000D\u001b[2Khttps://repo1.maven.org/maven2/org/slf4j/slf4j-api/1.8.0-beta2/slf4j-api-1.8.0-…\n",
            "\u001b[2K    0.0% [          ] 0B (0B / s)\n",
            "\u001b[2Khttps://repo1.maven.org/maven2/org/scalameta/metabrowse-cli_2.12/0.2.2/metabrow…\n",
            "\u001b[2K    0.0% [          ] 0B (0B / s)\n",
            "\u001b[2Khttps://repo1.maven.org/maven2/org/jboss/xnio/xnio-nio/3.7.0.Final/xnio-nio-3.7…\n",
            "\u001b[2K    0.0% [          ] 0B (0B / s)\n",
            "\u001b[2Khttps://repo1.maven.org/maven2/com/github/scopt/scopt_2.12/3.5.0/scopt_2.12-3.5…\n",
            "\u001b[2K    0.0% [          ] 0B (0B / s)\n",
            "\u001b[2Khttps://repo1.maven.org/maven2/org/jline/jline-reader/3.6.2/jline-reader-3.6.2.…\n",
            "\u001b[2K    0.0% [          ] 0B (0B / s)\n",
            "\u001b[2Khttps://repo1.maven.org/maven2/org/jline/jline-terminal-jna/3.6.2/jline-termina…\n",
            "\u001b[2K    0.0% [          ] 0B (0B / s)\n",
            "\u001b[2A\u001b[2A\u001b[2A\u001b[2A\u001b[2A\u001b[2A\u001b[10000D\u001b[2Khttps://repo1.maven.org/maven2/org/jboss/xnio/xnio-nio/3.7.0.Final/xnio-nio-3.7…\n",
            "\u001b[2K  100.0% [##########] 7.7 KiB (274.2 KiB / s)\n",
            "\u001b[2Khttps://repo1.maven.org/maven2/org/jline/jline-reader/3.6.2/jline-reader-3.6.2.…\n",
            "\u001b[2K  100.0% [##########] 1.1 KiB (45.4 KiB / s)\n",
            "\u001b[2Khttps://repo1.maven.org/maven2/org/scalameta/metabrowse-cli_2.12/0.2.2/metabrow…\n",
            "\u001b[2K  100.0% [##########] 2.6 KiB (91.2 KiB / s)\n",
            "\u001b[2Khttps://repo1.maven.org/maven2/org/slf4j/slf4j-api/1.8.0-beta2/slf4j-api-1.8.0-…\n",
            "\u001b[2K  100.0% [##########] 1.5 KiB (46.5 KiB / s)\n",
            "\u001b[2Khttps://repo1.maven.org/maven2/org/jline/jline-terminal-jna/3.6.2/jline-termina…\n",
            "\u001b[2K  100.0% [##########] 1.7 KiB (74.9 KiB / s)\n",
            "\u001b[2Khttps://repo1.maven.org/maven2/com/github/scopt/scopt_2.12/3.5.0/scopt_2.12-3.5…\n",
            "\u001b[2K    0.0% [          ] 0B (0B / s)\n",
            "\u001b[2Khttps://repo1.maven.org/maven2/com/lihaoyi/sourcecode_2.12/0.1.4/sourcecode_2.1…\n",
            "\u001b[2K    0.0% [          ] 0B (0B / s)\n",
            "\u001b[2Khttps://repo1.maven.org/maven2/org/jline/jline-terminal/3.6.2/jline-terminal-3.…\n",
            "\u001b[2K    0.0% [          ] 0B (0B / s)\n",
            "\u001b[2Khttps://repo1.maven.org/maven2/org/typelevel/machinist_2.12/0.6.6/machinist_2.1…\n",
            "\u001b[2K    0.0% [          ] 0B (0B / s)\n",
            "\u001b[2A\u001b[2A\u001b[2A\u001b[2A\u001b[2A\u001b[10000D\u001b[2Khttps://repo1.maven.org/maven2/com/github/scopt/scopt_2.12/3.5.0/scopt_2.12-3.5…\n",
            "\u001b[2K  100.0% [##########] 1.6 KiB (28.3 KiB / s)\n",
            "\u001b[2Khttps://repo1.maven.org/maven2/com/lihaoyi/sourcecode_2.12/0.1.4/sourcecode_2.1…\n",
            "\u001b[2K  100.0% [##########] 1.9 KiB (46.3 KiB / s)\n",
            "\u001b[2Khttps://repo1.maven.org/maven2/org/jline/jline-terminal-jna/3.6.2/jline-termina…\n",
            "\u001b[2K  100.0% [##########] 1.7 KiB (32.5 KiB / s)\n",
            "\u001b[2Khttps://repo1.maven.org/maven2/org/jline/jline-terminal/3.6.2/jline-terminal-3.…\n",
            "\u001b[2K  100.0% [##########] 1.1 KiB (32.1 KiB / s)\n",
            "\u001b[2Khttps://repo1.maven.org/maven2/org/scalameta/interactive_2.12.7/4.1.4/interacti…\n",
            "\u001b[2K  100.0% [##########] 2.9 KiB (104.9 KiB / s)\n",
            "\u001b[2Khttps://repo1.maven.org/maven2/org/typelevel/machinist_2.12/0.6.6/machinist_2.1…\n",
            "\u001b[2K  100.0% [##########] 1.7 KiB (51.1 KiB / s)\n",
            "\u001b[2Khttps://repo1.maven.org/maven2/com/lihaoyi/ammonite-terminal_2.12/1.6.4/ammonit…\n",
            "\u001b[2K  100.0% [##########] 1.5 KiB (101.8 KiB / s)\n",
            "\u001b[2Khttps://repo1.maven.org/maven2/org/typelevel/cats-macros_2.12/1.6.0/cats-macros…\n",
            "\u001b[2K    0.0% [          ] 0B (0B / s)\n",
            "\u001b[2Khttps://repo1.maven.org/maven2/com/lihaoyi/ammonite-util_2.12/1.6.4/ammonite-ut…\n",
            "\u001b[2K    0.0% [          ] 0B (0B / s)\n",
            "\u001b[2A\u001b[2A\u001b[2A\u001b[10000D\u001b[2Khttps://repo1.maven.org/maven2/com/lihaoyi/ammonite-terminal_2.12/1.6.4/ammonit…\n",
            "\u001b[2K  100.0% [##########] 1.5 KiB (69.4 KiB / s)\n",
            "\u001b[2Khttps://repo1.maven.org/maven2/org/typelevel/cats-macros_2.12/1.6.0/cats-macros…\n",
            "\u001b[2K  100.0% [##########] 3.9 KiB (97.8 KiB / s)\n",
            "\u001b[2Khttps://repo1.maven.org/maven2/com/lihaoyi/ammonite-util_2.12/1.6.4/ammonite-ut…\n",
            "\u001b[2K    0.0% [          ] 0B (0B / s)\n",
            "\u001b[2A\u001b[10000D\u001b[2Khttps://repo1.maven.org/maven2/com/lihaoyi/ammonite-util_2.12/1.6.4/ammonite-ut…\n",
            "\u001b[2K    0.0% [          ] 0B (0B / s)\n",
            "\u001b[2Khttps://repo1.maven.org/maven2/com/github/alexarchambault/argonaut-shapeless_6.…\n",
            "\u001b[2K    0.0% [          ] 0B (0B / s)\n",
            "\u001b[2Khttps://repo1.maven.org/maven2/org/scalameta/mtags_2.12/0.4.4/mtags_2.12-0.4.4.…\n",
            "\u001b[2K    0.0% [          ] 0B (0B / s)\n",
            "\u001b[2A\u001b[2A\u001b[2A\u001b[10000D\u001b[2Khttps://repo1.maven.org/maven2/com/github/alexarchambault/argonaut-shapeless_6.…\n",
            "\u001b[2K  100.0% [##########] 2.1 KiB (45.2 KiB / s)\n",
            "\u001b[2Khttps://repo1.maven.org/maven2/com/lihaoyi/ammonite-util_2.12/1.6.4/ammonite-ut…\n",
            "\u001b[2K  100.0% [##########] 1.9 KiB (21.6 KiB / s)\n",
            "\u001b[2Khttps://repo1.maven.org/maven2/org/scalameta/mtags_2.12/0.4.4/mtags_2.12-0.4.4.…\n",
            "\u001b[2K  100.0% [##########] 2.7 KiB (69.9 KiB / s)\n",
            "\u001b[2Khttps://jitpack.io/sh/almond/channels_2.12/0.3.0+16-548dc10f-SNAPSHOT/channels_…\n",
            "\u001b[2K    0.0% [          ] 0B (0B / s)\n",
            "\u001b[2Khttps://repo1.maven.org/maven2/org/typelevel/cats-kernel_2.12/1.6.0/cats-kernel…\n",
            "\u001b[2K    0.0% [          ] 0B (0B / s)\n",
            "\u001b[2A\u001b[2A\u001b[10000D\u001b[2Khttps://repo1.maven.org/maven2/com/lihaoyi/ammonite-interp_2.12.8/1.6.4/ammonit…\n",
            "\u001b[2K  100.0% [##########] 2.4 KiB (300.7 KiB / s)\n",
            "\u001b[2Khttps://repo1.maven.org/maven2/com/lihaoyi/ammonite-runtime_2.12/1.6.4/ammonite…\n",
            "\u001b[2K  100.0% [##########] 2.1 KiB (206.3 KiB / s)\n",
            "\u001b[2Khttps://jitpack.io/sh/almond/channels_2.12/0.3.0+16-548dc10f-SNAPSHOT/channels_…\n",
            "\u001b[2K    0.0% [          ] 0B (0B / s)\n",
            "\u001b[2Khttps://repo1.maven.org/maven2/org/typelevel/cats-kernel_2.12/1.6.0/cats-kernel…\n",
            "\u001b[2K    0.0% [          ] 0B (0B / s)\n",
            "\u001b[2A\u001b[2A\u001b[10000D\u001b[2Khttps://repo1.maven.org/maven2/org/typelevel/cats-kernel_2.12/1.6.0/cats-kernel…\n",
            "\u001b[2K  100.0% [##########] 3.9 KiB (116.1 KiB / s)\n",
            "\u001b[2Khttps://jitpack.io/sh/almond/channels_2.12/0.3.0+16-548dc10f-SNAPSHOT/channels_…\n",
            "\u001b[2K    0.0% [          ] 0B (0B / s)\n",
            "\u001b[2Khttps://repo1.maven.org/maven2/org/typelevel/macro-compat_2.12/1.1.1/macro-comp…\n",
            "\u001b[2K    0.0% [          ] 0B (0B / s)\n",
            "\u001b[2Khttps://repo1.maven.org/maven2/com/lihaoyi/ammonite-ops_2.12/1.6.4/ammonite-ops…\n",
            "\u001b[2K    0.0% [          ] 0B (0B / s)\n",
            "\u001b[2A\u001b[2A\u001b[2A\u001b[10000D\u001b[2Khttps://repo1.maven.org/maven2/com/lihaoyi/ammonite-ops_2.12/1.6.4/ammonite-ops…\n",
            "\u001b[2K  100.0% [##########] 1.3 KiB (40.7 KiB / s)\n",
            "\u001b[2Khttps://repo1.maven.org/maven2/org/typelevel/macro-compat_2.12/1.1.1/macro-comp…\n",
            "\u001b[2K  100.0% [##########] 1.9 KiB (56.7 KiB / s)\n",
            "\u001b[2Khttps://jitpack.io/sh/almond/channels_2.12/0.3.0+16-548dc10f-SNAPSHOT/channels_…\n",
            "\u001b[2K    0.0% [          ] 0B (0B / s)\n",
            "\u001b[2A\u001b[10000D\u001b[2Khttps://jitpack.io/sh/almond/channels_2.12/0.3.0+16-548dc10f-SNAPSHOT/channels_…\n",
            "\u001b[2K    0.0% [          ] 0B (0B / s)\n",
            "\u001b[2A\u001b[10000D\u001b[2Khttps://jitpack.io/sh/almond/channels_2.12/0.3.0+16-548dc10f-SNAPSHOT/maven-met…\n",
            "\u001b[2K    0.0% [          ] 0B (0B / s)\n",
            "\u001b[2A\u001b[10000D\u001b[2Khttps://jitpack.io/sh/almond/channels_2.12/0.3.0+16-548dc10f-SNAPSHOT/maven-met…\n",
            "\u001b[2K    0.0% [          ] 0B (0B / s)\n",
            "\u001b[2A\u001b[10000D\u001b[2Khttps://oss.sonatype.org/content/repositories/snapshots/sh/almond/channels_2.12…\n",
            "\u001b[2K    0.0% [          ] 0B (0B / s)\n",
            "\u001b[2A\u001b[10000D\u001b[2Khttps://oss.sonatype.org/content/repositories/snapshots/sh/almond/channels_2.12…\n",
            "\u001b[2K  100.0% [##########] 2.3 KiB (72.8 KiB / s)\n",
            "\u001b[10000D\u001b[2Khttps://repo1.maven.org/maven2/io/undertow/undertow-parent/2.0.17.Final/underto…\n",
            "\u001b[2K  100.0% [##########] 22.9 KiB (1.3 MiB / s)\n",
            "\u001b[2Khttps://repo1.maven.org/maven2/org/jboss/xnio/xnio-all/3.7.0.Final/xnio-all-3.7…\n",
            "\u001b[2K  100.0% [##########] 6.7 KiB (394.4 KiB / s)\n",
            "\u001b[2Khttps://repo1.maven.org/maven2/org/jline/jline-parent/3.6.2/jline-parent-3.6.2.…\n",
            "\u001b[2K  100.0% [##########] 16.9 KiB (938.5 KiB / s)\n",
            "\u001b[2Khttps://repo1.maven.org/maven2/org/slf4j/slf4j-parent/1.8.0-beta2/slf4j-parent-…\n",
            "\u001b[2K  100.0% [##########] 15.6 KiB (821.1 KiB / s)\n",
            "\u001b[2Khttps://repo1.maven.org/maven2/com/github/javaparser/javaparser-parent/3.2.5/ja…\n",
            "\u001b[2K  100.0% [##########] 9.2 KiB (541.2 KiB / s)\n",
            "\u001b[2A\u001b[10000D\u001b[2Khttps://repo1.maven.org/maven2/com/github/javaparser/javaparser-parent/3.2.5/ja…\n",
            "\u001b[2K  100.0% [##########] 9.2 KiB (255.6 KiB / s)\n",
            "\u001b[10000D\u001b[2Khttps://repo1.maven.org/maven2/org/sonatype/oss/oss-parent/9/oss-parent-9.pom\n",
            "\u001b[2K  100.0% [##########] 6.4 KiB (458.2 KiB / s)\n",
            "\u001b[2Khttps://repo1.maven.org/maven2/org/jboss/jboss-parent/28/jboss-parent-28.pom\n",
            "\u001b[2K    0.0% [          ] 0B (0B / s)\n",
            "\u001b[2A\u001b[10000D\u001b[2Khttps://repo1.maven.org/maven2/org/jboss/jboss-parent/28/jboss-parent-28.pom\n",
            "\u001b[2K  100.0% [##########] 34.0 KiB (1.1 MiB / s)\n",
            "\u001b[10000D\u001b[2Khttps://repo1.maven.org/maven2/org/jboss/jboss-parent/20/jboss-parent-20.pom\n",
            "\u001b[2K  100.0% [##########] 33.1 KiB (2.0 MiB / s)\n",
            "\u001b[10000D\u001b[2Khttps://repo1.maven.org/maven2/com/lihaoyi/os-lib_2.12/0.2.6/os-lib_2.12-0.2.6.…\n",
            "\u001b[2K    0.0% [          ] 0B (0B / s)\n",
            "\u001b[2A\u001b[10000D\u001b[2Khttps://repo1.maven.org/maven2/org/scalameta/scalameta_2.12/4.1.4/scalameta_2.1…\n",
            "\u001b[2K  100.0% [##########] 4.1 KiB (226.6 KiB / s)\n",
            "\u001b[2Khttps://repo1.maven.org/maven2/org/zeromq/jeromq/0.5.0/jeromq-0.5.0.pom\n",
            "\u001b[2K  100.0% [##########] 9.1 KiB (761.5 KiB / s)\n",
            "\u001b[2Khttps://repo1.maven.org/maven2/com/lihaoyi/os-lib_2.12/0.2.6/os-lib_2.12-0.2.6.…\n",
            "\u001b[2K    0.0% [          ] 0B (0B / s)\n",
            "\u001b[2Khttps://repo1.maven.org/maven2/io/get-coursier/coursier-cache_2.12/1.1.0-M7/cou…\n",
            "\u001b[2K    0.0% [          ] 0B (0B / s)\n",
            "\u001b[2Khttps://repo1.maven.org/maven2/com/lihaoyi/requests_2.12/0.1.7/requests_2.12-0.…\n",
            "\u001b[2K    0.0% [          ] 0B (0B / s)\n",
            "\u001b[2Khttps://repo1.maven.org/maven2/org/scalameta/semanticdb-scalac-core_2.12.7/4.1.…\n",
            "\u001b[2K    0.0% [          ] 0B (0B / s)\n",
            "\u001b[2Khttps://repo1.maven.org/maven2/org/jboss/xnio/xnio-api/3.7.0.Final/xnio-api-3.7…\n",
            "\u001b[2K    0.0% [          ] 0B (0B / s)\n",
            "\u001b[2A\u001b[2A\u001b[2A\u001b[2A\u001b[2A\u001b[2A\u001b[10000D\u001b[2Khttps://repo1.maven.org/maven2/com/lihaoyi/os-lib_2.12/0.2.6/os-lib_2.12-0.2.6.…\n",
            "\u001b[2K  100.0% [##########] 1.2 KiB (29.4 KiB / s)\n",
            "\u001b[2Khttps://repo1.maven.org/maven2/io/get-coursier/coursier-cache_2.12/1.1.0-M7/cou…\n",
            "\u001b[2K  100.0% [##########] 1.7 KiB (56.3 KiB / s)\n",
            "\u001b[2Khttps://repo1.maven.org/maven2/org/jboss/xnio/xnio-api/3.7.0.Final/xnio-api-3.7…\n",
            "\u001b[2K  100.0% [##########] 8.5 KiB (403.8 KiB / s)\n",
            "\u001b[2Khttps://repo1.maven.org/maven2/org/scalameta/metabrowse-core_2.12/0.2.2/metabro…\n",
            "\u001b[2K  100.0% [##########] 2.3 KiB (133.9 KiB / s)\n",
            "\u001b[2Khttps://repo1.maven.org/maven2/org/zeromq/jeromq/0.5.0/jeromq-0.5.0.pom\n",
            "\u001b[2K  100.0% [##########] 9.1 KiB (285.6 KiB / s)\n",
            "\u001b[2Khttps://repo1.maven.org/maven2/com/lihaoyi/requests_2.12/0.1.7/requests_2.12-0.…\n",
            "\u001b[2K    0.0% [          ] 0B (0B / s)\n",
            "\u001b[2Khttps://repo1.maven.org/maven2/org/scalameta/semanticdb-scalac-core_2.12.7/4.1.…\n",
            "\u001b[2K    0.0% [          ] 0B (0B / s)\n",
            "\u001b[2A\u001b[2A\u001b[10000D\u001b[2Khttps://repo1.maven.org/maven2/com/lihaoyi/requests_2.12/0.1.7/requests_2.12-0.…\n",
            "\u001b[2K    0.0% [          ] 0B (0B / s)\n",
            "\u001b[2Khttps://repo1.maven.org/maven2/org/scalameta/semanticdb-scalac-core_2.12.7/4.1.…\n",
            "\u001b[2K    0.0% [          ] 0B (0B / s)\n",
            "\u001b[2Khttps://repo1.maven.org/maven2/com/lihaoyi/scalaparse_2.12/2.1.0/scalaparse_2.1…\n",
            "\u001b[2K    0.0% [          ] 0B (0B / s)\n",
            "\u001b[2Khttps://repo1.maven.org/maven2/com/github/pathikrit/better-files_2.12/3.7.0/bet…\n",
            "\u001b[2K    0.0% [          ] 0B (0B / s)\n",
            "\u001b[2Khttps://repo1.maven.org/maven2/org/scala-lang/scala-reflect/2.12.8/scala-reflec…\n",
            "\u001b[2K    0.0% [          ] 0B (0B / s)\n",
            "\u001b[2A\u001b[2A\u001b[2A\u001b[2A\u001b[2A\u001b[10000D\u001b[2Khttps://repo1.maven.org/maven2/org/scala-lang/scala-reflect/2.12.8/scala-reflec…\n",
            "\u001b[2K  100.0% [##########] 1.8 KiB (103.8 KiB / s)\n",
            "\u001b[2Khttps://repo1.maven.org/maven2/com/lihaoyi/scalaparse_2.12/2.1.0/scalaparse_2.1…\n",
            "\u001b[2K  100.0% [##########] 1.2 KiB (54.0 KiB / s)\n",
            "\u001b[2Khttps://repo1.maven.org/maven2/com/github/pathikrit/better-files_2.12/3.7.0/bet…\n",
            "\u001b[2K  100.0% [##########] 2.7 KiB (141.9 KiB / s)\n",
            "\u001b[2Khttps://repo1.maven.org/maven2/com/lihaoyi/requests_2.12/0.1.7/requests_2.12-0.…\n",
            "\u001b[2K    0.0% [          ] 0B (0B / s)\n",
            "\u001b[2Khttps://repo1.maven.org/maven2/org/scalameta/semanticdb-scalac-core_2.12.7/4.1.…\n",
            "\u001b[2K    0.0% [          ] 0B (0B / s)\n",
            "\u001b[2A\u001b[2A\u001b[2A\u001b[2A\u001b[10000D\u001b[2Khttps://repo1.maven.org/maven2/com/github/pathikrit/better-files_2.12/3.7.0/bet…\n",
            "\u001b[2K  100.0% [##########] 2.7 KiB (70.9 KiB / s)\n",
            "\u001b[2Khttps://repo1.maven.org/maven2/com/lihaoyi/requests_2.12/0.1.7/requests_2.12-0.…\n",
            "\u001b[2K  100.0% [##########] 1.2 KiB (13.4 KiB / s)\n",
            "\u001b[2Khttps://repo1.maven.org/maven2/com/lihaoyi/scalaparse_2.12/2.1.0/scalaparse_2.1…\n",
            "\u001b[2K  100.0% [##########] 1.2 KiB (28.2 KiB / s)\n",
            "\u001b[2Khttps://repo1.maven.org/maven2/org/scalameta/semanticdb-scalac-core_2.12.7/4.1.…\n",
            "\u001b[2K    0.0% [          ] 0B (0B / s)\n",
            "\u001b[2Khttps://repo1.maven.org/maven2/org/scala-lang/scala-compiler/2.12.8/scala-compi…\n",
            "\u001b[2K    0.0% [          ] 0B (0B / s)\n",
            "\u001b[2Khttps://repo1.maven.org/maven2/com/lihaoyi/fansi_2.12/0.2.4/fansi_2.12-0.2.4.pom\n",
            "\u001b[2K    0.0% [          ] 0B (0B / s)\n",
            "\u001b[2Khttps://repo1.maven.org/maven2/com/thoughtworks/qdox/qdox/2.0-M9/qdox-2.0-M9.pom\n",
            "\u001b[2K    0.0% [          ] 0B (0B / s)\n",
            "\u001b[2Khttps://repo1.maven.org/maven2/io/argonaut/argonaut_2.12/6.2.2/argonaut_2.12-6.…\n",
            "\u001b[2K    0.0% [          ] 0B (0B / s)\n",
            "\u001b[2Khttps://repo1.maven.org/maven2/org/javassist/javassist/3.21.0-GA/javassist-3.21…\n",
            "\u001b[2K    0.0% [          ] 0B (0B / s)\n",
            "\u001b[2A\u001b[2A\u001b[2A\u001b[2A\u001b[2A\u001b[2A\u001b[10000D\u001b[2Khttps://repo1.maven.org/maven2/com/lihaoyi/fansi_2.12/0.2.4/fansi_2.12-0.2.4.pom\n",
            "\u001b[2K  100.0% [##########] 1.8 KiB (62.5 KiB / s)\n",
            "\u001b[2Khttps://repo1.maven.org/maven2/com/thoughtworks/qdox/qdox/2.0-M9/qdox-2.0-M9.pom\n",
            "\u001b[2K  100.0% [##########] 15.5 KiB (533.5 KiB / s)\n",
            "\u001b[2Khttps://repo1.maven.org/maven2/org/javassist/javassist/3.21.0-GA/javassist-3.21…\n",
            "\u001b[2K  100.0% [##########] 9.6 KiB (343.0 KiB / s)\n",
            "\u001b[2Khttps://repo1.maven.org/maven2/org/scalameta/semanticdb-scalac-core_2.12.7/4.1.…\n",
            "\u001b[2K    0.0% [          ] 0B (0B / s)\n",
            "\u001b[2Khttps://repo1.maven.org/maven2/org/scala-lang/scala-compiler/2.12.8/scala-compi…\n",
            "\u001b[2K    0.0% [          ] 0B (0B / s)\n",
            "\u001b[2Khttps://repo1.maven.org/maven2/io/argonaut/argonaut_2.12/6.2.2/argonaut_2.12-6.…\n",
            "\u001b[2K    0.0% [          ] 0B (0B / s)\n",
            "\u001b[2Khttps://repo1.maven.org/maven2/net/java/dev/jna/jna/4.2.2/jna-4.2.2.pom\n",
            "\u001b[2K    0.0% [          ] 0B (0B / s)\n",
            "\u001b[2A\u001b[2A\u001b[2A\u001b[2A\u001b[2A\u001b[2A\u001b[10000D\u001b[2Khttps://repo1.maven.org/maven2/com/thesamet/scalapb/scalapb-json4s_2.12/0.7.2/s…\n",
            "\u001b[2K  100.0% [##########] 2.6 KiB (175.1 KiB / s)\n",
            "\u001b[2Khttps://repo1.maven.org/maven2/com/thoughtworks/qdox/qdox/2.0-M9/qdox-2.0-M9.pom\n",
            "\u001b[2K  100.0% [##########] 15.5 KiB (315.7 KiB / s)\n",
            "\u001b[2Khttps://repo1.maven.org/maven2/io/argonaut/argonaut_2.12/6.2.2/argonaut_2.12-6.…\n",
            "\u001b[2K  100.0% [##########] 2.4 KiB (48.2 KiB / s)\n",
            "\u001b[2Khttps://repo1.maven.org/maven2/net/java/dev/jna/jna/4.2.2/jna-4.2.2.pom\n",
            "\u001b[2K  100.0% [##########] 1.3 KiB (50.4 KiB / s)\n",
            "\u001b[2Khttps://repo1.maven.org/maven2/org/javassist/javassist/3.21.0-GA/javassist-3.21…\n",
            "\u001b[2K  100.0% [##########] 9.6 KiB (200.1 KiB / s)\n",
            "\u001b[2Khttps://repo1.maven.org/maven2/org/scala-lang/scala-compiler/2.12.8/scala-compi…\n",
            "\u001b[2K  100.0% [##########] 2.2 KiB (44.2 KiB / s)\n",
            "\u001b[2Khttps://repo1.maven.org/maven2/org/scalameta/semanticdb-scalac-core_2.12.7/4.1.…\n",
            "\u001b[2K    0.0% [          ] 0B (0B / s)\n",
            "\u001b[2Khttps://repo1.maven.org/maven2/com/lihaoyi/upickle_2.12/0.7.1/upickle_2.12-0.7.…\n",
            "\u001b[2K    0.0% [          ] 0B (0B / s)\n",
            "\u001b[2Khttps://repo1.maven.org/maven2/org/jboss/logging/jboss-logging/3.3.2.Final/jbos…\n",
            "\u001b[2K    0.0% [          ] 0B (0B / s)\n",
            "\u001b[2Khttps://repo1.maven.org/maven2/com/lihaoyi/pprint_2.12/0.5.2/pprint_2.12-0.5.2.…\n",
            "\u001b[2K    0.0% [          ] 0B (0B / s)\n",
            "\u001b[2A\u001b[2A\u001b[2A\u001b[2A\u001b[10000D\u001b[2Khttps://repo1.maven.org/maven2/com/lihaoyi/upickle_2.12/0.7.1/upickle_2.12-0.7.…\n",
            "\u001b[2K  100.0% [##########] 1.6 KiB (34.9 KiB / s)\n",
            "\u001b[2Khttps://repo1.maven.org/maven2/org/jboss/logging/jboss-logging/3.3.2.Final/jbos…\n",
            "\u001b[2K  100.0% [##########] 6.2 KiB (172.3 KiB / s)\n",
            "\u001b[2Khttps://repo1.maven.org/maven2/com/lihaoyi/pprint_2.12/0.5.2/pprint_2.12-0.5.2.…\n",
            "\u001b[2K  100.0% [##########] 2.6 KiB (89.9 KiB / s)\n",
            "\u001b[2Khttps://repo1.maven.org/maven2/org/scalameta/semanticdb-scalac-core_2.12.7/4.1.…\n",
            "\u001b[2K    0.0% [          ] 0B (0B / s)\n",
            "\u001b[2Khttps://repo1.maven.org/maven2/sh/almond/logger_2.12/0.3.0+16-548dc10f-SNAPSHOT…\n",
            "\u001b[2K    0.0% [          ] 0B (0B / s)\n",
            "\u001b[2A\u001b[2A\u001b[2A\u001b[2A\u001b[10000D\u001b[2Khttps://repo1.maven.org/maven2/org/jboss/logging/jboss-logging/3.3.2.Final/jbos…\n",
            "\u001b[2K  100.0% [##########] 6.2 KiB (112.8 KiB / s)\n",
            "\u001b[2Khttps://repo1.maven.org/maven2/org/scalameta/semanticdb-scalac-core_2.12.7/4.1.…\n",
            "\u001b[2K  100.0% [##########] 3.1 KiB (17.4 KiB / s)\n",
            "\u001b[2Khttps://repo1.maven.org/maven2/com/lihaoyi/pprint_2.12/0.5.2/pprint_2.12-0.5.2.…\n",
            "\u001b[2K  100.0% [##########] 2.6 KiB (53.2 KiB / s)\n",
            "\u001b[2K\u001b[1B\u001b[2K\u001b[1B\u001b[2A\u001b[2A\u001b[10000D\u001b[2Khttps://repo1.maven.org/maven2/com/lihaoyi/pprint_2.12/0.5.2/pprint_2.12-0.5.2.…\n",
            "\u001b[2K  100.0% [##########] 2.6 KiB (42.7 KiB / s)\n",
            "\u001b[2Khttps://repo1.maven.org/maven2/io/get-coursier/coursier_2.12/1.1.0-M7/coursier_…\n",
            "\u001b[2K    0.0% [          ] 0B (0B / s)\n",
            "\u001b[2Khttps://repo1.maven.org/maven2/sh/almond/logger_2.12/0.3.0+16-548dc10f-SNAPSHOT…\n",
            "\u001b[2K    0.0% [          ] 0B (0B / s)\n",
            "\u001b[2A\u001b[2A\u001b[10000D\u001b[2Khttps://repo1.maven.org/maven2/io/get-coursier/coursier_2.12/1.1.0-M7/coursier_…\n",
            "\u001b[2K  100.0% [##########] 1.7 KiB (64.2 KiB / s)\n",
            "\u001b[2K\u001b[1B\u001b[2K\u001b[1B\u001b[2A\u001b[10000D\u001b[2Khttps://jitpack.io/sh/almond/logger_2.12/0.3.0+16-548dc10f-SNAPSHOT/logger_2.12…\n",
            "\u001b[2K    0.0% [          ] 0B (0B / s)\n",
            "\u001b[2A\u001b[10000D\u001b[2Khttps://jitpack.io/sh/almond/logger_2.12/0.3.0+16-548dc10f-SNAPSHOT/maven-metad…\n",
            "\u001b[2K    0.0% [          ] 0B (0B / s)\n",
            "\u001b[2A\u001b[10000D\u001b[2Khttps://jitpack.io/sh/almond/logger_2.12/0.3.0+16-548dc10f-SNAPSHOT/maven-metad…\n",
            "\u001b[2K    0.0% [          ] 0B (0B / s)\n",
            "\u001b[2A\u001b[10000D\u001b[2Khttps://oss.sonatype.org/content/repositories/snapshots/sh/almond/logger_2.12/0…\n",
            "\u001b[2K    0.0% [          ] 0B (0B / s)\n",
            "\u001b[2A\u001b[10000D\u001b[2Khttps://oss.sonatype.org/content/repositories/snapshots/sh/almond/logger_2.12/0…\n",
            "\u001b[2K  100.0% [##########] 2.0 KiB (68.5 KiB / s)\n",
            "\u001b[2Khttps://oss.sonatype.org/content/repositories/snapshots/sh/almond/logger_2.12/0…\n",
            "\u001b[2K    0.0% [          ] 0B (0B / s)\n",
            "\u001b[2A\u001b[10000D\u001b[2K\u001b[1B\u001b[2K\u001b[1B\u001b[2A\u001b[10000D\u001b[2Khttps://repo1.maven.org/maven2/org/jboss/jboss-parent/15/jboss-parent-15.pom\n",
            "\u001b[2K   54.8% [#####     ] 16.9 KiB (1.3 MiB / s)\n",
            "\u001b[2A\u001b[10000D\u001b[2Khttps://repo1.maven.org/maven2/org/jboss/jboss-parent/15/jboss-parent-15.pom\n",
            "\u001b[2K  100.0% [##########] 30.8 KiB (932.8 KiB / s)\n",
            "\u001b[10000D\u001b[2Khttps://repo1.maven.org/maven2/com/google/protobuf/protobuf-java/3.6.1/protobuf…\n",
            "\u001b[2K  100.0% [##########] 4.6 KiB (231.9 KiB / s)\n",
            "\u001b[2Khttps://repo1.maven.org/maven2/org/scala-lang/modules/scala-xml_2.12/1.1.0/scal…\n",
            "\u001b[2K  100.0% [##########] 2.7 KiB (158.1 KiB / s)\n",
            "\u001b[10000D\u001b[2Khttps://repo1.maven.org/maven2/org/wildfly/common/wildfly-common/1.3.0.Final/wi…\n",
            "\u001b[2K  100.0% [##########] 7.2 KiB (402.4 KiB / s)\n",
            "\u001b[2Khttps://repo1.maven.org/maven2/com/lihaoyi/upack_2.12/0.7.1/upack_2.12-0.7.1.pom\n",
            "\u001b[2K  100.0% [##########] 1.2 KiB (102.0 KiB / s)\n",
            "\u001b[2Khttps://repo1.maven.org/maven2/org/scalameta/parsers_2.12/4.1.4/parsers_2.12-4.…\n",
            "\u001b[2K    0.0% [          ] 0B (0B / s)\n",
            "\u001b[2Khttps://repo1.maven.org/maven2/org/jboss/threads/jboss-threads/2.3.0.Beta2/jbos…\n",
            "\u001b[2K    0.0% [          ] 0B (0B / s)\n",
            "\u001b[2Khttps://repo1.maven.org/maven2/org/scalameta/inputs_2.12/4.1.4/inputs_2.12-4.1.…\n",
            "\u001b[2K    0.0% [          ] 0B (0B / s)\n",
            "\u001b[2Khttps://repo1.maven.org/maven2/org/scalameta/io_2.12/4.1.4/io_2.12-4.1.4.pom\n",
            "\u001b[2K    0.0% [          ] 0B (0B / s)\n",
            "\u001b[2Khttps://repo1.maven.org/maven2/org/wildfly/client/wildfly-client-config/1.0.0.F…\n",
            "\u001b[2K    0.0% [          ] 0B (0B / s)\n",
            "\u001b[2A\u001b[2A\u001b[2A\u001b[2A\u001b[2A\u001b[2A\u001b[10000D\u001b[2Khttps://repo1.maven.org/maven2/com/lihaoyi/upack_2.12/0.7.1/upack_2.12-0.7.1.pom\n",
            "\u001b[2K  100.0% [##########] 1.2 KiB (38.2 KiB / s)\n",
            "\u001b[2Khttps://repo1.maven.org/maven2/org/scalameta/inputs_2.12/4.1.4/inputs_2.12-4.1.…\n",
            "\u001b[2K  100.0% [##########] 3.1 KiB (95.3 KiB / s)\n",
            "\u001b[2Khttps://repo1.maven.org/maven2/org/scalameta/io_2.12/4.1.4/io_2.12-4.1.4.pom\n",
            "\u001b[2K  100.0% [##########] 2.7 KiB (80.9 KiB / s)\n",
            "\u001b[2Khttps://repo1.maven.org/maven2/org/scalameta/parsers_2.12/4.1.4/parsers_2.12-4.…\n",
            "\u001b[2K  100.0% [##########] 3.6 KiB (107.9 KiB / s)\n",
            "\u001b[2Khttps://repo1.maven.org/maven2/org/scalameta/quasiquotes_2.12/4.1.4/quasiquotes…\n",
            "\u001b[2K  100.0% [##########] 3.8 KiB (211.3 KiB / s)\n",
            "\u001b[2Khttps://repo1.maven.org/maven2/org/wildfly/client/wildfly-client-config/1.0.0.F…\n",
            "\u001b[2K  100.0% [##########] 7.0 KiB (269.2 KiB / s)\n",
            "\u001b[2Khttps://repo1.maven.org/maven2/org/jboss/threads/jboss-threads/2.3.0.Beta2/jbos…\n",
            "\u001b[2K  100.0% [##########] 4.5 KiB (136.6 KiB / s)\n",
            "\u001b[2Khttps://repo1.maven.org/maven2/com/thesamet/scalapb/scalapb-runtime_2.12/0.8.4/…\n",
            "\u001b[2K    0.0% [          ] 0B (0B / s)\n",
            "\u001b[2Khttps://repo1.maven.org/maven2/com/lihaoyi/fastparse_2.12/2.1.0/fastparse_2.12-…\n",
            "\u001b[2K    0.0% [          ] 0B (0B / s)\n",
            "\u001b[2Khttps://repo1.maven.org/maven2/com/lihaoyi/geny_2.12/0.1.5/geny_2.12-0.1.5.pom\n",
            "\u001b[2K    0.0% [          ] 0B (0B / s)\n",
            "\u001b[2Khttps://repo1.maven.org/maven2/org/scalameta/transversers_2.12/4.1.4/transverse…\n",
            "\u001b[2K    0.0% [          ] 0B (0B / s)\n",
            "\u001b[2A\u001b[2A\u001b[2A\u001b[2A\u001b[2A\u001b[10000D\u001b[2Khttps://repo1.maven.org/maven2/com/thesamet/scalapb/scalapb-runtime_2.12/0.8.4/…\n",
            "\u001b[2K  100.0% [##########] 3.0 KiB (93.9 KiB / s)\n",
            "\u001b[2Khttps://repo1.maven.org/maven2/org/jboss/threads/jboss-threads/2.3.0.Beta2/jbos…\n",
            "\u001b[2K  100.0% [##########] 4.5 KiB (86.7 KiB / s)\n",
            "\u001b[2Khttps://repo1.maven.org/maven2/com/lihaoyi/fastparse_2.12/2.1.0/fastparse_2.12-…\n",
            "\u001b[2K  100.0% [##########] 1.2 KiB (42.7 KiB / s)\n",
            "\u001b[2Khttps://repo1.maven.org/maven2/com/lihaoyi/geny_2.12/0.1.5/geny_2.12-0.1.5.pom\n",
            "\u001b[2K  100.0% [##########] 1.5 KiB (53.6 KiB / s)\n",
            "\u001b[2Khttps://repo1.maven.org/maven2/org/scalameta/transversers_2.12/4.1.4/transverse…\n",
            "\u001b[2K    0.0% [          ] 0B (0B / s)\n",
            "\u001b[2A\u001b[2A\u001b[2A\u001b[10000D\u001b[2Khttps://repo1.maven.org/maven2/com/lihaoyi/fastparse_2.12/2.1.0/fastparse_2.12-…\n",
            "\u001b[2K  100.0% [##########] 1.2 KiB (25.3 KiB / s)\n",
            "\u001b[2Khttps://repo1.maven.org/maven2/com/lihaoyi/upickle-implicits_2.12/0.7.1/upickle…\n",
            "\u001b[2K  100.0% [##########] 1.8 KiB (39.3 KiB / s)\n",
            "\u001b[2Khttps://repo1.maven.org/maven2/org/scalameta/transversers_2.12/4.1.4/transverse…\n",
            "\u001b[2K  100.0% [##########] 3.1 KiB (75.9 KiB / s)\n",
            "\u001b[2Khttps://repo1.maven.org/maven2/com/lihaoyi/geny_2.12/0.1.5/geny_2.12-0.1.5.pom\n",
            "\u001b[2K  100.0% [##########] 1.5 KiB (31.3 KiB / s)\n",
            "\u001b[2Khttps://repo1.maven.org/maven2/org/scalameta/dialects_2.12/4.1.4/dialects_2.12-…\n",
            "\u001b[2K    0.0% [          ] 0B (0B / s)\n",
            "\u001b[2A\u001b[2A\u001b[10000D\u001b[2Khttps://repo1.maven.org/maven2/com/lihaoyi/geny_2.12/0.1.5/geny_2.12-0.1.5.pom\n",
            "\u001b[2K  100.0% [##########] 1.5 KiB (21.8 KiB / s)\n",
            "\u001b[2Khttps://repo1.maven.org/maven2/org/scalameta/dialects_2.12/4.1.4/dialects_2.12-…\n",
            "\u001b[2K  100.0% [##########] 2.9 KiB (102.7 KiB / s)\n",
            "\u001b[2Khttps://repo1.maven.org/maven2/eu/neilalexander/jnacl/1.0.0/jnacl-1.0.0.pom\n",
            "\u001b[2K  100.0% [##########] 6.5 KiB (360.1 KiB / s)\n",
            "\u001b[2Khttps://repo1.maven.org/maven2/org/scalameta/common_2.12/4.1.4/common_2.12-4.1.…\n",
            "\u001b[2K    0.0% [          ] 0B (0B / s)\n",
            "\u001b[2Khttps://repo1.maven.org/maven2/org/scalameta/metacp_2.12/4.1.4/metacp_2.12-4.1.…\n",
            "\u001b[2K    0.0% [          ] 0B (0B / s)\n",
            "\u001b[2Khttps://repo1.maven.org/maven2/org/scalameta/trees_2.12/4.1.4/trees_2.12-4.1.4.…\n",
            "\u001b[2K    0.0% [          ] 0B (0B / s)\n",
            "\u001b[2A\u001b[2A\u001b[2A\u001b[2A\u001b[10000D\u001b[2Khttps://repo1.maven.org/maven2/eu/neilalexander/jnacl/1.0.0/jnacl-1.0.0.pom\n",
            "\u001b[2K  100.0% [##########] 6.5 KiB (175.2 KiB / s)\n",
            "\u001b[2Khttps://repo1.maven.org/maven2/org/scalameta/common_2.12/4.1.4/common_2.12-4.1.…\n",
            "\u001b[2K    0.0% [          ] 0B (0B / s)\n",
            "\u001b[2Khttps://repo1.maven.org/maven2/org/scalameta/metacp_2.12/4.1.4/metacp_2.12-4.1.…\n",
            "\u001b[2K    0.0% [          ] 0B (0B / s)\n",
            "\u001b[2Khttps://repo1.maven.org/maven2/org/scalameta/trees_2.12/4.1.4/trees_2.12-4.1.4.…\n",
            "\u001b[2K    0.0% [          ] 0B (0B / s)\n",
            "\u001b[2A\u001b[2A\u001b[2A\u001b[10000D\u001b[2Khttps://repo1.maven.org/maven2/org/scalameta/metacp_2.12/4.1.4/metacp_2.12-4.1.…\n",
            "\u001b[2K  100.0% [##########] 3.2 KiB (61.6 KiB / s)\n",
            "\u001b[2Khttps://repo1.maven.org/maven2/org/scalameta/trees_2.12/4.1.4/trees_2.12-4.1.4.…\n",
            "\u001b[2K  100.0% [##########] 3.6 KiB (81.1 KiB / s)\n",
            "\u001b[2Khttps://repo1.maven.org/maven2/org/scalameta/common_2.12/4.1.4/common_2.12-4.1.…\n",
            "\u001b[2K    0.0% [          ] 0B (0B / s)\n",
            "\u001b[2Khttps://repo1.maven.org/maven2/org/json4s/json4s-jackson_2.12/3.6.2/json4s-jack…\n",
            "\u001b[2K    0.0% [          ] 0B (0B / s)\n",
            "\u001b[2Khttps://repo1.maven.org/maven2/com/lihaoyi/ujson_2.12/0.7.1/ujson_2.12-0.7.1.pom\n",
            "\u001b[2K    0.0% [          ] 0B (0B / s)\n",
            "\u001b[2A\u001b[2A\u001b[2A\u001b[10000D\u001b[2Khttps://repo1.maven.org/maven2/com/lihaoyi/ujson_2.12/0.7.1/ujson_2.12-0.7.1.pom\n",
            "\u001b[2K  100.0% [##########] 1.2 KiB (35.0 KiB / s)\n",
            "\u001b[2Khttps://repo1.maven.org/maven2/org/json4s/json4s-jackson_2.12/3.6.2/json4s-jack…\n",
            "\u001b[2K  100.0% [##########] 2.0 KiB (54.8 KiB / s)\n",
            "\u001b[2Khttps://repo1.maven.org/maven2/org/scalameta/common_2.12/4.1.4/common_2.12-4.1.…\n",
            "\u001b[2K  100.0% [##########] 3.1 KiB (43.1 KiB / s)\n",
            "\u001b[2Khttps://repo1.maven.org/maven2/org/scalameta/tokenizers_2.12/4.1.4/tokenizers_2…\n",
            "\u001b[2K  100.0% [##########] 3.6 KiB (225.7 KiB / s)\n",
            "\u001b[10000D\u001b[2Khttps://repo1.maven.org/maven2/com/google/protobuf/protobuf-parent/3.6.1/protob…\n",
            "\u001b[2K    0.0% [          ] 0B (0B / s)\n",
            "\u001b[2Khttps://repo1.maven.org/maven2/org/jboss/jboss-parent/24/jboss-parent-24.pom\n",
            "\u001b[2K    0.0% [          ] 0B (0B / s)\n",
            "\u001b[2A\u001b[2A\u001b[10000D\u001b[2Khttps://repo1.maven.org/maven2/com/google/protobuf/protobuf-parent/3.6.1/protob…\n",
            "\u001b[2K  100.0% [##########] 6.4 KiB (267.5 KiB / s)\n",
            "\u001b[2Khttps://repo1.maven.org/maven2/org/jboss/jboss-parent/24/jboss-parent-24.pom\n",
            "\u001b[2K  100.0% [##########] 35.1 KiB (1.5 MiB / s)\n",
            "\u001b[2Khttps://repo1.maven.org/maven2/org/jboss/jboss-parent/23/jboss-parent-23.pom\n",
            "\u001b[2K    0.0% [          ] 0B (0B / s)\n",
            "\u001b[2A\u001b[10000D\u001b[2Khttps://repo1.maven.org/maven2/org/jboss/jboss-parent/23/jboss-parent-23.pom\n",
            "\u001b[2K  100.0% [##########] 34.6 KiB (1.3 MiB / s)\n",
            "\u001b[2Khttps://repo1.maven.org/maven2/com/google/google/1/google-1.pom\n",
            "\u001b[2K    0.0% [          ] 0B (0B / s)\n",
            "\u001b[2A\u001b[10000D\u001b[2Khttps://repo1.maven.org/maven2/com/google/google/1/google-1.pom\n",
            "\u001b[2K  100.0% [##########] 1.5 KiB (56.2 KiB / s)\n",
            "\u001b[10000D\u001b[2Khttps://repo1.maven.org/maven2/com/lihaoyi/acyclic_2.12/0.1.5/acyclic_2.12-0.1.…\n",
            "\u001b[2K  100.0% [##########] 2.0 KiB (100.0 KiB / s)\n",
            "\u001b[2Khttps://repo1.maven.org/maven2/com/thesamet/scalapb/lenses_2.12/0.8.4/lenses_2.…\n",
            "\u001b[2K  100.0% [##########] 1.6 KiB (81.3 KiB / s)\n",
            "\u001b[2Khttps://repo1.maven.org/maven2/org/json4s/json4s-core_2.12/3.6.2/json4s-core_2.…\n",
            "\u001b[2K  100.0% [##########] 2.1 KiB (112.1 KiB / s)\n",
            "\u001b[2Khttps://repo1.maven.org/maven2/org/scala-lang/scalap/2.12.8/scalap-2.12.8.pom\n",
            "\u001b[2K  100.0% [##########] 1.6 KiB (125.0 KiB / s)\n",
            "\u001b[2Khttps://repo1.maven.org/maven2/org/scalameta/cli_2.12/4.1.4/cli_2.12-4.1.4.pom\n",
            "\u001b[2K  100.0% [##########] 2.5 KiB (132.3 KiB / s)\n",
            "\u001b[2Khttps://repo1.maven.org/maven2/org/scalameta/tokens_2.12/4.1.4/tokens_2.12-4.1.…\n",
            "\u001b[2K  100.0% [##########] 3.3 KiB (181.3 KiB / s)\n",
            "\u001b[2Khttps://repo1.maven.org/maven2/com/lihaoyi/upickle-core_2.12/0.7.1/upickle-core…\n",
            "\u001b[2K    0.0% [          ] 0B (0B / s)\n",
            "\u001b[2Khttps://repo1.maven.org/maven2/org/scalameta/fastparse_2.12/1.0.0/fastparse_2.1…\n",
            "\u001b[2K    0.0% [          ] 0B (0B / s)\n",
            "\u001b[2Khttps://repo1.maven.org/maven2/com/lihaoyi/utest_2.12/0.6.4/utest_2.12-0.6.4.pom\n",
            "\u001b[2K    0.0% [          ] 0B (0B / s)\n",
            "\u001b[2Khttps://repo1.maven.org/maven2/com/fasterxml/jackson/core/jackson-databind/2.9.…\n",
            "\u001b[2K    0.0% [          ] 0B (0B / s)\n",
            "\u001b[2Khttps://repo1.maven.org/maven2/com/lihaoyi/sourcecode_2.12/0.1.5/sourcecode_2.1…\n",
            "\u001b[2K    0.0% [          ] 0B (0B / s)\n",
            "\u001b[2A\u001b[2A\u001b[2A\u001b[2A\u001b[2A\u001b[10000D\u001b[2Khttps://repo1.maven.org/maven2/com/fasterxml/jackson/core/jackson-databind/2.9.…\n",
            "\u001b[2K  100.0% [##########] 6.2 KiB (246.4 KiB / s)\n",
            "\u001b[2Khttps://repo1.maven.org/maven2/com/lihaoyi/sourcecode_2.12/0.1.5/sourcecode_2.1…\n",
            "\u001b[2K  100.0% [##########] 2.0 KiB (86.8 KiB / s)\n",
            "\u001b[2Khttps://repo1.maven.org/maven2/org/scalameta/fastparse_2.12/1.0.0/fastparse_2.1…\n",
            "\u001b[2K  100.0% [##########] 2.5 KiB (83.7 KiB / s)\n",
            "\u001b[2Khttps://repo1.maven.org/maven2/com/lihaoyi/upickle-core_2.12/0.7.1/upickle-core…\n",
            "\u001b[2K    0.0% [          ] 0B (0B / s)\n",
            "\u001b[2Khttps://repo1.maven.org/maven2/com/lihaoyi/utest_2.12/0.6.4/utest_2.12-0.6.4.pom\n",
            "\u001b[2K    0.0% [          ] 0B (0B / s)\n",
            "\u001b[2A\u001b[2A\u001b[10000D\u001b[2Khttps://repo1.maven.org/maven2/com/lihaoyi/upickle-core_2.12/0.7.1/upickle-core…\n",
            "\u001b[2K    0.0% [          ] 0B (0B / s)\n",
            "\u001b[2Khttps://repo1.maven.org/maven2/com/lihaoyi/utest_2.12/0.6.4/utest_2.12-0.6.4.pom\n",
            "\u001b[2K    0.0% [          ] 0B (0B / s)\n",
            "\u001b[2Khttps://repo1.maven.org/maven2/org/scalameta/semanticdb_2.12/4.1.4/semanticdb_2…\n",
            "\u001b[2K    0.0% [          ] 0B (0B / s)\n",
            "\u001b[2A\u001b[2A\u001b[2A\u001b[10000D\u001b[2Khttps://repo1.maven.org/maven2/com/lihaoyi/upickle-core_2.12/0.7.1/upickle-core…\n",
            "\u001b[2K  100.0% [##########] 1.1 KiB (13.8 KiB / s)\n",
            "\u001b[2Khttps://repo1.maven.org/maven2/com/lihaoyi/utest_2.12/0.6.4/utest_2.12-0.6.4.pom\n",
            "\u001b[2K  100.0% [##########] 2.3 KiB (33.9 KiB / s)\n",
            "\u001b[2Khttps://repo1.maven.org/maven2/org/scalameta/semanticdb_2.12/4.1.4/semanticdb_2…\n",
            "\u001b[2K  100.0% [##########] 2.7 KiB (81.3 KiB / s)\n",
            "\u001b[10000D\u001b[2Khttps://repo1.maven.org/maven2/com/fasterxml/jackson/jackson-base/2.9.6/jackson…\n",
            "\u001b[2K    0.0% [          ] 0B (0B / s)\n",
            "\u001b[2A\u001b[10000D\u001b[2Khttps://repo1.maven.org/maven2/com/fasterxml/jackson/jackson-base/2.9.6/jackson…\n",
            "\u001b[2K  100.0% [##########] 5.2 KiB (249.7 KiB / s)\n",
            "\u001b[2Khttps://repo1.maven.org/maven2/com/fasterxml/jackson/jackson-bom/2.9.6/jackson-…\n",
            "\u001b[2K  100.0% [##########] 12.0 KiB (1.1 MiB / s)\n",
            "\u001b[10000D\u001b[2Khttps://repo1.maven.org/maven2/com/fasterxml/jackson/jackson-parent/2.9.1.1/jac…\n",
            "\u001b[2K  100.0% [##########] 7.8 KiB (460.9 KiB / s)\n",
            "\u001b[2Khttps://repo1.maven.org/maven2/com/fasterxml/oss-parent/33/oss-parent-33.pom\n",
            "\u001b[2K    0.0% [          ] 0B (0B / s)\n",
            "\u001b[2A\u001b[10000D\u001b[2Khttps://repo1.maven.org/maven2/com/fasterxml/oss-parent/33/oss-parent-33.pom\n",
            "\u001b[2K  100.0% [##########] 21.3 KiB (887.9 KiB / s)\n",
            "\u001b[10000D\u001b[2Khttps://repo1.maven.org/maven2/org/json4s/json4s-scalap_2.12/3.6.2/json4s-scala…\n",
            "\u001b[2K  100.0% [##########] 1.6 KiB (146.6 KiB / s)\n",
            "\u001b[2Khttps://repo1.maven.org/maven2/org/scala-sbt/test-interface/1.0/test-interface-…\n",
            "\u001b[2K  100.0% [##########] 1.7 KiB (153.4 KiB / s)\n",
            "\u001b[2Khttps://repo1.maven.org/maven2/org/json4s/json4s-ast_2.12/3.6.2/json4s-ast_2.12…\n",
            "\u001b[2K  100.0% [##########] 1.6 KiB (145.8 KiB / s)\n",
            "\u001b[2Khttps://repo1.maven.org/maven2/com/thoughtworks/paranamer/paranamer/2.8/paranam…\n",
            "\u001b[2K    0.0% [          ] 0B (0B / s)\n",
            "\u001b[2Khttps://repo1.maven.org/maven2/com/fasterxml/jackson/core/jackson-core/2.9.6/ja…\n",
            "\u001b[2K    0.0% [          ] 0B (0B / s)\n",
            "\u001b[2Khttps://repo1.maven.org/maven2/com/fasterxml/jackson/core/jackson-annotations/2…\n",
            "\u001b[2K    0.0% [          ] 0B (0B / s)\n",
            "\u001b[2A\u001b[2A\u001b[2A\u001b[2A\u001b[10000D\u001b[2Khttps://repo1.maven.org/maven2/com/fasterxml/jackson/core/jackson-core/2.9.6/ja…\n",
            "\u001b[2K  100.0% [##########] 4.0 KiB (132.2 KiB / s)\n",
            "\u001b[2Khttps://repo1.maven.org/maven2/com/thoughtworks/paranamer/paranamer/2.8/paranam…\n",
            "\u001b[2K  100.0% [##########] 5.2 KiB (171.7 KiB / s)\n",
            "\u001b[2Khttps://repo1.maven.org/maven2/org/json4s/json4s-ast_2.12/3.6.2/json4s-ast_2.12…\n",
            "\u001b[2K  100.0% [##########] 1.6 KiB (53.5 KiB / s)\n",
            "\u001b[2Khttps://repo1.maven.org/maven2/org/scalameta/fastparse-utils_2.12/1.0.0/fastpar…\n",
            "\u001b[2K  100.0% [##########] 2.3 KiB (138.2 KiB / s)\n",
            "\u001b[2Khttps://repo1.maven.org/maven2/com/fasterxml/jackson/core/jackson-annotations/2…\n",
            "\u001b[2K    0.0% [          ] 0B (0B / s)\n",
            "\u001b[2A\u001b[10000D\u001b[2Khttps://repo1.maven.org/maven2/com/fasterxml/jackson/core/jackson-annotations/2…\n",
            "\u001b[2K  100.0% [##########] 1.9 KiB (38.7 KiB / s)\n",
            "\u001b[2Khttps://repo1.maven.org/maven2/com/thoughtworks/paranamer/paranamer-parent/2.8/…\n",
            "\u001b[2K  100.0% [##########] 11.3 KiB (1.6 MiB / s)\n",
            "\u001b[2Khttps://repo1.maven.org/maven2/com/fasterxml/jackson/jackson-parent/2.9.0/jacks…\n",
            "\u001b[2K    0.0% [          ] 0B (0B / s)\n",
            "\u001b[2A\u001b[10000D\u001b[2Khttps://repo1.maven.org/maven2/com/fasterxml/jackson/jackson-parent/2.9.0/jacks…\n",
            "\u001b[2K  100.0% [##########] 7.6 KiB (318.4 KiB / s)\n",
            "\u001b[2Khttps://repo1.maven.org/maven2/com/fasterxml/oss-parent/28/oss-parent-28.pom\n",
            "\u001b[2K  100.0% [##########] 19.5 KiB (1.6 MiB / s)\n",
            "\u001b[10000D\u001b[2Khttps://repo1.maven.org/maven2/org/scalameta/tokens_2.12/4.1.4/tokens_2.12-4.1.…\n",
            "\u001b[2K    0.0% [          ] 0B (0B / s)\n",
            "\u001b[2Khttps://repo1.maven.org/maven2/org/scalameta/tokenizers_2.12/4.1.4/tokenizers_2…\n",
            "\u001b[2K    0.0% [          ] 0B (0B / s)\n",
            "\u001b[2Khttps://repo1.maven.org/maven2/org/javassist/javassist/3.21.0-GA/javassist-3.21…\n",
            "\u001b[2K    0.0% [          ] 0B (0B / s)\n",
            "\u001b[2Khttps://repo1.maven.org/maven2/org/scalameta/trees_2.12/4.1.4/trees_2.12-4.1.4.…\n",
            "\u001b[2K    0.0% [          ] 0B (0B / s)\n",
            "\u001b[2Khttps://repo1.maven.org/maven2/org/scalameta/dialects_2.12/4.1.4/dialects_2.12-…\n",
            "\u001b[2K    0.0% [          ] 0B (0B / s)\n",
            "\u001b[2Khttps://repo1.maven.org/maven2/org/scalameta/common_2.12/4.1.4/common_2.12-4.1.…\n",
            "\u001b[2K    0.0% [          ] 0B (0B / s)\n",
            "\u001b[2A\u001b[2A\u001b[2A\u001b[2A\u001b[2A\u001b[2A\u001b[10000D\u001b[2Khttps://repo1.maven.org/maven2/org/javassist/javassist/3.21.0-GA/javassist-3.21…\n",
            "\u001b[2K  100.0% [##########] 512.3 KiB (20.0 MiB / s)\n",
            "\u001b[2Khttps://repo1.maven.org/maven2/org/scalameta/tokenizers_2.12/4.1.4/tokenizers_2…\n",
            "\u001b[2K  100.0% [##########] 25.2 KiB (899.2 KiB / s)\n",
            "\u001b[2Khttps://repo1.maven.org/maven2/org/scalameta/common_2.12/4.1.4/common_2.12-4.1.…\n",
            "\u001b[2K   63.8% [######    ] 504.6 KiB (20.5 MiB / s)\n",
            "\u001b[2Khttps://repo1.maven.org/maven2/org/scalameta/trees_2.12/4.1.4/trees_2.12-4.1.4.…\n",
            "\u001b[2K   19.0% [#         ] 472.6 KiB (19.2 MiB / s)\n",
            "\u001b[2Khttps://repo1.maven.org/maven2/org/scalameta/tokens_2.12/4.1.4/tokens_2.12-4.1.…\n",
            "\u001b[2K    0.0% [          ] 0B (0B / s)\n",
            "\u001b[2Khttps://repo1.maven.org/maven2/org/scalameta/dialects_2.12/4.1.4/dialects_2.12-…\n",
            "\u001b[2K    0.0% [          ] 0B (0B / s)\n",
            "\u001b[2Khttps://repo1.maven.org/maven2/org/scala-lang/scala-compiler/2.12.8/scala-compi…\n",
            "\u001b[2K    0.0% [          ] 0B (0B / s)\n",
            "\u001b[2Khttps://repo1.maven.org/maven2/org/scala-lang/scala-reflect/2.12.8/scala-reflec…\n",
            "\u001b[2K    0.0% [          ] 0B (0B / s)\n",
            "\u001b[2A\u001b[2A\u001b[2A\u001b[2A\u001b[2A\u001b[2A\u001b[10000D\u001b[2Khttps://repo1.maven.org/maven2/org/scalameta/common_2.12/4.1.4/common_2.12-4.1.…\n",
            "\u001b[2K  100.0% [##########] 790.8 KiB (17.6 MiB / s)\n",
            "\u001b[2Khttps://repo1.maven.org/maven2/org/scalameta/tokens_2.12/4.1.4/tokens_2.12-4.1.…\n",
            "\u001b[2K  100.0% [##########] 9.6 KiB (200.5 KiB / s)\n",
            "\u001b[2Khttps://repo1.maven.org/maven2/org/scala-lang/scala-reflect/2.12.8/scala-reflec…\n",
            "\u001b[2K   61.2% [######    ] 367.5 KiB (16.3 MiB / s)\n",
            "\u001b[2Khttps://repo1.maven.org/maven2/org/scala-lang/scala-compiler/2.12.8/scala-compi…\n",
            "\u001b[2K   26.4% [##        ] 488.6 KiB (14.5 MiB / s)\n",
            "\u001b[2Khttps://repo1.maven.org/maven2/org/scalameta/trees_2.12/4.1.4/trees_2.12-4.1.4.…\n",
            "\u001b[2K   19.0% [#         ] 472.6 KiB (10.5 MiB / s)\n",
            "\u001b[2Khttps://repo1.maven.org/maven2/org/scalameta/dialects_2.12/4.1.4/dialects_2.12-…\n",
            "\u001b[2K    0.0% [          ] 0B (0B / s)\n",
            "\u001b[2Khttps://repo1.maven.org/maven2/org/scala-lang/modules/scala-xml_2.12/1.1.0/scal…\n",
            "\u001b[2K    0.0% [          ] 0B (0B / s)\n",
            "\u001b[2Khttps://repo1.maven.org/maven2/org/scodec/scodec-bits_2.12/1.1.9/scodec-bits_2.…\n",
            "\u001b[2K    0.0% [          ] 0B (0B / s)\n",
            "\u001b[2A\u001b[2A\u001b[2A\u001b[2A\u001b[2A\u001b[2A\u001b[10000D\u001b[2Khttps://repo1.maven.org/maven2/org/scalameta/dialects_2.12/4.1.4/dialects_2.12-…\n",
            "\u001b[2K  100.0% [##########] 24.5 KiB (335.9 KiB / s)\n",
            "\u001b[2Khttps://repo1.maven.org/maven2/org/scala-lang/scala-reflect/2.12.8/scala-reflec…\n",
            "\u001b[2K  100.0% [##########] 601.0 KiB (12.5 MiB / s)\n",
            "\u001b[2Khttps://repo1.maven.org/maven2/org/scala-lang/modules/scala-xml_2.12/1.1.0/scal…\n",
            "\u001b[2K   59.6% [#####     ] 64.0 KiB (2.1 MiB / s)\n",
            "\u001b[2Khttps://repo1.maven.org/maven2/org/scala-lang/scala-compiler/2.12.8/scala-compi…\n",
            "\u001b[2K   26.4% [##        ] 488.6 KiB (8.1 MiB / s)\n",
            "\u001b[2Khttps://repo1.maven.org/maven2/org/scalameta/trees_2.12/4.1.4/trees_2.12-4.1.4.…\n",
            "\u001b[2K   22.9% [##        ] 568.6 KiB (7.9 MiB / s)\n",
            "\u001b[2Khttps://repo1.maven.org/maven2/org/scodec/scodec-bits_2.12/1.1.9/scodec-bits_2.…\n",
            "\u001b[2K    0.0% [          ] 0B (0B / s)\n",
            "\u001b[2Khttps://repo1.maven.org/maven2/org/scalameta/semanticdb-scalac-core_2.12.7/4.1.…\n",
            "\u001b[2K    0.0% [          ] 0B (0B / s)\n",
            "\u001b[2A\u001b[2A\u001b[2A\u001b[2A\u001b[2A\u001b[2A\u001b[10000D\u001b[2Khttps://repo1.maven.org/maven2/org/scala-lang/modules/scala-xml_2.12/1.1.0/scal…\n",
            "\u001b[2K  100.0% [##########] 107.3 KiB (2.3 MiB / s)\n",
            "\u001b[2Khttps://repo1.maven.org/maven2/org/scala-lang/scala-reflect/2.12.8/scala-reflec…\n",
            "\u001b[2K  100.0% [##########] 601.0 KiB (9.5 MiB / s)\n",
            "\u001b[2Khttps://repo1.maven.org/maven2/org/scalameta/semanticdb-scalac-core_2.12.7/4.1.…\n",
            "\u001b[2K  100.0% [##########] 251.7 KiB (6.8 MiB / s)\n",
            "\u001b[2Khttps://repo1.maven.org/maven2/org/scalameta/trees_2.12/4.1.4/trees_2.12-4.1.4.…\n",
            "\u001b[2K   33.2% [###       ] 824.6 KiB (9.6 MiB / s)\n",
            "\u001b[2Khttps://repo1.maven.org/maven2/org/scala-lang/scala-compiler/2.12.8/scala-compi…\n",
            "\u001b[2K   32.4% [###       ] 600.6 KiB (8.0 MiB / s)\n",
            "\u001b[2Khttps://repo1.maven.org/maven2/org/scodec/scodec-bits_2.12/1.1.9/scodec-bits_2.…\n",
            "\u001b[2K    0.0% [          ] 0B (0B / s)\n",
            "\u001b[2Khttps://repo1.maven.org/maven2/org/scalameta/quasiquotes_2.12/4.1.4/quasiquotes…\n",
            "\u001b[2K    0.0% [          ] 0B (0B / s)\n",
            "\u001b[2Khttps://repo1.maven.org/maven2/org/scalameta/metabrowse-cli_2.12/0.2.2/metabrow…\n",
            "\u001b[2K    0.0% [          ] 0B (0B / s)\n",
            "\u001b[2Khttps://repo1.maven.org/maven2/com/lihaoyi/requests_2.12/0.1.7/requests_2.12-0.…\n",
            "\u001b[2K    0.0% [          ] 0B (0B / s)\n",
            "\u001b[2A\u001b[2A\u001b[2A\u001b[2A\u001b[2A\u001b[2A\u001b[10000D\u001b[2Khttps://repo1.maven.org/maven2/org/scalameta/quasiquotes_2.12/4.1.4/quasiquotes…\n",
            "\u001b[2K  100.0% [##########] 173.1 KiB (5.0 MiB / s)\n",
            "\u001b[2Khttps://repo1.maven.org/maven2/org/scodec/scodec-bits_2.12/1.1.9/scodec-bits_2.…\n",
            "\u001b[2K  100.0% [##########] 239.5 KiB (3.8 MiB / s)\n",
            "\u001b[2Khttps://repo1.maven.org/maven2/org/scala-lang/scala-compiler/2.12.8/scala-compi…\n",
            "\u001b[2K   62.6% [######    ] 1.1 MiB (12.2 MiB / s)\n",
            "\u001b[2Khttps://repo1.maven.org/maven2/org/scalameta/trees_2.12/4.1.4/trees_2.12-4.1.4.…\n",
            "\u001b[2K   53.4% [#####     ] 1.3 MiB (12.4 MiB / s)\n",
            "\u001b[2Khttps://repo1.maven.org/maven2/com/lihaoyi/requests_2.12/0.1.7/requests_2.12-0.…\n",
            "\u001b[2K   46.6% [####      ] 47.5 KiB (1.8 MiB / s)\n",
            "\u001b[2Khttps://repo1.maven.org/maven2/org/scalameta/metabrowse-cli_2.12/0.2.2/metabrow…\n",
            "\u001b[2K    9.5% [          ] 143.5 KiB (5.0 MiB / s)\n",
            "\u001b[2Khttps://repo1.maven.org/maven2/io/get-coursier/coursier_2.12/1.1.0-M7/coursier_…\n",
            "\u001b[2K    0.0% [          ] 0B (0B / s)\n",
            "\u001b[2Khttps://repo1.maven.org/maven2/com/thoughtworks/paranamer/paranamer/2.8/paranam…\n",
            "\u001b[2K    0.0% [          ] 0B (0B / s)\n",
            "\u001b[2A\u001b[2A\u001b[2A\u001b[2A\u001b[2A\u001b[2A\u001b[10000D\u001b[2Khttps://repo1.maven.org/maven2/com/lihaoyi/requests_2.12/0.1.7/requests_2.12-0.…\n",
            "\u001b[2K  100.0% [##########] 102.0 KiB (2.0 MiB / s)\n",
            "\u001b[2Khttps://repo1.maven.org/maven2/com/thoughtworks/paranamer/paranamer/2.8/paranam…\n",
            "\u001b[2K  100.0% [##########] 26.5 KiB (946.0 KiB / s)\n",
            "\u001b[2Khttps://repo1.maven.org/maven2/org/jline/jline-terminal/3.6.2/jline-terminal-3.…\n",
            "\u001b[2K   72.7% [#######   ] 144.0 KiB (6.7 MiB / s)\n",
            "\u001b[2Khttps://repo1.maven.org/maven2/org/scala-lang/scala-compiler/2.12.8/scala-compi…\n",
            "\u001b[2K   71.3% [#######   ] 1.3 MiB (11.1 MiB / s)\n",
            "\u001b[2Khttps://repo1.maven.org/maven2/org/scala-lang/scalap/2.12.8/scalap-2.12.8.jar\n",
            "\u001b[2K   67.1% [######    ] 335.5 KiB (16.4 MiB / s)\n",
            "\u001b[2Khttps://repo1.maven.org/maven2/org/scalameta/trees_2.12/4.1.4/trees_2.12-4.1.4.…\n",
            "\u001b[2K   60.4% [######    ] 1.5 MiB (11.5 MiB / s)\n",
            "\u001b[2Khttps://repo1.maven.org/maven2/org/scalameta/metabrowse-cli_2.12/0.2.2/metabrow…\n",
            "\u001b[2K   31.3% [###       ] 472.6 KiB (9.0 MiB / s)\n",
            "\u001b[2Khttps://repo1.maven.org/maven2/io/get-coursier/coursier_2.12/1.1.0-M7/coursier_…\n",
            "\u001b[2K   15.4% [#         ] 224.0 KiB (6.6 MiB / s)\n",
            "\u001b[2A\u001b[2A\u001b[2A\u001b[2A\u001b[2A\u001b[2A\u001b[10000D\u001b[2Khttps://repo1.maven.org/maven2/org/scala-lang/scala-compiler/2.12.8/scala-compi…\n",
            "\u001b[2K   98.4% [######### ] 1.8 MiB (12.4 MiB / s)\n",
            "\u001b[2Khttps://repo1.maven.org/maven2/org/jline/jline-terminal/3.6.2/jline-terminal-3.…\n",
            "\u001b[2K   96.9% [######### ] 192.0 KiB (3.8 MiB / s)\n",
            "\u001b[2Khttps://repo1.maven.org/maven2/org/scalameta/trees_2.12/4.1.4/trees_2.12-4.1.4.…\n",
            "\u001b[2K   71.6% [#######   ] 1.7 MiB (11.2 MiB / s)\n",
            "\u001b[2Khttps://repo1.maven.org/maven2/org/scala-lang/scalap/2.12.8/scalap-2.12.8.jar\n",
            "\u001b[2K   67.1% [######    ] 335.5 KiB (6.8 MiB / s)\n",
            "\u001b[2Khttps://repo1.maven.org/maven2/org/scalameta/metabrowse-cli_2.12/0.2.2/metabrow…\n",
            "\u001b[2K   44.7% [####      ] 674.4 KiB (8.3 MiB / s)\n",
            "\u001b[2Khttps://repo1.maven.org/maven2/io/get-coursier/coursier_2.12/1.1.0-M7/coursier_…\n",
            "\u001b[2K   32.0% [###       ] 464.0 KiB (7.6 MiB / s)\n",
            "\u001b[2A\u001b[2A\u001b[2A\u001b[2A\u001b[2A\u001b[2A\u001b[10000D\u001b[2Khttps://repo1.maven.org/maven2/com/lihaoyi/geny_2.12/0.1.5/geny_2.12-0.1.5.jar\n",
            "\u001b[2K  100.0% [##########] 54.7 KiB (6.7 MiB / s)\n",
            "\u001b[2Khttps://repo1.maven.org/maven2/org/jline/jline-terminal/3.6.2/jline-terminal-3.…\n",
            "\u001b[2K  100.0% [##########] 198.1 KiB (3.3 MiB / s)\n",
            "\u001b[2Khttps://repo1.maven.org/maven2/org/scala-lang/scala-compiler/2.12.8/scala-compi…\n",
            "\u001b[2K  100.0% [##########] 1.8 MiB (11.8 MiB / s)\n",
            "\u001b[2Khttps://repo1.maven.org/maven2/org/scala-lang/scalap/2.12.8/scalap-2.12.8.jar\n",
            "\u001b[2K  100.0% [##########] 499.8 KiB (8.4 MiB / s)\n",
            "\u001b[2Khttps://repo1.maven.org/maven2/org/scalameta/trees_2.12/4.1.4/trees_2.12-4.1.4.…\n",
            "\u001b[2K   71.6% [#######   ] 1.7 MiB (10.5 MiB / s)\n",
            "\u001b[2Khttps://repo1.maven.org/maven2/org/scalameta/metabrowse-cli_2.12/0.2.2/metabrow…\n",
            "\u001b[2K   65.9% [######    ] 994.4 KiB (10.9 MiB / s)\n",
            "\u001b[2Khttps://repo1.maven.org/maven2/io/get-coursier/coursier_2.12/1.1.0-M7/coursier_…\n",
            "\u001b[2K   43.7% [####      ] 635.0 KiB (8.9 MiB / s)\n",
            "\u001b[2Khttps://repo1.maven.org/maven2/org/scalameta/io_2.12/4.1.4/io_2.12-4.1.4.jar\n",
            "\u001b[2K    0.0% [          ] 0B (0B / s)\n",
            "\u001b[2A\u001b[2A\u001b[2A\u001b[2A\u001b[2A\u001b[2A\u001b[10000D\u001b[2Khttps://repo1.maven.org/maven2/com/lihaoyi/ammonite-util_2.12/1.6.4/ammonite-ut…\n",
            "\u001b[2K  100.0% [##########] 173.7 KiB (12.1 MiB / s)\n",
            "\u001b[2Khttps://repo1.maven.org/maven2/org/scala-lang/scala-compiler/2.12.8/scala-compi…\n",
            "\u001b[2K  100.0% [##########] 1.8 MiB (10.5 MiB / s)\n",
            "\u001b[2Khttps://repo1.maven.org/maven2/org/scala-lang/scalap/2.12.8/scalap-2.12.8.jar\n",
            "\u001b[2K  100.0% [##########] 499.8 KiB (6.3 MiB / s)\n",
            "\u001b[2Khttps://repo1.maven.org/maven2/org/scalameta/io_2.12/4.1.4/io_2.12-4.1.4.jar\n",
            "\u001b[2K  100.0% [##########] 63.7 KiB (3.0 MiB / s)\n",
            "\u001b[2Khttps://repo1.maven.org/maven2/org/scalameta/trees_2.12/4.1.4/trees_2.12-4.1.4.…\n",
            "\u001b[2K   94.0% [######### ] 2.3 MiB (12.4 MiB / s)\n",
            "\u001b[2Khttps://repo1.maven.org/maven2/io/get-coursier/coursier_2.12/1.1.0-M7/coursier_…\n",
            "\u001b[2K   91.9% [######### ] 1.3 MiB (14.6 MiB / s)\n",
            "\u001b[2Khttps://repo1.maven.org/maven2/org/scalameta/metabrowse-cli_2.12/0.2.2/metabrow…\n",
            "\u001b[2K   87.1% [########  ] 1.3 MiB (11.9 MiB / s)\n",
            "\u001b[2Khttps://repo1.maven.org/maven2/com/thoughtworks/qdox/qdox/2.0-M9/qdox-2.0-M9.jar\n",
            "\u001b[2K    0.0% [          ] 0B (0B / s)\n",
            "\u001b[2Khttps://repo1.maven.org/maven2/com/lihaoyi/upack_2.12/0.7.1/upack_2.12-0.7.1-so…\n",
            "\u001b[2K    0.0% [          ] 0B (0B / s)\n",
            "\u001b[2Khttps://repo1.maven.org/maven2/org/typelevel/cats-effect_2.12/1.2.0/cats-effect…\n",
            "\u001b[2K    0.0% [          ] 0B (0B / s)\n",
            "\u001b[2A\u001b[2A\u001b[2A\u001b[2A\u001b[2A\u001b[2A\u001b[10000D\u001b[2Khttps://repo1.maven.org/maven2/com/thoughtworks/qdox/qdox/2.0-M9/qdox-2.0-M9.jar\n",
            "\u001b[2K  100.0% [##########] 309.8 KiB (11.6 MiB / s)\n",
            "\u001b[2Khttps://repo1.maven.org/maven2/io/get-coursier/coursier_2.12/1.1.0-M7/coursier_…\n",
            "\u001b[2K  100.0% [##########] 1.4 MiB (13.0 MiB / s)\n",
            "\u001b[2Khttps://repo1.maven.org/maven2/org/scalameta/metabrowse-cli_2.12/0.2.2/metabrow…\n",
            "\u001b[2K  100.0% [##########] 1.5 MiB (11.5 MiB / s)\n",
            "\u001b[2Khttps://repo1.maven.org/maven2/org/scalameta/trees_2.12/4.1.4/trees_2.12-4.1.4.…\n",
            "\u001b[2K  100.0% [##########] 2.4 MiB (11.9 MiB / s)\n",
            "\u001b[2Khttps://repo1.maven.org/maven2/com/lihaoyi/upack_2.12/0.7.1/upack_2.12-0.7.1-so…\n",
            "\u001b[2K  100.0% [##########] 6.5 KiB (260.9 KiB / s)\n",
            "\u001b[2Khttps://repo1.maven.org/maven2/org/typelevel/cats-effect_2.12/1.2.0/cats-effect…\n",
            "\u001b[2K  100.0% [##########] 125.6 KiB (5.3 MiB / s)\n",
            "\u001b[2Khttps://repo1.maven.org/maven2/co/fs2/fs2-core_2.12/1.0.4/fs2-core_2.12-1.0.4.j…\n",
            "\u001b[2K    0.0% [          ] 0B (0B / s)\n",
            "\u001b[2Khttps://repo1.maven.org/maven2/org/scalameta/metabrowse-core_2.12/0.2.2/metabro…\n",
            "\u001b[2K    0.0% [          ] 0B (0B / s)\n",
            "\u001b[2A\u001b[2A\u001b[2A\u001b[2A\u001b[2A\u001b[10000D\u001b[2Khttps://repo1.maven.org/maven2/co/fs2/fs2-core_2.12/1.0.4/fs2-core_2.12-1.0.4.j…\n",
            "\u001b[2K  100.0% [##########] 805.2 KiB (12.5 MiB / s)\n",
            "\u001b[2Khttps://repo1.maven.org/maven2/com/github/scopt/scopt_2.12/3.5.0/scopt_2.12-3.5…\n",
            "\u001b[2K  100.0% [##########] 7.9 KiB (164.5 KiB / s)\n",
            "\u001b[2Khttps://repo1.maven.org/maven2/com/lihaoyi/acyclic_2.12/0.1.5/acyclic_2.12-0.1.…\n",
            "\u001b[2K  100.0% [##########] 56.9 KiB (1.3 MiB / s)\n",
            "\u001b[2Khttps://repo1.maven.org/maven2/com/lihaoyi/ujson_2.12/0.7.1/ujson_2.12-0.7.1-so…\n",
            "\u001b[2K  100.0% [##########] 25.2 KiB (679.8 KiB / s)\n",
            "\u001b[2Khttps://repo1.maven.org/maven2/com/lihaoyi/upack_2.12/0.7.1/upack_2.12-0.7.1-so…\n",
            "\u001b[2K  100.0% [##########] 6.5 KiB (88.1 KiB / s)\n",
            "\u001b[2Khttps://repo1.maven.org/maven2/io/argonaut/argonaut_2.12/6.2.2/argonaut_2.12-6.…\n",
            "\u001b[2K  100.0% [##########] 32.8 KiB (1.5 MiB / s)\n",
            "\u001b[2Khttps://repo1.maven.org/maven2/org/scala-lang/modules/scala-collection-compat_2…\n",
            "\u001b[2K  100.0% [##########] 7.3 KiB (214.0 KiB / s)\n",
            "\u001b[2Khttps://repo1.maven.org/maven2/org/scalameta/inputs_2.12/4.1.4/inputs_2.12-4.1.…\n",
            "\u001b[2K  100.0% [##########] 50.5 KiB (3.1 MiB / s)\n",
            "\u001b[2Khttps://repo1.maven.org/maven2/org/scalameta/metabrowse-core_2.12/0.2.2/metabro…\n",
            "\u001b[2K  100.0% [##########] 2.1 KiB (37.1 KiB / s)\n",
            "\u001b[2Khttps://repo1.maven.org/maven2/org/scalameta/trees_2.12/4.1.4/trees_2.12-4.1.4.…\n",
            "\u001b[2K  100.0% [##########] 2.4 MiB (9.5 MiB / s)\n",
            "\u001b[2Khttps://repo1.maven.org/maven2/org/typelevel/cats-effect_2.12/1.2.0/cats-effect…\n",
            "\u001b[2K  100.0% [##########] 125.6 KiB (1.7 MiB / s)\n",
            "\u001b[2Khttps://repo1.maven.org/maven2/org/typelevel/cats-macros_2.12/1.6.0/cats-macros…\n",
            "\u001b[2K  100.0% [##########] 800B (13.5 KiB / s)\n",
            "\u001b[2Khttps://repo1.maven.org/maven2/org/typelevel/macro-compat_2.12/1.1.1/macro-comp…\n",
            "\u001b[2K  100.0% [##########] 1.0 KiB (22.3 KiB / s)\n",
            "\u001b[2Khttps://repo1.maven.org/maven2/com/fasterxml/jackson/core/jackson-core/2.9.6/ja…\n",
            "\u001b[2K    0.0% [          ] 0B (0B / s)\n",
            "\u001b[2Khttps://repo1.maven.org/maven2/com/lihaoyi/scalatags_2.12/0.6.7/scalatags_2.12-…\n",
            "\u001b[2K    0.0% [          ] 0B (0B / s)\n",
            "\u001b[2Khttps://repo1.maven.org/maven2/org/zeromq/jeromq/0.5.0/jeromq-0.5.0-sources.jar\n",
            "\u001b[2K    0.0% [          ] 0B (0B / s)\n",
            "\u001b[2Khttps://repo1.maven.org/maven2/eu/neilalexander/jnacl/1.0.0/jnacl-1.0.0.jar\n",
            "\u001b[2K    0.0% [          ] 0B (0B / s)\n",
            "\u001b[2Khttps://repo1.maven.org/maven2/org/slf4j/slf4j-api/1.8.0-beta2/slf4j-api-1.8.0-…\n",
            "\u001b[2K    0.0% [          ] 0B (0B / s)\n",
            "\u001b[2A\u001b[2A\u001b[2A\u001b[2A\u001b[2A\u001b[10000D\u001b[2Khttps://repo1.maven.org/maven2/org/slf4j/slf4j-api/1.8.0-beta2/slf4j-api-1.8.0-…\n",
            "\u001b[2K  100.0% [##########] 42.9 KiB (3.8 MiB / s)\n",
            "\u001b[2Khttps://repo1.maven.org/maven2/eu/neilalexander/jnacl/1.0.0/jnacl-1.0.0.jar\n",
            "\u001b[2K  100.0% [##########] 19.4 KiB (1.7 MiB / s)\n",
            "\u001b[2Khttps://repo1.maven.org/maven2/com/lihaoyi/scalatags_2.12/0.6.7/scalatags_2.12-…\n",
            "\u001b[2K   37.0% [###       ] 175.5 KiB (8.6 MiB / s)\n",
            "\u001b[2Khttps://repo1.maven.org/maven2/com/fasterxml/jackson/core/jackson-core/2.9.6/ja…\n",
            "\u001b[2K   35.3% [###       ] 111.5 KiB (2.0 MiB / s)\n",
            "\u001b[2Khttps://repo1.maven.org/maven2/org/zeromq/jeromq/0.5.0/jeromq-0.5.0-sources.jar\n",
            "\u001b[2K    0.0% [          ] 0B (0B / s)\n",
            "\u001b[2Khttps://repo1.maven.org/maven2/org/scala-lang/scala-library/2.12.8/scala-librar…\n",
            "\u001b[2K    0.0% [          ] 0B (0B / s)\n",
            "\u001b[2A\u001b[2A\u001b[2A\u001b[2A\u001b[2A\u001b[10000D\u001b[2Khttps://repo1.maven.org/maven2/com/fasterxml/jackson/core/jackson-core/2.9.6/ja…\n",
            "\u001b[2K  100.0% [##########] 316.3 KiB (4.1 MiB / s)\n",
            "\u001b[2Khttps://repo1.maven.org/maven2/com/lihaoyi/scalatags_2.12/0.6.7/scalatags_2.12-…\n",
            "\u001b[2K  100.0% [##########] 474.2 KiB (11.6 MiB / s)\n",
            "\u001b[2Khttps://repo1.maven.org/maven2/eu/neilalexander/jnacl/1.0.0/jnacl-1.0.0.jar\n",
            "\u001b[2K  100.0% [##########] 19.4 KiB (607.6 KiB / s)\n",
            "\u001b[2Khttps://repo1.maven.org/maven2/org/zeromq/jeromq/0.5.0/jeromq-0.5.0-sources.jar\n",
            "\u001b[2K  100.0% [##########] 262.4 KiB (7.5 MiB / s)\n",
            "\u001b[2Khttps://repo1.maven.org/maven2/org/javassist/javassist/3.21.0-GA/javassist-3.21…\n",
            "\u001b[2K   55.7% [#####     ] 400.0 KiB (21.7 MiB / s)\n",
            "\u001b[2Khttps://repo1.maven.org/maven2/org/scala-lang/scala-library/2.12.8/scala-librar…\n",
            "\u001b[2K    2.4% [          ] 123.4 KiB (5.0 MiB / s)\n",
            "\u001b[2Khttps://repo1.maven.org/maven2/com/lihaoyi/ammonite-terminal_2.12/1.6.4/ammonit…\n",
            "\u001b[2K    0.0% [          ] 0B (0B / s)\n",
            "\u001b[2Khttps://repo1.maven.org/maven2/org/scalameta/common_2.12/4.1.4/common_2.12-4.1.…\n",
            "\u001b[2K    0.0% [          ] 0B (0B / s)\n",
            "\u001b[2Khttps://repo1.maven.org/maven2/org/typelevel/cats-macros_2.12/1.6.0/cats-macros…\n",
            "\u001b[2K    0.0% [          ] 0B (0B / s)\n",
            "\u001b[2A\u001b[2A\u001b[2A\u001b[2A\u001b[2A\u001b[2A\u001b[10000D\u001b[2Khttps://repo1.maven.org/maven2/com/lihaoyi/ammonite-terminal_2.12/1.6.4/ammonit…\n",
            "\u001b[2K  100.0% [##########] 23.6 KiB (655.5 KiB / s)\n",
            "\u001b[2Khttps://repo1.maven.org/maven2/org/javassist/javassist/3.21.0-GA/javassist-3.21…\n",
            "\u001b[2K  100.0% [##########] 717.6 KiB (18.4 MiB / s)\n",
            "\u001b[2Khttps://repo1.maven.org/maven2/org/scalameta/cli_2.12/4.1.4/cli_2.12-4.1.4.jar\n",
            "\u001b[2K  100.0% [##########] 13.0 KiB (1002.9 KiB / s)\n",
            "\u001b[2Khttps://repo1.maven.org/maven2/org/scalameta/common_2.12/4.1.4/common_2.12-4.1.…\n",
            "\u001b[2K  100.0% [##########] 60.0 KiB (1.7 MiB / s)\n",
            "\u001b[2Khttps://repo1.maven.org/maven2/org/zeromq/jeromq/0.5.0/jeromq-0.5.0-sources.jar\n",
            "\u001b[2K  100.0% [##########] 262.4 KiB (4.7 MiB / s)\n",
            "\u001b[2Khttps://repo1.maven.org/maven2/org/wildfly/common/wildfly-common/1.3.0.Final/wi…\n",
            "\u001b[2K   17.7% [#         ] 31.5 KiB (2.6 MiB / s)\n",
            "\u001b[2Khttps://repo1.maven.org/maven2/org/scala-lang/scala-library/2.12.8/scala-librar…\n",
            "\u001b[2K    8.1% [          ] 415.4 KiB (9.2 MiB / s)\n",
            "\u001b[2Khttps://repo1.maven.org/maven2/org/typelevel/cats-kernel_2.12/1.6.0/cats-kernel…\n",
            "\u001b[2K    7.6% [          ] 239.5 KiB (12.3 MiB / s)\n",
            "\u001b[2Khttps://repo1.maven.org/maven2/org/typelevel/cats-macros_2.12/1.6.0/cats-macros…\n",
            "\u001b[2K    0.0% [          ] 0B (0B / s)\n",
            "\u001b[2Khttps://repo1.maven.org/maven2/com/lihaoyi/upickle-implicits_2.12/0.7.1/upickle…\n",
            "\u001b[2K    0.0% [          ] 0B (0B / s)\n",
            "\u001b[2Khttps://repo1.maven.org/maven2/com/google/protobuf/protobuf-java/3.6.1/protobuf…\n",
            "\u001b[2K    0.0% [          ] 0B (0B / s)\n",
            "\u001b[2A\u001b[2A\u001b[2A\u001b[2A\u001b[2A\u001b[2A\u001b[10000D\u001b[2Khttps://repo1.maven.org/maven2/org/wildfly/common/wildfly-common/1.3.0.Final/wi…\n",
            "\u001b[2K  100.0% [##########] 178.3 KiB (4.7 MiB / s)\n",
            "\u001b[2Khttps://repo1.maven.org/maven2/com/google/protobuf/protobuf-java/3.6.1/protobuf…\n",
            "\u001b[2K   33.4% [###       ] 464.0 KiB (16.2 MiB / s)\n",
            "\u001b[2Khttps://repo1.maven.org/maven2/org/typelevel/cats-kernel_2.12/1.6.0/cats-kernel…\n",
            "\u001b[2K   25.7% [##        ] 808.6 KiB (17.9 MiB / s)\n",
            "\u001b[2Khttps://repo1.maven.org/maven2/org/scala-lang/scala-library/2.12.8/scala-librar…\n",
            "\u001b[2K   11.5% [#         ] 591.4 KiB (8.4 MiB / s)\n",
            "\u001b[2Khttps://repo1.maven.org/maven2/org/typelevel/cats-macros_2.12/1.6.0/cats-macros…\n",
            "\u001b[2K    0.0% [          ] 0B (0B / s)\n",
            "\u001b[2Khttps://repo1.maven.org/maven2/com/lihaoyi/upickle-implicits_2.12/0.7.1/upickle…\n",
            "\u001b[2K    0.0% [          ] 0B (0B / s)\n",
            "\u001b[2A\u001b[2A\u001b[2A\u001b[2A\u001b[2A\u001b[2A\u001b[10000D\u001b[2Khttps://repo1.maven.org/maven2/com/lihaoyi/upickle-implicits_2.12/0.7.1/upickle…\n",
            "\u001b[2K  100.0% [##########] 171.6 KiB (3.8 MiB / s)\n",
            "\u001b[2Khttps://repo1.maven.org/maven2/org/wildfly/common/wildfly-common/1.3.0.Final/wi…\n",
            "\u001b[2K  100.0% [##########] 178.3 KiB (3.3 MiB / s)\n",
            "\u001b[2Khttps://repo1.maven.org/maven2/com/lihaoyi/upickle-core_2.12/0.7.1/upickle-core…\n",
            "\u001b[2K  100.0% [##########] 106.4 KiB (10.4 MiB / s)\n",
            "\u001b[2Khttps://repo1.maven.org/maven2/com/google/protobuf/protobuf-java/3.6.1/protobuf…\n",
            "\u001b[2K   44.6% [####      ] 619.0 KiB (14.1 MiB / s)\n",
            "\u001b[2Khttps://repo1.maven.org/maven2/org/typelevel/cats-kernel_2.12/1.6.0/cats-kernel…\n",
            "\u001b[2K   25.7% [##        ] 808.6 KiB (13.4 MiB / s)\n",
            "\u001b[2Khttps://repo1.maven.org/maven2/org/scala-lang/scala-library/2.12.8/scala-librar…\n",
            "\u001b[2K   23.6% [##        ] 1.2 MiB (14.1 MiB / s)\n",
            "\u001b[2Khttps://repo1.maven.org/maven2/org/typelevel/cats-macros_2.12/1.6.0/cats-macros…\n",
            "\u001b[2K    0.0% [          ] 0B (0B / s)\n",
            "\u001b[2Khttps://repo1.maven.org/maven2/org/scalameta/cli_2.12/4.1.4/cli_2.12-4.1.4-sour…\n",
            "\u001b[2K    0.0% [          ] 0B (0B / s)\n",
            "\u001b[2A\u001b[2A\u001b[2A\u001b[2A\u001b[2A\u001b[2A\u001b[10000D\u001b[2Khttps://repo1.maven.org/maven2/com/lihaoyi/upickle-core_2.12/0.7.1/upickle-core…\n",
            "\u001b[2K  100.0% [##########] 106.4 KiB (3.6 MiB / s)\n",
            "\u001b[2Khttps://repo1.maven.org/maven2/org/scalameta/fastparse_2.12/1.0.0/fastparse_2.1…\n",
            "\u001b[2K  100.0% [##########] 330.9 KiB (17.0 MiB / s)\n",
            "\u001b[2Khttps://repo1.maven.org/maven2/org/scalameta/cli_2.12/4.1.4/cli_2.12-4.1.4-sour…\n",
            "\u001b[2K  100.0% [##########] 2.5 KiB (81.7 KiB / s)\n",
            "\u001b[2Khttps://repo1.maven.org/maven2/com/google/protobuf/protobuf-java/3.6.1/protobuf…\n",
            "\u001b[2K   91.5% [######### ] 1.2 MiB (19.7 MiB / s)\n",
            "\u001b[2Khttps://repo1.maven.org/maven2/org/typelevel/cats-kernel_2.12/1.6.0/cats-kernel…\n",
            "\u001b[2K   37.7% [###       ] 1.2 MiB (14.7 MiB / s)\n",
            "\u001b[2Khttps://repo1.maven.org/maven2/org/scala-lang/scala-library/2.12.8/scala-librar…\n",
            "\u001b[2K   33.5% [###       ] 1.7 MiB (16.2 MiB / s)\n",
            "\u001b[2Khttps://repo1.maven.org/maven2/org/typelevel/cats-macros_2.12/1.6.0/cats-macros…\n",
            "\u001b[2K    0.0% [          ] 0B (0B / s)\n",
            "\u001b[2Khttps://repo1.maven.org/maven2/com/lihaoyi/ammonite-runtime_2.12/1.6.4/ammonite…\n",
            "\u001b[2K    0.0% [          ] 0B (0B / s)\n",
            "\u001b[2A\u001b[2A\u001b[2A\u001b[2A\u001b[2A\u001b[2A\u001b[10000D\u001b[2Khttps://repo1.maven.org/maven2/com/google/protobuf/protobuf-java/3.6.1/protobuf…\n",
            "\u001b[2K  100.0% [##########] 1.4 MiB (16.3 MiB / s)\n",
            "\u001b[2Khttps://repo1.maven.org/maven2/com/lihaoyi/ammonite-runtime_2.12/1.6.4/ammonite…\n",
            "\u001b[2K  100.0% [##########] 22.6 KiB (943.7 KiB / s)\n",
            "\u001b[2Khttps://repo1.maven.org/maven2/org/scalameta/cli_2.12/4.1.4/cli_2.12-4.1.4-sour…\n",
            "\u001b[2K  100.0% [##########] 2.5 KiB (49.7 KiB / s)\n",
            "\u001b[2Khttps://repo1.maven.org/maven2/org/scala-lang/scala-library/2.12.8/scala-librar…\n",
            "\u001b[2K   46.6% [####      ] 2.3 MiB (18.9 MiB / s)\n",
            "\u001b[2Khttps://repo1.maven.org/maven2/org/typelevel/cats-kernel_2.12/1.6.0/cats-kernel…\n",
            "\u001b[2K   45.1% [####      ] 1.4 MiB (14.0 MiB / s)\n",
            "\u001b[2Khttps://repo1.maven.org/maven2/org/zeromq/jeromq/0.5.0/jeromq-0.5.0.jar\n",
            "\u001b[2K   22.2% [##        ] 95.5 KiB (5.5 MiB / s)\n",
            "\u001b[2Khttps://repo1.maven.org/maven2/org/typelevel/cats-macros_2.12/1.6.0/cats-macros…\n",
            "\u001b[2K    0.0% [          ] 0B (0B / s)\n",
            "\u001b[2Khttps://repo1.maven.org/maven2/com/lihaoyi/ammonite-interp_2.12.8/1.6.4/ammonit…\n",
            "\u001b[2K    0.0% [          ] 0B (0B / s)\n",
            "\u001b[2Khttps://repo1.maven.org/maven2/org/scalameta/interactive_2.12.7/4.1.4/interacti…\n",
            "\u001b[2K    0.0% [          ] 0B (0B / s)\n",
            "\u001b[2A\u001b[2A\u001b[2A\u001b[2A\u001b[2A\u001b[2A\u001b[10000D\u001b[2Khttps://repo1.maven.org/maven2/org/scalameta/interactive_2.12.7/4.1.4/interacti…\n",
            "\u001b[2K  100.0% [##########] 14.1 KiB (587.3 KiB / s)\n",
            "\u001b[2Khttps://repo1.maven.org/maven2/org/zeromq/jeromq/0.5.0/jeromq-0.5.0.jar\n",
            "\u001b[2K  100.0% [##########] 430.6 KiB (11.4 MiB / s)\n",
            "\u001b[2Khttps://repo1.maven.org/maven2/com/lihaoyi/ammonite-interp_2.12.8/1.6.4/ammonit…\n",
            "\u001b[2K  100.0% [##########] 314.1 KiB (7.9 MiB / s)\n",
            "\u001b[2Khttps://repo1.maven.org/maven2/org/typelevel/cats-kernel_2.12/1.6.0/cats-kernel…\n",
            "\u001b[2K   74.2% [#######   ] 2.3 MiB (19.2 MiB / s)\n",
            "\u001b[2Khttps://repo1.maven.org/maven2/org/scala-lang/scala-library/2.12.8/scala-librar…\n",
            "\u001b[2K   54.4% [#####     ] 2.7 MiB (19.0 MiB / s)\n",
            "\u001b[2Khttps://repo1.maven.org/maven2/org/typelevel/cats-macros_2.12/1.6.0/cats-macros…\n",
            "\u001b[2K    0.0% [          ] 0B (0B / s)\n",
            "\u001b[2Khttps://repo1.maven.org/maven2/io/get-coursier/coursier_2.12/1.1.0-M7/coursier_…\n",
            "\u001b[2K    0.0% [          ] 0B (0B / s)\n",
            "\u001b[2Khttps://repo1.maven.org/maven2/com/lihaoyi/ammonite-ops_2.12/1.6.4/ammonite-ops…\n",
            "\u001b[2K    0.0% [          ] 0B (0B / s)\n",
            "\u001b[2A\u001b[2A\u001b[2A\u001b[2A\u001b[2A\u001b[2A\u001b[10000D\u001b[2Khttps://repo1.maven.org/maven2/com/lihaoyi/ammonite-interp_2.12.8/1.6.4/ammonit…\n",
            "\u001b[2K  100.0% [##########] 314.1 KiB (4.6 MiB / s)\n",
            "\u001b[2Khttps://repo1.maven.org/maven2/com/lihaoyi/ammonite-ops_2.12/1.6.4/ammonite-ops…\n",
            "\u001b[2K  100.0% [##########] 122.5 KiB (3.1 MiB / s)\n",
            "\u001b[2Khttps://repo1.maven.org/maven2/io/get-coursier/coursier_2.12/1.1.0-M7/coursier_…\n",
            "\u001b[2K  100.0% [##########] 56.7 KiB (1.3 MiB / s)\n",
            "\u001b[2Khttps://repo1.maven.org/maven2/org/typelevel/cats-kernel_2.12/1.6.0/cats-kernel…\n",
            "\u001b[2K   94.4% [######### ] 2.9 MiB (19.8 MiB / s)\n",
            "\u001b[2Khttps://repo1.maven.org/maven2/org/scala-lang/scala-library/2.12.8/scala-librar…\n",
            "\u001b[2K   64.3% [######    ] 3.2 MiB (18.8 MiB / s)\n",
            "\u001b[2Khttps://repo1.maven.org/maven2/io/argonaut/argonaut_2.12/6.2.2/argonaut_2.12-6.…\n",
            "\u001b[2K   18.4% [#         ] 143.5 KiB (5.2 MiB / s)\n",
            "\u001b[2Khttps://repo1.maven.org/maven2/org/typelevel/cats-macros_2.12/1.6.0/cats-macros…\n",
            "\u001b[2K    0.0% [          ] 0B (0B / s)\n",
            "\u001b[2Khttps://repo1.maven.org/maven2/org/scalameta/mtags_2.12/0.4.4/mtags_2.12-0.4.4-…\n",
            "\u001b[2K    0.0% [          ] 0B (0B / s)\n",
            "\u001b[2Khttps://repo1.maven.org/maven2/org/slf4j/slf4j-api/1.8.0-beta2/slf4j-api-1.8.0-…\n",
            "\u001b[2K    0.0% [          ] 0B (0B / s)\n",
            "\u001b[2A\u001b[2A\u001b[2A\u001b[2A\u001b[2A\u001b[2A\u001b[10000D\u001b[2Khttps://repo1.maven.org/maven2/org/scalameta/inputs_2.12/4.1.4/inputs_2.12-4.1.…\n",
            "\u001b[2K  100.0% [##########] 5.4 KiB (595.7 KiB / s)\n",
            "\u001b[2Khttps://repo1.maven.org/maven2/org/slf4j/slf4j-api/1.8.0-beta2/slf4j-api-1.8.0-…\n",
            "\u001b[2K  100.0% [##########] 51.6 KiB (1.9 MiB / s)\n",
            "\u001b[2Khttps://repo1.maven.org/maven2/org/typelevel/cats-kernel_2.12/1.6.0/cats-kernel…\n",
            "\u001b[2K   98.0% [######### ] 3.0 MiB (19.1 MiB / s)\n",
            "\u001b[2Khttps://repo1.maven.org/maven2/org/scala-lang/scala-library/2.12.8/scala-librar…\n",
            "\u001b[2K   64.3% [######    ] 3.2 MiB (17.7 MiB / s)\n",
            "\u001b[2Khttps://repo1.maven.org/maven2/io/argonaut/argonaut_2.12/6.2.2/argonaut_2.12-6.…\n",
            "\u001b[2K   58.7% [#####     ] 456.6 KiB (11.4 MiB / s)\n",
            "\u001b[2Khttps://repo1.maven.org/maven2/org/typelevel/cats-macros_2.12/1.6.0/cats-macros…\n",
            "\u001b[2K    0.0% [          ] 0B (0B / s)\n",
            "\u001b[2Khttps://repo1.maven.org/maven2/org/scalameta/mtags_2.12/0.4.4/mtags_2.12-0.4.4-…\n",
            "\u001b[2K    0.0% [          ] 0B (0B / s)\n",
            "\u001b[2Khttps://repo1.maven.org/maven2/org/wildfly/client/wildfly-client-config/1.0.0.F…\n",
            "\u001b[2K    0.0% [          ] 0B (0B / s)\n",
            "\u001b[2A\u001b[2A\u001b[2A\u001b[2A\u001b[2A\u001b[2A\u001b[10000D\u001b[2Khttps://repo1.maven.org/maven2/org/scalameta/mtags_2.12/0.4.4/mtags_2.12-0.4.4-…\n",
            "\u001b[2K  100.0% [##########] 24.5 KiB (453.8 KiB / s)\n",
            "\u001b[2Khttps://repo1.maven.org/maven2/org/typelevel/cats-kernel_2.12/1.6.0/cats-kernel…\n",
            "\u001b[2K  100.0% [##########] 3.1 MiB (17.2 MiB / s)\n",
            "\u001b[2Khttps://repo1.maven.org/maven2/org/typelevel/cats-macros_2.12/1.6.0/cats-macros…\n",
            "\u001b[2K  100.0% [##########] 5.1 KiB (27.7 KiB / s)\n",
            "\u001b[2Khttps://repo1.maven.org/maven2/org/wildfly/client/wildfly-client-config/1.0.0.F…\n",
            "\u001b[2K  100.0% [##########] 35.6 KiB (1.4 MiB / s)\n",
            "\u001b[2Khttps://repo1.maven.org/maven2/org/scala-lang/scala-library/2.12.8/scala-librar…\n",
            "\u001b[2K   67.7% [######    ] 3.4 MiB (16.7 MiB / s)\n",
            "\u001b[2Khttps://repo1.maven.org/maven2/io/argonaut/argonaut_2.12/6.2.2/argonaut_2.12-6.…\n",
            "\u001b[2K   58.7% [#####     ] 456.6 KiB (7.6 MiB / s)\n",
            "\u001b[2Khttps://repo1.maven.org/maven2/org/scala-lang/scala-compiler/2.12.8/scala-compi…\n",
            "\u001b[2K    2.8% [          ] 286.2 KiB (14.7 MiB / s)\n",
            "\u001b[2Khttps://repo1.maven.org/maven2/org/jline/jline-reader/3.6.2/jline-reader-3.6.2.…\n",
            "\u001b[2K    0.0% [          ] 0B (0B / s)\n",
            "\u001b[2Khttps://repo1.maven.org/maven2/org/scalameta/transversers_2.12/4.1.4/transverse…\n",
            "\u001b[2K    0.0% [          ] 0B (0B / s)\n",
            "\u001b[2Khttps://repo1.maven.org/maven2/org/scalameta/mtags_2.12/0.4.4/mtags_2.12-0.4.4.…\n",
            "\u001b[2K    0.0% [          ] 0B (0B / s)\n",
            "\u001b[2A\u001b[2A\u001b[2A\u001b[2A\u001b[2A\u001b[2A\u001b[10000D\u001b[2Khttps://repo1.maven.org/maven2/io/argonaut/argonaut_2.12/6.2.2/argonaut_2.12-6.…\n",
            "\u001b[2K  100.0% [##########] 778.3 KiB (9.7 MiB / s)\n",
            "\u001b[2Khttps://repo1.maven.org/maven2/org/jline/jline-reader/3.6.2/jline-reader-3.6.2.…\n",
            "\u001b[2K  100.0% [##########] 128.6 KiB (3.6 MiB / s)\n",
            "\u001b[2Khttps://repo1.maven.org/maven2/org/scalameta/mtags_2.12/0.4.4/mtags_2.12-0.4.4.…\n",
            "\u001b[2K  100.0% [##########] 261.9 KiB (8.8 MiB / s)\n",
            "\u001b[2Khttps://repo1.maven.org/maven2/org/scalameta/transversers_2.12/4.1.4/transverse…\n",
            "\u001b[2K  100.0% [##########] 94.3 KiB (3.1 MiB / s)\n",
            "\u001b[2Khttps://repo1.maven.org/maven2/org/scala-lang/scala-library/2.12.8/scala-librar…\n",
            "\u001b[2K   77.4% [#######   ] 3.9 MiB (17.4 MiB / s)\n",
            "\u001b[2Khttps://repo1.maven.org/maven2/org/scala-lang/scala-compiler/2.12.8/scala-compi…\n",
            "\u001b[2K    9.5% [          ] 974.2 KiB (24.4 MiB / s)\n",
            "\u001b[2Khttps://repo1.maven.org/maven2/org/scala-lang/scalap/2.12.8/scalap-2.12.8-sourc…\n",
            "\u001b[2K    0.0% [          ] 0B (0B / s)\n",
            "\u001b[2Khttps://repo1.maven.org/maven2/net/java/dev/jna/jna/4.2.2/jna-4.2.2.jar\n",
            "\u001b[2K    0.0% [          ] 0B (0B / s)\n",
            "\u001b[2Khttps://repo1.maven.org/maven2/com/lihaoyi/ammonite-runtime_2.12/1.6.4/ammonite…\n",
            "\u001b[2K    0.0% [          ] 0B (0B / s)\n",
            "\u001b[2Khttps://repo1.maven.org/maven2/org/scala-lang/modules/scala-xml_2.12/1.1.0/scal…\n",
            "\u001b[2K    0.0% [          ] 0B (0B / s)\n",
            "\u001b[2A\u001b[2A\u001b[2A\u001b[2A\u001b[2A\u001b[2A\u001b[10000D\u001b[2Khttps://repo1.maven.org/maven2/org/scala-lang/scalap/2.12.8/scalap-2.12.8-sourc…\n",
            "\u001b[2K  100.0% [##########] 38.1 KiB (928.6 KiB / s)\n",
            "\u001b[2Khttps://repo1.maven.org/maven2/org/scala-lang/scala-library/2.12.8/scala-librar…\n",
            "\u001b[2K   86.1% [########  ] 4.3 MiB (17.4 MiB / s)\n",
            "\u001b[2Khttps://repo1.maven.org/maven2/org/scala-lang/modules/scala-xml_2.12/1.1.0/scal…\n",
            "\u001b[2K   68.6% [######    ] 367.5 KiB (13.8 MiB / s)\n",
            "\u001b[2Khttps://repo1.maven.org/maven2/com/lihaoyi/ammonite-runtime_2.12/1.6.4/ammonite…\n",
            "\u001b[2K   65.4% [######    ] 143.5 KiB (4.0 MiB / s)\n",
            "\u001b[2Khttps://repo1.maven.org/maven2/net/java/dev/jna/jna/4.2.2/jna-4.2.2.jar\n",
            "\u001b[2K   18.7% [#         ] 207.5 KiB (5.5 MiB / s)\n",
            "\u001b[2Khttps://repo1.maven.org/maven2/org/scala-lang/scala-compiler/2.12.8/scala-compi…\n",
            "\u001b[2K   10.9% [#         ] 1.1 MiB (16.8 MiB / s)\n",
            "\u001b[2Khttps://repo1.maven.org/maven2/org/json4s/json4s-ast_2.12/3.6.2/json4s-ast_2.12…\n",
            "\u001b[2K    0.0% [          ] 0B (0B / s)\n",
            "\u001b[2A\u001b[2A\u001b[2A\u001b[2A\u001b[2A\u001b[2A\u001b[10000D\u001b[2Khttps://repo1.maven.org/maven2/org/json4s/json4s-ast_2.12/3.6.2/json4s-ast_2.12…\n",
            "\u001b[2K  100.0% [##########] 6.8 KiB (219.6 KiB / s)\n",
            "\u001b[2Khttps://repo1.maven.org/maven2/org/scala-lang/modules/scala-xml_2.12/1.1.0/scal…\n",
            "\u001b[2K  100.0% [##########] 535.7 KiB (13.1 MiB / s)\n",
            "\u001b[2Khttps://repo1.maven.org/maven2/org/scala-lang/scala-library/2.12.8/scala-librar…\n",
            "\u001b[2K   89.2% [########  ] 4.5 MiB (17.0 MiB / s)\n",
            "\u001b[2Khttps://repo1.maven.org/maven2/com/lihaoyi/ammonite-runtime_2.12/1.6.4/ammonite…\n",
            "\u001b[2K   65.4% [######    ] 143.5 KiB (2.9 MiB / s)\n",
            "\u001b[2Khttps://repo1.maven.org/maven2/net/java/dev/jna/jna/4.2.2/jna-4.2.2.jar\n",
            "\u001b[2K   61.3% [######    ] 680.6 KiB (13.0 MiB / s)\n",
            "\u001b[2Khttps://repo1.maven.org/maven2/org/scala-lang/scala-compiler/2.12.8/scala-compi…\n",
            "\u001b[2K   14.5% [#         ] 1.5 MiB (18.4 MiB / s)\n",
            "\u001b[2Khttps://repo1.maven.org/maven2/com/lihaoyi/scalatags_2.12/0.6.7/scalatags_2.12-…\n",
            "\u001b[2K    0.0% [          ] 0B (0B / s)\n",
            "\u001b[2Khttps://repo1.maven.org/maven2/org/scala-lang/modules/scala-collection-compat_2…\n",
            "\u001b[2K    0.0% [          ] 0B (0B / s)\n",
            "\u001b[2A\u001b[2A\u001b[2A\u001b[2A\u001b[2A\u001b[2A\u001b[10000D\u001b[2Khttps://repo1.maven.org/maven2/com/lihaoyi/ammonite-runtime_2.12/1.6.4/ammonite…\n",
            "\u001b[2K  100.0% [##########] 219.3 KiB (3.1 MiB / s)\n",
            "\u001b[2Khttps://repo1.maven.org/maven2/com/lihaoyi/scalatags_2.12/0.6.7/scalatags_2.12-…\n",
            "\u001b[2K  100.0% [##########] 70.3 KiB (3.4 MiB / s)\n",
            "\u001b[2Khttps://repo1.maven.org/maven2/org/scala-lang/modules/scala-collection-compat_2…\n",
            "\u001b[2K  100.0% [##########] 98.4 KiB (4.8 MiB / s)\n",
            "\u001b[2Khttps://repo1.maven.org/maven2/org/scala-lang/scala-library/2.12.8/scala-librar…\n",
            "\u001b[2K   91.0% [######### ] 4.6 MiB (16.1 MiB / s)\n",
            "\u001b[2Khttps://repo1.maven.org/maven2/net/java/dev/jna/jna/4.2.2/jna-4.2.2.jar\n",
            "\u001b[2K   75.7% [#######   ] 840.6 KiB (11.6 MiB / s)\n",
            "\u001b[2Khttps://repo1.maven.org/maven2/com/lihaoyi/os-lib_2.12/0.2.6/os-lib_2.12-0.2.6.…\n",
            "\u001b[2K   35.3% [###       ] 112.0 KiB (6.1 MiB / s)\n",
            "\u001b[2Khttps://repo1.maven.org/maven2/org/scala-lang/scala-compiler/2.12.8/scala-compi…\n",
            "\u001b[2K   17.8% [#         ] 1.8 MiB (18.0 MiB / s)\n",
            "\u001b[2Khttps://repo1.maven.org/maven2/com/lihaoyi/scalaparse_2.12/2.1.0/scalaparse_2.1…\n",
            "\u001b[2K    0.0% [          ] 0B (0B / s)\n",
            "\u001b[2A\u001b[2A\u001b[2A\u001b[2A\u001b[2A\u001b[2A\u001b[10000D\u001b[2Khttps://repo1.maven.org/maven2/com/lihaoyi/os-lib_2.12/0.2.6/os-lib_2.12-0.2.6.…\n",
            "\u001b[2K  100.0% [##########] 317.7 KiB (8.4 MiB / s)\n",
            "\u001b[2Khttps://repo1.maven.org/maven2/com/lihaoyi/scalaparse_2.12/2.1.0/scalaparse_2.1…\n",
            "\u001b[2K  100.0% [##########] 11.5 KiB (396.8 KiB / s)\n",
            "\u001b[2Khttps://repo1.maven.org/maven2/com/thesamet/scalapb/scalapb-json4s_2.12/0.7.2/s…\n",
            "\u001b[2K  100.0% [##########] 97.7 KiB (8.7 MiB / s)\n",
            "\u001b[2Khttps://repo1.maven.org/maven2/net/java/dev/jna/jna/4.2.2/jna-4.2.2.jar\n",
            "\u001b[2K  100.0% [##########] 1.1 MiB (11.9 MiB / s)\n",
            "\u001b[2Khttps://repo1.maven.org/maven2/org/scala-lang/modules/scala-collection-compat_2…\n",
            "\u001b[2K  100.0% [##########] 98.4 KiB (2.3 MiB / s)\n",
            "\u001b[2Khttps://repo1.maven.org/maven2/org/scala-lang/scala-library/2.12.8/scala-librar…\n",
            "\u001b[2K  100.0% [##########] 5.0 MiB (16.5 MiB / s)\n",
            "\u001b[2Khttps://repo1.maven.org/maven2/org/scalameta/scalameta_2.12/4.1.4/scalameta_2.1…\n",
            "\u001b[2K  100.0% [##########] 1.1 KiB (84.1 KiB / s)\n",
            "\u001b[2Khttps://repo1.maven.org/maven2/org/json4s/json4s-jackson_2.12/3.6.2/json4s-jack…\n",
            "\u001b[2K  100.0% [##########] 6.4 KiB (709.0 KiB / s)\n",
            "\u001b[2Khttps://repo1.maven.org/maven2/org/scala-lang/scala-compiler/2.12.8/scala-compi…\n",
            "\u001b[2K   25.2% [##        ] 2.5 MiB (21.3 MiB / s)\n",
            "\u001b[2Khttps://repo1.maven.org/maven2/org/scala-lang/scala-reflect/2.12.8/scala-reflec…\n",
            "\u001b[2K    0.0% [          ] 0B (0B / s)\n",
            "\u001b[2Khttps://repo1.maven.org/maven2/com/github/alexarchambault/argonaut-shapeless_6.…\n",
            "\u001b[2K    0.0% [          ] 0B (0B / s)\n",
            "\u001b[2Khttps://repo1.maven.org/maven2/org/scalameta/scalameta_2.12/4.1.4/scalameta_2.1…\n",
            "\u001b[2K    0.0% [          ] 0B (0B / s)\n",
            "\u001b[2Khttps://repo1.maven.org/maven2/com/google/protobuf/protobuf-java/3.6.1/protobuf…\n",
            "\u001b[2K    0.0% [          ] 0B (0B / s)\n",
            "\u001b[2A\u001b[2A\u001b[2A\u001b[2A\u001b[2A\u001b[2A\u001b[10000D\u001b[2Khttps://repo1.maven.org/maven2/com/github/alexarchambault/argonaut-shapeless_6.…\n",
            "\u001b[2K  100.0% [##########] 6.5 KiB (251.7 KiB / s)\n",
            "\u001b[2Khttps://repo1.maven.org/maven2/org/json4s/json4s-jackson_2.12/3.6.2/json4s-jack…\n",
            "\u001b[2K  100.0% [##########] 6.4 KiB (227.9 KiB / s)\n",
            "\u001b[2Khttps://repo1.maven.org/maven2/org/scalameta/scalameta_2.12/4.1.4/scalameta_2.1…\n",
            "\u001b[2K  100.0% [##########] 15.0 KiB (575.6 KiB / s)\n",
            "\u001b[2Khttps://repo1.maven.org/maven2/org/scalameta/dialects_2.12/4.1.4/dialects_2.12-…\n",
            "\u001b[2K  100.0% [##########] 4.2 KiB (278.8 KiB / s)\n",
            "\u001b[2Khttps://repo1.maven.org/maven2/org/scala-lang/scala-compiler/2.12.8/scala-compi…\n",
            "\u001b[2K   29.1% [##        ] 2.9 MiB (21.0 MiB / s)\n",
            "\u001b[2Khttps://repo1.maven.org/maven2/org/scala-lang/scala-reflect/2.12.8/scala-reflec…\n",
            "\u001b[2K   23.6% [##        ] 840.6 KiB (25.7 MiB / s)\n",
            "\u001b[2Khttps://repo1.maven.org/maven2/com/google/protobuf/protobuf-java/3.6.1/protobuf…\n",
            "\u001b[2K    0.0% [          ] 0B (0B / s)\n",
            "\u001b[2Khttps://repo1.maven.org/maven2/org/scalameta/fastparse-utils_2.12/1.0.0/fastpar…\n",
            "\u001b[2K    0.0% [          ] 0B (0B / s)\n",
            "\u001b[2Khttps://repo1.maven.org/maven2/com/lihaoyi/upickle_2.12/0.7.1/upickle_2.12-0.7.…\n",
            "\u001b[2K    0.0% [          ] 0B (0B / s)\n",
            "\u001b[2A\u001b[2A\u001b[2A\u001b[2A\u001b[2A\u001b[2A\u001b[10000D\u001b[2Khttps://repo1.maven.org/maven2/com/lihaoyi/upickle_2.12/0.7.1/upickle_2.12-0.7.…\n",
            "\u001b[2K  100.0% [##########] 90.7 KiB (3.2 MiB / s)\n",
            "\u001b[2Khttps://repo1.maven.org/maven2/org/scalameta/dialects_2.12/4.1.4/dialects_2.12-…\n",
            "\u001b[2K  100.0% [##########] 4.2 KiB (123.0 KiB / s)\n",
            "\u001b[2Khttps://repo1.maven.org/maven2/org/scalameta/fastparse-utils_2.12/1.0.0/fastpar…\n",
            "\u001b[2K  100.0% [##########] 70.6 KiB (2.3 MiB / s)\n",
            "\u001b[2Khttps://repo1.maven.org/maven2/com/google/protobuf/protobuf-java/3.6.1/protobuf…\n",
            "\u001b[2K   53.3% [#####     ] 367.5 KiB (8.3 MiB / s)\n",
            "\u001b[2Khttps://repo1.maven.org/maven2/org/scala-lang/scala-compiler/2.12.8/scala-compi…\n",
            "\u001b[2K   30.9% [###       ] 3.1 MiB (19.4 MiB / s)\n",
            "\u001b[2Khttps://repo1.maven.org/maven2/org/scala-lang/scala-reflect/2.12.8/scala-reflec…\n",
            "\u001b[2K   28.4% [##        ] 1011.6 KiB (19.0 MiB / s)\n",
            "\u001b[2Khttps://jitpack.io/com/github/jupyter/jvm-repr/0.4.0/jvm-repr-0.4.0.jar\n",
            "\u001b[2K    0.0% [          ] 0B (0B / s)\n",
            "\u001b[2A\u001b[2A\u001b[2A\u001b[2A\u001b[2A\u001b[2A\u001b[10000D\u001b[2Khttps://repo1.maven.org/maven2/com/google/protobuf/protobuf-java/3.6.1/protobuf…\n",
            "\u001b[2K  100.0% [##########] 690.1 KiB (10.9 MiB / s)\n",
            "\u001b[2Khttps://repo1.maven.org/maven2/net/java/dev/jna/jna/4.2.2/jna-4.2.2-sources.jar\n",
            "\u001b[2K  100.0% [##########] 138.1 KiB (7.1 MiB / s)\n",
            "\u001b[2Khttps://repo1.maven.org/maven2/org/scalameta/dialects_2.12/4.1.4/dialects_2.12-…\n",
            "\u001b[2K  100.0% [##########] 4.2 KiB (76.0 KiB / s)\n",
            "\u001b[2Khttps://repo1.maven.org/maven2/org/scalameta/fastparse-utils_2.12/1.0.0/fastpar…\n",
            "\u001b[2K  100.0% [##########] 70.6 KiB (1.4 MiB / s)\n",
            "\u001b[2Khttps://repo1.maven.org/maven2/com/github/alexarchambault/argonaut-shapeless_6.…\n",
            "\u001b[2K   71.0% [#######   ] 63.5 KiB (5.6 MiB / s)\n",
            "\u001b[2Khttps://repo1.maven.org/maven2/org/scala-lang/scala-reflect/2.12.8/scala-reflec…\n",
            "\u001b[2K   38.1% [###       ] 1.3 MiB (18.4 MiB / s)\n",
            "\u001b[2Khttps://repo1.maven.org/maven2/org/scala-lang/scala-compiler/2.12.8/scala-compi…\n",
            "\u001b[2K   36.8% [###       ] 3.7 MiB (20.6 MiB / s)\n",
            "\u001b[2Khttps://jitpack.io/com/github/jupyter/jvm-repr/0.4.0/jvm-repr-0.4.0.jar\n",
            "\u001b[2K    0.0% [          ] 0B (0B / s)\n",
            "\u001b[2Khttps://repo1.maven.org/maven2/com/lihaoyi/ammonite-util_2.12/1.6.4/ammonite-ut…\n",
            "\u001b[2K    0.0% [          ] 0B (0B / s)\n",
            "\u001b[2Khttps://repo1.maven.org/maven2/org/scalameta/fastparse_2.12/1.0.0/fastparse_2.1…\n",
            "\u001b[2K    0.0% [          ] 0B (0B / s)\n",
            "\u001b[2A\u001b[2A\u001b[2A\u001b[2A\u001b[2A\u001b[2A\u001b[10000D\u001b[2Khttps://jitpack.io/com/github/jupyter/jvm-repr/0.4.0/jvm-repr-0.4.0.jar\n",
            "\u001b[2K  100.0% [##########] 6.5 KiB (133.6 KiB / s)\n",
            "\u001b[2Khttps://repo1.maven.org/maven2/com/github/alexarchambault/argonaut-shapeless_6.…\n",
            "\u001b[2K  100.0% [##########] 89.5 KiB (2.4 MiB / s)\n",
            "\u001b[2Khttps://repo1.maven.org/maven2/org/jline/jline-terminal-jna/3.6.2/jline-termina…\n",
            "\u001b[2K  100.0% [##########] 31.5 KiB (1.3 MiB / s)\n",
            "\u001b[2Khttps://repo1.maven.org/maven2/org/scalameta/fastparse_2.12/1.0.0/fastparse_2.1…\n",
            "\u001b[2K  100.0% [##########] 23.8 KiB (644.5 KiB / s)\n",
            "\u001b[2Khttps://repo1.maven.org/maven2/org/scala-lang/scala-reflect/2.12.8/scala-reflec…\n",
            "\u001b[2K   57.1% [#####     ] 2.0 MiB (20.5 MiB / s)\n",
            "\u001b[2Khttps://repo1.maven.org/maven2/org/scala-lang/scala-compiler/2.12.8/scala-compi…\n",
            "\u001b[2K   38.6% [###       ] 3.9 MiB (19.0 MiB / s)\n",
            "\u001b[2Khttps://repo1.maven.org/maven2/com/lihaoyi/ammonite-util_2.12/1.6.4/ammonite-ut…\n",
            "\u001b[2K    0.0% [          ] 0B (0B / s)\n",
            "\u001b[2Khttps://repo1.maven.org/maven2/com/lihaoyi/ujson_2.12/0.7.1/ujson_2.12-0.7.1.jar\n",
            "\u001b[2K    0.0% [          ] 0B (0B / s)\n",
            "\u001b[2Khttps://repo1.maven.org/maven2/com/github/alexarchambault/case-app_2.12/2.0.0-M…\n",
            "\u001b[2K    0.0% [          ] 0B (0B / s)\n",
            "\u001b[2Khttps://repo1.maven.org/maven2/com/fasterxml/jackson/core/jackson-core/2.9.6/ja…\n",
            "\u001b[2K    0.0% [          ] 0B (0B / s)\n",
            "\u001b[2A\u001b[2A\u001b[2A\u001b[2A\u001b[2A\u001b[2A\u001b[10000D\u001b[2Khttps://repo1.maven.org/maven2/com/github/alexarchambault/case-app_2.12/2.0.0-M…\n",
            "\u001b[2K  100.0% [##########] 33.2 KiB (1.2 MiB / s)\n",
            "\u001b[2Khttps://repo1.maven.org/maven2/org/scalameta/transversers_2.12/4.1.4/transverse…\n",
            "\u001b[2K  100.0% [##########] 2.1 KiB (191.4 KiB / s)\n",
            "\u001b[2Khttps://repo1.maven.org/maven2/org/scala-lang/scala-reflect/2.12.8/scala-reflec…\n",
            "\u001b[2K   63.9% [######    ] 2.2 MiB (19.8 MiB / s)\n",
            "\u001b[2Khttps://repo1.maven.org/maven2/org/scala-lang/scala-compiler/2.12.8/scala-compi…\n",
            "\u001b[2K   40.5% [####      ] 4.1 MiB (18.5 MiB / s)\n",
            "\u001b[2Khttps://repo1.maven.org/maven2/com/lihaoyi/ujson_2.12/0.7.1/ujson_2.12-0.7.1.jar\n",
            "\u001b[2K    8.0% [          ] 15.5 KiB (484.6 KiB / s)\n",
            "\u001b[2Khttps://repo1.maven.org/maven2/com/lihaoyi/ammonite-util_2.12/1.6.4/ammonite-ut…\n",
            "\u001b[2K    0.0% [          ] 0B (0B / s)\n",
            "\u001b[2Khttps://repo1.maven.org/maven2/com/fasterxml/jackson/core/jackson-core/2.9.6/ja…\n",
            "\u001b[2K    0.0% [          ] 0B (0B / s)\n",
            "\u001b[2A\u001b[2A\u001b[2A\u001b[2A\u001b[2A\u001b[2A\u001b[10000D\u001b[2Khttps://repo1.maven.org/maven2/com/lihaoyi/ujson_2.12/0.7.1/ujson_2.12-0.7.1.jar\n",
            "\u001b[2K  100.0% [##########] 193.4 KiB (3.7 MiB / s)\n",
            "\u001b[2Khttps://repo1.maven.org/maven2/org/scalameta/transversers_2.12/4.1.4/transverse…\n",
            "\u001b[2K  100.0% [##########] 2.1 KiB (70.2 KiB / s)\n",
            "\u001b[2Khttps://repo1.maven.org/maven2/org/scala-lang/scala-reflect/2.12.8/scala-reflec…\n",
            "\u001b[2K   70.9% [#######   ] 2.5 MiB (18.7 MiB / s)\n",
            "\u001b[2Khttps://repo1.maven.org/maven2/com/fasterxml/jackson/core/jackson-core/2.9.6/ja…\n",
            "\u001b[2K   58.4% [#####     ] 191.5 KiB (4.2 MiB / s)\n",
            "\u001b[2Khttps://repo1.maven.org/maven2/org/scala-lang/scala-compiler/2.12.8/scala-compi…\n",
            "\u001b[2K   47.4% [####      ] 4.7 MiB (19.9 MiB / s)\n",
            "\u001b[2Khttps://repo1.maven.org/maven2/org/scalameta/metacp_2.12/4.1.4/metacp_2.12-4.1.…\n",
            "\u001b[2K   13.8% [#         ] 47.5 KiB (3.9 MiB / s)\n",
            "\u001b[2Khttps://repo1.maven.org/maven2/com/lihaoyi/ammonite-util_2.12/1.6.4/ammonite-ut…\n",
            "\u001b[2K    0.0% [          ] 0B (0B / s)\n",
            "\u001b[2Khttps://repo1.maven.org/maven2/com/lihaoyi/pprint_2.12/0.5.2/pprint_2.12-0.5.2-…\n",
            "\u001b[2K    0.0% [          ] 0B (0B / s)\n",
            "\u001b[2A\u001b[2A\u001b[2A\u001b[2A\u001b[2A\u001b[2A\u001b[10000D\u001b[2Khttps://repo1.maven.org/maven2/com/fasterxml/jackson/core/jackson-core/2.9.6/ja…\n",
            "\u001b[2K  100.0% [##########] 327.7 KiB (5.0 MiB / s)\n",
            "\u001b[2Khttps://repo1.maven.org/maven2/com/lihaoyi/ammonite-util_2.12/1.6.4/ammonite-ut…\n",
            "\u001b[2K  100.0% [##########] 9.4 KiB (93.3 KiB / s)\n",
            "\u001b[2Khttps://repo1.maven.org/maven2/org/jboss/logging/jboss-logging/3.3.2.Final/jbos…\n",
            "\u001b[2K  100.0% [##########] 64.9 KiB (3.7 MiB / s)\n",
            "\u001b[2Khttps://repo1.maven.org/maven2/com/lihaoyi/pprint_2.12/0.5.2/pprint_2.12-0.5.2-…\n",
            "\u001b[2K  100.0% [##########] 11.7 KiB (335.0 KiB / s)\n",
            "\u001b[2Khttps://repo1.maven.org/maven2/org/scalameta/metacp_2.12/4.1.4/metacp_2.12-4.1.…\n",
            "\u001b[2K  100.0% [##########] 343.9 KiB (10.5 MiB / s)\n",
            "\u001b[2Khttps://repo1.maven.org/maven2/org/scala-lang/scala-reflect/2.12.8/scala-reflec…\n",
            "\u001b[2K   80.8% [########  ] 2.8 MiB (18.5 MiB / s)\n",
            "\u001b[2Khttps://repo1.maven.org/maven2/org/scala-lang/scala-compiler/2.12.8/scala-compi…\n",
            "\u001b[2K   47.4% [####      ] 4.7 MiB (18.3 MiB / s)\n",
            "\u001b[2Khttps://repo1.maven.org/maven2/com/thesamet/scalapb/lenses_2.12/0.8.4/lenses_2.…\n",
            "\u001b[2K    0.0% [          ] 0B (0B / s)\n",
            "\u001b[2Khttps://repo1.maven.org/maven2/com/lihaoyi/utest_2.12/0.6.4/utest_2.12-0.6.4-so…\n",
            "\u001b[2K    0.0% [          ] 0B (0B / s)\n",
            "\u001b[2A\u001b[2A\u001b[2A\u001b[2A\u001b[2A\u001b[2A\u001b[10000D\u001b[2Khttps://repo1.maven.org/maven2/com/lihaoyi/acyclic_2.12/0.1.5/acyclic_2.12-0.1.…\n",
            "\u001b[2K  100.0% [##########] 6.3 KiB (313.6 KiB / s)\n",
            "\u001b[2Khttps://repo1.maven.org/maven2/com/lihaoyi/pprint_2.12/0.5.2/pprint_2.12-0.5.2-…\n",
            "\u001b[2K  100.0% [##########] 11.7 KiB (217.1 KiB / s)\n",
            "\u001b[2Khttps://repo1.maven.org/maven2/com/lihaoyi/utest_2.12/0.6.4/utest_2.12-0.6.4-so…\n",
            "\u001b[2K  100.0% [##########] 37.1 KiB (1.3 MiB / s)\n",
            "\u001b[2Khttps://repo1.maven.org/maven2/com/thesamet/scalapb/lenses_2.12/0.8.4/lenses_2.…\n",
            "\u001b[2K  100.0% [##########] 3.2 KiB (105.4 KiB / s)\n",
            "\u001b[2Khttps://repo1.maven.org/maven2/org/jline/jline-terminal/3.6.2/jline-terminal-3.…\n",
            "\u001b[2K  100.0% [##########] 119.3 KiB (8.3 MiB / s)\n",
            "\u001b[2Khttps://repo1.maven.org/maven2/org/scalameta/metacp_2.12/4.1.4/metacp_2.12-4.1.…\n",
            "\u001b[2K  100.0% [##########] 343.9 KiB (6.5 MiB / s)\n",
            "\u001b[2Khttps://repo1.maven.org/maven2/org/scala-lang/scala-reflect/2.12.8/scala-reflec…\n",
            "\u001b[2K  100.0% [##########] 3.5 MiB (20.2 MiB / s)\n",
            "\u001b[2Khttps://repo1.maven.org/maven2/org/scala-lang/scala-compiler/2.12.8/scala-compi…\n",
            "\u001b[2K   51.4% [#####     ] 5.2 MiB (18.5 MiB / s)\n",
            "\u001b[2Khttps://repo1.maven.org/maven2/io/undertow/undertow-core/2.0.17.Final/undertow-…\n",
            "\u001b[2K    5.1% [          ] 63.5 KiB (6.2 MiB / s)\n",
            "\u001b[2Khttps://repo1.maven.org/maven2/org/scodec/scodec-bits_2.12/1.1.9/scodec-bits_2.…\n",
            "\u001b[2K    0.0% [          ] 0B (0B / s)\n",
            "\u001b[2Khttps://repo1.maven.org/maven2/org/typelevel/cats-core_2.12/1.6.0/cats-core_2.1…\n",
            "\u001b[2K    0.0% [          ] 0B (0B / s)\n",
            "\u001b[2Khttps://repo1.maven.org/maven2/org/json4s/json4s-ast_2.12/3.6.2/json4s-ast_2.12…\n",
            "\u001b[2K    0.0% [          ] 0B (0B / s)\n",
            "\u001b[2A\u001b[2A\u001b[2A\u001b[2A\u001b[2A\u001b[2A\u001b[10000D\u001b[2Khttps://repo1.maven.org/maven2/org/json4s/json4s-ast_2.12/3.6.2/json4s-ast_2.12…\n",
            "\u001b[2K  100.0% [##########] 81.6 KiB (3.6 MiB / s)\n",
            "\u001b[2Khttps://repo1.maven.org/maven2/org/scala-lang/scala-reflect/2.12.8/scala-reflec…\n",
            "\u001b[2K  100.0% [##########] 3.5 MiB (18.2 MiB / s)\n",
            "\u001b[2Khttps://repo1.maven.org/maven2/org/scodec/scodec-bits_2.12/1.1.9/scodec-bits_2.…\n",
            "\u001b[2K  100.0% [##########] 37.6 KiB (1.0 MiB / s)\n",
            "\u001b[2Khttps://repo1.maven.org/maven2/org/wildfly/client/wildfly-client-config/1.0.0.F…\n",
            "\u001b[2K  100.0% [##########] 46.1 KiB (3.0 MiB / s)\n",
            "\u001b[2Khttps://repo1.maven.org/maven2/org/jboss/xnio/xnio-nio/3.7.0.Final/xnio-nio-3.7…\n",
            "\u001b[2K  100.0% [##########] 118.6 KiB (6.8 MiB / s)\n",
            "\u001b[2Khttps://repo1.maven.org/maven2/org/scala-lang/scala-compiler/2.12.8/scala-compi…\n",
            "\u001b[2K   55.5% [#####     ] 5.6 MiB (18.6 MiB / s)\n",
            "\u001b[2Khttps://repo1.maven.org/maven2/io/undertow/undertow-core/2.0.17.Final/undertow-…\n",
            "\u001b[2K   53.5% [#####     ] 664.6 KiB (21.6 MiB / s)\n",
            "\u001b[2Khttps://repo1.maven.org/maven2/org/typelevel/cats-core_2.12/1.6.0/cats-core_2.1…\n",
            "\u001b[2K    3.6% [          ] 160.0 KiB (6.3 MiB / s)\n",
            "\u001b[2Khttps://repo1.maven.org/maven2/com/thoughtworks/paranamer/paranamer/2.8/paranam…\n",
            "\u001b[2K    0.0% [          ] 0B (0B / s)\n",
            "\u001b[2Khttps://repo1.maven.org/maven2/com/lihaoyi/sourcecode_2.12/0.1.5/sourcecode_2.1…\n",
            "\u001b[2K    0.0% [          ] 0B (0B / s)\n",
            "\u001b[2A\u001b[2A\u001b[2A\u001b[2A\u001b[2A\u001b[2A\u001b[10000D\u001b[2Khttps://repo1.maven.org/maven2/com/lihaoyi/sourcecode_2.12/0.1.5/sourcecode_2.1…\n",
            "\u001b[2K  100.0% [##########] 108.9 KiB (4.1 MiB / s)\n",
            "\u001b[2Khttps://repo1.maven.org/maven2/org/jboss/xnio/xnio-nio/3.7.0.Final/xnio-nio-3.7…\n",
            "\u001b[2K  100.0% [##########] 118.6 KiB (3.2 MiB / s)\n",
            "\u001b[2Khttps://repo1.maven.org/maven2/com/thoughtworks/paranamer/paranamer/2.8/paranam…\n",
            "\u001b[2K  100.0% [##########] 33.8 KiB (1.2 MiB / s)\n",
            "\u001b[2Khttps://repo1.maven.org/maven2/io/undertow/undertow-core/2.0.17.Final/undertow-…\n",
            "\u001b[2K   75.3% [#######   ] 936.6 KiB (18.7 MiB / s)\n",
            "\u001b[2Khttps://repo1.maven.org/maven2/org/scala-lang/scala-compiler/2.12.8/scala-compi…\n",
            "\u001b[2K   58.1% [#####     ] 5.8 MiB (18.3 MiB / s)\n",
            "\u001b[2Khttps://repo1.maven.org/maven2/org/typelevel/cats-core_2.12/1.6.0/cats-core_2.1…\n",
            "\u001b[2K   13.9% [#         ] 619.0 KiB (13.4 MiB / s)\n",
            "\u001b[2Khttps://repo1.maven.org/maven2/com/github/alexarchambault/case-app-util_2.12/2.…\n",
            "\u001b[2K    0.0% [          ] 0B (0B / s)\n",
            "\u001b[2Khttps://repo1.maven.org/maven2/com/lihaoyi/ammonite-interp_2.12.8/1.6.4/ammonit…\n",
            "\u001b[2K    0.0% [          ] 0B (0B / s)\n",
            "\u001b[2A\u001b[2A\u001b[2A\u001b[2A\u001b[2A\u001b[2A\u001b[10000D\u001b[2Khttps://repo1.maven.org/maven2/com/thoughtworks/paranamer/paranamer/2.8/paranam…\n",
            "\u001b[2K  100.0% [##########] 33.8 KiB (705.0 KiB / s)\n",
            "\u001b[2Khttps://repo1.maven.org/maven2/com/lihaoyi/ammonite-interp_2.12.8/1.6.4/ammonit…\n",
            "\u001b[2K  100.0% [##########] 37.8 KiB (1.7 MiB / s)\n",
            "\u001b[2Khttps://repo1.maven.org/maven2/io/undertow/undertow-core/2.0.17.Final/undertow-…\n",
            "\u001b[2K   75.3% [#######   ] 936.6 KiB (13.1 MiB / s)\n",
            "\u001b[2Khttps://repo1.maven.org/maven2/org/scala-lang/scala-compiler/2.12.8/scala-compi…\n",
            "\u001b[2K   60.9% [######    ] 6.1 MiB (18.0 MiB / s)\n",
            "\u001b[2Khttps://repo1.maven.org/maven2/org/typelevel/cats-core_2.12/1.6.0/cats-core_2.1…\n",
            "\u001b[2K   18.6% [#         ] 827.0 KiB (12.4 MiB / s)\n",
            "\u001b[2Khttps://repo1.maven.org/maven2/com/github/alexarchambault/case-app-util_2.12/2.…\n",
            "\u001b[2K    0.0% [          ] 0B (0B / s)\n",
            "\u001b[2A\u001b[2A\u001b[2A\u001b[2A\u001b[2A\u001b[2A\u001b[10000D\u001b[2Khttps://repo1.maven.org/maven2/com/github/alexarchambault/case-app-util_2.12/2.…\n",
            "\u001b[2K  100.0% [##########] 3.5 KiB (82.2 KiB / s)\n",
            "\u001b[2Khttps://repo1.maven.org/maven2/com/lihaoyi/ammonite-interp_2.12.8/1.6.4/ammonit…\n",
            "\u001b[2K  100.0% [##########] 37.8 KiB (920.8 KiB / s)\n",
            "\u001b[2Khttps://repo1.maven.org/maven2/com/thoughtworks/paranamer/paranamer/2.8/paranam…\n",
            "\u001b[2K  100.0% [##########] 33.8 KiB (497.7 KiB / s)\n",
            "\u001b[2Khttps://repo1.maven.org/maven2/io/undertow/undertow-core/2.0.17.Final/undertow-…\n",
            "\u001b[2K  100.0% [##########] 1.2 MiB (13.5 MiB / s)\n",
            "\u001b[2Khttps://repo1.maven.org/maven2/org/scala-lang/scala-compiler/2.12.8/scala-compi…\n",
            "\u001b[2K   63.1% [######    ] 6.3 MiB (17.6 MiB / s)\n",
            "\u001b[2Khttps://repo1.maven.org/maven2/org/typelevel/cats-core_2.12/1.6.0/cats-core_2.1…\n",
            "\u001b[2K   30.7% [###       ] 1.3 MiB (15.7 MiB / s)\n",
            "\u001b[2Khttps://repo1.maven.org/maven2/org/scalameta/semanticdb_2.12/4.1.4/semanticdb_2…\n",
            "\u001b[2K    6.4% [          ] 96.0 KiB (6.3 MiB / s)\n",
            "\u001b[2Khttps://repo1.maven.org/maven2/org/typelevel/cats-effect_2.12/1.2.0/cats-effect…\n",
            "\u001b[2K    0.0% [          ] 0B (0B / s)\n",
            "\u001b[2Khttps://repo1.maven.org/maven2/org/jboss/threads/jboss-threads/2.3.0.Beta2/jbos…\n",
            "\u001b[2K    0.0% [          ] 0B (0B / s)\n",
            "\u001b[2Khttps://repo1.maven.org/maven2/org/jboss/logging/jboss-logging/3.3.2.Final/jbos…\n",
            "\u001b[2K    0.0% [          ] 0B (0B / s)\n",
            "\u001b[2A\u001b[2A\u001b[2A\u001b[2A\u001b[2A\u001b[2A\u001b[10000D\u001b[2Khttps://repo1.maven.org/maven2/org/jboss/logging/jboss-logging/3.3.2.Final/jbos…\n",
            "\u001b[2K  100.0% [##########] 54.0 KiB (2.0 MiB / s)\n",
            "\u001b[2Khttps://repo1.maven.org/maven2/org/jboss/threads/jboss-threads/2.3.0.Beta2/jbos…\n",
            "\u001b[2K  100.0% [##########] 163.4 KiB (5.7 MiB / s)\n",
            "\u001b[2Khttps://repo1.maven.org/maven2/org/scala-lang/scala-compiler/2.12.8/scala-compi…\n",
            "\u001b[2K   67.8% [######    ] 6.8 MiB (18.0 MiB / s)\n",
            "\u001b[2Khttps://repo1.maven.org/maven2/org/typelevel/cats-effect_2.12/1.2.0/cats-effect…\n",
            "\u001b[2K   53.8% [#####     ] 472.6 KiB (14.0 MiB / s)\n",
            "\u001b[2Khttps://repo1.maven.org/maven2/org/typelevel/cats-core_2.12/1.6.0/cats-core_2.1…\n",
            "\u001b[2K   42.0% [####      ] 1.8 MiB (17.4 MiB / s)\n",
            "\u001b[2Khttps://repo1.maven.org/maven2/org/scalameta/semanticdb_2.12/4.1.4/semanticdb_2…\n",
            "\u001b[2K   28.6% [##        ] 432.0 KiB (12.1 MiB / s)\n",
            "\u001b[2Khttps://repo1.maven.org/maven2/org/json4s/json4s-scalap_2.12/3.6.2/json4s-scala…\n",
            "\u001b[2K    0.0% [          ] 0B (0B / s)\n",
            "\u001b[2Khttps://jitpack.io/com/github/jupyter/jvm-repr/0.4.0/jvm-repr-0.4.0-sources.jar\n",
            "\u001b[2K    0.0% [          ] 0B (0B / s)\n",
            "\u001b[2A\u001b[2A\u001b[2A\u001b[2A\u001b[2A\u001b[2A\u001b[10000D\u001b[2Khttps://repo1.maven.org/maven2/org/json4s/json4s-scalap_2.12/3.6.2/json4s-scala…\n",
            "\u001b[2K  100.0% [##########] 18.2 KiB (568.8 KiB / s)\n",
            "\u001b[2Khttps://repo1.maven.org/maven2/org/typelevel/cats-effect_2.12/1.2.0/cats-effect…\n",
            "\u001b[2K  100.0% [##########] 878.6 KiB (16.2 MiB / s)\n",
            "\u001b[2Khttps://repo1.maven.org/maven2/org/typelevel/machinist_2.12/0.6.6/machinist_2.1…\n",
            "\u001b[2K  100.0% [##########] 3.5 KiB (266.4 KiB / s)\n",
            "\u001b[2Khttps://repo1.maven.org/maven2/org/scala-lang/scala-compiler/2.12.8/scala-compi…\n",
            "\u001b[2K   73.6% [#######   ] 7.4 MiB (18.5 MiB / s)\n",
            "\u001b[2Khttps://repo1.maven.org/maven2/org/scalameta/semanticdb_2.12/4.1.4/semanticdb_2…\n",
            "\u001b[2K   58.0% [#####     ] 875.0 KiB (15.8 MiB / s)\n",
            "\u001b[2Khttps://repo1.maven.org/maven2/org/typelevel/cats-core_2.12/1.6.0/cats-core_2.1…\n",
            "\u001b[2K   57.7% [#####     ] 2.5 MiB (20.1 MiB / s)\n",
            "\u001b[2Khttps://jitpack.io/com/github/jupyter/jvm-repr/0.4.0/jvm-repr-0.4.0-sources.jar\n",
            "\u001b[2K    0.0% [          ] 0B (0B / s)\n",
            "\u001b[2Khttps://repo1.maven.org/maven2/com/github/alexarchambault/case-app-annotations_…\n",
            "\u001b[2K    0.0% [          ] 0B (0B / s)\n",
            "\u001b[2Khttps://repo1.maven.org/maven2/com/lihaoyi/sourcecode_2.12/0.1.5/sourcecode_2.1…\n",
            "\u001b[2K    0.0% [          ] 0B (0B / s)\n",
            "\u001b[2A\u001b[2A\u001b[2A\u001b[2A\u001b[2A\u001b[2A\u001b[10000D\u001b[2Khttps://repo1.maven.org/maven2/org/scalameta/semanticdb_2.12/4.1.4/semanticdb_2…\n",
            "\u001b[2K   73.9% [#######   ] 1.1 MiB (14.7 MiB / s)\n",
            "\u001b[2Khttps://repo1.maven.org/maven2/org/scala-lang/scala-compiler/2.12.8/scala-compi…\n",
            "\u001b[2K   73.6% [#######   ] 7.4 MiB (17.6 MiB / s)\n",
            "\u001b[2Khttps://repo1.maven.org/maven2/org/typelevel/cats-core_2.12/1.6.0/cats-core_2.1…\n",
            "\u001b[2K   59.5% [#####     ] 2.6 MiB (18.0 MiB / s)\n",
            "\u001b[2Khttps://jitpack.io/com/github/jupyter/jvm-repr/0.4.0/jvm-repr-0.4.0-sources.jar\n",
            "\u001b[2K    0.0% [          ] 0B (0B / s)\n",
            "\u001b[2Khttps://repo1.maven.org/maven2/com/github/alexarchambault/case-app-annotations_…\n",
            "\u001b[2K    0.0% [          ] 0B (0B / s)\n",
            "\u001b[2Khttps://repo1.maven.org/maven2/com/lihaoyi/sourcecode_2.12/0.1.5/sourcecode_2.1…\n",
            "\u001b[2K    0.0% [          ] 0B (0B / s)\n",
            "\u001b[2A\u001b[2A\u001b[2A\u001b[2A\u001b[2A\u001b[2A\u001b[10000D\u001b[2Khttps://jitpack.io/com/github/jupyter/jvm-repr/0.4.0/jvm-repr-0.4.0-sources.jar\n",
            "\u001b[2K  100.0% [##########] 6.1 KiB (99.8 KiB / s)\n",
            "\u001b[2Khttps://repo1.maven.org/maven2/com/fasterxml/jackson/core/jackson-annotations/2…\n",
            "\u001b[2K  100.0% [##########] 65.0 KiB (4.5 MiB / s)\n",
            "\u001b[2Khttps://repo1.maven.org/maven2/com/github/alexarchambault/case-app-annotations_…\n",
            "\u001b[2K  100.0% [##########] 948B (22.0 KiB / s)\n",
            "\u001b[2Khttps://repo1.maven.org/maven2/com/github/pathikrit/better-files_2.12/3.7.0/bet…\n",
            "\u001b[2K  100.0% [##########] 30.0 KiB (2.3 MiB / s)\n",
            "\u001b[2Khttps://repo1.maven.org/maven2/com/lihaoyi/sourcecode_2.12/0.1.5/sourcecode_2.1…\n",
            "\u001b[2K  100.0% [##########] 2.5 KiB (61.8 KiB / s)\n",
            "\u001b[2Khttps://repo1.maven.org/maven2/org/typelevel/machinist_2.12/0.6.6/machinist_2.1…\n",
            "\u001b[2K  100.0% [##########] 33.0 KiB (2.7 MiB / s)\n",
            "\u001b[2Khttps://repo1.maven.org/maven2/org/scalameta/semanticdb_2.12/4.1.4/semanticdb_2…\n",
            "\u001b[2K   95.4% [######### ] 1.4 MiB (14.8 MiB / s)\n",
            "\u001b[2Khttps://repo1.maven.org/maven2/org/scala-lang/scala-compiler/2.12.8/scala-compi…\n",
            "\u001b[2K   77.2% [#######   ] 7.7 MiB (17.6 MiB / s)\n",
            "\u001b[2Khttps://repo1.maven.org/maven2/org/typelevel/cats-core_2.12/1.6.0/cats-core_2.1…\n",
            "\u001b[2K   69.5% [######    ] 3.0 MiB (18.3 MiB / s)\n",
            "\u001b[2Khttps://repo1.maven.org/maven2/org/scala-lang/scala-library/2.12.8/scala-librar…\n",
            "\u001b[2K    0.0% [          ] 0B (0B / s)\n",
            "\u001b[2Khttps://repo1.maven.org/maven2/org/scalameta/metabrowse-server_2.12/0.2.2/metab…\n",
            "\u001b[2K    0.0% [          ] 0B (0B / s)\n",
            "\u001b[2A\u001b[2A\u001b[2A\u001b[2A\u001b[2A\u001b[10000D\u001b[2Khttps://repo1.maven.org/maven2/org/scalameta/metabrowse-server_2.12/0.2.2/metab…\n",
            "\u001b[2K  100.0% [##########] 36.2 KiB (1.5 MiB / s)\n",
            "\u001b[2Khttps://repo1.maven.org/maven2/org/scalameta/semanticdb_2.12/4.1.4/semanticdb_2…\n",
            "\u001b[2K  100.0% [##########] 1.5 MiB (12.9 MiB / s)\n",
            "\u001b[2Khttps://repo1.maven.org/maven2/org/typelevel/cats-core_2.12/1.6.0/cats-core_2.1…\n",
            "\u001b[2K   85.9% [########  ] 3.7 MiB (20.3 MiB / s)\n",
            "\u001b[2Khttps://repo1.maven.org/maven2/org/scala-lang/scala-compiler/2.12.8/scala-compi…\n",
            "\u001b[2K   83.1% [########  ] 8.3 MiB (18.2 MiB / s)\n",
            "\u001b[2Khttps://repo1.maven.org/maven2/org/scala-lang/scala-library/2.12.8/scala-librar…\n",
            "\u001b[2K   61.8% [######    ] 616.6 KiB (21.5 MiB / s)\n",
            "\u001b[2Khttps://repo1.maven.org/maven2/org/typelevel/cats-kernel_2.12/1.6.0/cats-kernel…\n",
            "\u001b[2K    0.0% [          ] 0B (0B / s)\n",
            "\u001b[2Khttps://repo1.maven.org/maven2/org/json4s/json4s-scalap_2.12/3.6.2/json4s-scala…\n",
            "\u001b[2K    0.0% [          ] 0B (0B / s)\n",
            "\u001b[2Khttps://repo1.maven.org/maven2/com/github/alexarchambault/case-app-annotations_…\n",
            "\u001b[2K    0.0% [          ] 0B (0B / s)\n",
            "\u001b[2A\u001b[2A\u001b[2A\u001b[2A\u001b[2A\u001b[2A\u001b[10000D\u001b[2Khttps://repo1.maven.org/maven2/com/github/alexarchambault/case-app-annotations_…\n",
            "\u001b[2K  100.0% [##########] 11.3 KiB (450.0 KiB / s)\n",
            "\u001b[2Khttps://repo1.maven.org/maven2/org/json4s/json4s-jackson_2.12/3.6.2/json4s-jack…\n",
            "\u001b[2K  100.0% [##########] 35.4 KiB (2.9 MiB / s)\n",
            "\u001b[2Khttps://repo1.maven.org/maven2/org/json4s/json4s-scalap_2.12/3.6.2/json4s-scala…\n",
            "\u001b[2K  100.0% [##########] 342.3 KiB (8.4 MiB / s)\n",
            "\u001b[2Khttps://repo1.maven.org/maven2/org/typelevel/cats-kernel_2.12/1.6.0/cats-kernel…\n",
            "\u001b[2K  100.0% [##########] 44.9 KiB (1.2 MiB / s)\n",
            "\u001b[2Khttps://repo1.maven.org/maven2/org/scala-lang/scala-library/2.12.8/scala-librar…\n",
            "\u001b[2K  100.0% [##########] 997.0 KiB (19.9 MiB / s)\n",
            "\u001b[2Khttps://repo1.maven.org/maven2/org/typelevel/cats-core_2.12/1.6.0/cats-core_2.1…\n",
            "\u001b[2K   92.3% [######### ] 4.0 MiB (19.6 MiB / s)\n",
            "\u001b[2Khttps://repo1.maven.org/maven2/org/scala-lang/scala-compiler/2.12.8/scala-compi…\n",
            "\u001b[2K   86.6% [########  ] 8.7 MiB (18.1 MiB / s)\n",
            "\u001b[2Khttps://repo1.maven.org/maven2/org/scalameta/trees_2.12/4.1.4/trees_2.12-4.1.4-…\n",
            "\u001b[2K    0.0% [          ] 0B (0B / s)\n",
            "\u001b[2Khttps://repo1.maven.org/maven2/com/github/alexarchambault/case-app_2.12/2.0.0-M…\n",
            "\u001b[2K    0.0% [          ] 0B (0B / s)\n",
            "\u001b[2Khttps://repo1.maven.org/maven2/com/github/javaparser/javaparser-core/3.2.5/java…\n",
            "\u001b[2K    0.0% [          ] 0B (0B / s)\n",
            "\u001b[2A\u001b[2A\u001b[2A\u001b[2A\u001b[2A\u001b[2A\u001b[10000D\u001b[2Khttps://repo1.maven.org/maven2/com/lihaoyi/fansi_2.12/0.2.4/fansi_2.12-0.2.4.jar\n",
            "\u001b[2K  100.0% [##########] 62.8 KiB (3.2 MiB / s)\n",
            "\u001b[2Khttps://repo1.maven.org/maven2/org/jline/jline-reader/3.6.2/jline-reader-3.6.2-…\n",
            "\u001b[2K  100.0% [##########] 82.6 KiB (7.3 MiB / s)\n",
            "\u001b[2Khttps://repo1.maven.org/maven2/org/scala-lang/scala-library/2.12.8/scala-librar…\n",
            "\u001b[2K  100.0% [##########] 997.0 KiB (14.3 MiB / s)\n",
            "\u001b[2Khttps://repo1.maven.org/maven2/org/scalameta/quasiquotes_2.12/4.1.4/quasiquotes…\n",
            "\u001b[2K  100.0% [##########] 10.0 KiB (588.1 KiB / s)\n",
            "\u001b[2Khttps://repo1.maven.org/maven2/org/scalameta/trees_2.12/4.1.4/trees_2.12-4.1.4-…\n",
            "\u001b[2K  100.0% [##########] 23.5 KiB (905.0 KiB / s)\n",
            "\u001b[2Khttps://repo1.maven.org/maven2/org/typelevel/cats-core_2.12/1.6.0/cats-core_2.1…\n",
            "\u001b[2K  100.0% [##########] 4.4 MiB (19.3 MiB / s)\n",
            "\u001b[2Khttps://repo1.maven.org/maven2/org/scala-lang/scala-compiler/2.12.8/scala-compi…\n",
            "\u001b[2K   92.9% [######### ] 9.3 MiB (18.7 MiB / s)\n",
            "\u001b[2Khttps://repo1.maven.org/maven2/com/github/javaparser/javaparser-core/3.2.5/java…\n",
            "\u001b[2K   67.3% [######    ] 335.5 KiB (14.2 MiB / s)\n",
            "\u001b[2Khttps://repo1.maven.org/maven2/com/github/alexarchambault/case-app_2.12/2.0.0-M…\n",
            "\u001b[2K    0.0% [          ] 0B (0B / s)\n",
            "\u001b[2Khttps://repo1.maven.org/maven2/com/lihaoyi/scalaparse_2.12/2.1.0/scalaparse_2.1…\n",
            "\u001b[2K    0.0% [          ] 0B (0B / s)\n",
            "\u001b[2Khttps://repo1.maven.org/maven2/com/thesamet/scalapb/scalapb-json4s_2.12/0.7.2/s…\n",
            "\u001b[2K    0.0% [          ] 0B (0B / s)\n",
            "\u001b[2Khttps://repo1.maven.org/maven2/com/thesamet/scalapb/scalapb-runtime_2.12/0.8.4/…\n",
            "\u001b[2K    0.0% [          ] 0B (0B / s)\n",
            "\u001b[2A\u001b[2A\u001b[2A\u001b[2A\u001b[2A\u001b[2A\u001b[10000D\u001b[2Khttps://repo1.maven.org/maven2/com/thesamet/scalapb/scalapb-json4s_2.12/0.7.2/s…\n",
            "\u001b[2K  100.0% [##########] 12.1 KiB (549.8 KiB / s)\n",
            "\u001b[2Khttps://repo1.maven.org/maven2/com/github/javaparser/javaparser-core/3.2.5/java…\n",
            "\u001b[2K  100.0% [##########] 498.2 KiB (11.6 MiB / s)\n",
            "\u001b[2Khttps://repo1.maven.org/maven2/org/scala-lang/scala-compiler/2.12.8/scala-compi…\n",
            "\u001b[2K   92.9% [######### ] 9.3 MiB (18.0 MiB / s)\n",
            "\u001b[2Khttps://repo1.maven.org/maven2/com/lihaoyi/scalaparse_2.12/2.1.0/scalaparse_2.1…\n",
            "\u001b[2K   18.4% [#         ] 79.5 KiB (3.0 MiB / s)\n",
            "\u001b[2Khttps://repo1.maven.org/maven2/com/github/alexarchambault/case-app_2.12/2.0.0-M…\n",
            "\u001b[2K    0.0% [          ] 0B (0B / s)\n",
            "\u001b[2Khttps://repo1.maven.org/maven2/com/thesamet/scalapb/scalapb-runtime_2.12/0.8.4/…\n",
            "\u001b[2K    0.0% [          ] 0B (0B / s)\n",
            "\u001b[2Khttps://repo1.maven.org/maven2/org/scalameta/tokenizers_2.12/4.1.4/tokenizers_2…\n",
            "\u001b[2K    0.0% [          ] 0B (0B / s)\n",
            "\u001b[2A\u001b[2A\u001b[2A\u001b[2A\u001b[2A\u001b[2A\u001b[10000D\u001b[2Khttps://repo1.maven.org/maven2/com/github/javaparser/javaparser-core/3.2.5/java…\n",
            "\u001b[2K  100.0% [##########] 498.2 KiB (7.7 MiB / s)\n",
            "\u001b[2Khttps://repo1.maven.org/maven2/com/lihaoyi/scalaparse_2.12/2.1.0/scalaparse_2.1…\n",
            "\u001b[2K  100.0% [##########] 431.4 KiB (9.2 MiB / s)\n",
            "\u001b[2Khttps://repo1.maven.org/maven2/org/scala-lang/scala-compiler/2.12.8/scala-compi…\n",
            "\u001b[2K  100.0% [##########] 10.0 MiB (18.6 MiB / s)\n",
            "\u001b[2Khttps://repo1.maven.org/maven2/com/github/alexarchambault/case-app_2.12/2.0.0-M…\n",
            "\u001b[2K  100.0% [##########] 321.3 KiB (4.9 MiB / s)\n",
            "\u001b[2Khttps://repo1.maven.org/maven2/com/thesamet/scalapb/scalapb-runtime_2.12/0.8.4/…\n",
            "\u001b[2K   60.4% [######    ] 1.1 MiB (27.9 MiB / s)\n",
            "\u001b[2Khttps://repo1.maven.org/maven2/org/jboss/xnio/xnio-api/3.7.0.Final/xnio-api-3.7…\n",
            "\u001b[2K   14.0% [#         ] 80.0 KiB (7.8 MiB / s)\n",
            "\u001b[2Khttps://repo1.maven.org/maven2/org/scalameta/tokenizers_2.12/4.1.4/tokenizers_2…\n",
            "\u001b[2K    0.0% [          ] 0B (0B / s)\n",
            "\u001b[2Khttps://repo1.maven.org/maven2/org/jboss/xnio/xnio-api/3.7.0.Final/xnio-api-3.7…\n",
            "\u001b[2K    0.0% [          ] 0B (0B / s)\n",
            "\u001b[2A\u001b[2A\u001b[2A\u001b[2A\u001b[2A\u001b[2A\u001b[10000D\u001b[2Khttps://repo1.maven.org/maven2/com/github/alexarchambault/case-app_2.12/2.0.0-M…\n",
            "\u001b[2K  100.0% [##########] 321.3 KiB (3.8 MiB / s)\n",
            "\u001b[2Khttps://repo1.maven.org/maven2/org/jboss/xnio/xnio-api/3.7.0.Final/xnio-api-3.7…\n",
            "\u001b[2K  100.0% [##########] 571.6 KiB (19.2 MiB / s)\n",
            "\u001b[2Khttps://repo1.maven.org/maven2/org/scala-lang/scala-compiler/2.12.8/scala-compi…\n",
            "\u001b[2K  100.0% [##########] 10.0 MiB (18.0 MiB / s)\n",
            "\u001b[2Khttps://repo1.maven.org/maven2/org/scalameta/metabrowse-cli_2.12/0.2.2/metabrow…\n",
            "\u001b[2K  100.0% [##########] 10.1 KiB (529.8 KiB / s)\n",
            "\u001b[2Khttps://repo1.maven.org/maven2/org/scalameta/tokenizers_2.12/4.1.4/tokenizers_2…\n",
            "\u001b[2K  100.0% [##########] 121.1 KiB (2.2 MiB / s)\n",
            "\u001b[2Khttps://repo1.maven.org/maven2/com/thesamet/scalapb/scalapb-runtime_2.12/0.8.4/…\n",
            "\u001b[2K  100.0% [##########] 1.9 MiB (31.1 MiB / s)\n",
            "\u001b[2Khttps://repo1.maven.org/maven2/org/jboss/xnio/xnio-api/3.7.0.Final/xnio-api-3.7…\n",
            "\u001b[2K  100.0% [##########] 366.6 KiB (13.8 MiB / s)\n",
            "\u001b[2Khttps://repo1.maven.org/maven2/io/undertow/undertow-core/2.0.17.Final/undertow-…\n",
            "\u001b[2K   19.2% [#         ] 424.6 KiB (20.7 MiB / s)\n",
            "\u001b[2Khttps://repo1.maven.org/maven2/com/lihaoyi/fansi_2.12/0.2.4/fansi_2.12-0.2.4-so…\n",
            "\u001b[2K    0.0% [          ] 0B (0B / s)\n",
            "\u001b[2Khttps://repo1.maven.org/maven2/org/scalameta/semanticdb-scalac-core_2.12.7/4.1.…\n",
            "\u001b[2K    0.0% [          ] 0B (0B / s)\n",
            "\u001b[2Khttps://repo1.maven.org/maven2/com/lihaoyi/geny_2.12/0.1.5/geny_2.12-0.1.5-sour…\n",
            "\u001b[2K    0.0% [          ] 0B (0B / s)\n",
            "\u001b[2A\u001b[2A\u001b[2A\u001b[2A\u001b[2A\u001b[2A\u001b[10000D\u001b[2Khttps://repo1.maven.org/maven2/com/lihaoyi/fansi_2.12/0.2.4/fansi_2.12-0.2.4-so…\n",
            "\u001b[2K  100.0% [##########] 9.2 KiB (398.6 KiB / s)\n",
            "\u001b[2Khttps://repo1.maven.org/maven2/com/lihaoyi/geny_2.12/0.1.5/geny_2.12-0.1.5-sour…\n",
            "\u001b[2K  100.0% [##########] 3.5 KiB (174.6 KiB / s)\n",
            "\u001b[2Khttps://repo1.maven.org/maven2/com/thesamet/scalapb/scalapb-runtime_2.12/0.8.4/…\n",
            "\u001b[2K  100.0% [##########] 1.9 MiB (23.7 MiB / s)\n",
            "\u001b[2Khttps://repo1.maven.org/maven2/org/jboss/xnio/xnio-api/3.7.0.Final/xnio-api-3.7…\n",
            "\u001b[2K  100.0% [##########] 366.6 KiB (8.0 MiB / s)\n",
            "\u001b[2Khttps://repo1.maven.org/maven2/org/scalameta/interactive_2.12.7/4.1.4/interacti…\n",
            "\u001b[2K  100.0% [##########] 2.4 KiB (294.8 KiB / s)\n",
            "\u001b[2Khttps://repo1.maven.org/maven2/org/scalameta/semanticdb-scalac-core_2.12.7/4.1.…\n",
            "\u001b[2K  100.0% [##########] 31.7 KiB (1.3 MiB / s)\n",
            "\u001b[2Khttps://repo1.maven.org/maven2/org/wildfly/common/wildfly-common/1.3.0.Final/wi…\n",
            "\u001b[2K  100.0% [##########] 216.5 KiB (16.3 MiB / s)\n",
            "\u001b[2Khttps://repo1.maven.org/maven2/io/undertow/undertow-core/2.0.17.Final/undertow-…\n",
            "\u001b[2K   97.6% [######### ] 2.1 MiB (52.6 MiB / s)\n",
            "\u001b[2Khttps://repo1.maven.org/maven2/com/fasterxml/jackson/core/jackson-databind/2.9.…\n",
            "\u001b[2K   53.0% [#####     ] 699.0 KiB (37.9 MiB / s)\n",
            "\u001b[2Khttps://repo1.maven.org/maven2/com/lihaoyi/os-lib_2.12/0.2.6/os-lib_2.12-0.2.6-…\n",
            "\u001b[2K    0.0% [          ] 0B (0B / s)\n",
            "\u001b[2Khttps://repo1.maven.org/maven2/org/jboss/threads/jboss-threads/2.3.0.Beta2/jbos…\n",
            "\u001b[2K    0.0% [          ] 0B (0B / s)\n",
            "\u001b[2Khttps://repo1.maven.org/maven2/io/get-coursier/coursier-cache_2.12/1.1.0-M7/cou…\n",
            "\u001b[2K    0.0% [          ] 0B (0B / s)\n",
            "\u001b[2A\u001b[2A\u001b[2A\u001b[2A\u001b[2A\u001b[2A\u001b[10000D\u001b[2Khttps://repo1.maven.org/maven2/com/lihaoyi/os-lib_2.12/0.2.6/os-lib_2.12-0.2.6-…\n",
            "\u001b[2K  100.0% [##########] 28.5 KiB (982.0 KiB / s)\n",
            "\u001b[2Khttps://repo1.maven.org/maven2/org/jboss/threads/jboss-threads/2.3.0.Beta2/jbos…\n",
            "\u001b[2K  100.0% [##########] 121.7 KiB (4.2 MiB / s)\n",
            "\u001b[2Khttps://repo1.maven.org/maven2/org/wildfly/common/wildfly-common/1.3.0.Final/wi…\n",
            "\u001b[2K  100.0% [##########] 216.5 KiB (6.6 MiB / s)\n",
            "\u001b[2Khttps://repo1.maven.org/maven2/io/undertow/undertow-core/2.0.17.Final/undertow-…\n",
            "\u001b[2K  100.0% [##########] 2.2 MiB (36.5 MiB / s)\n",
            "\u001b[2Khttps://repo1.maven.org/maven2/com/fasterxml/jackson/core/jackson-databind/2.9.…\n",
            "\u001b[2K  100.0% [##########] 1.3 MiB (33.9 MiB / s)\n",
            "\u001b[2Khttps://repo1.maven.org/maven2/io/get-coursier/coursier-cache_2.12/1.1.0-M7/cou…\n",
            "\u001b[2K   93.1% [######### ] 31.5 KiB (1.6 MiB / s)\n",
            "\u001b[2Khttps://repo1.maven.org/maven2/io/get-coursier/coursier-cache_2.12/1.1.0-M7/cou…\n",
            "\u001b[2K    0.0% [          ] 0B (0B / s)\n",
            "\u001b[2Khttps://repo1.maven.org/maven2/com/lihaoyi/upickle-implicits_2.12/0.7.1/upickle…\n",
            "\u001b[2K    0.0% [          ] 0B (0B / s)\n",
            "\u001b[2A\u001b[2A\u001b[2A\u001b[2A\u001b[2A\u001b[10000D\u001b[2Khttps://repo1.maven.org/maven2/com/fasterxml/jackson/core/jackson-databind/2.9.…\n",
            "\u001b[2K  100.0% [##########] 1.3 MiB (22.2 MiB / s)\n",
            "\u001b[2Khttps://repo1.maven.org/maven2/com/lihaoyi/upickle-implicits_2.12/0.7.1/upickle…\n",
            "\u001b[2K  100.0% [##########] 11.1 KiB (482.5 KiB / s)\n",
            "\u001b[2Khttps://repo1.maven.org/maven2/io/get-coursier/coursier-cache_2.12/1.1.0-M7/cou…\n",
            "\u001b[2K  100.0% [##########] 33.8 KiB (867.5 KiB / s)\n",
            "\u001b[2Khttps://repo1.maven.org/maven2/io/get-coursier/coursier-cache_2.12/1.1.0-M7/cou…\n",
            "\u001b[2K  100.0% [##########] 178.3 KiB (4.0 MiB / s)\n",
            "\u001b[2Khttps://repo1.maven.org/maven2/io/undertow/undertow-core/2.0.17.Final/undertow-…\n",
            "\u001b[2K  100.0% [##########] 2.2 MiB (26.9 MiB / s)\n",
            "\u001b[2Khttps://repo1.maven.org/maven2/org/scalameta/fastparse-utils_2.12/1.0.0/fastpar…\n",
            "\u001b[2K  100.0% [##########] 9.2 KiB (243.4 KiB / s)\n",
            "\u001b[2Khttps://repo1.maven.org/maven2/org/scalameta/metabrowse-core_2.12/0.2.2/metabro…\n",
            "\u001b[2K    0.0% [          ] 0B (0B / s)\n",
            "\u001b[2Khttps://repo1.maven.org/maven2/com/lihaoyi/pprint_2.12/0.5.2/pprint_2.12-0.5.2.…\n",
            "\u001b[2K    0.0% [          ] 0B (0B / s)\n",
            "\u001b[2Khttps://repo1.maven.org/maven2/org/scalameta/metabrowse-server_2.12/0.2.2/metab…\n",
            "\u001b[2K    0.0% [          ] 0B (0B / s)\n",
            "\u001b[2Khttps://repo1.maven.org/maven2/com/github/scopt/scopt_2.12/3.5.0/scopt_2.12-3.5…\n",
            "\u001b[2K    0.0% [          ] 0B (0B / s)\n",
            "\u001b[2Khttps://repo1.maven.org/maven2/com/lihaoyi/fastparse_2.12/2.1.0/fastparse_2.12-…\n",
            "\u001b[2K    0.0% [          ] 0B (0B / s)\n",
            "\u001b[2Khttps://repo1.maven.org/maven2/eu/neilalexander/jnacl/1.0.0/jnacl-1.0.0-sources…\n",
            "\u001b[2K    0.0% [          ] 0B (0B / s)\n",
            "\u001b[2A\u001b[2A\u001b[2A\u001b[2A\u001b[2A\u001b[2A\u001b[10000D\u001b[2Khttps://repo1.maven.org/maven2/com/github/scopt/scopt_2.12/3.5.0/scopt_2.12-3.5…\n",
            "\u001b[2K  100.0% [##########] 71.8 KiB (2.3 MiB / s)\n",
            "\u001b[2Khttps://repo1.maven.org/maven2/com/lihaoyi/fastparse_2.12/2.1.0/fastparse_2.12-…\n",
            "\u001b[2K  100.0% [##########] 297.6 KiB (10.4 MiB / s)\n",
            "\u001b[2Khttps://repo1.maven.org/maven2/com/lihaoyi/pprint_2.12/0.5.2/pprint_2.12-0.5.2.…\n",
            "\u001b[2K  100.0% [##########] 147.0 KiB (3.7 MiB / s)\n",
            "\u001b[2Khttps://repo1.maven.org/maven2/eu/neilalexander/jnacl/1.0.0/jnacl-1.0.0-sources…\n",
            "\u001b[2K  100.0% [##########] 18.0 KiB (818.9 KiB / s)\n",
            "\u001b[2Khttps://repo1.maven.org/maven2/org/scalameta/metabrowse-core_2.12/0.2.2/metabro…\n",
            "\u001b[2K  100.0% [##########] 142.7 KiB (3.5 MiB / s)\n",
            "\u001b[2Khttps://repo1.maven.org/maven2/org/scalameta/metabrowse-server_2.12/0.2.2/metab…\n",
            "\u001b[2K  100.0% [##########] 5.2 KiB (163.2 KiB / s)\n",
            "\u001b[2Khttps://repo1.maven.org/maven2/org/jline/jline-terminal-jna/3.6.2/jline-termina…\n",
            "\u001b[2K  100.0% [##########] 61.1 KiB (5.0 MiB / s)\n",
            "\u001b[2Khttps://repo1.maven.org/maven2/com/chuusai/shapeless_2.12/2.3.3/shapeless_2.12-…\n",
            "\u001b[2K  100.0% [##########] 168.4 KiB (16.4 MiB / s)\n",
            "\u001b[2Khttps://repo1.maven.org/maven2/com/lihaoyi/fastparse_2.12/2.1.0/fastparse_2.12-…\n",
            "\u001b[2K    0.0% [          ] 0B (0B / s)\n",
            "\u001b[2Khttps://repo1.maven.org/maven2/com/github/pathikrit/better-files_2.12/3.7.0/bet…\n",
            "\u001b[2K    0.0% [          ] 0B (0B / s)\n",
            "\u001b[2Khttps://repo1.maven.org/maven2/com/thesamet/scalapb/scalapb-runtime_2.12/0.8.4/…\n",
            "\u001b[2K    0.0% [          ] 0B (0B / s)\n",
            "\u001b[2Khttps://repo1.maven.org/maven2/org/slf4j/slf4j-nop/1.7.26/slf4j-nop-1.7.26.jar\n",
            "\u001b[2K    0.0% [          ] 0B (0B / s)\n",
            "\u001b[2A\u001b[2A\u001b[2A\u001b[2A\u001b[2A\u001b[2A\u001b[10000D\u001b[2Khttps://repo1.maven.org/maven2/com/chuusai/shapeless_2.12/2.3.3/shapeless_2.12-…\n",
            "\u001b[2K  100.0% [##########] 168.4 KiB (5.7 MiB / s)\n",
            "\u001b[2Khttps://repo1.maven.org/maven2/com/lihaoyi/fastparse_2.12/2.1.0/fastparse_2.12-…\n",
            "\u001b[2K  100.0% [##########] 30.0 KiB (1.0 MiB / s)\n",
            "\u001b[2Khttps://repo1.maven.org/maven2/org/jline/jline-terminal-jna/3.6.2/jline-termina…\n",
            "\u001b[2K  100.0% [##########] 61.1 KiB (1.9 MiB / s)\n",
            "\u001b[2Khttps://repo1.maven.org/maven2/org/slf4j/slf4j-nop/1.7.26/slf4j-nop-1.7.26.jar\n",
            "\u001b[2K  100.0% [##########] 3.9 KiB (178.0 KiB / s)\n",
            "\u001b[2Khttps://repo1.maven.org/maven2/com/github/pathikrit/better-files_2.12/3.7.0/bet…\n",
            "\u001b[2K  100.0% [##########] 252.3 KiB (8.5 MiB / s)\n",
            "\u001b[2Khttps://repo1.maven.org/maven2/com/thesamet/scalapb/scalapb-runtime_2.12/0.8.4/…\n",
            "\u001b[2K  100.0% [##########] 248.1 KiB (9.3 MiB / s)\n",
            "\u001b[2Khttps://repo1.maven.org/maven2/org/typelevel/cats-core_2.12/1.6.0/cats-core_2.1…\n",
            "\u001b[2K    0.0% [          ] 0B (0B / s)\n",
            "\u001b[2Khttps://repo1.maven.org/maven2/org/json4s/json4s-core_2.12/3.6.2/json4s-core_2.…\n",
            "\u001b[2K    0.0% [          ] 0B (0B / s)\n",
            "\u001b[2Khttps://repo1.maven.org/maven2/com/github/javaparser/javaparser-core/3.2.5/java…\n",
            "\u001b[2K    0.0% [          ] 0B (0B / s)\n",
            "\u001b[2Khttps://repo1.maven.org/maven2/com/lihaoyi/upickle-core_2.12/0.7.1/upickle-core…\n",
            "\u001b[2K    0.0% [          ] 0B (0B / s)\n",
            "\u001b[2A\u001b[2A\u001b[2A\u001b[2A\u001b[2A\u001b[2A\u001b[10000D\u001b[2Khttps://repo1.maven.org/maven2/com/github/alexarchambault/case-app-util_2.12/2.…\n",
            "\u001b[2K  100.0% [##########] 34.9 KiB (2.3 MiB / s)\n",
            "\u001b[2Khttps://repo1.maven.org/maven2/com/github/pathikrit/better-files_2.12/3.7.0/bet…\n",
            "\u001b[2K  100.0% [##########] 252.3 KiB (5.0 MiB / s)\n",
            "\u001b[2Khttps://repo1.maven.org/maven2/com/lihaoyi/upickle-core_2.12/0.7.1/upickle-core…\n",
            "\u001b[2K  100.0% [##########] 9.0 KiB (411.0 KiB / s)\n",
            "\u001b[2Khttps://repo1.maven.org/maven2/com/thesamet/scalapb/scalapb-runtime_2.12/0.8.4/…\n",
            "\u001b[2K  100.0% [##########] 248.1 KiB (5.3 MiB / s)\n",
            "\u001b[2Khttps://repo1.maven.org/maven2/org/json4s/json4s-core_2.12/3.6.2/json4s-core_2.…\n",
            "\u001b[2K  100.0% [##########] 464.2 KiB (16.2 MiB / s)\n",
            "\u001b[2Khttps://repo1.maven.org/maven2/org/typelevel/cats-core_2.12/1.6.0/cats-core_2.1…\n",
            "\u001b[2K  100.0% [##########] 241.5 KiB (8.1 MiB / s)\n",
            "\u001b[2Khttps://repo1.maven.org/maven2/com/fasterxml/jackson/core/jackson-annotations/2…\n",
            "\u001b[2K  100.0% [##########] 66.6 KiB (3.6 MiB / s)\n",
            "\u001b[2Khttps://repo1.maven.org/maven2/com/github/javaparser/javaparser-core/3.2.5/java…\n",
            "\u001b[2K   30.4% [###       ] 255.5 KiB (8.9 MiB / s)\n",
            "\u001b[2Khttps://repo1.maven.org/maven2/org/scalameta/parsers_2.12/4.1.4/parsers_2.12-4.…\n",
            "\u001b[2K    0.0% [          ] 0B (0B / s)\n",
            "\u001b[2Khttps://repo1.maven.org/maven2/com/thesamet/scalapb/lenses_2.12/0.8.4/lenses_2.…\n",
            "\u001b[2K    0.0% [          ] 0B (0B / s)\n",
            "\u001b[2Khttps://repo1.maven.org/maven2/org/scalameta/parsers_2.12/4.1.4/parsers_2.12-4.…\n",
            "\u001b[2K    0.0% [          ] 0B (0B / s)\n",
            "\u001b[2Khttps://repo1.maven.org/maven2/org/slf4j/slf4j-nop/1.7.26/slf4j-nop-1.7.26-sour…\n",
            "\u001b[2K    0.0% [          ] 0B (0B / s)\n",
            "\u001b[2A\u001b[2A\u001b[2A\u001b[2A\u001b[2A\u001b[2A\u001b[10000D\u001b[2Khttps://repo1.maven.org/maven2/com/fasterxml/jackson/core/jackson-annotations/2…\n",
            "\u001b[2K  100.0% [##########] 66.6 KiB (1.7 MiB / s)\n",
            "\u001b[2Khttps://repo1.maven.org/maven2/com/github/javaparser/javaparser-core/3.2.5/java…\n",
            "\u001b[2K  100.0% [##########] 841.8 KiB (17.1 MiB / s)\n",
            "\u001b[2Khttps://repo1.maven.org/maven2/com/lihaoyi/ammonite-repl_2.12.8/1.6.4/ammonite-…\n",
            "\u001b[2K  100.0% [##########] 26.6 KiB (2.2 MiB / s)\n",
            "\u001b[2Khttps://repo1.maven.org/maven2/org/slf4j/slf4j-nop/1.7.26/slf4j-nop-1.7.26-sour…\n",
            "\u001b[2K  100.0% [##########] 5.6 KiB (216.2 KiB / s)\n",
            "\u001b[2Khttps://repo1.maven.org/maven2/com/thesamet/scalapb/lenses_2.12/0.8.4/lenses_2.…\n",
            "\u001b[2K  100.0% [##########] 34.5 KiB (1013.4 KiB / s)\n",
            "\u001b[2Khttps://repo1.maven.org/maven2/org/scalameta/parsers_2.12/4.1.4/parsers_2.12-4.…\n",
            "\u001b[2K   14.2% [#         ] 96.0 KiB (3.3 MiB / s)\n",
            "\u001b[2Khttps://repo1.maven.org/maven2/org/scalameta/parsers_2.12/4.1.4/parsers_2.12-4.…\n",
            "\u001b[2K    0.0% [          ] 0B (0B / s)\n",
            "\u001b[2Khttps://repo1.maven.org/maven2/org/scalameta/io_2.12/4.1.4/io_2.12-4.1.4-source…\n",
            "\u001b[2K    0.0% [          ] 0B (0B / s)\n",
            "\u001b[2Khttps://repo1.maven.org/maven2/com/lihaoyi/ammonite-repl_2.12.8/1.6.4/ammonite-…\n",
            "\u001b[2K    0.0% [          ] 0B (0B / s)\n",
            "\u001b[2Khttps://repo1.maven.org/maven2/co/fs2/fs2-core_2.12/1.0.4/fs2-core_2.12-1.0.4-s…\n",
            "\u001b[2K    0.0% [          ] 0B (0B / s)\n",
            "\u001b[2A\u001b[2A\u001b[2A\u001b[2A\u001b[2A\u001b[2A\u001b[10000D\u001b[2Khttps://repo1.maven.org/maven2/com/lihaoyi/ammonite-repl_2.12.8/1.6.4/ammonite-…\n",
            "\u001b[2K  100.0% [##########] 173.0 KiB (3.8 MiB / s)\n",
            "\u001b[2Khttps://repo1.maven.org/maven2/com/thesamet/scalapb/lenses_2.12/0.8.4/lenses_2.…\n",
            "\u001b[2K  100.0% [##########] 34.5 KiB (499.4 KiB / s)\n",
            "\u001b[2Khttps://repo1.maven.org/maven2/org/scalameta/io_2.12/4.1.4/io_2.12-4.1.4-source…\n",
            "\u001b[2K  100.0% [##########] 8.6 KiB (183.4 KiB / s)\n",
            "\u001b[2Khttps://repo1.maven.org/maven2/org/scalameta/parsers_2.12/4.1.4/parsers_2.12-4.…\n",
            "\u001b[2K  100.0% [##########] 34.4 KiB (484.4 KiB / s)\n",
            "\u001b[2Khttps://repo1.maven.org/maven2/org/scalameta/parsers_2.12/4.1.4/parsers_2.12-4.…\n",
            "\u001b[2K  100.0% [##########] 676.7 KiB (10.5 MiB / s)\n",
            "\u001b[2Khttps://repo1.maven.org/maven2/co/fs2/fs2-core_2.12/1.0.4/fs2-core_2.12-1.0.4-s…\n",
            "\u001b[2K  100.0% [##########] 102.3 KiB (2.7 MiB / s)\n",
            "\u001b[2Khttps://repo1.maven.org/maven2/org/scala-sbt/test-interface/1.0/test-interface-…\n",
            "\u001b[2K  100.0% [##########] 18.4 KiB (834.2 KiB / s)\n",
            "\u001b[2Khttps://repo1.maven.org/maven2/com/thoughtworks/qdox/qdox/2.0-M9/qdox-2.0-M9-so…\n",
            "\u001b[2K   75.5% [#######   ] 224.0 KiB (9.5 MiB / s)\n",
            "\u001b[2A\u001b[2A\u001b[2A\u001b[2A\u001b[10000D\u001b[2Khttps://repo1.maven.org/maven2/co/fs2/fs2-core_2.12/1.0.4/fs2-core_2.12-1.0.4-s…\n",
            "\u001b[2K  100.0% [##########] 102.3 KiB (2.4 MiB / s)\n",
            "\u001b[2Khttps://repo1.maven.org/maven2/org/scala-sbt/test-interface/1.0/test-interface-…\n",
            "\u001b[2K  100.0% [##########] 18.4 KiB (705.8 KiB / s)\n",
            "\u001b[2Khttps://repo1.maven.org/maven2/org/scalameta/parsers_2.12/4.1.4/parsers_2.12-4.…\n",
            "\u001b[2K  100.0% [##########] 676.7 KiB (9.9 MiB / s)\n",
            "\u001b[2Khttps://repo1.maven.org/maven2/com/thoughtworks/qdox/qdox/2.0-M9/qdox-2.0-M9-so…\n",
            "\u001b[2K   75.5% [#######   ] 224.0 KiB (8.1 MiB / s)\n",
            "\u001b[2Khttps://repo1.maven.org/maven2/org/scalameta/tokens_2.12/4.1.4/tokens_2.12-4.1.…\n",
            "\u001b[2K    0.0% [          ] 0B (0B / s)\n",
            "\u001b[2Khttps://oss.sonatype.org/content/repositories/snapshots/sh/almond/channels_2.12…\n",
            "\u001b[2K    0.0% [          ] 0B (0B / s)\n",
            "\u001b[2Khttps://oss.sonatype.org/content/repositories/snapshots/sh/almond/logger_2.12/0…\n",
            "\u001b[2K    0.0% [          ] 0B (0B / s)\n",
            "\u001b[2Khttps://oss.sonatype.org/content/repositories/snapshots/sh/almond/scala-kernel_…\n",
            "\u001b[2K    0.0% [          ] 0B (0B / s)\n",
            "\u001b[2Khttps://oss.sonatype.org/content/repositories/snapshots/sh/almond/scala-interpr…\n",
            "\u001b[2K    0.0% [          ] 0B\n",
            "\u001b[2A\u001b[2A\u001b[2A\u001b[2A\u001b[2A\u001b[2A\u001b[10000D\u001b[2Khttps://oss.sonatype.org/content/repositories/snapshots/sh/almond/channels_2.12…\n",
            "\u001b[2K  100.0% [##########] 68.9 KiB (3.1 MiB / s)\n",
            "\u001b[2Khttps://oss.sonatype.org/content/repositories/snapshots/sh/almond/logger_2.12/0…\n",
            "\u001b[2K  100.0% [##########] 5.0 KiB (239.3 KiB / s)\n",
            "\u001b[2Khttps://repo1.maven.org/maven2/com/thoughtworks/qdox/qdox/2.0-M9/qdox-2.0-M9-so…\n",
            "\u001b[2K  100.0% [##########] 296.5 KiB (6.2 MiB / s)\n",
            "\u001b[2Khttps://repo1.maven.org/maven2/org/scalameta/tokens_2.12/4.1.4/tokens_2.12-4.1.…\n",
            "\u001b[2K   98.0% [######### ] 488.6 KiB (20.7 MiB / s)\n",
            "\u001b[2Khttps://oss.sonatype.org/content/repositories/snapshots/sh/almond/scala-kernel_…\n",
            "\u001b[2K    0.0% [          ] 0B (0B / s)\n",
            "\u001b[2Khttps://oss.sonatype.org/content/repositories/snapshots/sh/almond/scala-interpr…\n",
            "\u001b[2K    0.0% [          ] 0B (0B / s)\n",
            "\u001b[2Khttps://oss.sonatype.org/content/repositories/snapshots/sh/almond/scala-kernel-…\n",
            "\u001b[2K    0.0% [          ] 0B (0B / s)\n",
            "\u001b[2Khttps://oss.sonatype.org/content/repositories/snapshots/sh/almond/interpreter-a…\n",
            "\u001b[2K    0.0% [          ] 0B (0B / s)\n",
            "\u001b[2Khttps://oss.sonatype.org/content/repositories/snapshots/sh/almond/interpreter-a…\n",
            "\u001b[2K    0.0% [          ] 0B (0B / s)\n",
            "\u001b[2A\u001b[2A\u001b[2A\u001b[2A\u001b[2A\u001b[2A\u001b[10000D\u001b[2Khttps://oss.sonatype.org/content/repositories/snapshots/sh/almond/interpreter-a…\n",
            "\u001b[2K  100.0% [##########] 3.9 KiB (150.2 KiB / s)\n",
            "\u001b[2Khttps://oss.sonatype.org/content/repositories/snapshots/sh/almond/interpreter-a…\n",
            "\u001b[2K  100.0% [##########] 26.4 KiB (910.0 KiB / s)\n",
            "\u001b[2Khttps://oss.sonatype.org/content/repositories/snapshots/sh/almond/protocol_2.12…\n",
            "\u001b[2K  100.0% [##########] 10.5 KiB (703.3 KiB / s)\n",
            "\u001b[2Khttps://oss.sonatype.org/content/repositories/snapshots/sh/almond/scala-interpr…\n",
            "\u001b[2K  100.0% [##########] 15.0 KiB (376.1 KiB / s)\n",
            "\u001b[2Khttps://repo1.maven.org/maven2/org/scalameta/tokens_2.12/4.1.4/tokens_2.12-4.1.…\n",
            "\u001b[2K  100.0% [##########] 498.4 KiB (11.3 MiB / s)\n",
            "\u001b[2Khttps://oss.sonatype.org/content/repositories/snapshots/sh/almond/scala-interpr…\n",
            "\u001b[2K  100.0% [##########] 98.8 KiB (5.7 MiB / s)\n",
            "\u001b[2Khttps://oss.sonatype.org/content/repositories/snapshots/sh/almond/scala-kernel_…\n",
            "\u001b[2K   76.1% [#######   ] 80.0 KiB (1.9 MiB / s)\n",
            "\u001b[2Khttps://oss.sonatype.org/content/repositories/snapshots/sh/almond/scala-kernel-…\n",
            "\u001b[2K    0.0% [          ] 0B (0B / s)\n",
            "\u001b[2Khttps://oss.sonatype.org/content/repositories/snapshots/sh/almond/scala-kernel-…\n",
            "\u001b[2K    0.0% [          ] 0B (0B / s)\n",
            "\u001b[2Khttps://oss.sonatype.org/content/repositories/snapshots/sh/almond/kernel_2.12/0…\n",
            "\u001b[2K    0.0% [          ] 0B (0B / s)\n",
            "\u001b[2Khttps://oss.sonatype.org/content/repositories/snapshots/sh/almond/interpreter_2…\n",
            "\u001b[2K    0.0% [          ] 0B (0B / s)\n",
            "\u001b[2A\u001b[2A\u001b[2A\u001b[2A\u001b[2A\u001b[2A\u001b[10000D\u001b[2Khttps://oss.sonatype.org/content/repositories/snapshots/sh/almond/interpreter_2…\n",
            "\u001b[2K  100.0% [##########] 156.1 KiB (2.8 MiB / s)\n",
            "\u001b[2Khttps://oss.sonatype.org/content/repositories/snapshots/sh/almond/kernel_2.12/0…\n",
            "\u001b[2K  100.0% [##########] 63.1 KiB (1.0 MiB / s)\n",
            "\u001b[2Khttps://oss.sonatype.org/content/repositories/snapshots/sh/almond/logger_2.12/0…\n",
            "\u001b[2K  100.0% [##########] 38.5 KiB (855.5 KiB / s)\n",
            "\u001b[2Khttps://oss.sonatype.org/content/repositories/snapshots/sh/almond/scala-interpr…\n",
            "\u001b[2K  100.0% [##########] 98.8 KiB (1.5 MiB / s)\n",
            "\u001b[2Khttps://oss.sonatype.org/content/repositories/snapshots/sh/almond/scala-kernel-…\n",
            "\u001b[2K  100.0% [##########] 3.5 KiB (55.3 KiB / s)\n",
            "\u001b[2Khttps://oss.sonatype.org/content/repositories/snapshots/sh/almond/scala-kernel_…\n",
            "\u001b[2K  100.0% [##########] 5.5 KiB (114.5 KiB / s)\n",
            "\u001b[2Khttps://oss.sonatype.org/content/repositories/snapshots/sh/almond/scala-kernel_…\n",
            "\u001b[2K  100.0% [##########] 105.2 KiB (1.1 MiB / s)\n",
            "\u001b[2Khttps://repo1.maven.org/maven2/com/lihaoyi/requests_2.12/0.1.7/requests_2.12-0.…\n",
            "\u001b[2K  100.0% [##########] 9.6 KiB (253.8 KiB / s)\n",
            "\u001b[2Khttps://repo1.maven.org/maven2/com/lihaoyi/utest_2.12/0.6.4/utest_2.12-0.6.4.jar\n",
            "\u001b[2K  100.0% [##########] 306.8 KiB (7.9 MiB / s)\n",
            "\u001b[2Khttps://repo1.maven.org/maven2/org/jboss/xnio/xnio-nio/3.7.0.Final/xnio-nio-3.7…\n",
            "\u001b[2K  100.0% [##########] 56.8 KiB (9.2 MiB / s)\n",
            "\u001b[2Khttps://oss.sonatype.org/content/repositories/snapshots/sh/almond/scala-kernel-…\n",
            "\u001b[2K    0.0% [          ] 0B (0B / s)\n",
            "\u001b[2Khttps://oss.sonatype.org/content/repositories/snapshots/sh/almond/protocol_2.12…\n",
            "\u001b[2K    0.0% [          ] 0B (0B / s)\n",
            "\u001b[2Khttps://oss.sonatype.org/content/repositories/snapshots/sh/almond/channels_2.12…\n",
            "\u001b[2K    0.0% [          ] 0B (0B / s)\n",
            "\u001b[2Khttps://repo1.maven.org/maven2/com/fasterxml/jackson/core/jackson-databind/2.9.…\n",
            "\u001b[2K    0.0% [          ] 0B (0B / s)\n",
            "\u001b[2Khttps://repo1.maven.org/maven2/org/json4s/json4s-core_2.12/3.6.2/json4s-core_2.…\n",
            "\u001b[2K    0.0% [          ] 0B (0B / s)\n",
            "\u001b[2A\u001b[2A\u001b[2A\u001b[2A\u001b[2A\u001b[2A\u001b[10000D\u001b[2Khttps://oss.sonatype.org/content/repositories/snapshots/sh/almond/scala-kernel-…\n",
            "\u001b[2K  100.0% [##########] 26.8 KiB (301.5 KiB / s)\n",
            "\u001b[2Khttps://repo1.maven.org/maven2/org/jboss/xnio/xnio-nio/3.7.0.Final/xnio-nio-3.7…\n",
            "\u001b[2K  100.0% [##########] 56.8 KiB (4.6 MiB / s)\n",
            "\u001b[2Khttps://oss.sonatype.org/content/repositories/snapshots/sh/almond/protocol_2.12…\n",
            "\u001b[2K   73.5% [#######   ] 458.0 KiB (8.6 MiB / s)\n",
            "\u001b[2Khttps://oss.sonatype.org/content/repositories/snapshots/sh/almond/channels_2.12…\n",
            "\u001b[2K    0.0% [          ] 0B (0B / s)\n",
            "\u001b[2Khttps://repo1.maven.org/maven2/com/fasterxml/jackson/core/jackson-databind/2.9.…\n",
            "\u001b[2K    0.0% [          ] 0B (0B / s)\n",
            "\u001b[2Khttps://repo1.maven.org/maven2/org/json4s/json4s-core_2.12/3.6.2/json4s-core_2.…\n",
            "\u001b[2K    0.0% [          ] 0B (0B / s)\n",
            "\u001b[2Khttps://oss.sonatype.org/content/repositories/snapshots/sh/almond/interpreter_2…\n",
            "\u001b[2K    0.0% [          ] 0B (0B / s)\n",
            "\u001b[2Khttps://repo1.maven.org/maven2/com/lihaoyi/ammonite-terminal_2.12/1.6.4/ammonit…\n",
            "\u001b[2K    0.0% [          ] 0B (0B / s)\n",
            "\u001b[2A\u001b[2A\u001b[2A\u001b[2A\u001b[2A\u001b[2A\u001b[10000D\u001b[2Khttps://oss.sonatype.org/content/repositories/snapshots/sh/almond/protocol_2.12…\n",
            "\u001b[2K  100.0% [##########] 623.2 KiB (10.7 MiB / s)\n",
            "\u001b[2Khttps://repo1.maven.org/maven2/com/fasterxml/jackson/core/jackson-databind/2.9.…\n",
            "\u001b[2K   58.8% [#####     ] 571.0 KiB (26.6 MiB / s)\n",
            "\u001b[2Khttps://oss.sonatype.org/content/repositories/snapshots/sh/almond/channels_2.12…\n",
            "\u001b[2K    0.0% [          ] 0B (0B / s)\n",
            "\u001b[2Khttps://repo1.maven.org/maven2/org/json4s/json4s-core_2.12/3.6.2/json4s-core_2.…\n",
            "\u001b[2K    0.0% [          ] 0B (0B / s)\n",
            "\u001b[2Khttps://oss.sonatype.org/content/repositories/snapshots/sh/almond/interpreter_2…\n",
            "\u001b[2K    0.0% [          ] 0B (0B / s)\n",
            "\u001b[2Khttps://repo1.maven.org/maven2/com/lihaoyi/ammonite-terminal_2.12/1.6.4/ammonit…\n",
            "\u001b[2K    0.0% [          ] 0B (0B / s)\n",
            "\u001b[2Khttps://repo1.maven.org/maven2/org/scalameta/metacp_2.12/4.1.4/metacp_2.12-4.1.…\n",
            "\u001b[2K    0.0% [          ] 0B (0B / s)\n",
            "\u001b[2A\u001b[2A\u001b[2A\u001b[2A\u001b[2A\u001b[2A\u001b[10000D\u001b[2Khttps://oss.sonatype.org/content/repositories/snapshots/sh/almond/channels_2.12…\n",
            "\u001b[2K  100.0% [##########] 9.4 KiB (154.1 KiB / s)\n",
            "\u001b[2Khttps://oss.sonatype.org/content/repositories/snapshots/sh/almond/kernel_2.12/0…\n",
            "\u001b[2K  100.0% [##########] 9.1 KiB (566.7 KiB / s)\n",
            "\u001b[2Khttps://repo1.maven.org/maven2/com/fasterxml/jackson/core/jackson-databind/2.9.…\n",
            "\u001b[2K  100.0% [##########] 971.0 KiB (23.1 MiB / s)\n",
            "\u001b[2Khttps://repo1.maven.org/maven2/org/json4s/json4s-core_2.12/3.6.2/json4s-core_2.…\n",
            "\u001b[2K  100.0% [##########] 40.8 KiB (1.2 MiB / s)\n",
            "\u001b[2Khttps://repo1.maven.org/maven2/org/scalameta/metacp_2.12/4.1.4/metacp_2.12-4.1.…\n",
            "\u001b[2K  100.0% [##########] 39.8 KiB (1.6 MiB / s)\n",
            "\u001b[2Khttps://oss.sonatype.org/content/repositories/snapshots/sh/almond/interpreter_2…\n",
            "\u001b[2K   73.1% [#######   ] 16.0 KiB (551.7 KiB / s)\n",
            "\u001b[2Khttps://repo1.maven.org/maven2/com/lihaoyi/ammonite-terminal_2.12/1.6.4/ammonit…\n",
            "\u001b[2K    0.0% [          ] 0B (0B / s)\n",
            "\u001b[2Khttps://repo1.maven.org/maven2/com/lihaoyi/upickle_2.12/0.7.1/upickle_2.12-0.7.…\n",
            "\u001b[2K    0.0% [          ] 0B (0B / s)\n",
            "\u001b[2A\u001b[2A\u001b[2A\u001b[10000D\u001b[2Khttps://oss.sonatype.org/content/repositories/snapshots/sh/almond/interpreter_2…\n",
            "\u001b[2K  100.0% [##########] 21.9 KiB (446.8 KiB / s)\n",
            "\u001b[2Khttps://repo1.maven.org/maven2/com/lihaoyi/upickle_2.12/0.7.1/upickle_2.12-0.7.…\n",
            "\u001b[2K  100.0% [##########] 3.7 KiB (104.5 KiB / s)\n",
            "\u001b[2Khttps://repo1.maven.org/maven2/com/lihaoyi/ammonite-terminal_2.12/1.6.4/ammonit…\n",
            "\u001b[2K    0.0% [          ] 0B (0B / s)\n",
            "\u001b[2A\u001b[10000D\u001b[2Khttps://repo1.maven.org/maven2/com/lihaoyi/ammonite-terminal_2.12/1.6.4/ammonit…\n",
            "\u001b[2K  100.0% [##########] 171.8 KiB (1.6 MiB / s)\n",
            "\u001b[10000D\u001b[2Khttps://repo1.maven.org/maven2/org/scalameta/semanticdb_2.12/4.1.4/semanticdb_2…\n",
            "\u001b[2K    0.0% [          ] 0B (0B / s)\n",
            "\u001b[2A\u001b[10000D\u001b[2Khttps://repo1.maven.org/maven2/org/scalameta/semanticdb_2.12/4.1.4/semanticdb_2…\n",
            "\u001b[2K  100.0% [##########] 5.8 KiB (215.2 KiB / s)\n",
            "\u001b[2Khttps://jitpack.io/com/github/jupyter/jvm-repr/0.4.0/jvm-repr-0.4.0.jar.sha1\n",
            "\u001b[2K    0.0% [          ] 0B (0B / s)\n",
            "\u001b[2Khttps://repo1.maven.org/maven2/com/lihaoyi/upack_2.12/0.7.1/upack_2.12-0.7.1.jar\n",
            "\u001b[2K    0.0% [          ] 0B (0B / s)\n",
            "\u001b[2Khttps://jitpack.io/com/github/jupyter/jvm-repr/0.4.0/jvm-repr-0.4.0-sources.jar…\n",
            "\u001b[2K    0.0% [          ] 0B (0B / s)\n",
            "\u001b[2A\u001b[2A\u001b[2A\u001b[10000D\u001b[2Khttps://repo1.maven.org/maven2/com/lihaoyi/ammonite-ops_2.12/1.6.4/ammonite-ops…\n",
            "\u001b[2K  100.0% [##########] 7.8 KiB (434.2 KiB / s)\n",
            "\u001b[2Khttps://repo1.maven.org/maven2/com/lihaoyi/upack_2.12/0.7.1/upack_2.12-0.7.1.jar\n",
            "\u001b[2K  100.0% [##########] 90.5 KiB (3.0 MiB / s)\n",
            "\u001b[2Khttps://jitpack.io/com/github/jupyter/jvm-repr/0.4.0/jvm-repr-0.4.0.jar.sha1\n",
            "\u001b[2K    0.0% [          ] 0B (0B / s)\n",
            "\u001b[2Khttps://jitpack.io/com/github/jupyter/jvm-repr/0.4.0/jvm-repr-0.4.0-sources.jar…\n",
            "\u001b[2K    0.0% [          ] 0B (0B / s)\n",
            "\u001b[2Khttps://oss.sonatype.org/content/repositories/snapshots/sh/almond/channels_2.12…\n",
            "\u001b[2K    0.0% [          ] 0B (0B / s)\n",
            "\u001b[2Khttps://oss.sonatype.org/content/repositories/snapshots/sh/almond/interpreter-a…\n",
            "\u001b[2K    0.0% [          ] 0B (0B / s)\n",
            "\u001b[2A\u001b[2A\u001b[2A\u001b[2A\u001b[10000D\u001b[2Khttps://jitpack.io/com/github/jupyter/jvm-repr/0.4.0/jvm-repr-0.4.0-sources.jar…\n",
            "\u001b[2K    0.0% [          ] 0B (0B / s)\n",
            "\u001b[2Khttps://oss.sonatype.org/content/repositories/snapshots/sh/almond/protocol_2.12…\n",
            "\u001b[2K    0.0% [          ] 0B (0B / s)\n",
            "\u001b[2Khttps://oss.sonatype.org/content/repositories/snapshots/sh/almond/scala-interpr…\n",
            "\u001b[2K    0.0% [          ] 0B (0B / s)\n",
            "\u001b[2Khttps://oss.sonatype.org/content/repositories/snapshots/sh/almond/kernel_2.12/0…\n",
            "\u001b[2K    0.0% [          ] 0B (0B / s)\n",
            "\u001b[2A\u001b[2A\u001b[2A\u001b[2A\u001b[10000D\u001b[2Khttps://oss.sonatype.org/content/repositories/snapshots/sh/almond/scala-interpr…\n",
            "\u001b[2K  100.0% [##########] 40B (1.6 KiB / s)\n",
            "\u001b[2Khttps://oss.sonatype.org/content/repositories/snapshots/sh/almond/scala-kernel_…\n",
            "\u001b[2K    0.0% [          ] 0B (0B / s)\n",
            "\u001b[2Khttps://oss.sonatype.org/content/repositories/snapshots/sh/almond/scala-kernel-…\n",
            "\u001b[2K    0.0% [          ] 0B (0B / s)\n",
            "\u001b[2Khttps://oss.sonatype.org/content/repositories/snapshots/sh/almond/scala-kernel-…\n",
            "\u001b[2K    0.0% [          ] 0B (0B / s)\n",
            "\u001b[2Khttps://oss.sonatype.org/content/repositories/snapshots/sh/almond/protocol_2.12…\n",
            "\u001b[2K    0.0% [          ] 0B (0B / s)\n",
            "\u001b[2A\u001b[2A\u001b[2A\u001b[2A\u001b[2A\u001b[10000D\u001b[2Khttps://oss.sonatype.org/content/repositories/snapshots/sh/almond/protocol_2.12…\n",
            "\u001b[2K    0.0% [          ] 0B (0B / s)\n",
            "\u001b[2Khttps://oss.sonatype.org/content/repositories/snapshots/sh/almond/channels_2.12…\n",
            "\u001b[2K    0.0% [          ] 0B (0B / s)\n",
            "\u001b[2K\u001b[1B\u001b[2K\u001b[1B\u001b[2K\u001b[1B\u001b[2K\u001b[1B\u001b[2K\u001b[1B\u001b[2K\u001b[1B\u001b[2A\u001b[2A\u001b[2A\u001b[2A\u001b[2A\u001b[10000D\u001b[2Khttps://oss.sonatype.org/content/repositories/snapshots/sh/almond/protocol_2.12…\n",
            "\u001b[2K    0.0% [          ] 0B (0B / s)\n",
            "\u001b[2K\u001b[1B\u001b[2K\u001b[1B\u001b[2A\u001b[2A\u001b[10000D\u001b[2K\u001b[1B\u001b[2K\u001b[1B\u001b[2A\u001b[10000DWrote /content/almond-snapshot\n",
            "Installed scala kernel under /usr/local/share/jupyter/kernels/scala\n"
          ]
        },
        {
          "output_type": "execute_result",
          "data": {
            "text/plain": []
          },
          "metadata": {},
          "execution_count": 1
        }
      ],
      "source": [
        "%%shell\n",
        "SCALA_VERSION=2.12.8 ALMOND_VERSION=0.3.0+16-548dc10f-SNAPSHOT\n",
        "curl -Lo coursier https://git.io/coursier-cli\n",
        "chmod +x coursier\n",
        "./coursier bootstrap \\\n",
        "    -r jitpack -r sonatype:snapshots \\\n",
        "    -i user -I user:sh.almond:scala-kernel-api_$SCALA_VERSION:$ALMOND_VERSION \\\n",
        "    sh.almond:scala-kernel_$SCALA_VERSION:$ALMOND_VERSION \\\n",
        "    --sources --default=true \\\n",
        "    -o almond-snapshot --embed-files=false\n",
        "rm coursier\n",
        "./almond-snapshot --install --global --force\n",
        "rm almond-snapshot"
      ]
    },
    {
      "cell_type": "code",
      "execution_count": null,
      "metadata": {
        "id": "BZchIo9sArF4",
        "colab": {
          "base_uri": "https://localhost:8080/"
        },
        "outputId": "df34eeda-1669-437d-c14b-4f4ff775b010"
      },
      "outputs": [
        {
          "output_type": "execute_result",
          "data": {
            "text/plain": []
          },
          "metadata": {},
          "execution_count": 2
        }
      ],
      "source": [
        "%%shell\n",
        "echo \"{\n",
        "  \\\"language\\\" : \\\"scala\\\",\n",
        "  \\\"display_name\\\" : \\\"Scala\\\",\n",
        "  \\\"argv\\\" : [\n",
        "    \\\"bash\\\",\n",
        "    \\\"-c\\\",\n",
        "    \\\"env LD_PRELOAD=/usr/lib/x86_64-linux-gnu/libpython3.6m.so:\\$LD_PRELOAD java -jar /usr/local/share/jupyter/kernels/scala/launcher.jar --connection-file {connection_file}\\\"\n",
        "  ]\n",
        "}\" > /usr/local/share/jupyter/kernels/scala/kernel.json"
      ]
    },
    {
      "cell_type": "markdown",
      "metadata": {
        "id": "kQe78pN0OSuq"
      },
      "source": [
        "## Hello World!"
      ]
    },
    {
      "cell_type": "code",
      "execution_count": null,
      "metadata": {
        "colab": {
          "base_uri": "https://localhost:8080/"
        },
        "id": "a9z0PxRg_iOp",
        "outputId": "523657f7-4c3b-4abc-9dd8-a8fa56baa391"
      },
      "outputs": [
        {
          "output_type": "stream",
          "name": "stdout",
          "text": [
            "Hello, world!\n"
          ]
        }
      ],
      "source": [
        "println(\"Hello, world!\")"
      ]
    },
    {
      "cell_type": "markdown",
      "metadata": {
        "id": "q5HcwZubBPVC"
      },
      "source": [
        "# Lists"
      ]
    },
    {
      "cell_type": "markdown",
      "metadata": {
        "id": "GK4QRZw-CSkX"
      },
      "source": [
        "Manually entering elements into list"
      ]
    },
    {
      "cell_type": "code",
      "execution_count": null,
      "metadata": {
        "colab": {
          "base_uri": "https://localhost:8080/"
        },
        "id": "R4wkgYsPBUKb",
        "outputId": "b4ec2f12-f875-4117-a4cb-293bd8a85d45"
      },
      "outputs": [
        {
          "output_type": "stream",
          "name": "stdout",
          "text": [
            "List(1, 2, 3)\n"
          ]
        },
        {
          "output_type": "execute_result",
          "data": {
            "text/plain": [
              "\u001b[36mlist1\u001b[39m: \u001b[32mList\u001b[39m[\u001b[32mInt\u001b[39m] = \u001b[33mList\u001b[39m(\u001b[32m1\u001b[39m, \u001b[32m2\u001b[39m, \u001b[32m3\u001b[39m)"
            ]
          },
          "metadata": {},
          "execution_count": 2
        }
      ],
      "source": [
        "var list1 = List(1,2,3)\n",
        "println(list1)"
      ]
    },
    {
      "cell_type": "code",
      "execution_count": null,
      "metadata": {
        "colab": {
          "base_uri": "https://localhost:8080/"
        },
        "id": "2EpviEWzCWL-",
        "outputId": "9776c38f-9e3a-4a1c-c746-d0af79549506"
      },
      "outputs": [
        {
          "output_type": "stream",
          "name": "stdout",
          "text": [
            "List(1, hello, false)\n"
          ]
        },
        {
          "output_type": "execute_result",
          "data": {
            "text/plain": [
              "\u001b[36mlist2\u001b[39m: \u001b[32mList\u001b[39m[\u001b[32mAny\u001b[39m] = \u001b[33mList\u001b[39m(\u001b[32m1\u001b[39m, \u001b[32m\"hello\"\u001b[39m, false)"
            ]
          },
          "metadata": {},
          "execution_count": 3
        }
      ],
      "source": [
        "var list2 = List(1,\"hello\",false)\n",
        "println(list2)"
      ]
    },
    {
      "cell_type": "code",
      "execution_count": null,
      "metadata": {
        "colab": {
          "base_uri": "https://localhost:8080/"
        },
        "id": "YINddQrZCn76",
        "outputId": "8af7b4b4-ba60-4f87-f2d8-3a756794ac74"
      },
      "outputs": [
        {
          "name": "stdout",
          "output_type": "stream",
          "text": [
            "List(1, 2, 3, 4, 5, 6, 7, 8, 9)\n"
          ]
        },
        {
          "data": {
            "text/plain": [
              "\u001b[36mlist3\u001b[39m: \u001b[32mList\u001b[39m[\u001b[32mInt\u001b[39m] = \u001b[33mList\u001b[39m(\u001b[32m1\u001b[39m, \u001b[32m2\u001b[39m, \u001b[32m3\u001b[39m, \u001b[32m4\u001b[39m, \u001b[32m5\u001b[39m, \u001b[32m6\u001b[39m, \u001b[32m7\u001b[39m, \u001b[32m8\u001b[39m, \u001b[32m9\u001b[39m)\n",
              "\u001b[36mevenList\u001b[39m: \u001b[32mList\u001b[39m[\u001b[32mInt\u001b[39m] = \u001b[33mList\u001b[39m(\u001b[32m2\u001b[39m, \u001b[32m4\u001b[39m, \u001b[32m6\u001b[39m, \u001b[32m8\u001b[39m, \u001b[32m10\u001b[39m, \u001b[32m12\u001b[39m, \u001b[32m14\u001b[39m, \u001b[32m16\u001b[39m, \u001b[32m18\u001b[39m)"
            ]
          },
          "execution_count": 5,
          "metadata": {},
          "output_type": "execute_result"
        }
      ],
      "source": [
        "var list3 = List.range(1,10)\n",
        "var evenList = List.range(2,20,2)\n",
        "println(list3)"
      ]
    },
    {
      "cell_type": "code",
      "execution_count": null,
      "metadata": {
        "colab": {
          "base_uri": "https://localhost:8080/"
        },
        "id": "MGEeCqVGC3ki",
        "outputId": "88fb683b-5bb5-4624-ef92-318c074caefa"
      },
      "outputs": [
        {
          "data": {
            "text/plain": [
              "\u001b[36mlist4\u001b[39m: \u001b[32mList\u001b[39m[\u001b[32mString\u001b[39m] = \u001b[33mList\u001b[39m(\u001b[32m\"hello\"\u001b[39m, \u001b[32m\"hello\"\u001b[39m, \u001b[32m\"hello\"\u001b[39m)"
            ]
          },
          "execution_count": 6,
          "metadata": {},
          "output_type": "execute_result"
        }
      ],
      "source": [
        "var list4 = List.fill(3) (\"hello\")"
      ]
    },
    {
      "cell_type": "code",
      "execution_count": null,
      "metadata": {
        "colab": {
          "base_uri": "https://localhost:8080/"
        },
        "id": "tXHypoccC_j7",
        "outputId": "1b1ddd51-ba94-45be-da29-669bc912da9f"
      },
      "outputs": [
        {
          "data": {
            "text/plain": [
              "\u001b[36mlist5\u001b[39m: \u001b[32mList\u001b[39m[\u001b[32mInt\u001b[39m] = \u001b[33mList\u001b[39m(\u001b[32m0\u001b[39m, \u001b[32m1\u001b[39m, \u001b[32m4\u001b[39m, \u001b[32m9\u001b[39m)"
            ]
          },
          "execution_count": 8,
          "metadata": {},
          "output_type": "execute_result"
        }
      ],
      "source": [
        "var list5 = List.tabulate(4) (s => s*s)"
      ]
    },
    {
      "cell_type": "markdown",
      "metadata": {
        "id": "Sj4XR7uLDYLz"
      },
      "source": [
        "## List Conversion"
      ]
    },
    {
      "cell_type": "code",
      "execution_count": null,
      "metadata": {
        "colab": {
          "base_uri": "https://localhost:8080/"
        },
        "id": "eoPAWbBMDZw3",
        "outputId": "a3de851b-e016-47a7-b7ba-007808398f4e"
      },
      "outputs": [
        {
          "data": {
            "text/plain": [
              "\u001b[36mlist6\u001b[39m: \u001b[32mList\u001b[39m[\u001b[32mChar\u001b[39m] = \u001b[33mList\u001b[39m(\u001b[32m'a'\u001b[39m, \u001b[32m'l'\u001b[39m, \u001b[32m'p'\u001b[39m, \u001b[32m'h'\u001b[39m, \u001b[32m'a'\u001b[39m, \u001b[32m'b'\u001b[39m, \u001b[32m'e'\u001b[39m, \u001b[32m't'\u001b[39m)"
            ]
          },
          "execution_count": 9,
          "metadata": {},
          "output_type": "execute_result"
        }
      ],
      "source": [
        "var list6 = \"alphabet\".toList"
      ]
    },
    {
      "cell_type": "markdown",
      "metadata": {
        "id": "u9AbtAAqDjj5"
      },
      "source": [
        "## Elements, Indices, Length"
      ]
    },
    {
      "cell_type": "code",
      "execution_count": null,
      "metadata": {
        "colab": {
          "base_uri": "https://localhost:8080/"
        },
        "id": "YEqyXEtXDnJw",
        "outputId": "bba60887-cd09-44cf-d273-ff6f7322345f"
      },
      "outputs": [
        {
          "name": "stdout",
          "output_type": "stream",
          "text": [
            "Access element 2: Cake\n"
          ]
        },
        {
          "data": {
            "text/plain": [
              "\u001b[36mfoodList\u001b[39m: \u001b[32mList\u001b[39m[\u001b[32mString\u001b[39m] = \u001b[33mList\u001b[39m(\u001b[32m\"Pizza\"\u001b[39m, \u001b[32m\"Cake\"\u001b[39m, \u001b[32m\"Brownies\"\u001b[39m)\n",
              "\u001b[36mres47_1\u001b[39m: \u001b[32mList\u001b[39m[\u001b[32mString\u001b[39m] = \u001b[33mList\u001b[39m(\u001b[32m\"Brownies\"\u001b[39m, \u001b[32m\"Cake\"\u001b[39m, \u001b[32m\"Pizza\"\u001b[39m)"
            ]
          },
          "execution_count": 48,
          "metadata": {},
          "output_type": "execute_result"
        }
      ],
      "source": [
        "var foodList = List(\"Pizza\", \"Cake\", \"Brownies\")\n",
        "println(\"Access element 2: \" + foodList(1))"
      ]
    },
    {
      "cell_type": "code",
      "execution_count": null,
      "metadata": {
        "colab": {
          "base_uri": "https://localhost:8080/"
        },
        "id": "vjnySx1sD8rV",
        "outputId": "26a0c8e5-c01e-405b-fee9-8c2a8288d60f"
      },
      "outputs": [
        {
          "name": "stdout",
          "output_type": "stream",
          "text": [
            "Get index of Cake: 1\n"
          ]
        }
      ],
      "source": [
        "println(\"Get index of Cake: \" + foodList.indexOf(\"Cake\"))"
      ]
    },
    {
      "cell_type": "code",
      "execution_count": null,
      "metadata": {
        "colab": {
          "base_uri": "https://localhost:8080/"
        },
        "id": "kk5htbVSERVl",
        "outputId": "abf77f7a-74be-4817-e96c-dfe4ffa7601c"
      },
      "outputs": [
        {
          "name": "stdout",
          "output_type": "stream",
          "text": [
            "Is there a fifth element in this list?\n"
          ]
        },
        {
          "data": {
            "text/plain": [
              "\u001b[36mres17_1\u001b[39m: \u001b[32mBoolean\u001b[39m = false"
            ]
          },
          "execution_count": 18,
          "metadata": {},
          "output_type": "execute_result"
        }
      ],
      "source": [
        "println(\"Is there a fifth element in this list?\")\n",
        "foodList.isDefinedAt(4)"
      ]
    },
    {
      "cell_type": "code",
      "execution_count": null,
      "metadata": {
        "colab": {
          "base_uri": "https://localhost:8080/"
        },
        "id": "9tA7jCJAEbZ-",
        "outputId": "5b4439b5-c7d1-482e-f6bd-1434d901ce6f"
      },
      "outputs": [
        {
          "data": {
            "text/plain": [
              "\u001b[36mres20_0\u001b[39m: \u001b[32mBoolean\u001b[39m = false\n",
              "\u001b[36mres20_1\u001b[39m: \u001b[32mInt\u001b[39m = \u001b[32m3\u001b[39m"
            ]
          },
          "execution_count": 21,
          "metadata": {},
          "output_type": "execute_result"
        }
      ],
      "source": [
        "foodList.isEmpty\n",
        "foodList.size // foodList.length"
      ]
    },
    {
      "cell_type": "code",
      "execution_count": null,
      "metadata": {
        "colab": {
          "base_uri": "https://localhost:8080/"
        },
        "id": "HqBzzJUQEk_f",
        "outputId": "070a19b0-eace-435f-8dfd-b335cf7573b2"
      },
      "outputs": [
        {
          "data": {
            "text/plain": [
              "\u001b[36mres22\u001b[39m: \u001b[32mBoolean\u001b[39m = true"
            ]
          },
          "execution_count": 23,
          "metadata": {},
          "output_type": "execute_result"
        }
      ],
      "source": [
        "foodList.contains(\"Cake\")"
      ]
    },
    {
      "cell_type": "markdown",
      "metadata": {
        "id": "XKcd78izE1hp"
      },
      "source": [
        "## Filtering Functions"
      ]
    },
    {
      "cell_type": "code",
      "execution_count": null,
      "metadata": {
        "colab": {
          "base_uri": "https://localhost:8080/"
        },
        "id": "7cUqCXydE4ER",
        "outputId": "207fc1d7-5bc1-4e2b-8048-57d42e4548f2"
      },
      "outputs": [
        {
          "data": {
            "text/plain": [
              "\u001b[36mnums\u001b[39m: \u001b[32mList\u001b[39m[\u001b[32mInt\u001b[39m] = \u001b[33mList\u001b[39m(\n",
              "  \u001b[32m2\u001b[39m,\n",
              "  \u001b[32m3\u001b[39m,\n",
              "  \u001b[32m4\u001b[39m,\n",
              "  \u001b[32m5\u001b[39m,\n",
              "  \u001b[32m6\u001b[39m,\n",
              "  \u001b[32m7\u001b[39m,\n",
              "  \u001b[32m8\u001b[39m,\n",
              "  \u001b[32m9\u001b[39m,\n",
              "  \u001b[32m10\u001b[39m,\n",
              "  \u001b[32m11\u001b[39m,\n",
              "  \u001b[32m12\u001b[39m,\n",
              "  \u001b[32m13\u001b[39m,\n",
              "  \u001b[32m14\u001b[39m,\n",
              "  \u001b[32m15\u001b[39m,\n",
              "  \u001b[32m16\u001b[39m,\n",
              "  \u001b[32m17\u001b[39m,\n",
              "  \u001b[32m18\u001b[39m,\n",
              "  \u001b[32m19\u001b[39m,\n",
              "  \u001b[32m20\u001b[39m\n",
              ")"
            ]
          },
          "execution_count": 24,
          "metadata": {},
          "output_type": "execute_result"
        }
      ],
      "source": [
        "var nums = List.range(2,21)"
      ]
    },
    {
      "cell_type": "code",
      "execution_count": null,
      "metadata": {
        "colab": {
          "base_uri": "https://localhost:8080/"
        },
        "id": "sbAcIJBsFAxF",
        "outputId": "421a2c6a-454b-4e9a-d6e0-dc89fac467e5"
      },
      "outputs": [
        {
          "name": "stdout",
          "output_type": "stream",
          "text": [
            "Tail: List(3, 4, 5, 6, 7, 8, 9, 10, 11, 12, 13, 14, 15, 16, 17, 18, 19, 20)\n"
          ]
        },
        {
          "data": {
            "text/plain": [
              "\u001b[36mres28_0\u001b[39m: \u001b[32mInt\u001b[39m = \u001b[32m2\u001b[39m"
            ]
          },
          "execution_count": 29,
          "metadata": {},
          "output_type": "execute_result"
        }
      ],
      "source": [
        "nums.head\n",
        "println(\"Tail: \" + nums.tail)"
      ]
    },
    {
      "cell_type": "code",
      "execution_count": null,
      "metadata": {
        "colab": {
          "base_uri": "https://localhost:8080/"
        },
        "id": "QtBwI7mDFQ_y",
        "outputId": "15ca1484-6f25-48a7-f490-165d6355b5f7"
      },
      "outputs": [
        {
          "data": {
            "text/plain": [
              "\u001b[36mres30_0\u001b[39m: \u001b[32mInt\u001b[39m = \u001b[32m20\u001b[39m\n",
              "\u001b[36mres30_1\u001b[39m: \u001b[32mList\u001b[39m[\u001b[32mInt\u001b[39m] = \u001b[33mList\u001b[39m(\n",
              "  \u001b[32m2\u001b[39m,\n",
              "  \u001b[32m3\u001b[39m,\n",
              "  \u001b[32m4\u001b[39m,\n",
              "  \u001b[32m5\u001b[39m,\n",
              "  \u001b[32m6\u001b[39m,\n",
              "  \u001b[32m7\u001b[39m,\n",
              "  \u001b[32m8\u001b[39m,\n",
              "  \u001b[32m9\u001b[39m,\n",
              "  \u001b[32m10\u001b[39m,\n",
              "  \u001b[32m11\u001b[39m,\n",
              "  \u001b[32m12\u001b[39m,\n",
              "  \u001b[32m13\u001b[39m,\n",
              "  \u001b[32m14\u001b[39m,\n",
              "  \u001b[32m15\u001b[39m,\n",
              "  \u001b[32m16\u001b[39m,\n",
              "  \u001b[32m17\u001b[39m,\n",
              "  \u001b[32m18\u001b[39m,\n",
              "  \u001b[32m19\u001b[39m,\n",
              "  \u001b[32m20\u001b[39m\n",
              ")"
            ]
          },
          "execution_count": 31,
          "metadata": {},
          "output_type": "execute_result"
        }
      ],
      "source": [
        "nums.last\n",
        "nums.distinct"
      ]
    },
    {
      "cell_type": "code",
      "execution_count": null,
      "metadata": {
        "colab": {
          "base_uri": "https://localhost:8080/"
        },
        "id": "EThRoiRYFXA7",
        "outputId": "a41afc4e-9c53-4717-ff1b-743fcff64d37"
      },
      "outputs": [
        {
          "data": {
            "text/plain": [
              "\u001b[36mres31\u001b[39m: \u001b[32mList\u001b[39m[\u001b[32mInt\u001b[39m] = \u001b[33mList\u001b[39m(\n",
              "  \u001b[32m5\u001b[39m,\n",
              "  \u001b[32m6\u001b[39m,\n",
              "  \u001b[32m7\u001b[39m,\n",
              "  \u001b[32m8\u001b[39m,\n",
              "  \u001b[32m9\u001b[39m,\n",
              "  \u001b[32m10\u001b[39m,\n",
              "  \u001b[32m11\u001b[39m,\n",
              "  \u001b[32m12\u001b[39m,\n",
              "  \u001b[32m13\u001b[39m,\n",
              "  \u001b[32m14\u001b[39m,\n",
              "  \u001b[32m15\u001b[39m,\n",
              "  \u001b[32m16\u001b[39m,\n",
              "  \u001b[32m17\u001b[39m,\n",
              "  \u001b[32m18\u001b[39m,\n",
              "  \u001b[32m19\u001b[39m,\n",
              "  \u001b[32m20\u001b[39m\n",
              ")"
            ]
          },
          "execution_count": 32,
          "metadata": {},
          "output_type": "execute_result"
        }
      ],
      "source": [
        "nums.drop(3)"
      ]
    },
    {
      "cell_type": "code",
      "execution_count": null,
      "metadata": {
        "colab": {
          "base_uri": "https://localhost:8080/"
        },
        "id": "6tjN3s1TFbCv",
        "outputId": "7271fc35-1f87-465b-e054-c6c3b35da69e"
      },
      "outputs": [
        {
          "data": {
            "text/plain": [
              "\u001b[36mres32\u001b[39m: \u001b[32mList\u001b[39m[\u001b[32mInt\u001b[39m] = \u001b[33mList\u001b[39m(\u001b[32m2\u001b[39m, \u001b[32m3\u001b[39m, \u001b[32m4\u001b[39m, \u001b[32m5\u001b[39m, \u001b[32m6\u001b[39m, \u001b[32m7\u001b[39m, \u001b[32m8\u001b[39m, \u001b[32m9\u001b[39m, \u001b[32m10\u001b[39m, \u001b[32m11\u001b[39m, \u001b[32m12\u001b[39m, \u001b[32m13\u001b[39m, \u001b[32m14\u001b[39m, \u001b[32m15\u001b[39m, \u001b[32m16\u001b[39m, \u001b[32m17\u001b[39m)"
            ]
          },
          "execution_count": 33,
          "metadata": {},
          "output_type": "execute_result"
        }
      ],
      "source": [
        "nums.dropRight(3)"
      ]
    },
    {
      "cell_type": "code",
      "execution_count": null,
      "metadata": {
        "colab": {
          "base_uri": "https://localhost:8080/"
        },
        "id": "Jh3DeR_JFg0G",
        "outputId": "525cd5d5-01f5-421e-d61e-4ae3c92e958a"
      },
      "outputs": [
        {
          "data": {
            "text/plain": [
              "\u001b[36mres34_0\u001b[39m: \u001b[32mList\u001b[39m[\u001b[32mInt\u001b[39m] = \u001b[33mList\u001b[39m(\u001b[32m11\u001b[39m, \u001b[32m12\u001b[39m, \u001b[32m13\u001b[39m, \u001b[32m14\u001b[39m, \u001b[32m15\u001b[39m, \u001b[32m16\u001b[39m, \u001b[32m17\u001b[39m, \u001b[32m18\u001b[39m, \u001b[32m19\u001b[39m, \u001b[32m20\u001b[39m)\n",
              "\u001b[36mres34_1\u001b[39m: \u001b[32mList\u001b[39m[\u001b[32mInt\u001b[39m] = \u001b[33mList\u001b[39m(\u001b[32m5\u001b[39m, \u001b[32m6\u001b[39m)"
            ]
          },
          "execution_count": 35,
          "metadata": {},
          "output_type": "execute_result"
        }
      ],
      "source": [
        "// elements greater than 10\n",
        "nums.filter(_ > 10)\n",
        "nums.slice(3,5)"
      ]
    },
    {
      "cell_type": "markdown",
      "metadata": {
        "id": "AtaamAcaF0T9"
      },
      "source": [
        "## Transformations"
      ]
    },
    {
      "cell_type": "code",
      "execution_count": null,
      "metadata": {
        "colab": {
          "base_uri": "https://localhost:8080/"
        },
        "id": "QOQx1PNxFyLG",
        "outputId": "345a4814-a00d-400d-b553-e972a25b2aac"
      },
      "outputs": [
        {
          "data": {
            "text/plain": [
              "\u001b[36mnums2\u001b[39m: \u001b[32mList\u001b[39m[\u001b[32mInt\u001b[39m] = \u001b[33mList\u001b[39m(\u001b[32m1\u001b[39m, \u001b[32m7\u001b[39m, \u001b[32m6\u001b[39m)"
            ]
          },
          "execution_count": 36,
          "metadata": {},
          "output_type": "execute_result"
        }
      ],
      "source": [
        "var nums2 = List(1,7,6)"
      ]
    },
    {
      "cell_type": "code",
      "execution_count": null,
      "metadata": {
        "colab": {
          "base_uri": "https://localhost:8080/"
        },
        "id": "_Cop6thMF-2j",
        "outputId": "579c5f4d-3d54-4216-b7a9-60c152adc53f"
      },
      "outputs": [
        {
          "data": {
            "text/plain": [
              "\u001b[36mnums3\u001b[39m: \u001b[32mList\u001b[39m[\u001b[32mInt\u001b[39m] = \u001b[33mList\u001b[39m(\u001b[32m1\u001b[39m, \u001b[32m7\u001b[39m, \u001b[32m6\u001b[39m, \u001b[32m9\u001b[39m)"
            ]
          },
          "execution_count": 41,
          "metadata": {},
          "output_type": "execute_result"
        }
      ],
      "source": [
        "nums2 :+ 9"
      ]
    },
    {
      "cell_type": "code",
      "execution_count": null,
      "metadata": {
        "colab": {
          "base_uri": "https://localhost:8080/"
        },
        "id": "_yTs9ZDGGDgm",
        "outputId": "d3f12055-7192-4d54-f8a6-d5f5ff32f99b"
      },
      "outputs": [
        {
          "name": "stdout",
          "output_type": "stream",
          "text": [
            "List(1, 7, 6, 9)\n"
          ]
        },
        {
          "data": {
            "text/plain": [
              "\u001b[36mres41_1\u001b[39m: \u001b[32mList\u001b[39m[\u001b[32mAny\u001b[39m] = \u001b[33mList\u001b[39m(\u001b[32m1\u001b[39m, \u001b[32m7\u001b[39m, \u001b[32m6\u001b[39m, \u001b[33mList\u001b[39m(\u001b[32m7\u001b[39m, \u001b[32m10\u001b[39m))"
            ]
          },
          "execution_count": 42,
          "metadata": {},
          "output_type": "execute_result"
        }
      ],
      "source": [
        "nums2 :+ List(7,10)"
      ]
    },
    {
      "cell_type": "code",
      "execution_count": null,
      "metadata": {
        "colab": {
          "base_uri": "https://localhost:8080/"
        },
        "id": "-j8-Rsa2GQsg",
        "outputId": "f813973e-cb02-415d-cb95-153084fb2413"
      },
      "outputs": [
        {
          "data": {
            "text/plain": [
              "\u001b[36mres42\u001b[39m: \u001b[32mList\u001b[39m[\u001b[32mInt\u001b[39m] = \u001b[33mList\u001b[39m(\u001b[32m8\u001b[39m, \u001b[32m1\u001b[39m, \u001b[32m7\u001b[39m, \u001b[32m6\u001b[39m)"
            ]
          },
          "execution_count": 43,
          "metadata": {},
          "output_type": "execute_result"
        }
      ],
      "source": [
        "8 +: nums2"
      ]
    },
    {
      "cell_type": "code",
      "execution_count": null,
      "metadata": {
        "colab": {
          "base_uri": "https://localhost:8080/",
          "height": 131
        },
        "id": "kraujZIhHC7k",
        "outputId": "9237a772-b716-40e8-8f42-ba3abfb7dd1b"
      },
      "outputs": [
        {
          "name": "stderr",
          "output_type": "stream",
          "text": [
            "cmd47.sc:2: value < is not a member of Any\n",
            "val res47_1 = nums3.sortWith(_ < _)\n",
            "                               ^Compilation Failed"
          ]
        },
        {
          "ename": "",
          "evalue": "ignored",
          "output_type": "error",
          "traceback": [
            "Compilation Failed"
          ]
        }
      ],
      "source": [
        "List(7,10) +: nums2"
      ]
    },
    {
      "cell_type": "code",
      "execution_count": null,
      "metadata": {
        "colab": {
          "base_uri": "https://localhost:8080/"
        },
        "id": "7xlt1HYJILn-",
        "outputId": "8cb57ff2-df46-40a2-ddd2-9571046efafa"
      },
      "outputs": [
        {
          "data": {
            "text/plain": [
              "\u001b[36mres48\u001b[39m: \u001b[32mList\u001b[39m[\u001b[32mInt\u001b[39m] = \u001b[33mList\u001b[39m(\u001b[32m1\u001b[39m, \u001b[32m6\u001b[39m, \u001b[32m7\u001b[39m)"
            ]
          },
          "execution_count": 49,
          "metadata": {},
          "output_type": "execute_result"
        }
      ],
      "source": [
        "nums2.sorted"
      ]
    },
    {
      "cell_type": "code",
      "execution_count": null,
      "metadata": {
        "colab": {
          "base_uri": "https://localhost:8080/"
        },
        "id": "BIpW0bIWHJmm",
        "outputId": "9cd53cb8-8351-4ada-e123-ec0e753bbac8"
      },
      "outputs": [
        {
          "data": {
            "text/plain": [
              "\u001b[36mres45\u001b[39m: \u001b[32mList\u001b[39m[\u001b[32mInt\u001b[39m] = \u001b[33mList\u001b[39m(\u001b[32m1\u001b[39m, \u001b[32m6\u001b[39m, \u001b[32m7\u001b[39m)"
            ]
          },
          "execution_count": 46,
          "metadata": {},
          "output_type": "execute_result"
        }
      ],
      "source": [
        "nums2.sortWith(_ < _)"
      ]
    },
    {
      "cell_type": "code",
      "execution_count": null,
      "metadata": {
        "colab": {
          "base_uri": "https://localhost:8080/"
        },
        "id": "8sf7L1ZPHQKG",
        "outputId": "547d77a2-2346-46bc-c19c-2713572bc7f9"
      },
      "outputs": [
        {
          "data": {
            "text/plain": [
              "\u001b[36mres46\u001b[39m: \u001b[32mList\u001b[39m[\u001b[32mInt\u001b[39m] = \u001b[33mList\u001b[39m(\u001b[32m6\u001b[39m, \u001b[32m7\u001b[39m, \u001b[32m1\u001b[39m)"
            ]
          },
          "execution_count": 47,
          "metadata": {},
          "output_type": "execute_result"
        }
      ],
      "source": [
        "nums2.reverse"
      ]
    },
    {
      "cell_type": "markdown",
      "metadata": {
        "id": "IdTOdQQ4IRXE"
      },
      "source": [
        "### Mapping"
      ]
    },
    {
      "cell_type": "code",
      "execution_count": null,
      "metadata": {
        "colab": {
          "base_uri": "https://localhost:8080/"
        },
        "id": "v5QZLI4uIP6W",
        "outputId": "ef8ae521-c6c1-4ef7-ba68-36350547f846"
      },
      "outputs": [
        {
          "data": {
            "text/plain": [
              "\u001b[36mres51_0\u001b[39m: \u001b[32mList\u001b[39m[\u001b[32mDouble\u001b[39m] = \u001b[33mList\u001b[39m(\u001b[32m2.5\u001b[39m, \u001b[32m8.5\u001b[39m, \u001b[32m7.5\u001b[39m)\n",
              "\u001b[36mres51_1\u001b[39m: \u001b[32mList\u001b[39m[\u001b[32mDouble\u001b[39m] = \u001b[33mList\u001b[39m(\u001b[32m1.5\u001b[39m, \u001b[32m10.5\u001b[39m, \u001b[32m9.0\u001b[39m)"
            ]
          },
          "execution_count": 52,
          "metadata": {},
          "output_type": "execute_result"
        }
      ],
      "source": [
        "nums2.map(_ + 1.5)\n",
        "nums2.map(_ * 1.5)"
      ]
    },
    {
      "cell_type": "code",
      "execution_count": null,
      "metadata": {
        "colab": {
          "base_uri": "https://localhost:8080/"
        },
        "id": "3MWxp0aLImP-",
        "outputId": "cb77a41b-7f45-4c61-a835-e7e441e30416"
      },
      "outputs": [
        {
          "data": {
            "text/plain": [
              "\u001b[36mres54\u001b[39m: \u001b[32mInt\u001b[39m = \u001b[32m1050\u001b[39m"
            ]
          },
          "execution_count": 55,
          "metadata": {},
          "output_type": "execute_result"
        }
      ],
      "source": [
        "nums2.reduce(_ * _ * 5)\n",
        "// 1 7 6\n",
        "// 1 * 7 * 5 = 35\n",
        "// 35 * 6 * 5 = 1050"
      ]
    },
    {
      "cell_type": "markdown",
      "metadata": {
        "id": "TuhVFkJxIwFo"
      },
      "source": [
        "## Partitioning"
      ]
    },
    {
      "cell_type": "code",
      "execution_count": null,
      "metadata": {
        "colab": {
          "base_uri": "https://localhost:8080/"
        },
        "id": "DHrrrUYSIvc2",
        "outputId": "25c2c93b-11eb-4d8c-c4fd-588ab84d30b2"
      },
      "outputs": [
        {
          "data": {
            "text/plain": [
              "\u001b[36mnums3\u001b[39m: \u001b[32mList\u001b[39m[\u001b[32mInt\u001b[39m] = \u001b[33mList\u001b[39m(\u001b[32m2\u001b[39m, \u001b[32m3\u001b[39m, \u001b[32m4\u001b[39m, \u001b[32m5\u001b[39m, \u001b[32m6\u001b[39m, \u001b[32m7\u001b[39m, \u001b[32m8\u001b[39m, \u001b[32m9\u001b[39m)"
            ]
          },
          "execution_count": 56,
          "metadata": {},
          "output_type": "execute_result"
        }
      ],
      "source": [
        "var nums3 = List.range(2,10)"
      ]
    },
    {
      "cell_type": "code",
      "execution_count": null,
      "metadata": {
        "colab": {
          "base_uri": "https://localhost:8080/"
        },
        "id": "pP4cK2IrJg0b",
        "outputId": "fe270bb0-981c-4331-e384-c8d56fc12d9a"
      },
      "outputs": [
        {
          "data": {
            "text/plain": [
              "\u001b[36mres56\u001b[39m: (\u001b[32mList\u001b[39m[\u001b[32mInt\u001b[39m], \u001b[32mList\u001b[39m[\u001b[32mInt\u001b[39m]) = (\u001b[33mList\u001b[39m(\u001b[32m2\u001b[39m, \u001b[32m3\u001b[39m, \u001b[32m4\u001b[39m, \u001b[32m5\u001b[39m), \u001b[33mList\u001b[39m(\u001b[32m6\u001b[39m, \u001b[32m7\u001b[39m, \u001b[32m8\u001b[39m, \u001b[32m9\u001b[39m))"
            ]
          },
          "execution_count": 57,
          "metadata": {},
          "output_type": "execute_result"
        }
      ],
      "source": [
        "nums3.splitAt(4)"
      ]
    },
    {
      "cell_type": "code",
      "execution_count": null,
      "metadata": {
        "colab": {
          "base_uri": "https://localhost:8080/"
        },
        "id": "NaE6zxF0Juin",
        "outputId": "8225c94a-25a7-4545-8bb7-3b9160a2daf2"
      },
      "outputs": [
        {
          "data": {
            "text/plain": [
              "\u001b[36mres58_0\u001b[39m: (\u001b[32mList\u001b[39m[\u001b[32mInt\u001b[39m], \u001b[32mList\u001b[39m[\u001b[32mInt\u001b[39m]) = (\u001b[33mList\u001b[39m(\u001b[32m2\u001b[39m, \u001b[32m3\u001b[39m, \u001b[32m4\u001b[39m, \u001b[32m5\u001b[39m), \u001b[33mList\u001b[39m(\u001b[32m6\u001b[39m, \u001b[32m7\u001b[39m, \u001b[32m8\u001b[39m, \u001b[32m9\u001b[39m))\n",
              "\u001b[36mres58_1\u001b[39m: \u001b[32mMap\u001b[39m[\u001b[32mBoolean\u001b[39m, \u001b[32mList\u001b[39m[\u001b[32mInt\u001b[39m]] = \u001b[33mMap\u001b[39m(\n",
              "  false -> \u001b[33mList\u001b[39m(\u001b[32m2\u001b[39m, \u001b[32m3\u001b[39m, \u001b[32m4\u001b[39m, \u001b[32m5\u001b[39m),\n",
              "  true -> \u001b[33mList\u001b[39m(\u001b[32m6\u001b[39m, \u001b[32m7\u001b[39m, \u001b[32m8\u001b[39m, \u001b[32m9\u001b[39m)\n",
              ")"
            ]
          },
          "execution_count": 59,
          "metadata": {},
          "output_type": "execute_result"
        }
      ],
      "source": [
        "nums3.partition(_ <= 5)\n",
        "nums3.groupBy(_ > 5)"
      ]
    },
    {
      "cell_type": "code",
      "execution_count": null,
      "metadata": {
        "colab": {
          "base_uri": "https://localhost:8080/"
        },
        "id": "l4o3pdLBKEBn",
        "outputId": "1dc99589-17a1-4788-d955-3137a202dd77"
      },
      "outputs": [
        {
          "name": "stdout",
          "output_type": "stream",
          "text": [
            "List(2, 4, 6, 8, 10, 12, 14, 16, 18)\n",
            "Vector(List(2, 4, 6, 8), List(6, 8, 10, 12), List(10, 12, 14, 16), List(14, 16, 18))\n"
          ]
        },
        {
          "data": {
            "text/plain": [
              "\u001b[36mwindow\u001b[39m: \u001b[32mIterator\u001b[39m[\u001b[32mList\u001b[39m[\u001b[32mInt\u001b[39m]] = <iterator>"
            ]
          },
          "execution_count": 62,
          "metadata": {},
          "output_type": "execute_result"
        }
      ],
      "source": [
        "var window = evenList.sliding(4,2)\n",
        "// (size, step)\n",
        "println(evenList)\n",
        "println(window.toVector)"
      ]
    },
    {
      "cell_type": "markdown",
      "metadata": {
        "id": "OKlY407xLBTw"
      },
      "source": [
        "## Zip, unzip, flatten"
      ]
    },
    {
      "cell_type": "code",
      "execution_count": null,
      "metadata": {
        "colab": {
          "base_uri": "https://localhost:8080/"
        },
        "id": "_qUOPYYLLA8M",
        "outputId": "0261c5a0-52eb-4905-99e7-1745c71d016e"
      },
      "outputs": [
        {
          "name": "stdout",
          "output_type": "stream",
          "text": [
            "List(Pizza, Cake, Brownies)\n"
          ]
        },
        {
          "data": {
            "text/plain": [
              "\u001b[36mfoodCount\u001b[39m: \u001b[32mList\u001b[39m[\u001b[32mInt\u001b[39m] = \u001b[33mList\u001b[39m(\u001b[32m3\u001b[39m, \u001b[32m4\u001b[39m, \u001b[32m2\u001b[39m)"
            ]
          },
          "execution_count": 68,
          "metadata": {},
          "output_type": "execute_result"
        }
      ],
      "source": [
        "println(foodList)\n",
        "var foodCount = List(3,4,2)"
      ]
    },
    {
      "cell_type": "code",
      "execution_count": null,
      "metadata": {
        "colab": {
          "base_uri": "https://localhost:8080/"
        },
        "id": "TNBp6SrZLM_i",
        "outputId": "9c411fb8-264d-4942-e553-eeafbf61bf35"
      },
      "outputs": [
        {
          "data": {
            "text/plain": [
              "\u001b[36mshoppingList\u001b[39m: \u001b[32mList\u001b[39m[(\u001b[32mString\u001b[39m, \u001b[32mInt\u001b[39m)] = \u001b[33mList\u001b[39m(\n",
              "  (\u001b[32m\"Pizza\"\u001b[39m, \u001b[32m3\u001b[39m),\n",
              "  (\u001b[32m\"Cake\"\u001b[39m, \u001b[32m4\u001b[39m),\n",
              "  (\u001b[32m\"Brownies\"\u001b[39m, \u001b[32m2\u001b[39m)\n",
              ")"
            ]
          },
          "execution_count": 69,
          "metadata": {},
          "output_type": "execute_result"
        }
      ],
      "source": [
        "var shoppingList = foodList.zip(foodCount)"
      ]
    },
    {
      "cell_type": "code",
      "execution_count": null,
      "metadata": {
        "colab": {
          "base_uri": "https://localhost:8080/"
        },
        "id": "mfazK8lJLYSP",
        "outputId": "151eec4c-a9e6-47d9-f41a-d30000eb3d79"
      },
      "outputs": [
        {
          "data": {
            "text/plain": [
              "\u001b[36mres69\u001b[39m: (\u001b[32mList\u001b[39m[\u001b[32mString\u001b[39m], \u001b[32mList\u001b[39m[\u001b[32mInt\u001b[39m]) = (\n",
              "  \u001b[33mList\u001b[39m(\u001b[32m\"Pizza\"\u001b[39m, \u001b[32m\"Cake\"\u001b[39m, \u001b[32m\"Brownies\"\u001b[39m),\n",
              "  \u001b[33mList\u001b[39m(\u001b[32m3\u001b[39m, \u001b[32m4\u001b[39m, \u001b[32m2\u001b[39m)\n",
              ")"
            ]
          },
          "execution_count": 70,
          "metadata": {},
          "output_type": "execute_result"
        }
      ],
      "source": [
        "shoppingList.unzip"
      ]
    },
    {
      "cell_type": "code",
      "execution_count": null,
      "metadata": {
        "colab": {
          "base_uri": "https://localhost:8080/"
        },
        "id": "5QGUMHzhLmpI",
        "outputId": "b19ea3e7-e3b6-4cab-a62b-e2173f65fea1"
      },
      "outputs": [
        {
          "data": {
            "text/plain": [
              "\u001b[36mnest\u001b[39m: \u001b[32mList\u001b[39m[\u001b[32mList\u001b[39m[\u001b[32mInt\u001b[39m]] = \u001b[33mList\u001b[39m(\u001b[33mList\u001b[39m(\u001b[32m1\u001b[39m, \u001b[32m2\u001b[39m, \u001b[32m3\u001b[39m), \u001b[33mList\u001b[39m(\u001b[32m4\u001b[39m, \u001b[32m5\u001b[39m, \u001b[32m6\u001b[39m))\n",
              "\u001b[36mres71_1\u001b[39m: \u001b[32mList\u001b[39m[\u001b[32mInt\u001b[39m] = \u001b[33mList\u001b[39m(\u001b[32m1\u001b[39m, \u001b[32m2\u001b[39m, \u001b[32m3\u001b[39m, \u001b[32m4\u001b[39m, \u001b[32m5\u001b[39m, \u001b[32m6\u001b[39m)"
            ]
          },
          "execution_count": 72,
          "metadata": {},
          "output_type": "execute_result"
        }
      ],
      "source": [
        "var nest = List(List(1,2,3), List(4,5,6))\n",
        "nest.flatten"
      ]
    },
    {
      "cell_type": "code",
      "execution_count": null,
      "metadata": {
        "colab": {
          "base_uri": "https://localhost:8080/"
        },
        "id": "dj2_MAxSL2Z6",
        "outputId": "7cd098b1-6424-4ec2-f010-d6ba116490e6"
      },
      "outputs": [
        {
          "name": "stdout",
          "output_type": "stream",
          "text": [
            "List(2, 4, 6, 8, 10, 12, 14, 16, 18)"
          ]
        },
        {
          "data": {
            "text/plain": [
              "\u001b[36mres74_1\u001b[39m: \u001b[32mBoolean\u001b[39m = true\n",
              "\u001b[36mres74_2\u001b[39m: \u001b[32mBoolean\u001b[39m = false"
            ]
          },
          "execution_count": 75,
          "metadata": {},
          "output_type": "execute_result"
        }
      ],
      "source": [
        "print(evenList)\n",
        "evenList.forall(_ % 2 == 0)\n",
        "evenList.forall(_ % 3 == 0)"
      ]
    },
    {
      "cell_type": "code",
      "execution_count": null,
      "metadata": {
        "colab": {
          "base_uri": "https://localhost:8080/"
        },
        "id": "Ds1HTj_JMFhu",
        "outputId": "ed4b2dcc-0eef-4c10-fd99-22bed1799058"
      },
      "outputs": [
        {
          "data": {
            "text/plain": [
              "\u001b[36moddList\u001b[39m: \u001b[32mList\u001b[39m[\u001b[32mInt\u001b[39m] = \u001b[33mList\u001b[39m(\u001b[32m1\u001b[39m, \u001b[32m3\u001b[39m, \u001b[32m5\u001b[39m, \u001b[32m7\u001b[39m, \u001b[32m9\u001b[39m, \u001b[32m11\u001b[39m, \u001b[32m13\u001b[39m, \u001b[32m15\u001b[39m, \u001b[32m17\u001b[39m, \u001b[32m19\u001b[39m)\n",
              "\u001b[36mres78_1\u001b[39m: \u001b[32mInt\u001b[39m = \u001b[32m1\u001b[39m\n",
              "\u001b[36mres78_2\u001b[39m: \u001b[32mInt\u001b[39m = \u001b[32m19\u001b[39m\n",
              "\u001b[36mres78_3\u001b[39m: \u001b[32mInt\u001b[39m = \u001b[32m100\u001b[39m\n",
              "\u001b[36mres78_4\u001b[39m: \u001b[32mInt\u001b[39m = \u001b[32m654729075\u001b[39m"
            ]
          },
          "execution_count": 79,
          "metadata": {},
          "output_type": "execute_result"
        }
      ],
      "source": [
        "var oddList = List.range(1,21,2)\n",
        "oddList.min\n",
        "oddList.max\n",
        "oddList.sum\n",
        "oddList.product"
      ]
    },
    {
      "cell_type": "markdown",
      "metadata": {
        "id": "jg7rSSPFNOm3"
      },
      "source": [
        "#LazyList"
      ]
    },
    {
      "cell_type": "code",
      "execution_count": null,
      "metadata": {
        "colab": {
          "base_uri": "https://localhost:8080/"
        },
        "id": "rgsQtELmNPux",
        "outputId": "570de85d-656f-48e2-b507-9c525e5c7cfc"
      },
      "outputs": [
        {
          "data": {
            "text/plain": [
              "\u001b[36mstreamList\u001b[39m: \u001b[32mStream\u001b[39m[\u001b[32mInt\u001b[39m] = \u001b[33mStream\u001b[39m(\n",
              "  \u001b[32m1\u001b[39m,\n",
              "  \u001b[32m2\u001b[39m,\n",
              "  \u001b[32m3\u001b[39m,\n",
              "  \u001b[32m4\u001b[39m,\n",
              "  \u001b[32m5\u001b[39m,\n",
              "  \u001b[32m6\u001b[39m,\n",
              "  \u001b[32m7\u001b[39m,\n",
              "  \u001b[32m8\u001b[39m,\n",
              "  \u001b[32m9\u001b[39m,\n",
              "  \u001b[32m10\u001b[39m,\n",
              "  \u001b[32m11\u001b[39m,\n",
              "  \u001b[32m12\u001b[39m,\n",
              "  \u001b[32m13\u001b[39m,\n",
              "  \u001b[32m14\u001b[39m,\n",
              "  \u001b[32m15\u001b[39m,\n",
              "  \u001b[32m16\u001b[39m,\n",
              "  \u001b[32m17\u001b[39m,\n",
              "  \u001b[32m18\u001b[39m,\n",
              "  \u001b[32m19\u001b[39m,\n",
              "  \u001b[32m20\u001b[39m,\n",
              "  \u001b[32m21\u001b[39m,\n",
              "  \u001b[32m22\u001b[39m,\n",
              "  \u001b[32m23\u001b[39m,\n",
              "  \u001b[32m24\u001b[39m,\n",
              "  \u001b[32m25\u001b[39m,\n",
              "  \u001b[32m26\u001b[39m,\n",
              "  \u001b[32m27\u001b[39m,\n",
              "  \u001b[32m28\u001b[39m,\n",
              "  \u001b[32m29\u001b[39m,\n",
              "  \u001b[32m30\u001b[39m,\n",
              "  \u001b[32m31\u001b[39m,\n",
              "  \u001b[32m32\u001b[39m,\n",
              "  \u001b[32m33\u001b[39m,\n",
              "  \u001b[32m34\u001b[39m,\n",
              "  \u001b[32m35\u001b[39m,\n",
              "  \u001b[32m36\u001b[39m,\n",
              "  \u001b[32m37\u001b[39m,\n",
              "  \u001b[32m38\u001b[39m,\n",
              "..."
            ]
          },
          "execution_count": 85,
          "metadata": {},
          "output_type": "execute_result"
        }
      ],
      "source": [
        "var streamList = (1 to 999999999).toStream"
      ]
    },
    {
      "cell_type": "code",
      "execution_count": null,
      "metadata": {
        "colab": {
          "base_uri": "https://localhost:8080/"
        },
        "id": "3H3ilIIBNcaJ",
        "outputId": "a07955a0-bb8d-4cbc-ad06-bba0ccd93037"
      },
      "outputs": [
        {
          "data": {
            "text/plain": [
              "\u001b[36mres81_0\u001b[39m: \u001b[32mInt\u001b[39m = \u001b[32m1\u001b[39m\n",
              "\u001b[36mres81_1\u001b[39m: \u001b[32mStream\u001b[39m[\u001b[32mInt\u001b[39m] = \u001b[33mStream\u001b[39m(\n",
              "  \u001b[32m2\u001b[39m,\n",
              "  \u001b[32m3\u001b[39m,\n",
              "  \u001b[32m4\u001b[39m,\n",
              "  \u001b[32m5\u001b[39m,\n",
              "  \u001b[32m6\u001b[39m,\n",
              "  \u001b[32m7\u001b[39m,\n",
              "  \u001b[32m8\u001b[39m,\n",
              "  \u001b[32m9\u001b[39m,\n",
              "  \u001b[32m10\u001b[39m,\n",
              "  \u001b[32m11\u001b[39m,\n",
              "  \u001b[32m12\u001b[39m,\n",
              "  \u001b[32m13\u001b[39m,\n",
              "  \u001b[32m14\u001b[39m,\n",
              "  \u001b[32m15\u001b[39m,\n",
              "  \u001b[32m16\u001b[39m,\n",
              "  \u001b[32m17\u001b[39m,\n",
              "  \u001b[32m18\u001b[39m,\n",
              "  \u001b[32m19\u001b[39m,\n",
              "  \u001b[32m20\u001b[39m,\n",
              "  \u001b[32m21\u001b[39m,\n",
              "  \u001b[32m22\u001b[39m,\n",
              "  \u001b[32m23\u001b[39m,\n",
              "  \u001b[32m24\u001b[39m,\n",
              "  \u001b[32m25\u001b[39m,\n",
              "  \u001b[32m26\u001b[39m,\n",
              "  \u001b[32m27\u001b[39m,\n",
              "  \u001b[32m28\u001b[39m,\n",
              "  \u001b[32m29\u001b[39m,\n",
              "  \u001b[32m30\u001b[39m,\n",
              "  \u001b[32m31\u001b[39m,\n",
              "  \u001b[32m32\u001b[39m,\n",
              "  \u001b[32m33\u001b[39m,\n",
              "  \u001b[32m34\u001b[39m,\n",
              "  \u001b[32m35\u001b[39m,\n",
              "  \u001b[32m36\u001b[39m,\n",
              "  \u001b[32m37\u001b[39m,\n",
              "  \u001b[32m38\u001b[39m,\n",
              "  \u001b[32m39\u001b[39m,\n",
              "..."
            ]
          },
          "execution_count": 82,
          "metadata": {},
          "output_type": "execute_result"
        }
      ],
      "source": [
        "streamList.head\n",
        "streamList.tail"
      ]
    },
    {
      "cell_type": "code",
      "execution_count": null,
      "metadata": {
        "colab": {
          "base_uri": "https://localhost:8080/"
        },
        "id": "76m_LLMsNh5X",
        "outputId": "1027cc87-e801-479a-b0d1-d5aa5808d6d7"
      },
      "outputs": [
        {
          "data": {
            "text/plain": [
              "\u001b[36mstreamList2\u001b[39m: \u001b[32mStream\u001b[39m[\u001b[32mInt\u001b[39m] = \u001b[33mStream\u001b[39m(\n",
              "  \u001b[32m2\u001b[39m,\n",
              "  \u001b[32m3\u001b[39m,\n",
              "  \u001b[32m4\u001b[39m,\n",
              "  \u001b[32m5\u001b[39m,\n",
              "  \u001b[32m6\u001b[39m,\n",
              "  \u001b[32m7\u001b[39m,\n",
              "  \u001b[32m8\u001b[39m,\n",
              "  \u001b[32m9\u001b[39m,\n",
              "  \u001b[32m10\u001b[39m,\n",
              "  \u001b[32m11\u001b[39m,\n",
              "  \u001b[32m12\u001b[39m,\n",
              "  \u001b[32m13\u001b[39m,\n",
              "  \u001b[32m14\u001b[39m,\n",
              "  \u001b[32m15\u001b[39m,\n",
              "  \u001b[32m16\u001b[39m,\n",
              "  \u001b[32m17\u001b[39m,\n",
              "  \u001b[32m18\u001b[39m,\n",
              "  \u001b[32m19\u001b[39m,\n",
              "  \u001b[32m20\u001b[39m,\n",
              "  \u001b[32m21\u001b[39m,\n",
              "  \u001b[32m22\u001b[39m,\n",
              "  \u001b[32m23\u001b[39m,\n",
              "  \u001b[32m24\u001b[39m,\n",
              "  \u001b[32m25\u001b[39m,\n",
              "  \u001b[32m26\u001b[39m,\n",
              "  \u001b[32m27\u001b[39m,\n",
              "  \u001b[32m28\u001b[39m,\n",
              "  \u001b[32m29\u001b[39m,\n",
              "  \u001b[32m30\u001b[39m,\n",
              "  \u001b[32m31\u001b[39m,\n",
              "  \u001b[32m32\u001b[39m,\n",
              "  \u001b[32m33\u001b[39m,\n",
              "  \u001b[32m34\u001b[39m,\n",
              "  \u001b[32m35\u001b[39m,\n",
              "  \u001b[32m36\u001b[39m,\n",
              "  \u001b[32m37\u001b[39m,\n",
              "  \u001b[32m38\u001b[39m,\n",
              "  \u001b[32m39\u001b[39m,\n",
              "..."
            ]
          },
          "execution_count": 83,
          "metadata": {},
          "output_type": "execute_result"
        }
      ],
      "source": [
        "var streamList2 = streamList.drop(1)"
      ]
    },
    {
      "cell_type": "code",
      "execution_count": null,
      "metadata": {
        "colab": {
          "base_uri": "https://localhost:8080/"
        },
        "id": "pWzNenlcNqHq",
        "outputId": "c907cc02-2b87-4e43-aedc-1a972a2e834c"
      },
      "outputs": [
        {
          "data": {
            "text/plain": [
              "\u001b[36mres83\u001b[39m: \u001b[32mInt\u001b[39m = \u001b[32m2\u001b[39m"
            ]
          },
          "execution_count": 84,
          "metadata": {},
          "output_type": "execute_result"
        }
      ],
      "source": [
        "streamList2.head"
      ]
    },
    {
      "cell_type": "markdown",
      "metadata": {
        "id": "VQoizYcmO_iT"
      },
      "source": [
        "# Queues"
      ]
    },
    {
      "cell_type": "code",
      "execution_count": null,
      "metadata": {
        "colab": {
          "base_uri": "https://localhost:8080/"
        },
        "id": "gPvTxRAXO8zm",
        "outputId": "1398aaa4-6d68-4a41-ac68-13b24158600d"
      },
      "outputs": [
        {
          "data": {
            "text/plain": [
              "\u001b[36mqueue1\u001b[39m: \u001b[32mcollection\u001b[39m.\u001b[32mimmutable\u001b[39m.\u001b[32mQueue\u001b[39m[\u001b[32mString\u001b[39m] = \u001b[33mQueue\u001b[39m()"
            ]
          },
          "execution_count": 86,
          "metadata": {},
          "output_type": "execute_result"
        }
      ],
      "source": [
        "var queue1 = collection.immutable.Queue[String]()"
      ]
    },
    {
      "cell_type": "code",
      "execution_count": null,
      "metadata": {
        "colab": {
          "base_uri": "https://localhost:8080/"
        },
        "id": "WobueGtVPH1M",
        "outputId": "b36f1a3c-41bb-4828-ca14-78dab1f32a8b"
      },
      "outputs": [
        {
          "data": {
            "text/plain": [
              "\u001b[36mqueue2\u001b[39m: \u001b[32mcollection\u001b[39m.\u001b[32mimmutable\u001b[39m.\u001b[32mQueue\u001b[39m[\u001b[32mString\u001b[39m] = \u001b[33mQueue\u001b[39m(\u001b[32m\"First\"\u001b[39m)"
            ]
          },
          "execution_count": 87,
          "metadata": {},
          "output_type": "execute_result"
        }
      ],
      "source": [
        "var queue2 = queue1.enqueue(\"First\")"
      ]
    },
    {
      "cell_type": "code",
      "execution_count": null,
      "metadata": {
        "colab": {
          "base_uri": "https://localhost:8080/"
        },
        "id": "I8cxBf4fPPo7",
        "outputId": "dd301e44-3d44-452d-ffd5-13bf815a91fe"
      },
      "outputs": [
        {
          "data": {
            "text/plain": [
              "\u001b[36mqueue3\u001b[39m: \u001b[32mcollection\u001b[39m.\u001b[32mimmutable\u001b[39m.\u001b[32mQueue\u001b[39m[\u001b[32mString\u001b[39m] = \u001b[33mQueue\u001b[39m(\n",
              "  \u001b[32m\"First\"\u001b[39m,\n",
              "  \u001b[32m\"Second\"\u001b[39m,\n",
              "  \u001b[32m\"Third\"\u001b[39m,\n",
              "  \u001b[32m\"Fourth\"\u001b[39m\n",
              ")"
            ]
          },
          "execution_count": 88,
          "metadata": {},
          "output_type": "execute_result"
        }
      ],
      "source": [
        "var queue3 = queue2.enqueue(List(\"Second\", \"Third\", \"Fourth\"))"
      ]
    },
    {
      "cell_type": "code",
      "execution_count": null,
      "metadata": {
        "colab": {
          "base_uri": "https://localhost:8080/"
        },
        "id": "8fXJm0mqPiY8",
        "outputId": "3b6c2e1c-0eed-45eb-8683-68ef195ca907"
      },
      "outputs": [
        {
          "data": {
            "text/plain": [
              "\u001b[36mres89\u001b[39m: (\u001b[32mString\u001b[39m, \u001b[32mcollection\u001b[39m.\u001b[32mimmutable\u001b[39m.\u001b[32mQueue\u001b[39m[\u001b[32mString\u001b[39m]) = (\u001b[32m\"First\"\u001b[39m, \u001b[33mQueue\u001b[39m())"
            ]
          },
          "execution_count": 90,
          "metadata": {},
          "output_type": "execute_result"
        }
      ],
      "source": [
        "var (dequeueElement, queue4) = queue2.dequeue"
      ]
    },
    {
      "cell_type": "markdown",
      "metadata": {
        "id": "Q9fmV9thkzOo"
      },
      "source": [
        "# Vectors"
      ]
    },
    {
      "cell_type": "code",
      "execution_count": null,
      "metadata": {
        "colab": {
          "base_uri": "https://localhost:8080/"
        },
        "id": "AwAGT4VJk2Tq",
        "outputId": "13e195ea-3281-427c-a79a-a3bfda5a9ec2"
      },
      "outputs": [
        {
          "data": {
            "text/plain": [
              "\u001b[36mnumsV\u001b[39m: \u001b[32mVector\u001b[39m[\u001b[32mInt\u001b[39m] = \u001b[33mVector\u001b[39m(\n",
              "  \u001b[32m1\u001b[39m,\n",
              "  \u001b[32m2\u001b[39m,\n",
              "  \u001b[32m3\u001b[39m,\n",
              "  \u001b[32m4\u001b[39m,\n",
              "  \u001b[32m5\u001b[39m,\n",
              "  \u001b[32m6\u001b[39m,\n",
              "  \u001b[32m7\u001b[39m,\n",
              "  \u001b[32m8\u001b[39m,\n",
              "  \u001b[32m9\u001b[39m,\n",
              "  \u001b[32m10\u001b[39m,\n",
              "  \u001b[32m11\u001b[39m,\n",
              "  \u001b[32m12\u001b[39m,\n",
              "  \u001b[32m13\u001b[39m,\n",
              "  \u001b[32m14\u001b[39m,\n",
              "  \u001b[32m15\u001b[39m,\n",
              "  \u001b[32m16\u001b[39m,\n",
              "  \u001b[32m17\u001b[39m,\n",
              "  \u001b[32m18\u001b[39m,\n",
              "  \u001b[32m19\u001b[39m,\n",
              "  \u001b[32m20\u001b[39m,\n",
              "  \u001b[32m21\u001b[39m,\n",
              "  \u001b[32m22\u001b[39m,\n",
              "  \u001b[32m23\u001b[39m,\n",
              "  \u001b[32m24\u001b[39m,\n",
              "  \u001b[32m25\u001b[39m,\n",
              "  \u001b[32m26\u001b[39m,\n",
              "  \u001b[32m27\u001b[39m,\n",
              "  \u001b[32m28\u001b[39m,\n",
              "  \u001b[32m29\u001b[39m,\n",
              "  \u001b[32m30\u001b[39m,\n",
              "  \u001b[32m31\u001b[39m,\n",
              "  \u001b[32m32\u001b[39m,\n",
              "  \u001b[32m33\u001b[39m,\n",
              "  \u001b[32m34\u001b[39m,\n",
              "  \u001b[32m35\u001b[39m,\n",
              "  \u001b[32m36\u001b[39m,\n",
              "  \u001b[32m37\u001b[39m,\n",
              "  \u001b[32m38\u001b[39m,\n",
              "..."
            ]
          },
          "execution_count": 91,
          "metadata": {},
          "output_type": "execute_result"
        }
      ],
      "source": [
        "var numsV = (1 to 10000).toVector"
      ]
    },
    {
      "cell_type": "code",
      "execution_count": null,
      "metadata": {
        "colab": {
          "base_uri": "https://localhost:8080/"
        },
        "id": "pZ24n14Sk89V",
        "outputId": "45c3553f-e934-4a0f-95a9-ce872279bfc6"
      },
      "outputs": [
        {
          "data": {
            "text/plain": [
              "\u001b[36mbegin_code\u001b[39m: \u001b[32mLong\u001b[39m = \u001b[32m1644260846188L\u001b[39m"
            ]
          },
          "execution_count": 96,
          "metadata": {},
          "output_type": "execute_result"
        }
      ],
      "source": [
        "var begin_code = System.currentTimeMillis()"
      ]
    },
    {
      "cell_type": "code",
      "execution_count": null,
      "metadata": {
        "id": "Apu1gaDxlHKU"
      },
      "outputs": [],
      "source": [
        "for (i <- List.range(0,numsV.size)) numsV(i)"
      ]
    },
    {
      "cell_type": "code",
      "execution_count": null,
      "metadata": {
        "colab": {
          "base_uri": "https://localhost:8080/"
        },
        "id": "G8XE0UPtlTz1",
        "outputId": "2d2234ff-986f-4740-a033-cc55351967c1"
      },
      "outputs": [
        {
          "data": {
            "text/plain": [
              "\u001b[36mend_code\u001b[39m: \u001b[32mLong\u001b[39m = \u001b[32m1644260849208L\u001b[39m"
            ]
          },
          "execution_count": 98,
          "metadata": {},
          "output_type": "execute_result"
        }
      ],
      "source": [
        "var end_code = System.currentTimeMillis()"
      ]
    },
    {
      "cell_type": "code",
      "execution_count": null,
      "metadata": {
        "colab": {
          "base_uri": "https://localhost:8080/"
        },
        "id": "J4af5od2lYle",
        "outputId": "5d966b02-d0d4-4781-92ce-319b12874b04"
      },
      "outputs": [
        {
          "data": {
            "text/plain": [
              "\u001b[36mvecTime\u001b[39m: \u001b[32mLong\u001b[39m = \u001b[32m3020L\u001b[39m"
            ]
          },
          "execution_count": 99,
          "metadata": {},
          "output_type": "execute_result"
        }
      ],
      "source": [
        "var vecTime = end_code - begin_code"
      ]
    },
    {
      "cell_type": "markdown",
      "metadata": {
        "id": "5sOFWvW4lp2Z"
      },
      "source": [
        "# Maps"
      ]
    },
    {
      "cell_type": "code",
      "execution_count": null,
      "metadata": {
        "colab": {
          "base_uri": "https://localhost:8080/"
        },
        "id": "QsyMQKY0lo_f",
        "outputId": "6f6c46b9-8000-40db-b250-45766e9c6509"
      },
      "outputs": [
        {
          "data": {
            "text/plain": [
              "\u001b[36mfoodMap\u001b[39m: \u001b[32mMap\u001b[39m[\u001b[32mString\u001b[39m, \u001b[32mDouble\u001b[39m] = \u001b[33mMap\u001b[39m(\n",
              "  \u001b[32m\"Pizza\"\u001b[39m -> \u001b[32m1.99\u001b[39m,\n",
              "  \u001b[32m\"Cake\"\u001b[39m -> \u001b[32m2.99\u001b[39m,\n",
              "  \u001b[32m\"Brownies\"\u001b[39m -> \u001b[32m3.99\u001b[39m\n",
              ")"
            ]
          },
          "execution_count": 100,
          "metadata": {},
          "output_type": "execute_result"
        }
      ],
      "source": [
        "var foodMap = Map(\"Pizza\" -> 1.99, \"Cake\" -> 2.99, \"Brownies\" -> 3.99)"
      ]
    },
    {
      "cell_type": "code",
      "execution_count": null,
      "metadata": {
        "colab": {
          "base_uri": "https://localhost:8080/"
        },
        "id": "phXhkH8kl7Pv",
        "outputId": "bc220a9f-e8ae-4514-dc23-c5cbda3d46ce"
      },
      "outputs": [
        {
          "data": {
            "text/plain": [
              "\u001b[36mfoodMap2\u001b[39m: \u001b[32mMap\u001b[39m[\u001b[32mString\u001b[39m, \u001b[32mDouble\u001b[39m] = \u001b[33mMap\u001b[39m(\n",
              "  \u001b[32m\"Pizza\"\u001b[39m -> \u001b[32m1.99\u001b[39m,\n",
              "  \u001b[32m\"Cake\"\u001b[39m -> \u001b[32m2.99\u001b[39m,\n",
              "  \u001b[32m\"Brownies\"\u001b[39m -> \u001b[32m3.99\u001b[39m,\n",
              "  \u001b[32m\"Ice Cream\"\u001b[39m -> \u001b[32m0.99\u001b[39m\n",
              ")"
            ]
          },
          "execution_count": 101,
          "metadata": {},
          "output_type": "execute_result"
        }
      ],
      "source": [
        "var foodMap2 = foodMap + (\"Ice Cream\" -> 0.99)"
      ]
    },
    {
      "cell_type": "code",
      "execution_count": null,
      "metadata": {
        "colab": {
          "base_uri": "https://localhost:8080/"
        },
        "id": "rqNFfPqxmKZz",
        "outputId": "573db8e7-63a5-475c-d9aa-bc7202a072c0"
      },
      "outputs": [
        {
          "data": {
            "text/plain": [
              "\u001b[36mfoodMap3\u001b[39m: \u001b[32mMap\u001b[39m[\u001b[32mString\u001b[39m, \u001b[32mDouble\u001b[39m] = \u001b[33mMap\u001b[39m(\n",
              "  \u001b[32m\"Pizza\"\u001b[39m -> \u001b[32m1.99\u001b[39m,\n",
              "  \u001b[32m\"Cake\"\u001b[39m -> \u001b[32m2.99\u001b[39m,\n",
              "  \u001b[32m\"Brownies\"\u001b[39m -> \u001b[32m3.99\u001b[39m,\n",
              "  \u001b[32m\"Pasta\"\u001b[39m -> \u001b[32m4.99\u001b[39m,\n",
              "  \u001b[32m\"Wings\"\u001b[39m -> \u001b[32m5.99\u001b[39m,\n",
              "  \u001b[32m\"Ice Cream\"\u001b[39m -> \u001b[32m0.99\u001b[39m\n",
              ")"
            ]
          },
          "execution_count": 102,
          "metadata": {},
          "output_type": "execute_result"
        }
      ],
      "source": [
        "var foodMap3 = foodMap2 ++ Map(\"Pasta\" -> 4.99, \"Wings\" -> 5.99)"
      ]
    },
    {
      "cell_type": "code",
      "execution_count": null,
      "metadata": {
        "colab": {
          "base_uri": "https://localhost:8080/"
        },
        "id": "6meMtavjmYRE",
        "outputId": "df8ca20c-48a2-472e-c546-58d2eb02b5ca"
      },
      "outputs": [
        {
          "data": {
            "text/plain": [
              "\u001b[36mfoodMap4\u001b[39m: \u001b[32mMap\u001b[39m[\u001b[32mString\u001b[39m, \u001b[32mDouble\u001b[39m] = \u001b[33mMap\u001b[39m(\n",
              "  \u001b[32m\"Pizza\"\u001b[39m -> \u001b[32m1.99\u001b[39m,\n",
              "  \u001b[32m\"Cake\"\u001b[39m -> \u001b[32m2.99\u001b[39m,\n",
              "  \u001b[32m\"Brownies\"\u001b[39m -> \u001b[32m3.99\u001b[39m,\n",
              "  \u001b[32m\"Pasta\"\u001b[39m -> \u001b[32m4.99\u001b[39m,\n",
              "  \u001b[32m\"Ice Cream\"\u001b[39m -> \u001b[32m0.99\u001b[39m\n",
              ")"
            ]
          },
          "execution_count": 103,
          "metadata": {},
          "output_type": "execute_result"
        }
      ],
      "source": [
        "var foodMap4 = foodMap3 - (\"Wings\")"
      ]
    },
    {
      "cell_type": "code",
      "execution_count": null,
      "metadata": {
        "colab": {
          "base_uri": "https://localhost:8080/"
        },
        "id": "4TNXlwYUmidw",
        "outputId": "3ce34dda-2fe2-44d0-ff22-7464c343ea1d"
      },
      "outputs": [
        {
          "data": {
            "text/plain": [
              "\u001b[36mfoodMap5\u001b[39m: \u001b[32mMap\u001b[39m[\u001b[32mString\u001b[39m, \u001b[32mDouble\u001b[39m] = \u001b[33mMap\u001b[39m(\n",
              "  \u001b[32m\"Cake\"\u001b[39m -> \u001b[32m2.99\u001b[39m,\n",
              "  \u001b[32m\"Brownies\"\u001b[39m -> \u001b[32m3.99\u001b[39m,\n",
              "  \u001b[32m\"Ice Cream\"\u001b[39m -> \u001b[32m0.99\u001b[39m\n",
              ")"
            ]
          },
          "execution_count": 104,
          "metadata": {},
          "output_type": "execute_result"
        }
      ],
      "source": [
        "var foodMap5 = foodMap4 -- List(\"Pasta\", \"Pizza\")"
      ]
    },
    {
      "cell_type": "markdown",
      "metadata": {
        "id": "Sb8OmvWVmqNt"
      },
      "source": [
        "## Access Elements"
      ]
    },
    {
      "cell_type": "code",
      "execution_count": null,
      "metadata": {
        "colab": {
          "base_uri": "https://localhost:8080/"
        },
        "id": "TAeh083QmuH3",
        "outputId": "3837c3dd-b5fb-4bd7-ca6c-78726aa0c69f"
      },
      "outputs": [
        {
          "data": {
            "text/plain": [
              "\u001b[36mseasonWear\u001b[39m: \u001b[32mMap\u001b[39m[\u001b[32mString\u001b[39m, \u001b[32mString\u001b[39m] = \u001b[33mMap\u001b[39m(\n",
              "  \u001b[32m\"rain\"\u001b[39m -> \u001b[32m\"rainboots\"\u001b[39m,\n",
              "  \u001b[32m\"sunshine\"\u001b[39m -> \u001b[32m\"hat\"\u001b[39m\n",
              ")"
            ]
          },
          "execution_count": 35,
          "metadata": {},
          "output_type": "execute_result"
        }
      ],
      "source": [
        "var seasonWear = Map(\"rain\" -> \"rainboots\", \"sunshine\" -> \"hat\")"
      ]
    },
    {
      "cell_type": "code",
      "execution_count": null,
      "metadata": {
        "colab": {
          "base_uri": "https://localhost:8080/"
        },
        "id": "Gx1CE0K1m3RH",
        "outputId": "7f63bbd3-9e6b-4bb9-b6ed-09f44274290e"
      },
      "outputs": [
        {
          "data": {
            "text/plain": [
              "\u001b[36mrainWear\u001b[39m: \u001b[32mString\u001b[39m = \u001b[32m\"rainboots\"\u001b[39m"
            ]
          },
          "execution_count": 36,
          "metadata": {},
          "output_type": "execute_result"
        }
      ],
      "source": [
        "var rainWear = seasonWear(\"rain\")"
      ]
    },
    {
      "cell_type": "code",
      "execution_count": null,
      "metadata": {
        "colab": {
          "base_uri": "https://localhost:8080/"
        },
        "id": "572y2k_am_4I",
        "outputId": "908692ff-e834-4715-ac60-d3fb52be0ab1"
      },
      "outputs": [
        {
          "data": {
            "text/plain": [
              "\u001b[36msnowWear\u001b[39m: \u001b[32mString\u001b[39m = \u001b[32m\"No such weather\"\u001b[39m"
            ]
          },
          "execution_count": 37,
          "metadata": {},
          "output_type": "execute_result"
        }
      ],
      "source": [
        "var snowWear = seasonWear.getOrElse(\"snow\", \"No such weather\")"
      ]
    },
    {
      "cell_type": "code",
      "execution_count": null,
      "metadata": {
        "colab": {
          "base_uri": "https://localhost:8080/"
        },
        "id": "BQxwitbDnPTm",
        "outputId": "ddfbe44e-ca70-4a32-d682-ad7f00427f34"
      },
      "outputs": [
        {
          "data": {
            "text/plain": [
              "\u001b[36mseasonWear2\u001b[39m: \u001b[32mMap\u001b[39m[\u001b[32mString\u001b[39m, \u001b[32mString\u001b[39m] = \u001b[33mMap\u001b[39m(\n",
              "  \u001b[32m\"rain\"\u001b[39m -> \u001b[32m\"rainboots\"\u001b[39m,\n",
              "  \u001b[32m\"sunshine\"\u001b[39m -> \u001b[32m\"hat\"\u001b[39m\n",
              ")"
            ]
          },
          "execution_count": 38,
          "metadata": {},
          "output_type": "execute_result"
        }
      ],
      "source": [
        "var seasonWear2 = Map(\"rain\" -> \"rainboots\", \"sunshine\" -> \"hat\").withDefaultValue(\"No such weather\")"
      ]
    },
    {
      "cell_type": "code",
      "execution_count": null,
      "metadata": {
        "colab": {
          "base_uri": "https://localhost:8080/"
        },
        "id": "g0uTpk2inWGk",
        "outputId": "7cabd082-75e5-4974-ab0b-7c8614b01b3a"
      },
      "outputs": [
        {
          "name": "stdout",
          "output_type": "stream",
          "text": [
            "weather: rainboots\n"
          ]
        },
        {
          "data": {
            "text/plain": [
              "\u001b[36mwind\u001b[39m: \u001b[32mString\u001b[39m = \u001b[32m\"rainboots\"\u001b[39m"
            ]
          },
          "execution_count": 40,
          "metadata": {},
          "output_type": "execute_result"
        }
      ],
      "source": [
        "var wind = seasonWear2(\"rain\")\n",
        "// seasonWear2(\"wind\")\n",
        "println(s\"weather: $wind\")"
      ]
    },
    {
      "cell_type": "markdown",
      "metadata": {
        "id": "MwlweLDlnxB5"
      },
      "source": [
        "## Key Value Functions"
      ]
    },
    {
      "cell_type": "code",
      "execution_count": null,
      "metadata": {
        "colab": {
          "base_uri": "https://localhost:8080/"
        },
        "id": "s88YIko3nzC2",
        "outputId": "739d7ef3-437a-4a2c-f8d6-1c57f3e4238c"
      },
      "outputs": [
        {
          "data": {
            "text/plain": [
              "\u001b[36mkeys_only\u001b[39m: \u001b[32mIterable\u001b[39m[\u001b[32mString\u001b[39m] = \u001b[33mSet\u001b[39m(\u001b[32m\"rain\"\u001b[39m, \u001b[32m\"sunshine\"\u001b[39m)\n",
              "\u001b[36mvalues_only\u001b[39m: \u001b[32mIterable\u001b[39m[\u001b[32mString\u001b[39m] = \u001b[33mMapLike.DefaultValuesIterable\u001b[39m(\n",
              "  \u001b[32m\"rainboots\"\u001b[39m,\n",
              "  \u001b[32m\"hat\"\u001b[39m\n",
              ")"
            ]
          },
          "execution_count": 117,
          "metadata": {},
          "output_type": "execute_result"
        }
      ],
      "source": [
        "var keys_only = seasonWear.keys\n",
        "var values_only = seasonWear.values"
      ]
    },
    {
      "cell_type": "code",
      "execution_count": null,
      "metadata": {
        "colab": {
          "base_uri": "https://localhost:8080/"
        },
        "id": "f_UO3D2RoM11",
        "outputId": "c03beb0d-e017-4074-e200-bb58cf33cac3"
      },
      "outputs": [
        {
          "name": "stdout",
          "output_type": "stream",
          "text": [
            "Activity: movie\n",
            "person: friend\n",
            "Activity: dinner\n",
            "person: mom\n"
          ]
        },
        {
          "data": {
            "text/plain": [
              "\u001b[36mguestList\u001b[39m: \u001b[32mMap\u001b[39m[\u001b[32mString\u001b[39m, \u001b[32mString\u001b[39m] = \u001b[33mMap\u001b[39m(\u001b[32m\"movie\"\u001b[39m -> \u001b[32m\"friend\"\u001b[39m, \u001b[32m\"dinner\"\u001b[39m -> \u001b[32m\"mom\"\u001b[39m)"
            ]
          },
          "execution_count": 118,
          "metadata": {},
          "output_type": "execute_result"
        }
      ],
      "source": [
        "val guestList = Map(\"movie\" -> \"friend\", \"dinner\" -> \"mom\")\n",
        "\n",
        "for ((k,v) <- guestList) {\n",
        "  println(\"Activity: \" + k)\n",
        "  println(\"person: \" + v)\n",
        "}"
      ]
    },
    {
      "cell_type": "code",
      "execution_count": null,
      "metadata": {
        "colab": {
          "base_uri": "https://localhost:8080/"
        },
        "id": "MPYNJt1gohLW",
        "outputId": "c6d0a798-931e-4198-bd72-bb813a57d472"
      },
      "outputs": [
        {
          "name": "stdout",
          "output_type": "stream",
          "text": [
            "activity: movie, person: friend\n",
            "activity: dinner, person: mom\n"
          ]
        }
      ],
      "source": [
        "guestList.foreach {\n",
        "  case(activity, person) => println(s\"activity: $activity, person: $person\")\n",
        "}"
      ]
    },
    {
      "cell_type": "markdown",
      "metadata": {
        "id": "WDox_cBA5N5N"
      },
      "source": [
        "# Sets"
      ]
    },
    {
      "cell_type": "code",
      "execution_count": null,
      "metadata": {
        "colab": {
          "base_uri": "https://localhost:8080/"
        },
        "id": "ygqLSu-m5NfV",
        "outputId": "8faab6eb-3b98-4557-9f4d-416bcc30dc4b"
      },
      "outputs": [
        {
          "data": {
            "text/plain": [
              "\u001b[36mdinnerSet\u001b[39m: \u001b[32mSet\u001b[39m[\u001b[32mString\u001b[39m] = \u001b[33mSet\u001b[39m(\u001b[32m\"Pizza\"\u001b[39m, \u001b[32m\"Pasta\"\u001b[39m, \u001b[32m\"Burgers\"\u001b[39m)"
            ]
          },
          "execution_count": 120,
          "metadata": {},
          "output_type": "execute_result"
        }
      ],
      "source": [
        "var dinnerSet = Set(\"Pizza\", \"Pasta\", \"Burgers\")"
      ]
    },
    {
      "cell_type": "code",
      "execution_count": null,
      "metadata": {
        "colab": {
          "base_uri": "https://localhost:8080/"
        },
        "id": "DHgqdCeH5x2u",
        "outputId": "928bdffd-d08e-499e-aa97-a3e5e779ea61"
      },
      "outputs": [
        {
          "data": {
            "text/plain": [
              "\u001b[36mdinnerSet1\u001b[39m: \u001b[32mSet\u001b[39m[\u001b[32mString\u001b[39m] = \u001b[33mSet\u001b[39m(\u001b[32m\"Pizza\"\u001b[39m, \u001b[32m\"Pasta\"\u001b[39m, \u001b[32m\"Burgers\"\u001b[39m, \u001b[32m\"Wings\"\u001b[39m)"
            ]
          },
          "execution_count": 121,
          "metadata": {},
          "output_type": "execute_result"
        }
      ],
      "source": [
        "var dinnerSet1 = dinnerSet + \"Wings\""
      ]
    },
    {
      "cell_type": "code",
      "execution_count": null,
      "metadata": {
        "colab": {
          "base_uri": "https://localhost:8080/"
        },
        "id": "dsFrFbSS531S",
        "outputId": "0f950891-0264-4e36-82cc-8e08cee486f4"
      },
      "outputs": [
        {
          "data": {
            "text/plain": [
              "\u001b[36mdinnerSet2\u001b[39m: \u001b[32mSet\u001b[39m[\u001b[32mString\u001b[39m] = \u001b[33mSet\u001b[39m(\n",
              "  \u001b[32m\"Chinese\"\u001b[39m,\n",
              "  \u001b[32m\"Pizza\"\u001b[39m,\n",
              "  \u001b[32m\"Mediterranean\"\u001b[39m,\n",
              "  \u001b[32m\"Pasta\"\u001b[39m,\n",
              "  \u001b[32m\"Wings\"\u001b[39m,\n",
              "  \u001b[32m\"Burgers\"\u001b[39m\n",
              ")"
            ]
          },
          "execution_count": 122,
          "metadata": {},
          "output_type": "execute_result"
        }
      ],
      "source": [
        "var dinnerSet2 = dinnerSet1 ++ List(\"Chinese\", \"Mediterranean\")"
      ]
    },
    {
      "cell_type": "code",
      "execution_count": null,
      "metadata": {
        "colab": {
          "base_uri": "https://localhost:8080/"
        },
        "id": "Yq3GrCG56BOp",
        "outputId": "5a7c24f4-66ed-453f-cbd0-1859f2b3e8b0"
      },
      "outputs": [
        {
          "data": {
            "text/plain": [
              "\u001b[36mdinnerSet3\u001b[39m: \u001b[32mSet\u001b[39m[\u001b[32mString\u001b[39m] = \u001b[33mSet\u001b[39m(\n",
              "  \u001b[32m\"Chinese\"\u001b[39m,\n",
              "  \u001b[32m\"Pizza\"\u001b[39m,\n",
              "  \u001b[32m\"Mediterranean\"\u001b[39m,\n",
              "  \u001b[32m\"Pasta\"\u001b[39m,\n",
              "  \u001b[32m\"Burgers\"\u001b[39m\n",
              ")"
            ]
          },
          "execution_count": 123,
          "metadata": {},
          "output_type": "execute_result"
        }
      ],
      "source": [
        "var dinnerSet3 = dinnerSet2 - \"Wings\""
      ]
    },
    {
      "cell_type": "code",
      "execution_count": null,
      "metadata": {
        "colab": {
          "base_uri": "https://localhost:8080/"
        },
        "id": "hGHs9Zx76IHm",
        "outputId": "28793bfd-5f1d-413c-be1f-3b6eab853d34"
      },
      "outputs": [
        {
          "data": {
            "text/plain": [
              "\u001b[36mdinnerSet4\u001b[39m: \u001b[32mSet\u001b[39m[\u001b[32mString\u001b[39m] = \u001b[33mSet\u001b[39m(\u001b[32m\"Mediterranean\"\u001b[39m, \u001b[32m\"Pasta\"\u001b[39m, \u001b[32m\"Burgers\"\u001b[39m)"
            ]
          },
          "execution_count": 125,
          "metadata": {},
          "output_type": "execute_result"
        }
      ],
      "source": [
        "var dinnerSet4 = dinnerSet3 -- List(\"Chinese\", \"Pizza\")"
      ]
    },
    {
      "cell_type": "markdown",
      "metadata": {
        "id": "fnPTqDD06W3m"
      },
      "source": [
        "## Set Operations"
      ]
    },
    {
      "cell_type": "code",
      "execution_count": null,
      "metadata": {
        "colab": {
          "base_uri": "https://localhost:8080/"
        },
        "id": "UiTfg9pN6Y0o",
        "outputId": "4401d9d7-dfc4-4ee4-b9c5-20df4a0b5af7"
      },
      "outputs": [
        {
          "data": {
            "text/plain": [
              "\u001b[36mvegetables\u001b[39m: \u001b[32mSet\u001b[39m[\u001b[32mString\u001b[39m] = \u001b[33mSet\u001b[39m(\n",
              "  \u001b[32m\"potato\"\u001b[39m,\n",
              "  \u001b[32m\"asparagus\"\u001b[39m,\n",
              "  \u001b[32m\"turnip\"\u001b[39m,\n",
              "  \u001b[32m\"carrot\"\u001b[39m,\n",
              "  \u001b[32m\"spinach\"\u001b[39m,\n",
              "  \u001b[32m\"okra\"\u001b[39m,\n",
              "  \u001b[32m\"cucumber\"\u001b[39m\n",
              ")\n",
              "\u001b[36mrootVegetables\u001b[39m: \u001b[32mSet\u001b[39m[\u001b[32mString\u001b[39m] = \u001b[33mSet\u001b[39m(\u001b[32m\"potato\"\u001b[39m, \u001b[32m\"carrot\"\u001b[39m, \u001b[32m\"turnip\"\u001b[39m, \u001b[32m\"radish\"\u001b[39m)"
            ]
          },
          "execution_count": 126,
          "metadata": {},
          "output_type": "execute_result"
        }
      ],
      "source": [
        "var vegetables = Set(\"potato\", \"asparagus\", \"cucumber\", \"carrot\", \"spinach\", \"turnip\", \"okra\")\n",
        "var rootVegetables = Set(\"potato\", \"carrot\", \"turnip\", \"radish\")"
      ]
    },
    {
      "cell_type": "code",
      "execution_count": null,
      "metadata": {
        "colab": {
          "base_uri": "https://localhost:8080/"
        },
        "id": "wuIhx43N6vLT",
        "outputId": "f66d2890-6204-47e9-8db7-93f43f7291cc"
      },
      "outputs": [
        {
          "data": {
            "text/plain": [
              "\u001b[36mintersect\u001b[39m: \u001b[32mSet\u001b[39m[\u001b[32mString\u001b[39m] = \u001b[33mSet\u001b[39m(\u001b[32m\"potato\"\u001b[39m, \u001b[32m\"turnip\"\u001b[39m, \u001b[32m\"carrot\"\u001b[39m)"
            ]
          },
          "execution_count": 127,
          "metadata": {},
          "output_type": "execute_result"
        }
      ],
      "source": [
        "var intersect = vegetables & rootVegetables\n",
        "// vegetables.intersect(rootVegetables)"
      ]
    },
    {
      "cell_type": "code",
      "execution_count": null,
      "metadata": {
        "colab": {
          "base_uri": "https://localhost:8080/"
        },
        "id": "QkQxge-y69cv",
        "outputId": "b685bf7a-fc15-41a8-84d6-28a9e05b1eee"
      },
      "outputs": [
        {
          "data": {
            "text/plain": [
              "\u001b[36munion\u001b[39m: \u001b[32mSet\u001b[39m[\u001b[32mString\u001b[39m] = \u001b[33mSet\u001b[39m(\n",
              "  \u001b[32m\"potato\"\u001b[39m,\n",
              "  \u001b[32m\"asparagus\"\u001b[39m,\n",
              "  \u001b[32m\"turnip\"\u001b[39m,\n",
              "  \u001b[32m\"carrot\"\u001b[39m,\n",
              "  \u001b[32m\"spinach\"\u001b[39m,\n",
              "  \u001b[32m\"radish\"\u001b[39m,\n",
              "  \u001b[32m\"okra\"\u001b[39m,\n",
              "  \u001b[32m\"cucumber\"\u001b[39m\n",
              ")"
            ]
          },
          "execution_count": 128,
          "metadata": {},
          "output_type": "execute_result"
        }
      ],
      "source": [
        "var union = vegetables | rootVegetables\n",
        "// vegetables.union(rootVegetables)"
      ]
    },
    {
      "cell_type": "code",
      "execution_count": null,
      "metadata": {
        "colab": {
          "base_uri": "https://localhost:8080/"
        },
        "id": "FsjpUF5f7Lvm",
        "outputId": "8b97885d-8b1f-490f-9a0d-2ee70de44487"
      },
      "outputs": [
        {
          "data": {
            "text/plain": [
              "\u001b[36mdiffVeg\u001b[39m: \u001b[32mSet\u001b[39m[\u001b[32mString\u001b[39m] = \u001b[33mSet\u001b[39m(\u001b[32m\"asparagus\"\u001b[39m, \u001b[32m\"spinach\"\u001b[39m, \u001b[32m\"okra\"\u001b[39m, \u001b[32m\"cucumber\"\u001b[39m)\n",
              "\u001b[36mdiffVeg2\u001b[39m: \u001b[32mSet\u001b[39m[\u001b[32mString\u001b[39m] = \u001b[33mSet\u001b[39m(\u001b[32m\"radish\"\u001b[39m)"
            ]
          },
          "execution_count": 130,
          "metadata": {},
          "output_type": "execute_result"
        }
      ],
      "source": [
        "var diffVeg = vegetables &~ rootVegetables\n",
        "// vegestables.diff(rootVegetables)\n",
        "var diffVeg2 = rootVegetables &~ vegetables"
      ]
    },
    {
      "cell_type": "markdown",
      "metadata": {
        "id": "sfdYxi1k7TNj"
      },
      "source": [
        "# ArrayBuffer"
      ]
    },
    {
      "cell_type": "code",
      "execution_count": null,
      "metadata": {
        "colab": {
          "base_uri": "https://localhost:8080/"
        },
        "id": "qw6CxDaR79QX",
        "outputId": "bf9bf7d4-3b4c-4aee-bc08-3dd35953ce2f"
      },
      "outputs": [
        {
          "data": {
            "text/plain": [
              "\u001b[32mimport \u001b[39m\u001b[36mscala.collection.mutable\u001b[39m"
            ]
          },
          "execution_count": 2,
          "metadata": {},
          "output_type": "execute_result"
        }
      ],
      "source": [
        "import scala.collection.mutable"
      ]
    },
    {
      "cell_type": "code",
      "execution_count": null,
      "metadata": {
        "colab": {
          "base_uri": "https://localhost:8080/"
        },
        "id": "8cVoel5O7VwM",
        "outputId": "8cc321f5-ea7a-4e0d-9c73-35171c240ee6"
      },
      "outputs": [
        {
          "data": {
            "text/plain": [
              "\u001b[36marrayBuff\u001b[39m: \u001b[32mmutable\u001b[39m.\u001b[32mArrayBuffer\u001b[39m[\u001b[32mInt\u001b[39m] = \u001b[33mArrayBuffer\u001b[39m()"
            ]
          },
          "execution_count": 3,
          "metadata": {},
          "output_type": "execute_result"
        }
      ],
      "source": [
        "var arrayBuff = mutable.ArrayBuffer.empty[Int]"
      ]
    },
    {
      "cell_type": "code",
      "execution_count": null,
      "metadata": {
        "colab": {
          "base_uri": "https://localhost:8080/"
        },
        "id": "SyJ7DKa88UQ0",
        "outputId": "4672bd51-fd0b-41ef-8af8-58e2f36768cf"
      },
      "outputs": [
        {
          "data": {
            "text/plain": [
              "\u001b[36mres3\u001b[39m: \u001b[32mmutable\u001b[39m.\u001b[32mArrayBuffer\u001b[39m[\u001b[32mInt\u001b[39m] = \u001b[33mArrayBuffer\u001b[39m(\u001b[32m1\u001b[39m)"
            ]
          },
          "execution_count": 4,
          "metadata": {},
          "output_type": "execute_result"
        }
      ],
      "source": [
        "arrayBuff += 1"
      ]
    },
    {
      "cell_type": "code",
      "execution_count": null,
      "metadata": {
        "colab": {
          "base_uri": "https://localhost:8080/"
        },
        "id": "wKKeA8RC8Yog",
        "outputId": "3c1ee52b-eaa1-44c8-b618-ad6e10701029"
      },
      "outputs": [
        {
          "data": {
            "text/plain": [
              "\u001b[36mres12\u001b[39m: \u001b[32mmutable\u001b[39m.\u001b[32mArrayBuffer\u001b[39m[\u001b[32mInt\u001b[39m] = \u001b[33mArrayBuffer\u001b[39m(\u001b[32m4\u001b[39m, \u001b[32m2\u001b[39m, \u001b[32m3\u001b[39m, \u001b[32m4\u001b[39m)"
            ]
          },
          "execution_count": 13,
          "metadata": {},
          "output_type": "execute_result"
        }
      ],
      "source": [
        "arrayBuff ++= List(2,3,4)"
      ]
    },
    {
      "cell_type": "code",
      "execution_count": null,
      "metadata": {
        "colab": {
          "base_uri": "https://localhost:8080/"
        },
        "id": "zTfbGy_t8ekZ",
        "outputId": "0e6f5e59-298a-45a8-ea55-c9aba89e2f39"
      },
      "outputs": [
        {
          "data": {
            "text/plain": [
              "\u001b[36mres5\u001b[39m: \u001b[32mmutable\u001b[39m.\u001b[32mArrayBuffer\u001b[39m[\u001b[32mInt\u001b[39m] = \u001b[33mArrayBuffer\u001b[39m(\u001b[32m1\u001b[39m, \u001b[32m3\u001b[39m, \u001b[32m4\u001b[39m)"
            ]
          },
          "execution_count": 6,
          "metadata": {},
          "output_type": "execute_result"
        }
      ],
      "source": [
        "arrayBuff -= 2"
      ]
    },
    {
      "cell_type": "code",
      "execution_count": null,
      "metadata": {
        "colab": {
          "base_uri": "https://localhost:8080/"
        },
        "id": "cX23D1Pi8hR1",
        "outputId": "451dfdca-6eb8-4af6-ca31-d348447a5e6f"
      },
      "outputs": [
        {
          "data": {
            "text/plain": [
              "\u001b[36mres6\u001b[39m: \u001b[32mmutable\u001b[39m.\u001b[32mArrayBuffer\u001b[39m[\u001b[32mInt\u001b[39m] = \u001b[33mArrayBuffer\u001b[39m(\u001b[32m4\u001b[39m)"
            ]
          },
          "execution_count": 7,
          "metadata": {},
          "output_type": "execute_result"
        }
      ],
      "source": [
        "arrayBuff --= List(1,3)"
      ]
    },
    {
      "cell_type": "markdown",
      "metadata": {
        "id": "PdHfoLve87l-"
      },
      "source": [
        "# ListBuffer"
      ]
    },
    {
      "cell_type": "code",
      "execution_count": null,
      "metadata": {
        "colab": {
          "base_uri": "https://localhost:8080/"
        },
        "id": "mVXel_TK87Bc",
        "outputId": "3ec1c368-5869-4f1b-cfec-46e6bc5a7ff7"
      },
      "outputs": [
        {
          "data": {
            "text/plain": [
              "\u001b[36mlistBuff\u001b[39m: \u001b[32mmutable\u001b[39m.\u001b[32mListBuffer\u001b[39m[\u001b[32mInt\u001b[39m] = \u001b[33mListBuffer\u001b[39m()"
            ]
          },
          "execution_count": 8,
          "metadata": {},
          "output_type": "execute_result"
        }
      ],
      "source": [
        "var listBuff = mutable.ListBuffer.empty[Int]"
      ]
    },
    {
      "cell_type": "code",
      "execution_count": null,
      "metadata": {
        "colab": {
          "base_uri": "https://localhost:8080/"
        },
        "id": "P79Svsmm9F4U",
        "outputId": "0684ee45-158a-49c2-837b-3c140334504d"
      },
      "outputs": [
        {
          "data": {
            "text/plain": [
              "\u001b[36mres8\u001b[39m: \u001b[32mmutable\u001b[39m.\u001b[32mListBuffer\u001b[39m[\u001b[32mInt\u001b[39m] = \u001b[33mListBuffer\u001b[39m(\u001b[32m1\u001b[39m)"
            ]
          },
          "execution_count": 9,
          "metadata": {},
          "output_type": "execute_result"
        }
      ],
      "source": [
        "listBuff += 1\n",
        "// listBuff.addOne()"
      ]
    },
    {
      "cell_type": "code",
      "execution_count": null,
      "metadata": {
        "colab": {
          "base_uri": "https://localhost:8080/"
        },
        "id": "6s4K8MfH9KTb",
        "outputId": "297dd863-dbf5-45ef-902b-b805ff81ee19"
      },
      "outputs": [
        {
          "data": {
            "text/plain": [
              "\u001b[36mres9\u001b[39m: \u001b[32mmutable\u001b[39m.\u001b[32mListBuffer\u001b[39m[\u001b[32mInt\u001b[39m] = \u001b[33mListBuffer\u001b[39m(\u001b[32m1\u001b[39m, \u001b[32m2\u001b[39m, \u001b[32m3\u001b[39m, \u001b[32m4\u001b[39m)"
            ]
          },
          "execution_count": 10,
          "metadata": {},
          "output_type": "execute_result"
        }
      ],
      "source": [
        "listBuff ++= List(2,3,4)\n",
        "// listBuff.addAll()"
      ]
    },
    {
      "cell_type": "code",
      "execution_count": null,
      "metadata": {
        "colab": {
          "base_uri": "https://localhost:8080/"
        },
        "id": "9XsGquL19Vhr",
        "outputId": "f0b7c9ed-e814-404e-f5d4-80fd15b70234"
      },
      "outputs": [
        {
          "data": {
            "text/plain": [
              "\u001b[36mres10\u001b[39m: \u001b[32mmutable\u001b[39m.\u001b[32mListBuffer\u001b[39m[\u001b[32mInt\u001b[39m] = \u001b[33mListBuffer\u001b[39m(\u001b[32m1\u001b[39m, \u001b[32m3\u001b[39m, \u001b[32m4\u001b[39m)"
            ]
          },
          "execution_count": 11,
          "metadata": {},
          "output_type": "execute_result"
        }
      ],
      "source": [
        "listBuff -= 2\n",
        "// buffer.subtractOne()"
      ]
    },
    {
      "cell_type": "code",
      "execution_count": null,
      "metadata": {
        "colab": {
          "base_uri": "https://localhost:8080/"
        },
        "id": "NqtKvFNI9ap9",
        "outputId": "5ee34a96-82c6-4265-8e60-8123e4c5c402"
      },
      "outputs": [
        {
          "data": {
            "text/plain": [
              "\u001b[36mres11\u001b[39m: \u001b[32mmutable\u001b[39m.\u001b[32mListBuffer\u001b[39m[\u001b[32mInt\u001b[39m] = \u001b[33mListBuffer\u001b[39m(\u001b[32m4\u001b[39m)"
            ]
          },
          "execution_count": 12,
          "metadata": {},
          "output_type": "execute_result"
        }
      ],
      "source": [
        "listBuff --= List(1,3)\n",
        "// listBuff.subtractAll(List(1,3))"
      ]
    },
    {
      "cell_type": "markdown",
      "metadata": {
        "id": "nJXl-EOv-n5j"
      },
      "source": [
        "# Stacks"
      ]
    },
    {
      "cell_type": "code",
      "execution_count": null,
      "metadata": {
        "colab": {
          "base_uri": "https://localhost:8080/"
        },
        "id": "EiXtzYyt-nZi",
        "outputId": "899a8d4c-0c7f-471b-b1e0-e970ae2dc2bd"
      },
      "outputs": [
        {
          "data": {
            "text/plain": [
              "\u001b[36mnewStack\u001b[39m: \u001b[32mmutable\u001b[39m.\u001b[32mStack\u001b[39m[\u001b[32mString\u001b[39m] = \u001b[33mStack\u001b[39m()"
            ]
          },
          "execution_count": 34,
          "metadata": {},
          "output_type": "execute_result"
        }
      ],
      "source": [
        "var newStack = new mutable.Stack[String]()"
      ]
    },
    {
      "cell_type": "code",
      "execution_count": null,
      "metadata": {
        "colab": {
          "base_uri": "https://localhost:8080/"
        },
        "id": "iC1wvgtn-wo4",
        "outputId": "3ef3c112-e6fb-4287-9d4d-61b09be4be3f"
      },
      "outputs": [
        {
          "data": {
            "text/plain": [
              "\u001b[36mres22\u001b[39m: \u001b[32mmutable\u001b[39m.\u001b[32mStack\u001b[39m[\u001b[32mString\u001b[39m] = \u001b[33mStack\u001b[39m(\u001b[32m\"Main\"\u001b[39m, \u001b[32m\"Main\"\u001b[39m)"
            ]
          },
          "execution_count": 23,
          "metadata": {},
          "output_type": "execute_result"
        }
      ],
      "source": [
        "newStack.push(\"Main\")"
      ]
    },
    {
      "cell_type": "code",
      "execution_count": null,
      "metadata": {
        "colab": {
          "base_uri": "https://localhost:8080/"
        },
        "id": "Ipb-9DLd-yLH",
        "outputId": "a6bf0757-a2df-430e-cf63-23c5e729cd3b"
      },
      "outputs": [
        {
          "data": {
            "text/plain": [
              "\u001b[36mres23\u001b[39m: \u001b[32mmutable\u001b[39m.\u001b[32mStack\u001b[39m[\u001b[32mString\u001b[39m] = \u001b[33mStack\u001b[39m(\u001b[32m\"Function 1\"\u001b[39m, \u001b[32m\"Main\"\u001b[39m, \u001b[32m\"Main\"\u001b[39m)"
            ]
          },
          "execution_count": 24,
          "metadata": {},
          "output_type": "execute_result"
        }
      ],
      "source": [
        "newStack.push(\"Function 1\")"
      ]
    },
    {
      "cell_type": "code",
      "execution_count": null,
      "metadata": {
        "colab": {
          "base_uri": "https://localhost:8080/"
        },
        "id": "20Qd9--K_P4c",
        "outputId": "d0e9a8d9-b5c4-4321-cd27-3d4828e728e7"
      },
      "outputs": [
        {
          "data": {
            "text/plain": [
              "\u001b[36mres24\u001b[39m: \u001b[32mmutable\u001b[39m.\u001b[32mStack\u001b[39m[\u001b[32mString\u001b[39m] = \u001b[33mStack\u001b[39m(\n",
              "  \u001b[32m\"Function 2 called from Function 1\"\u001b[39m,\n",
              "  \u001b[32m\"Function 1\"\u001b[39m,\n",
              "  \u001b[32m\"Main\"\u001b[39m,\n",
              "  \u001b[32m\"Main\"\u001b[39m\n",
              ")"
            ]
          },
          "execution_count": 25,
          "metadata": {},
          "output_type": "execute_result"
        }
      ],
      "source": [
        "newStack.push(\"Function 2 called from Function 1\")"
      ]
    },
    {
      "cell_type": "code",
      "execution_count": null,
      "metadata": {
        "colab": {
          "base_uri": "https://localhost:8080/"
        },
        "id": "t8BwrA7h_dcQ",
        "outputId": "f6896bda-3c4f-4859-f4aa-c5051c737516"
      },
      "outputs": [
        {
          "data": {
            "text/plain": [
              "\u001b[36mres25_0\u001b[39m: \u001b[32mString\u001b[39m = \u001b[32m\"Function 2 called from Function 1\"\u001b[39m\n",
              "\u001b[36mres25_1\u001b[39m: \u001b[32mString\u001b[39m = \u001b[32m\"Function 2 called from Function 1\"\u001b[39m\n",
              "\u001b[36mres25_2\u001b[39m: \u001b[32mString\u001b[39m = \u001b[32m\"Function 1\"\u001b[39m"
            ]
          },
          "execution_count": 26,
          "metadata": {},
          "output_type": "execute_result"
        }
      ],
      "source": [
        "newStack.top\n",
        "newStack.pop\n",
        "newStack.top"
      ]
    },
    {
      "cell_type": "markdown",
      "metadata": {
        "id": "Su130CMTCLBC"
      },
      "source": [
        "# Mutable Maps and Sets"
      ]
    },
    {
      "cell_type": "markdown",
      "metadata": {
        "id": "xss2HPTrCQay"
      },
      "source": [
        "## Maps"
      ]
    },
    {
      "cell_type": "code",
      "execution_count": null,
      "metadata": {
        "colab": {
          "base_uri": "https://localhost:8080/"
        },
        "id": "_FHRmCXnCPao",
        "outputId": "1ff3ec53-f639-4703-a61d-1931e71e243c"
      },
      "outputs": [
        {
          "data": {
            "text/plain": [
              "\u001b[36mfruitMap\u001b[39m: \u001b[32mmutable\u001b[39m.\u001b[32mMap\u001b[39m[\u001b[32mString\u001b[39m, \u001b[32mDouble\u001b[39m] = \u001b[33mMap\u001b[39m(\n",
              "  \u001b[32m\"apples\"\u001b[39m -> \u001b[32m1.99\u001b[39m,\n",
              "  \u001b[32m\"Pears\"\u001b[39m -> \u001b[32m3.99\u001b[39m,\n",
              "  \u001b[32m\"Oranges\"\u001b[39m -> \u001b[32m2.99\u001b[39m\n",
              ")"
            ]
          },
          "execution_count": 27,
          "metadata": {},
          "output_type": "execute_result"
        }
      ],
      "source": [
        "var fruitMap = mutable.Map(\"apples\" -> 1.99, \"Oranges\" -> 2.99, \"Pears\" -> 3.99) "
      ]
    },
    {
      "cell_type": "code",
      "execution_count": null,
      "metadata": {
        "colab": {
          "base_uri": "https://localhost:8080/"
        },
        "id": "I33yLm0GCeKc",
        "outputId": "bdcf8f3d-a0eb-4b23-fa06-a3023d3def88"
      },
      "outputs": [
        {
          "data": {
            "text/plain": [
              "\u001b[36mres27\u001b[39m: \u001b[32mmutable\u001b[39m.\u001b[32mMap\u001b[39m[\u001b[32mString\u001b[39m, \u001b[32mDouble\u001b[39m] = \u001b[33mMap\u001b[39m(\n",
              "  \u001b[32m\"bananas\"\u001b[39m -> \u001b[32m0.99\u001b[39m,\n",
              "  \u001b[32m\"apples\"\u001b[39m -> \u001b[32m1.99\u001b[39m,\n",
              "  \u001b[32m\"Pears\"\u001b[39m -> \u001b[32m3.99\u001b[39m,\n",
              "  \u001b[32m\"Oranges\"\u001b[39m -> \u001b[32m2.99\u001b[39m\n",
              ")"
            ]
          },
          "execution_count": 28,
          "metadata": {},
          "output_type": "execute_result"
        }
      ],
      "source": [
        "fruitMap += (\"bananas\" -> 0.99)"
      ]
    },
    {
      "cell_type": "code",
      "execution_count": null,
      "metadata": {
        "colab": {
          "base_uri": "https://localhost:8080/"
        },
        "id": "raplxKn5CjUs",
        "outputId": "2cbabff4-0257-4a21-a1a8-e1a2c0adde15"
      },
      "outputs": [
        {
          "data": {
            "text/plain": [
              "\u001b[36mres28\u001b[39m: \u001b[32mmutable\u001b[39m.\u001b[32mMap\u001b[39m[\u001b[32mString\u001b[39m, \u001b[32mDouble\u001b[39m] = \u001b[33mMap\u001b[39m(\n",
              "  \u001b[32m\"bananas\"\u001b[39m -> \u001b[32m0.99\u001b[39m,\n",
              "  \u001b[32m\"Pears\"\u001b[39m -> \u001b[32m3.99\u001b[39m,\n",
              "  \u001b[32m\"Oranges\"\u001b[39m -> \u001b[32m2.99\u001b[39m\n",
              ")"
            ]
          },
          "execution_count": 29,
          "metadata": {},
          "output_type": "execute_result"
        }
      ],
      "source": [
        "fruitMap -= (\"apples\")"
      ]
    },
    {
      "cell_type": "markdown",
      "metadata": {
        "id": "1_2qaGV_CyEb"
      },
      "source": [
        "## Sets"
      ]
    },
    {
      "cell_type": "code",
      "execution_count": null,
      "metadata": {
        "colab": {
          "base_uri": "https://localhost:8080/"
        },
        "id": "K-tzlpsVDIGE",
        "outputId": "8f9ef667-7e28-4395-ed58-65e89eb120e0"
      },
      "outputs": [
        {
          "data": {
            "text/plain": [
              "\u001b[36mfruitSet\u001b[39m: \u001b[32mmutable\u001b[39m.\u001b[32mSet\u001b[39m[\u001b[32mString\u001b[39m] = \u001b[33mSet\u001b[39m(\u001b[32m\"pears\"\u001b[39m, \u001b[32m\"oranges\"\u001b[39m, \u001b[32m\"apples\"\u001b[39m)"
            ]
          },
          "execution_count": 30,
          "metadata": {},
          "output_type": "execute_result"
        }
      ],
      "source": [
        "var fruitSet = mutable.Set(\"apples\", \"oranges\", \"pears\")"
      ]
    },
    {
      "cell_type": "code",
      "execution_count": null,
      "metadata": {
        "colab": {
          "base_uri": "https://localhost:8080/"
        },
        "id": "iDDCMGcKDRh_",
        "outputId": "4874b124-4828-42d8-9376-fd875afaae18"
      },
      "outputs": [
        {
          "data": {
            "text/plain": [
              "\u001b[36mres30\u001b[39m: \u001b[32mmutable\u001b[39m.\u001b[32mSet\u001b[39m[\u001b[32mString\u001b[39m] = \u001b[33mSet\u001b[39m(\u001b[32m\"pears\"\u001b[39m, \u001b[32m\"oranges\"\u001b[39m, \u001b[32m\"bananas\"\u001b[39m, \u001b[32m\"apples\"\u001b[39m)"
            ]
          },
          "execution_count": 31,
          "metadata": {},
          "output_type": "execute_result"
        }
      ],
      "source": [
        "fruitSet += \"bananas\""
      ]
    },
    {
      "cell_type": "code",
      "execution_count": null,
      "metadata": {
        "colab": {
          "base_uri": "https://localhost:8080/"
        },
        "id": "ThI_0t1PDVBm",
        "outputId": "bb47b035-5af7-4931-99f9-d205a30eee18"
      },
      "outputs": [
        {
          "data": {
            "text/plain": [
              "\u001b[36mres31\u001b[39m: \u001b[32mmutable\u001b[39m.\u001b[32mSet\u001b[39m[\u001b[32mString\u001b[39m] = \u001b[33mSet\u001b[39m(\u001b[32m\"oranges\"\u001b[39m, \u001b[32m\"bananas\"\u001b[39m, \u001b[32m\"apples\"\u001b[39m)"
            ]
          },
          "execution_count": 32,
          "metadata": {},
          "output_type": "execute_result"
        }
      ],
      "source": [
        "fruitSet -= \"pears\""
      ]
    }
  ],
  "metadata": {
    "colab": {
      "collapsed_sections": [],
      "provenance": [],
      "include_colab_link": true
    },
    "gpuClass": "standard",
    "kernelspec": {
      "display_name": "Scala",
      "language": "scala",
      "name": "scala"
    }
  },
  "nbformat": 4,
  "nbformat_minor": 0
}
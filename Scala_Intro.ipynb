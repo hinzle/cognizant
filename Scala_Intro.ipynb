{
  "cells": [
    {
      "cell_type": "markdown",
      "metadata": {
        "id": "view-in-github",
        "colab_type": "text"
      },
      "source": [
        "<a href=\"https://colab.research.google.com/github/hinzle/cognizant/blob/main/Scala_Intro.ipynb\" target=\"_parent\"><img src=\"https://colab.research.google.com/assets/colab-badge.svg\" alt=\"Open In Colab\"/></a>"
      ]
    },
    {
      "cell_type": "markdown",
      "metadata": {
        "id": "up2G8zDbhsEN"
      },
      "source": [
        "# Scala in Colab"
      ]
    },
    {
      "cell_type": "markdown",
      "metadata": {
        "id": "sL1Vq6r6J6dA"
      },
      "source": [
        "## Install the Scala Kernel\n",
        "If you get a \"scala\" kernel not recognized warning when loading up the notebook for the first time, start by running the two cells below. Once you are done **reload the page** to load the notebook in the installed Scala kernel."
      ]
    },
    {
      "cell_type": "code",
      "execution_count": null,
      "metadata": {
        "id": "RoCcdvTCAqeR"
      },
      "outputs": [],
      "source": [
        "%%shell\n",
        "SCALA_VERSION=2.12.8 ALMOND_VERSION=0.3.0+16-548dc10f-SNAPSHOT\n",
        "curl -Lo coursier https://git.io/coursier-cli\n",
        "chmod +x coursier\n",
        "./coursier bootstrap \\\n",
        "    -r jitpack -r sonatype:snapshots \\\n",
        "    -i user -I user:sh.almond:scala-kernel-api_$SCALA_VERSION:$ALMOND_VERSION \\\n",
        "    sh.almond:scala-kernel_$SCALA_VERSION:$ALMOND_VERSION \\\n",
        "    --sources --default=true \\\n",
        "    -o almond-snapshot --embed-files=false\n",
        "rm coursier\n",
        "./almond-snapshot --install --global --force\n",
        "rm almond-snapshot"
      ]
    },
    {
      "cell_type": "code",
      "execution_count": 2,
      "metadata": {
        "id": "BZchIo9sArF4",
        "colab": {
          "base_uri": "https://localhost:8080/"
        },
        "outputId": "09042dee-e345-43ef-8ba1-3f12f23dfa8c"
      },
      "outputs": [
        {
          "output_type": "execute_result",
          "data": {
            "text/plain": []
          },
          "metadata": {},
          "execution_count": 2
        }
      ],
      "source": [
        "%%shell\n",
        "echo \"{\n",
        "  \\\"language\\\" : \\\"scala\\\",\n",
        "  \\\"display_name\\\" : \\\"Scala\\\",\n",
        "  \\\"argv\\\" : [\n",
        "    \\\"bash\\\",\n",
        "    \\\"-c\\\",\n",
        "    \\\"env LD_PRELOAD=/usr/lib/x86_64-linux-gnu/libpython3.6m.so:\\$LD_PRELOAD java -jar /usr/local/share/jupyter/kernels/scala/launcher.jar --connection-file {connection_file}\\\"\n",
        "  ]\n",
        "}\" > /usr/local/share/jupyter/kernels/scala/kernel.json"
      ]
    },
    {
      "cell_type": "markdown",
      "metadata": {
        "id": "kQe78pN0OSuq"
      },
      "source": [
        "## Hello World!"
      ]
    },
    {
      "cell_type": "code",
      "execution_count": 3,
      "metadata": {
        "colab": {
          "base_uri": "https://localhost:8080/",
          "height": 169
        },
        "id": "a9z0PxRg_iOp",
        "outputId": "4fbaa1f2-d626-4b42-d958-39e8612cbd9e"
      },
      "outputs": [
        {
          "output_type": "error",
          "ename": "NameError",
          "evalue": "ignored",
          "traceback": [
            "\u001b[0;31m---------------------------------------------------------------------------\u001b[0m",
            "\u001b[0;31mNameError\u001b[0m                                 Traceback (most recent call last)",
            "\u001b[0;32m<ipython-input-3-55dcecfe56a8>\u001b[0m in \u001b[0;36m<module>\u001b[0;34m\u001b[0m\n\u001b[0;32m----> 1\u001b[0;31m \u001b[0mprintln\u001b[0m\u001b[0;34m(\u001b[0m\u001b[0;34m\"Hello, world!\"\u001b[0m\u001b[0;34m)\u001b[0m\u001b[0;34m\u001b[0m\u001b[0;34m\u001b[0m\u001b[0m\n\u001b[0m",
            "\u001b[0;31mNameError\u001b[0m: name 'println' is not defined"
          ]
        }
      ],
      "source": [
        "println(\"Hello, world!\")"
      ]
    },
    {
      "cell_type": "markdown",
      "metadata": {
        "id": "q5HcwZubBPVC"
      },
      "source": [
        "# Lists"
      ]
    },
    {
      "cell_type": "markdown",
      "metadata": {
        "id": "GK4QRZw-CSkX"
      },
      "source": [
        "Manually entering elements into list"
      ]
    },
    {
      "cell_type": "code",
      "execution_count": null,
      "metadata": {
        "colab": {
          "base_uri": "https://localhost:8080/"
        },
        "id": "R4wkgYsPBUKb",
        "outputId": "b4ec2f12-f875-4117-a4cb-293bd8a85d45"
      },
      "outputs": [
        {
          "output_type": "stream",
          "name": "stdout",
          "text": [
            "List(1, 2, 3)\n"
          ]
        },
        {
          "output_type": "execute_result",
          "data": {
            "text/plain": [
              "\u001b[36mlist1\u001b[39m: \u001b[32mList\u001b[39m[\u001b[32mInt\u001b[39m] = \u001b[33mList\u001b[39m(\u001b[32m1\u001b[39m, \u001b[32m2\u001b[39m, \u001b[32m3\u001b[39m)"
            ]
          },
          "metadata": {},
          "execution_count": 2
        }
      ],
      "source": [
        "var list1 = List(1,2,3)\n",
        "println(list1)"
      ]
    },
    {
      "cell_type": "code",
      "execution_count": null,
      "metadata": {
        "colab": {
          "base_uri": "https://localhost:8080/"
        },
        "id": "2EpviEWzCWL-",
        "outputId": "9776c38f-9e3a-4a1c-c746-d0af79549506"
      },
      "outputs": [
        {
          "output_type": "stream",
          "name": "stdout",
          "text": [
            "List(1, hello, false)\n"
          ]
        },
        {
          "output_type": "execute_result",
          "data": {
            "text/plain": [
              "\u001b[36mlist2\u001b[39m: \u001b[32mList\u001b[39m[\u001b[32mAny\u001b[39m] = \u001b[33mList\u001b[39m(\u001b[32m1\u001b[39m, \u001b[32m\"hello\"\u001b[39m, false)"
            ]
          },
          "metadata": {},
          "execution_count": 3
        }
      ],
      "source": [
        "var list2 = List(1,\"hello\",false)\n",
        "println(list2)"
      ]
    },
    {
      "cell_type": "code",
      "execution_count": null,
      "metadata": {
        "colab": {
          "base_uri": "https://localhost:8080/"
        },
        "id": "YINddQrZCn76",
        "outputId": "8af7b4b4-ba60-4f87-f2d8-3a756794ac74"
      },
      "outputs": [
        {
          "name": "stdout",
          "output_type": "stream",
          "text": [
            "List(1, 2, 3, 4, 5, 6, 7, 8, 9)\n"
          ]
        },
        {
          "data": {
            "text/plain": [
              "\u001b[36mlist3\u001b[39m: \u001b[32mList\u001b[39m[\u001b[32mInt\u001b[39m] = \u001b[33mList\u001b[39m(\u001b[32m1\u001b[39m, \u001b[32m2\u001b[39m, \u001b[32m3\u001b[39m, \u001b[32m4\u001b[39m, \u001b[32m5\u001b[39m, \u001b[32m6\u001b[39m, \u001b[32m7\u001b[39m, \u001b[32m8\u001b[39m, \u001b[32m9\u001b[39m)\n",
              "\u001b[36mevenList\u001b[39m: \u001b[32mList\u001b[39m[\u001b[32mInt\u001b[39m] = \u001b[33mList\u001b[39m(\u001b[32m2\u001b[39m, \u001b[32m4\u001b[39m, \u001b[32m6\u001b[39m, \u001b[32m8\u001b[39m, \u001b[32m10\u001b[39m, \u001b[32m12\u001b[39m, \u001b[32m14\u001b[39m, \u001b[32m16\u001b[39m, \u001b[32m18\u001b[39m)"
            ]
          },
          "execution_count": 5,
          "metadata": {},
          "output_type": "execute_result"
        }
      ],
      "source": [
        "var list3 = List.range(1,10)\n",
        "var evenList = List.range(2,20,2)\n",
        "println(list3)"
      ]
    },
    {
      "cell_type": "code",
      "execution_count": null,
      "metadata": {
        "colab": {
          "base_uri": "https://localhost:8080/"
        },
        "id": "MGEeCqVGC3ki",
        "outputId": "88fb683b-5bb5-4624-ef92-318c074caefa"
      },
      "outputs": [
        {
          "data": {
            "text/plain": [
              "\u001b[36mlist4\u001b[39m: \u001b[32mList\u001b[39m[\u001b[32mString\u001b[39m] = \u001b[33mList\u001b[39m(\u001b[32m\"hello\"\u001b[39m, \u001b[32m\"hello\"\u001b[39m, \u001b[32m\"hello\"\u001b[39m)"
            ]
          },
          "execution_count": 6,
          "metadata": {},
          "output_type": "execute_result"
        }
      ],
      "source": [
        "var list4 = List.fill(3) (\"hello\")"
      ]
    },
    {
      "cell_type": "code",
      "execution_count": null,
      "metadata": {
        "colab": {
          "base_uri": "https://localhost:8080/"
        },
        "id": "tXHypoccC_j7",
        "outputId": "1b1ddd51-ba94-45be-da29-669bc912da9f"
      },
      "outputs": [
        {
          "data": {
            "text/plain": [
              "\u001b[36mlist5\u001b[39m: \u001b[32mList\u001b[39m[\u001b[32mInt\u001b[39m] = \u001b[33mList\u001b[39m(\u001b[32m0\u001b[39m, \u001b[32m1\u001b[39m, \u001b[32m4\u001b[39m, \u001b[32m9\u001b[39m)"
            ]
          },
          "execution_count": 8,
          "metadata": {},
          "output_type": "execute_result"
        }
      ],
      "source": [
        "var list5 = List.tabulate(4) (s => s*s)"
      ]
    },
    {
      "cell_type": "markdown",
      "metadata": {
        "id": "Sj4XR7uLDYLz"
      },
      "source": [
        "## List Conversion"
      ]
    },
    {
      "cell_type": "code",
      "execution_count": null,
      "metadata": {
        "colab": {
          "base_uri": "https://localhost:8080/"
        },
        "id": "eoPAWbBMDZw3",
        "outputId": "a3de851b-e016-47a7-b7ba-007808398f4e"
      },
      "outputs": [
        {
          "data": {
            "text/plain": [
              "\u001b[36mlist6\u001b[39m: \u001b[32mList\u001b[39m[\u001b[32mChar\u001b[39m] = \u001b[33mList\u001b[39m(\u001b[32m'a'\u001b[39m, \u001b[32m'l'\u001b[39m, \u001b[32m'p'\u001b[39m, \u001b[32m'h'\u001b[39m, \u001b[32m'a'\u001b[39m, \u001b[32m'b'\u001b[39m, \u001b[32m'e'\u001b[39m, \u001b[32m't'\u001b[39m)"
            ]
          },
          "execution_count": 9,
          "metadata": {},
          "output_type": "execute_result"
        }
      ],
      "source": [
        "var list6 = \"alphabet\".toList"
      ]
    },
    {
      "cell_type": "markdown",
      "metadata": {
        "id": "u9AbtAAqDjj5"
      },
      "source": [
        "## Elements, Indices, Length"
      ]
    },
    {
      "cell_type": "code",
      "execution_count": null,
      "metadata": {
        "colab": {
          "base_uri": "https://localhost:8080/"
        },
        "id": "YEqyXEtXDnJw",
        "outputId": "bba60887-cd09-44cf-d273-ff6f7322345f"
      },
      "outputs": [
        {
          "name": "stdout",
          "output_type": "stream",
          "text": [
            "Access element 2: Cake\n"
          ]
        },
        {
          "data": {
            "text/plain": [
              "\u001b[36mfoodList\u001b[39m: \u001b[32mList\u001b[39m[\u001b[32mString\u001b[39m] = \u001b[33mList\u001b[39m(\u001b[32m\"Pizza\"\u001b[39m, \u001b[32m\"Cake\"\u001b[39m, \u001b[32m\"Brownies\"\u001b[39m)\n",
              "\u001b[36mres47_1\u001b[39m: \u001b[32mList\u001b[39m[\u001b[32mString\u001b[39m] = \u001b[33mList\u001b[39m(\u001b[32m\"Brownies\"\u001b[39m, \u001b[32m\"Cake\"\u001b[39m, \u001b[32m\"Pizza\"\u001b[39m)"
            ]
          },
          "execution_count": 48,
          "metadata": {},
          "output_type": "execute_result"
        }
      ],
      "source": [
        "var foodList = List(\"Pizza\", \"Cake\", \"Brownies\")\n",
        "println(\"Access element 2: \" + foodList(1))"
      ]
    },
    {
      "cell_type": "code",
      "execution_count": null,
      "metadata": {
        "colab": {
          "base_uri": "https://localhost:8080/"
        },
        "id": "vjnySx1sD8rV",
        "outputId": "26a0c8e5-c01e-405b-fee9-8c2a8288d60f"
      },
      "outputs": [
        {
          "name": "stdout",
          "output_type": "stream",
          "text": [
            "Get index of Cake: 1\n"
          ]
        }
      ],
      "source": [
        "println(\"Get index of Cake: \" + foodList.indexOf(\"Cake\"))"
      ]
    },
    {
      "cell_type": "code",
      "execution_count": null,
      "metadata": {
        "colab": {
          "base_uri": "https://localhost:8080/"
        },
        "id": "kk5htbVSERVl",
        "outputId": "abf77f7a-74be-4817-e96c-dfe4ffa7601c"
      },
      "outputs": [
        {
          "name": "stdout",
          "output_type": "stream",
          "text": [
            "Is there a fifth element in this list?\n"
          ]
        },
        {
          "data": {
            "text/plain": [
              "\u001b[36mres17_1\u001b[39m: \u001b[32mBoolean\u001b[39m = false"
            ]
          },
          "execution_count": 18,
          "metadata": {},
          "output_type": "execute_result"
        }
      ],
      "source": [
        "println(\"Is there a fifth element in this list?\")\n",
        "foodList.isDefinedAt(4)"
      ]
    },
    {
      "cell_type": "code",
      "execution_count": null,
      "metadata": {
        "colab": {
          "base_uri": "https://localhost:8080/"
        },
        "id": "9tA7jCJAEbZ-",
        "outputId": "5b4439b5-c7d1-482e-f6bd-1434d901ce6f"
      },
      "outputs": [
        {
          "data": {
            "text/plain": [
              "\u001b[36mres20_0\u001b[39m: \u001b[32mBoolean\u001b[39m = false\n",
              "\u001b[36mres20_1\u001b[39m: \u001b[32mInt\u001b[39m = \u001b[32m3\u001b[39m"
            ]
          },
          "execution_count": 21,
          "metadata": {},
          "output_type": "execute_result"
        }
      ],
      "source": [
        "foodList.isEmpty\n",
        "foodList.size // foodList.length"
      ]
    },
    {
      "cell_type": "code",
      "execution_count": null,
      "metadata": {
        "colab": {
          "base_uri": "https://localhost:8080/"
        },
        "id": "HqBzzJUQEk_f",
        "outputId": "070a19b0-eace-435f-8dfd-b335cf7573b2"
      },
      "outputs": [
        {
          "data": {
            "text/plain": [
              "\u001b[36mres22\u001b[39m: \u001b[32mBoolean\u001b[39m = true"
            ]
          },
          "execution_count": 23,
          "metadata": {},
          "output_type": "execute_result"
        }
      ],
      "source": [
        "foodList.contains(\"Cake\")"
      ]
    },
    {
      "cell_type": "markdown",
      "metadata": {
        "id": "XKcd78izE1hp"
      },
      "source": [
        "## Filtering Functions"
      ]
    },
    {
      "cell_type": "code",
      "execution_count": null,
      "metadata": {
        "colab": {
          "base_uri": "https://localhost:8080/"
        },
        "id": "7cUqCXydE4ER",
        "outputId": "207fc1d7-5bc1-4e2b-8048-57d42e4548f2"
      },
      "outputs": [
        {
          "data": {
            "text/plain": [
              "\u001b[36mnums\u001b[39m: \u001b[32mList\u001b[39m[\u001b[32mInt\u001b[39m] = \u001b[33mList\u001b[39m(\n",
              "  \u001b[32m2\u001b[39m,\n",
              "  \u001b[32m3\u001b[39m,\n",
              "  \u001b[32m4\u001b[39m,\n",
              "  \u001b[32m5\u001b[39m,\n",
              "  \u001b[32m6\u001b[39m,\n",
              "  \u001b[32m7\u001b[39m,\n",
              "  \u001b[32m8\u001b[39m,\n",
              "  \u001b[32m9\u001b[39m,\n",
              "  \u001b[32m10\u001b[39m,\n",
              "  \u001b[32m11\u001b[39m,\n",
              "  \u001b[32m12\u001b[39m,\n",
              "  \u001b[32m13\u001b[39m,\n",
              "  \u001b[32m14\u001b[39m,\n",
              "  \u001b[32m15\u001b[39m,\n",
              "  \u001b[32m16\u001b[39m,\n",
              "  \u001b[32m17\u001b[39m,\n",
              "  \u001b[32m18\u001b[39m,\n",
              "  \u001b[32m19\u001b[39m,\n",
              "  \u001b[32m20\u001b[39m\n",
              ")"
            ]
          },
          "execution_count": 24,
          "metadata": {},
          "output_type": "execute_result"
        }
      ],
      "source": [
        "var nums = List.range(2,21)"
      ]
    },
    {
      "cell_type": "code",
      "execution_count": null,
      "metadata": {
        "colab": {
          "base_uri": "https://localhost:8080/"
        },
        "id": "sbAcIJBsFAxF",
        "outputId": "421a2c6a-454b-4e9a-d6e0-dc89fac467e5"
      },
      "outputs": [
        {
          "name": "stdout",
          "output_type": "stream",
          "text": [
            "Tail: List(3, 4, 5, 6, 7, 8, 9, 10, 11, 12, 13, 14, 15, 16, 17, 18, 19, 20)\n"
          ]
        },
        {
          "data": {
            "text/plain": [
              "\u001b[36mres28_0\u001b[39m: \u001b[32mInt\u001b[39m = \u001b[32m2\u001b[39m"
            ]
          },
          "execution_count": 29,
          "metadata": {},
          "output_type": "execute_result"
        }
      ],
      "source": [
        "nums.head\n",
        "println(\"Tail: \" + nums.tail)"
      ]
    },
    {
      "cell_type": "code",
      "execution_count": null,
      "metadata": {
        "colab": {
          "base_uri": "https://localhost:8080/"
        },
        "id": "QtBwI7mDFQ_y",
        "outputId": "15ca1484-6f25-48a7-f490-165d6355b5f7"
      },
      "outputs": [
        {
          "data": {
            "text/plain": [
              "\u001b[36mres30_0\u001b[39m: \u001b[32mInt\u001b[39m = \u001b[32m20\u001b[39m\n",
              "\u001b[36mres30_1\u001b[39m: \u001b[32mList\u001b[39m[\u001b[32mInt\u001b[39m] = \u001b[33mList\u001b[39m(\n",
              "  \u001b[32m2\u001b[39m,\n",
              "  \u001b[32m3\u001b[39m,\n",
              "  \u001b[32m4\u001b[39m,\n",
              "  \u001b[32m5\u001b[39m,\n",
              "  \u001b[32m6\u001b[39m,\n",
              "  \u001b[32m7\u001b[39m,\n",
              "  \u001b[32m8\u001b[39m,\n",
              "  \u001b[32m9\u001b[39m,\n",
              "  \u001b[32m10\u001b[39m,\n",
              "  \u001b[32m11\u001b[39m,\n",
              "  \u001b[32m12\u001b[39m,\n",
              "  \u001b[32m13\u001b[39m,\n",
              "  \u001b[32m14\u001b[39m,\n",
              "  \u001b[32m15\u001b[39m,\n",
              "  \u001b[32m16\u001b[39m,\n",
              "  \u001b[32m17\u001b[39m,\n",
              "  \u001b[32m18\u001b[39m,\n",
              "  \u001b[32m19\u001b[39m,\n",
              "  \u001b[32m20\u001b[39m\n",
              ")"
            ]
          },
          "execution_count": 31,
          "metadata": {},
          "output_type": "execute_result"
        }
      ],
      "source": [
        "nums.last\n",
        "nums.distinct"
      ]
    },
    {
      "cell_type": "code",
      "execution_count": null,
      "metadata": {
        "colab": {
          "base_uri": "https://localhost:8080/"
        },
        "id": "EThRoiRYFXA7",
        "outputId": "a41afc4e-9c53-4717-ff1b-743fcff64d37"
      },
      "outputs": [
        {
          "data": {
            "text/plain": [
              "\u001b[36mres31\u001b[39m: \u001b[32mList\u001b[39m[\u001b[32mInt\u001b[39m] = \u001b[33mList\u001b[39m(\n",
              "  \u001b[32m5\u001b[39m,\n",
              "  \u001b[32m6\u001b[39m,\n",
              "  \u001b[32m7\u001b[39m,\n",
              "  \u001b[32m8\u001b[39m,\n",
              "  \u001b[32m9\u001b[39m,\n",
              "  \u001b[32m10\u001b[39m,\n",
              "  \u001b[32m11\u001b[39m,\n",
              "  \u001b[32m12\u001b[39m,\n",
              "  \u001b[32m13\u001b[39m,\n",
              "  \u001b[32m14\u001b[39m,\n",
              "  \u001b[32m15\u001b[39m,\n",
              "  \u001b[32m16\u001b[39m,\n",
              "  \u001b[32m17\u001b[39m,\n",
              "  \u001b[32m18\u001b[39m,\n",
              "  \u001b[32m19\u001b[39m,\n",
              "  \u001b[32m20\u001b[39m\n",
              ")"
            ]
          },
          "execution_count": 32,
          "metadata": {},
          "output_type": "execute_result"
        }
      ],
      "source": [
        "nums.drop(3)"
      ]
    },
    {
      "cell_type": "code",
      "execution_count": null,
      "metadata": {
        "colab": {
          "base_uri": "https://localhost:8080/"
        },
        "id": "6tjN3s1TFbCv",
        "outputId": "7271fc35-1f87-465b-e054-c6c3b35da69e"
      },
      "outputs": [
        {
          "data": {
            "text/plain": [
              "\u001b[36mres32\u001b[39m: \u001b[32mList\u001b[39m[\u001b[32mInt\u001b[39m] = \u001b[33mList\u001b[39m(\u001b[32m2\u001b[39m, \u001b[32m3\u001b[39m, \u001b[32m4\u001b[39m, \u001b[32m5\u001b[39m, \u001b[32m6\u001b[39m, \u001b[32m7\u001b[39m, \u001b[32m8\u001b[39m, \u001b[32m9\u001b[39m, \u001b[32m10\u001b[39m, \u001b[32m11\u001b[39m, \u001b[32m12\u001b[39m, \u001b[32m13\u001b[39m, \u001b[32m14\u001b[39m, \u001b[32m15\u001b[39m, \u001b[32m16\u001b[39m, \u001b[32m17\u001b[39m)"
            ]
          },
          "execution_count": 33,
          "metadata": {},
          "output_type": "execute_result"
        }
      ],
      "source": [
        "nums.dropRight(3)"
      ]
    },
    {
      "cell_type": "code",
      "execution_count": null,
      "metadata": {
        "colab": {
          "base_uri": "https://localhost:8080/"
        },
        "id": "Jh3DeR_JFg0G",
        "outputId": "525cd5d5-01f5-421e-d61e-4ae3c92e958a"
      },
      "outputs": [
        {
          "data": {
            "text/plain": [
              "\u001b[36mres34_0\u001b[39m: \u001b[32mList\u001b[39m[\u001b[32mInt\u001b[39m] = \u001b[33mList\u001b[39m(\u001b[32m11\u001b[39m, \u001b[32m12\u001b[39m, \u001b[32m13\u001b[39m, \u001b[32m14\u001b[39m, \u001b[32m15\u001b[39m, \u001b[32m16\u001b[39m, \u001b[32m17\u001b[39m, \u001b[32m18\u001b[39m, \u001b[32m19\u001b[39m, \u001b[32m20\u001b[39m)\n",
              "\u001b[36mres34_1\u001b[39m: \u001b[32mList\u001b[39m[\u001b[32mInt\u001b[39m] = \u001b[33mList\u001b[39m(\u001b[32m5\u001b[39m, \u001b[32m6\u001b[39m)"
            ]
          },
          "execution_count": 35,
          "metadata": {},
          "output_type": "execute_result"
        }
      ],
      "source": [
        "// elements greater than 10\n",
        "nums.filter(_ > 10)\n",
        "nums.slice(3,5)"
      ]
    },
    {
      "cell_type": "markdown",
      "metadata": {
        "id": "AtaamAcaF0T9"
      },
      "source": [
        "## Transformations"
      ]
    },
    {
      "cell_type": "code",
      "execution_count": null,
      "metadata": {
        "colab": {
          "base_uri": "https://localhost:8080/"
        },
        "id": "QOQx1PNxFyLG",
        "outputId": "345a4814-a00d-400d-b553-e972a25b2aac"
      },
      "outputs": [
        {
          "data": {
            "text/plain": [
              "\u001b[36mnums2\u001b[39m: \u001b[32mList\u001b[39m[\u001b[32mInt\u001b[39m] = \u001b[33mList\u001b[39m(\u001b[32m1\u001b[39m, \u001b[32m7\u001b[39m, \u001b[32m6\u001b[39m)"
            ]
          },
          "execution_count": 36,
          "metadata": {},
          "output_type": "execute_result"
        }
      ],
      "source": [
        "var nums2 = List(1,7,6)"
      ]
    },
    {
      "cell_type": "code",
      "execution_count": null,
      "metadata": {
        "colab": {
          "base_uri": "https://localhost:8080/"
        },
        "id": "_Cop6thMF-2j",
        "outputId": "579c5f4d-3d54-4216-b7a9-60c152adc53f"
      },
      "outputs": [
        {
          "data": {
            "text/plain": [
              "\u001b[36mnums3\u001b[39m: \u001b[32mList\u001b[39m[\u001b[32mInt\u001b[39m] = \u001b[33mList\u001b[39m(\u001b[32m1\u001b[39m, \u001b[32m7\u001b[39m, \u001b[32m6\u001b[39m, \u001b[32m9\u001b[39m)"
            ]
          },
          "execution_count": 41,
          "metadata": {},
          "output_type": "execute_result"
        }
      ],
      "source": [
        "nums2 :+ 9"
      ]
    },
    {
      "cell_type": "code",
      "execution_count": null,
      "metadata": {
        "colab": {
          "base_uri": "https://localhost:8080/"
        },
        "id": "_yTs9ZDGGDgm",
        "outputId": "d3f12055-7192-4d54-f8a6-d5f5ff32f99b"
      },
      "outputs": [
        {
          "name": "stdout",
          "output_type": "stream",
          "text": [
            "List(1, 7, 6, 9)\n"
          ]
        },
        {
          "data": {
            "text/plain": [
              "\u001b[36mres41_1\u001b[39m: \u001b[32mList\u001b[39m[\u001b[32mAny\u001b[39m] = \u001b[33mList\u001b[39m(\u001b[32m1\u001b[39m, \u001b[32m7\u001b[39m, \u001b[32m6\u001b[39m, \u001b[33mList\u001b[39m(\u001b[32m7\u001b[39m, \u001b[32m10\u001b[39m))"
            ]
          },
          "execution_count": 42,
          "metadata": {},
          "output_type": "execute_result"
        }
      ],
      "source": [
        "nums2 :+ List(7,10)"
      ]
    },
    {
      "cell_type": "code",
      "execution_count": null,
      "metadata": {
        "colab": {
          "base_uri": "https://localhost:8080/"
        },
        "id": "-j8-Rsa2GQsg",
        "outputId": "f813973e-cb02-415d-cb95-153084fb2413"
      },
      "outputs": [
        {
          "data": {
            "text/plain": [
              "\u001b[36mres42\u001b[39m: \u001b[32mList\u001b[39m[\u001b[32mInt\u001b[39m] = \u001b[33mList\u001b[39m(\u001b[32m8\u001b[39m, \u001b[32m1\u001b[39m, \u001b[32m7\u001b[39m, \u001b[32m6\u001b[39m)"
            ]
          },
          "execution_count": 43,
          "metadata": {},
          "output_type": "execute_result"
        }
      ],
      "source": [
        "8 +: nums2"
      ]
    },
    {
      "cell_type": "code",
      "execution_count": null,
      "metadata": {
        "colab": {
          "base_uri": "https://localhost:8080/",
          "height": 131
        },
        "id": "kraujZIhHC7k",
        "outputId": "9237a772-b716-40e8-8f42-ba3abfb7dd1b"
      },
      "outputs": [
        {
          "name": "stderr",
          "output_type": "stream",
          "text": [
            "cmd47.sc:2: value < is not a member of Any\n",
            "val res47_1 = nums3.sortWith(_ < _)\n",
            "                               ^Compilation Failed"
          ]
        },
        {
          "ename": "",
          "evalue": "ignored",
          "output_type": "error",
          "traceback": [
            "Compilation Failed"
          ]
        }
      ],
      "source": [
        "List(7,10) +: nums2"
      ]
    },
    {
      "cell_type": "code",
      "execution_count": null,
      "metadata": {
        "colab": {
          "base_uri": "https://localhost:8080/"
        },
        "id": "7xlt1HYJILn-",
        "outputId": "8cb57ff2-df46-40a2-ddd2-9571046efafa"
      },
      "outputs": [
        {
          "data": {
            "text/plain": [
              "\u001b[36mres48\u001b[39m: \u001b[32mList\u001b[39m[\u001b[32mInt\u001b[39m] = \u001b[33mList\u001b[39m(\u001b[32m1\u001b[39m, \u001b[32m6\u001b[39m, \u001b[32m7\u001b[39m)"
            ]
          },
          "execution_count": 49,
          "metadata": {},
          "output_type": "execute_result"
        }
      ],
      "source": [
        "nums2.sorted"
      ]
    },
    {
      "cell_type": "code",
      "execution_count": null,
      "metadata": {
        "colab": {
          "base_uri": "https://localhost:8080/"
        },
        "id": "BIpW0bIWHJmm",
        "outputId": "9cd53cb8-8351-4ada-e123-ec0e753bbac8"
      },
      "outputs": [
        {
          "data": {
            "text/plain": [
              "\u001b[36mres45\u001b[39m: \u001b[32mList\u001b[39m[\u001b[32mInt\u001b[39m] = \u001b[33mList\u001b[39m(\u001b[32m1\u001b[39m, \u001b[32m6\u001b[39m, \u001b[32m7\u001b[39m)"
            ]
          },
          "execution_count": 46,
          "metadata": {},
          "output_type": "execute_result"
        }
      ],
      "source": [
        "nums2.sortWith(_ < _)"
      ]
    },
    {
      "cell_type": "code",
      "execution_count": null,
      "metadata": {
        "colab": {
          "base_uri": "https://localhost:8080/"
        },
        "id": "8sf7L1ZPHQKG",
        "outputId": "547d77a2-2346-46bc-c19c-2713572bc7f9"
      },
      "outputs": [
        {
          "data": {
            "text/plain": [
              "\u001b[36mres46\u001b[39m: \u001b[32mList\u001b[39m[\u001b[32mInt\u001b[39m] = \u001b[33mList\u001b[39m(\u001b[32m6\u001b[39m, \u001b[32m7\u001b[39m, \u001b[32m1\u001b[39m)"
            ]
          },
          "execution_count": 47,
          "metadata": {},
          "output_type": "execute_result"
        }
      ],
      "source": [
        "nums2.reverse"
      ]
    },
    {
      "cell_type": "markdown",
      "metadata": {
        "id": "IdTOdQQ4IRXE"
      },
      "source": [
        "### Mapping"
      ]
    },
    {
      "cell_type": "code",
      "execution_count": null,
      "metadata": {
        "colab": {
          "base_uri": "https://localhost:8080/"
        },
        "id": "v5QZLI4uIP6W",
        "outputId": "ef8ae521-c6c1-4ef7-ba68-36350547f846"
      },
      "outputs": [
        {
          "data": {
            "text/plain": [
              "\u001b[36mres51_0\u001b[39m: \u001b[32mList\u001b[39m[\u001b[32mDouble\u001b[39m] = \u001b[33mList\u001b[39m(\u001b[32m2.5\u001b[39m, \u001b[32m8.5\u001b[39m, \u001b[32m7.5\u001b[39m)\n",
              "\u001b[36mres51_1\u001b[39m: \u001b[32mList\u001b[39m[\u001b[32mDouble\u001b[39m] = \u001b[33mList\u001b[39m(\u001b[32m1.5\u001b[39m, \u001b[32m10.5\u001b[39m, \u001b[32m9.0\u001b[39m)"
            ]
          },
          "execution_count": 52,
          "metadata": {},
          "output_type": "execute_result"
        }
      ],
      "source": [
        "nums2.map(_ + 1.5)\n",
        "nums2.map(_ * 1.5)"
      ]
    },
    {
      "cell_type": "code",
      "execution_count": null,
      "metadata": {
        "colab": {
          "base_uri": "https://localhost:8080/"
        },
        "id": "3MWxp0aLImP-",
        "outputId": "cb77a41b-7f45-4c61-a835-e7e441e30416"
      },
      "outputs": [
        {
          "data": {
            "text/plain": [
              "\u001b[36mres54\u001b[39m: \u001b[32mInt\u001b[39m = \u001b[32m1050\u001b[39m"
            ]
          },
          "execution_count": 55,
          "metadata": {},
          "output_type": "execute_result"
        }
      ],
      "source": [
        "nums2.reduce(_ * _ * 5)\n",
        "// 1 7 6\n",
        "// 1 * 7 * 5 = 35\n",
        "// 35 * 6 * 5 = 1050"
      ]
    },
    {
      "cell_type": "markdown",
      "metadata": {
        "id": "TuhVFkJxIwFo"
      },
      "source": [
        "## Partitioning"
      ]
    },
    {
      "cell_type": "code",
      "execution_count": null,
      "metadata": {
        "colab": {
          "base_uri": "https://localhost:8080/"
        },
        "id": "DHrrrUYSIvc2",
        "outputId": "25c2c93b-11eb-4d8c-c4fd-588ab84d30b2"
      },
      "outputs": [
        {
          "data": {
            "text/plain": [
              "\u001b[36mnums3\u001b[39m: \u001b[32mList\u001b[39m[\u001b[32mInt\u001b[39m] = \u001b[33mList\u001b[39m(\u001b[32m2\u001b[39m, \u001b[32m3\u001b[39m, \u001b[32m4\u001b[39m, \u001b[32m5\u001b[39m, \u001b[32m6\u001b[39m, \u001b[32m7\u001b[39m, \u001b[32m8\u001b[39m, \u001b[32m9\u001b[39m)"
            ]
          },
          "execution_count": 56,
          "metadata": {},
          "output_type": "execute_result"
        }
      ],
      "source": [
        "var nums3 = List.range(2,10)"
      ]
    },
    {
      "cell_type": "code",
      "execution_count": null,
      "metadata": {
        "colab": {
          "base_uri": "https://localhost:8080/"
        },
        "id": "pP4cK2IrJg0b",
        "outputId": "fe270bb0-981c-4331-e384-c8d56fc12d9a"
      },
      "outputs": [
        {
          "data": {
            "text/plain": [
              "\u001b[36mres56\u001b[39m: (\u001b[32mList\u001b[39m[\u001b[32mInt\u001b[39m], \u001b[32mList\u001b[39m[\u001b[32mInt\u001b[39m]) = (\u001b[33mList\u001b[39m(\u001b[32m2\u001b[39m, \u001b[32m3\u001b[39m, \u001b[32m4\u001b[39m, \u001b[32m5\u001b[39m), \u001b[33mList\u001b[39m(\u001b[32m6\u001b[39m, \u001b[32m7\u001b[39m, \u001b[32m8\u001b[39m, \u001b[32m9\u001b[39m))"
            ]
          },
          "execution_count": 57,
          "metadata": {},
          "output_type": "execute_result"
        }
      ],
      "source": [
        "nums3.splitAt(4)"
      ]
    },
    {
      "cell_type": "code",
      "execution_count": null,
      "metadata": {
        "colab": {
          "base_uri": "https://localhost:8080/"
        },
        "id": "NaE6zxF0Juin",
        "outputId": "8225c94a-25a7-4545-8bb7-3b9160a2daf2"
      },
      "outputs": [
        {
          "data": {
            "text/plain": [
              "\u001b[36mres58_0\u001b[39m: (\u001b[32mList\u001b[39m[\u001b[32mInt\u001b[39m], \u001b[32mList\u001b[39m[\u001b[32mInt\u001b[39m]) = (\u001b[33mList\u001b[39m(\u001b[32m2\u001b[39m, \u001b[32m3\u001b[39m, \u001b[32m4\u001b[39m, \u001b[32m5\u001b[39m), \u001b[33mList\u001b[39m(\u001b[32m6\u001b[39m, \u001b[32m7\u001b[39m, \u001b[32m8\u001b[39m, \u001b[32m9\u001b[39m))\n",
              "\u001b[36mres58_1\u001b[39m: \u001b[32mMap\u001b[39m[\u001b[32mBoolean\u001b[39m, \u001b[32mList\u001b[39m[\u001b[32mInt\u001b[39m]] = \u001b[33mMap\u001b[39m(\n",
              "  false -> \u001b[33mList\u001b[39m(\u001b[32m2\u001b[39m, \u001b[32m3\u001b[39m, \u001b[32m4\u001b[39m, \u001b[32m5\u001b[39m),\n",
              "  true -> \u001b[33mList\u001b[39m(\u001b[32m6\u001b[39m, \u001b[32m7\u001b[39m, \u001b[32m8\u001b[39m, \u001b[32m9\u001b[39m)\n",
              ")"
            ]
          },
          "execution_count": 59,
          "metadata": {},
          "output_type": "execute_result"
        }
      ],
      "source": [
        "nums3.partition(_ <= 5)\n",
        "nums3.groupBy(_ > 5)"
      ]
    },
    {
      "cell_type": "code",
      "execution_count": null,
      "metadata": {
        "colab": {
          "base_uri": "https://localhost:8080/"
        },
        "id": "l4o3pdLBKEBn",
        "outputId": "1dc99589-17a1-4788-d955-3137a202dd77"
      },
      "outputs": [
        {
          "name": "stdout",
          "output_type": "stream",
          "text": [
            "List(2, 4, 6, 8, 10, 12, 14, 16, 18)\n",
            "Vector(List(2, 4, 6, 8), List(6, 8, 10, 12), List(10, 12, 14, 16), List(14, 16, 18))\n"
          ]
        },
        {
          "data": {
            "text/plain": [
              "\u001b[36mwindow\u001b[39m: \u001b[32mIterator\u001b[39m[\u001b[32mList\u001b[39m[\u001b[32mInt\u001b[39m]] = <iterator>"
            ]
          },
          "execution_count": 62,
          "metadata": {},
          "output_type": "execute_result"
        }
      ],
      "source": [
        "var window = evenList.sliding(4,2)\n",
        "// (size, step)\n",
        "println(evenList)\n",
        "println(window.toVector)"
      ]
    },
    {
      "cell_type": "markdown",
      "metadata": {
        "id": "OKlY407xLBTw"
      },
      "source": [
        "## Zip, unzip, flatten"
      ]
    },
    {
      "cell_type": "code",
      "execution_count": null,
      "metadata": {
        "colab": {
          "base_uri": "https://localhost:8080/"
        },
        "id": "_qUOPYYLLA8M",
        "outputId": "0261c5a0-52eb-4905-99e7-1745c71d016e"
      },
      "outputs": [
        {
          "name": "stdout",
          "output_type": "stream",
          "text": [
            "List(Pizza, Cake, Brownies)\n"
          ]
        },
        {
          "data": {
            "text/plain": [
              "\u001b[36mfoodCount\u001b[39m: \u001b[32mList\u001b[39m[\u001b[32mInt\u001b[39m] = \u001b[33mList\u001b[39m(\u001b[32m3\u001b[39m, \u001b[32m4\u001b[39m, \u001b[32m2\u001b[39m)"
            ]
          },
          "execution_count": 68,
          "metadata": {},
          "output_type": "execute_result"
        }
      ],
      "source": [
        "println(foodList)\n",
        "var foodCount = List(3,4,2)"
      ]
    },
    {
      "cell_type": "code",
      "execution_count": null,
      "metadata": {
        "colab": {
          "base_uri": "https://localhost:8080/"
        },
        "id": "TNBp6SrZLM_i",
        "outputId": "9c411fb8-264d-4942-e553-eeafbf61bf35"
      },
      "outputs": [
        {
          "data": {
            "text/plain": [
              "\u001b[36mshoppingList\u001b[39m: \u001b[32mList\u001b[39m[(\u001b[32mString\u001b[39m, \u001b[32mInt\u001b[39m)] = \u001b[33mList\u001b[39m(\n",
              "  (\u001b[32m\"Pizza\"\u001b[39m, \u001b[32m3\u001b[39m),\n",
              "  (\u001b[32m\"Cake\"\u001b[39m, \u001b[32m4\u001b[39m),\n",
              "  (\u001b[32m\"Brownies\"\u001b[39m, \u001b[32m2\u001b[39m)\n",
              ")"
            ]
          },
          "execution_count": 69,
          "metadata": {},
          "output_type": "execute_result"
        }
      ],
      "source": [
        "var shoppingList = foodList.zip(foodCount)"
      ]
    },
    {
      "cell_type": "code",
      "execution_count": null,
      "metadata": {
        "colab": {
          "base_uri": "https://localhost:8080/"
        },
        "id": "mfazK8lJLYSP",
        "outputId": "151eec4c-a9e6-47d9-f41a-d30000eb3d79"
      },
      "outputs": [
        {
          "data": {
            "text/plain": [
              "\u001b[36mres69\u001b[39m: (\u001b[32mList\u001b[39m[\u001b[32mString\u001b[39m], \u001b[32mList\u001b[39m[\u001b[32mInt\u001b[39m]) = (\n",
              "  \u001b[33mList\u001b[39m(\u001b[32m\"Pizza\"\u001b[39m, \u001b[32m\"Cake\"\u001b[39m, \u001b[32m\"Brownies\"\u001b[39m),\n",
              "  \u001b[33mList\u001b[39m(\u001b[32m3\u001b[39m, \u001b[32m4\u001b[39m, \u001b[32m2\u001b[39m)\n",
              ")"
            ]
          },
          "execution_count": 70,
          "metadata": {},
          "output_type": "execute_result"
        }
      ],
      "source": [
        "shoppingList.unzip"
      ]
    },
    {
      "cell_type": "code",
      "execution_count": null,
      "metadata": {
        "colab": {
          "base_uri": "https://localhost:8080/"
        },
        "id": "5QGUMHzhLmpI",
        "outputId": "b19ea3e7-e3b6-4cab-a62b-e2173f65fea1"
      },
      "outputs": [
        {
          "data": {
            "text/plain": [
              "\u001b[36mnest\u001b[39m: \u001b[32mList\u001b[39m[\u001b[32mList\u001b[39m[\u001b[32mInt\u001b[39m]] = \u001b[33mList\u001b[39m(\u001b[33mList\u001b[39m(\u001b[32m1\u001b[39m, \u001b[32m2\u001b[39m, \u001b[32m3\u001b[39m), \u001b[33mList\u001b[39m(\u001b[32m4\u001b[39m, \u001b[32m5\u001b[39m, \u001b[32m6\u001b[39m))\n",
              "\u001b[36mres71_1\u001b[39m: \u001b[32mList\u001b[39m[\u001b[32mInt\u001b[39m] = \u001b[33mList\u001b[39m(\u001b[32m1\u001b[39m, \u001b[32m2\u001b[39m, \u001b[32m3\u001b[39m, \u001b[32m4\u001b[39m, \u001b[32m5\u001b[39m, \u001b[32m6\u001b[39m)"
            ]
          },
          "execution_count": 72,
          "metadata": {},
          "output_type": "execute_result"
        }
      ],
      "source": [
        "var nest = List(List(1,2,3), List(4,5,6))\n",
        "nest.flatten"
      ]
    },
    {
      "cell_type": "code",
      "execution_count": null,
      "metadata": {
        "colab": {
          "base_uri": "https://localhost:8080/"
        },
        "id": "dj2_MAxSL2Z6",
        "outputId": "7cd098b1-6424-4ec2-f010-d6ba116490e6"
      },
      "outputs": [
        {
          "name": "stdout",
          "output_type": "stream",
          "text": [
            "List(2, 4, 6, 8, 10, 12, 14, 16, 18)"
          ]
        },
        {
          "data": {
            "text/plain": [
              "\u001b[36mres74_1\u001b[39m: \u001b[32mBoolean\u001b[39m = true\n",
              "\u001b[36mres74_2\u001b[39m: \u001b[32mBoolean\u001b[39m = false"
            ]
          },
          "execution_count": 75,
          "metadata": {},
          "output_type": "execute_result"
        }
      ],
      "source": [
        "print(evenList)\n",
        "evenList.forall(_ % 2 == 0)\n",
        "evenList.forall(_ % 3 == 0)"
      ]
    },
    {
      "cell_type": "code",
      "execution_count": null,
      "metadata": {
        "colab": {
          "base_uri": "https://localhost:8080/"
        },
        "id": "Ds1HTj_JMFhu",
        "outputId": "ed4b2dcc-0eef-4c10-fd99-22bed1799058"
      },
      "outputs": [
        {
          "data": {
            "text/plain": [
              "\u001b[36moddList\u001b[39m: \u001b[32mList\u001b[39m[\u001b[32mInt\u001b[39m] = \u001b[33mList\u001b[39m(\u001b[32m1\u001b[39m, \u001b[32m3\u001b[39m, \u001b[32m5\u001b[39m, \u001b[32m7\u001b[39m, \u001b[32m9\u001b[39m, \u001b[32m11\u001b[39m, \u001b[32m13\u001b[39m, \u001b[32m15\u001b[39m, \u001b[32m17\u001b[39m, \u001b[32m19\u001b[39m)\n",
              "\u001b[36mres78_1\u001b[39m: \u001b[32mInt\u001b[39m = \u001b[32m1\u001b[39m\n",
              "\u001b[36mres78_2\u001b[39m: \u001b[32mInt\u001b[39m = \u001b[32m19\u001b[39m\n",
              "\u001b[36mres78_3\u001b[39m: \u001b[32mInt\u001b[39m = \u001b[32m100\u001b[39m\n",
              "\u001b[36mres78_4\u001b[39m: \u001b[32mInt\u001b[39m = \u001b[32m654729075\u001b[39m"
            ]
          },
          "execution_count": 79,
          "metadata": {},
          "output_type": "execute_result"
        }
      ],
      "source": [
        "var oddList = List.range(1,21,2)\n",
        "oddList.min\n",
        "oddList.max\n",
        "oddList.sum\n",
        "oddList.product"
      ]
    },
    {
      "cell_type": "markdown",
      "metadata": {
        "id": "jg7rSSPFNOm3"
      },
      "source": [
        "#LazyList"
      ]
    },
    {
      "cell_type": "code",
      "execution_count": null,
      "metadata": {
        "colab": {
          "base_uri": "https://localhost:8080/"
        },
        "id": "rgsQtELmNPux",
        "outputId": "570de85d-656f-48e2-b507-9c525e5c7cfc"
      },
      "outputs": [
        {
          "data": {
            "text/plain": [
              "\u001b[36mstreamList\u001b[39m: \u001b[32mStream\u001b[39m[\u001b[32mInt\u001b[39m] = \u001b[33mStream\u001b[39m(\n",
              "  \u001b[32m1\u001b[39m,\n",
              "  \u001b[32m2\u001b[39m,\n",
              "  \u001b[32m3\u001b[39m,\n",
              "  \u001b[32m4\u001b[39m,\n",
              "  \u001b[32m5\u001b[39m,\n",
              "  \u001b[32m6\u001b[39m,\n",
              "  \u001b[32m7\u001b[39m,\n",
              "  \u001b[32m8\u001b[39m,\n",
              "  \u001b[32m9\u001b[39m,\n",
              "  \u001b[32m10\u001b[39m,\n",
              "  \u001b[32m11\u001b[39m,\n",
              "  \u001b[32m12\u001b[39m,\n",
              "  \u001b[32m13\u001b[39m,\n",
              "  \u001b[32m14\u001b[39m,\n",
              "  \u001b[32m15\u001b[39m,\n",
              "  \u001b[32m16\u001b[39m,\n",
              "  \u001b[32m17\u001b[39m,\n",
              "  \u001b[32m18\u001b[39m,\n",
              "  \u001b[32m19\u001b[39m,\n",
              "  \u001b[32m20\u001b[39m,\n",
              "  \u001b[32m21\u001b[39m,\n",
              "  \u001b[32m22\u001b[39m,\n",
              "  \u001b[32m23\u001b[39m,\n",
              "  \u001b[32m24\u001b[39m,\n",
              "  \u001b[32m25\u001b[39m,\n",
              "  \u001b[32m26\u001b[39m,\n",
              "  \u001b[32m27\u001b[39m,\n",
              "  \u001b[32m28\u001b[39m,\n",
              "  \u001b[32m29\u001b[39m,\n",
              "  \u001b[32m30\u001b[39m,\n",
              "  \u001b[32m31\u001b[39m,\n",
              "  \u001b[32m32\u001b[39m,\n",
              "  \u001b[32m33\u001b[39m,\n",
              "  \u001b[32m34\u001b[39m,\n",
              "  \u001b[32m35\u001b[39m,\n",
              "  \u001b[32m36\u001b[39m,\n",
              "  \u001b[32m37\u001b[39m,\n",
              "  \u001b[32m38\u001b[39m,\n",
              "..."
            ]
          },
          "execution_count": 85,
          "metadata": {},
          "output_type": "execute_result"
        }
      ],
      "source": [
        "var streamList = (1 to 999999999).toStream"
      ]
    },
    {
      "cell_type": "code",
      "execution_count": null,
      "metadata": {
        "colab": {
          "base_uri": "https://localhost:8080/"
        },
        "id": "3H3ilIIBNcaJ",
        "outputId": "a07955a0-bb8d-4cbc-ad06-bba0ccd93037"
      },
      "outputs": [
        {
          "data": {
            "text/plain": [
              "\u001b[36mres81_0\u001b[39m: \u001b[32mInt\u001b[39m = \u001b[32m1\u001b[39m\n",
              "\u001b[36mres81_1\u001b[39m: \u001b[32mStream\u001b[39m[\u001b[32mInt\u001b[39m] = \u001b[33mStream\u001b[39m(\n",
              "  \u001b[32m2\u001b[39m,\n",
              "  \u001b[32m3\u001b[39m,\n",
              "  \u001b[32m4\u001b[39m,\n",
              "  \u001b[32m5\u001b[39m,\n",
              "  \u001b[32m6\u001b[39m,\n",
              "  \u001b[32m7\u001b[39m,\n",
              "  \u001b[32m8\u001b[39m,\n",
              "  \u001b[32m9\u001b[39m,\n",
              "  \u001b[32m10\u001b[39m,\n",
              "  \u001b[32m11\u001b[39m,\n",
              "  \u001b[32m12\u001b[39m,\n",
              "  \u001b[32m13\u001b[39m,\n",
              "  \u001b[32m14\u001b[39m,\n",
              "  \u001b[32m15\u001b[39m,\n",
              "  \u001b[32m16\u001b[39m,\n",
              "  \u001b[32m17\u001b[39m,\n",
              "  \u001b[32m18\u001b[39m,\n",
              "  \u001b[32m19\u001b[39m,\n",
              "  \u001b[32m20\u001b[39m,\n",
              "  \u001b[32m21\u001b[39m,\n",
              "  \u001b[32m22\u001b[39m,\n",
              "  \u001b[32m23\u001b[39m,\n",
              "  \u001b[32m24\u001b[39m,\n",
              "  \u001b[32m25\u001b[39m,\n",
              "  \u001b[32m26\u001b[39m,\n",
              "  \u001b[32m27\u001b[39m,\n",
              "  \u001b[32m28\u001b[39m,\n",
              "  \u001b[32m29\u001b[39m,\n",
              "  \u001b[32m30\u001b[39m,\n",
              "  \u001b[32m31\u001b[39m,\n",
              "  \u001b[32m32\u001b[39m,\n",
              "  \u001b[32m33\u001b[39m,\n",
              "  \u001b[32m34\u001b[39m,\n",
              "  \u001b[32m35\u001b[39m,\n",
              "  \u001b[32m36\u001b[39m,\n",
              "  \u001b[32m37\u001b[39m,\n",
              "  \u001b[32m38\u001b[39m,\n",
              "  \u001b[32m39\u001b[39m,\n",
              "..."
            ]
          },
          "execution_count": 82,
          "metadata": {},
          "output_type": "execute_result"
        }
      ],
      "source": [
        "streamList.head\n",
        "streamList.tail"
      ]
    },
    {
      "cell_type": "code",
      "execution_count": null,
      "metadata": {
        "colab": {
          "base_uri": "https://localhost:8080/"
        },
        "id": "76m_LLMsNh5X",
        "outputId": "1027cc87-e801-479a-b0d1-d5aa5808d6d7"
      },
      "outputs": [
        {
          "data": {
            "text/plain": [
              "\u001b[36mstreamList2\u001b[39m: \u001b[32mStream\u001b[39m[\u001b[32mInt\u001b[39m] = \u001b[33mStream\u001b[39m(\n",
              "  \u001b[32m2\u001b[39m,\n",
              "  \u001b[32m3\u001b[39m,\n",
              "  \u001b[32m4\u001b[39m,\n",
              "  \u001b[32m5\u001b[39m,\n",
              "  \u001b[32m6\u001b[39m,\n",
              "  \u001b[32m7\u001b[39m,\n",
              "  \u001b[32m8\u001b[39m,\n",
              "  \u001b[32m9\u001b[39m,\n",
              "  \u001b[32m10\u001b[39m,\n",
              "  \u001b[32m11\u001b[39m,\n",
              "  \u001b[32m12\u001b[39m,\n",
              "  \u001b[32m13\u001b[39m,\n",
              "  \u001b[32m14\u001b[39m,\n",
              "  \u001b[32m15\u001b[39m,\n",
              "  \u001b[32m16\u001b[39m,\n",
              "  \u001b[32m17\u001b[39m,\n",
              "  \u001b[32m18\u001b[39m,\n",
              "  \u001b[32m19\u001b[39m,\n",
              "  \u001b[32m20\u001b[39m,\n",
              "  \u001b[32m21\u001b[39m,\n",
              "  \u001b[32m22\u001b[39m,\n",
              "  \u001b[32m23\u001b[39m,\n",
              "  \u001b[32m24\u001b[39m,\n",
              "  \u001b[32m25\u001b[39m,\n",
              "  \u001b[32m26\u001b[39m,\n",
              "  \u001b[32m27\u001b[39m,\n",
              "  \u001b[32m28\u001b[39m,\n",
              "  \u001b[32m29\u001b[39m,\n",
              "  \u001b[32m30\u001b[39m,\n",
              "  \u001b[32m31\u001b[39m,\n",
              "  \u001b[32m32\u001b[39m,\n",
              "  \u001b[32m33\u001b[39m,\n",
              "  \u001b[32m34\u001b[39m,\n",
              "  \u001b[32m35\u001b[39m,\n",
              "  \u001b[32m36\u001b[39m,\n",
              "  \u001b[32m37\u001b[39m,\n",
              "  \u001b[32m38\u001b[39m,\n",
              "  \u001b[32m39\u001b[39m,\n",
              "..."
            ]
          },
          "execution_count": 83,
          "metadata": {},
          "output_type": "execute_result"
        }
      ],
      "source": [
        "var streamList2 = streamList.drop(1)"
      ]
    },
    {
      "cell_type": "code",
      "execution_count": null,
      "metadata": {
        "colab": {
          "base_uri": "https://localhost:8080/"
        },
        "id": "pWzNenlcNqHq",
        "outputId": "c907cc02-2b87-4e43-aedc-1a972a2e834c"
      },
      "outputs": [
        {
          "data": {
            "text/plain": [
              "\u001b[36mres83\u001b[39m: \u001b[32mInt\u001b[39m = \u001b[32m2\u001b[39m"
            ]
          },
          "execution_count": 84,
          "metadata": {},
          "output_type": "execute_result"
        }
      ],
      "source": [
        "streamList2.head"
      ]
    },
    {
      "cell_type": "markdown",
      "metadata": {
        "id": "VQoizYcmO_iT"
      },
      "source": [
        "# Queues"
      ]
    },
    {
      "cell_type": "code",
      "execution_count": null,
      "metadata": {
        "colab": {
          "base_uri": "https://localhost:8080/"
        },
        "id": "gPvTxRAXO8zm",
        "outputId": "1398aaa4-6d68-4a41-ac68-13b24158600d"
      },
      "outputs": [
        {
          "data": {
            "text/plain": [
              "\u001b[36mqueue1\u001b[39m: \u001b[32mcollection\u001b[39m.\u001b[32mimmutable\u001b[39m.\u001b[32mQueue\u001b[39m[\u001b[32mString\u001b[39m] = \u001b[33mQueue\u001b[39m()"
            ]
          },
          "execution_count": 86,
          "metadata": {},
          "output_type": "execute_result"
        }
      ],
      "source": [
        "var queue1 = collection.immutable.Queue[String]()"
      ]
    },
    {
      "cell_type": "code",
      "execution_count": null,
      "metadata": {
        "colab": {
          "base_uri": "https://localhost:8080/"
        },
        "id": "WobueGtVPH1M",
        "outputId": "b36f1a3c-41bb-4828-ca14-78dab1f32a8b"
      },
      "outputs": [
        {
          "data": {
            "text/plain": [
              "\u001b[36mqueue2\u001b[39m: \u001b[32mcollection\u001b[39m.\u001b[32mimmutable\u001b[39m.\u001b[32mQueue\u001b[39m[\u001b[32mString\u001b[39m] = \u001b[33mQueue\u001b[39m(\u001b[32m\"First\"\u001b[39m)"
            ]
          },
          "execution_count": 87,
          "metadata": {},
          "output_type": "execute_result"
        }
      ],
      "source": [
        "var queue2 = queue1.enqueue(\"First\")"
      ]
    },
    {
      "cell_type": "code",
      "execution_count": null,
      "metadata": {
        "colab": {
          "base_uri": "https://localhost:8080/"
        },
        "id": "I8cxBf4fPPo7",
        "outputId": "dd301e44-3d44-452d-ffd5-13bf815a91fe"
      },
      "outputs": [
        {
          "data": {
            "text/plain": [
              "\u001b[36mqueue3\u001b[39m: \u001b[32mcollection\u001b[39m.\u001b[32mimmutable\u001b[39m.\u001b[32mQueue\u001b[39m[\u001b[32mString\u001b[39m] = \u001b[33mQueue\u001b[39m(\n",
              "  \u001b[32m\"First\"\u001b[39m,\n",
              "  \u001b[32m\"Second\"\u001b[39m,\n",
              "  \u001b[32m\"Third\"\u001b[39m,\n",
              "  \u001b[32m\"Fourth\"\u001b[39m\n",
              ")"
            ]
          },
          "execution_count": 88,
          "metadata": {},
          "output_type": "execute_result"
        }
      ],
      "source": [
        "var queue3 = queue2.enqueue(List(\"Second\", \"Third\", \"Fourth\"))"
      ]
    },
    {
      "cell_type": "code",
      "execution_count": null,
      "metadata": {
        "colab": {
          "base_uri": "https://localhost:8080/"
        },
        "id": "8fXJm0mqPiY8",
        "outputId": "3b6c2e1c-0eed-45eb-8683-68ef195ca907"
      },
      "outputs": [
        {
          "data": {
            "text/plain": [
              "\u001b[36mres89\u001b[39m: (\u001b[32mString\u001b[39m, \u001b[32mcollection\u001b[39m.\u001b[32mimmutable\u001b[39m.\u001b[32mQueue\u001b[39m[\u001b[32mString\u001b[39m]) = (\u001b[32m\"First\"\u001b[39m, \u001b[33mQueue\u001b[39m())"
            ]
          },
          "execution_count": 90,
          "metadata": {},
          "output_type": "execute_result"
        }
      ],
      "source": [
        "var (dequeueElement, queue4) = queue2.dequeue"
      ]
    },
    {
      "cell_type": "markdown",
      "metadata": {
        "id": "Q9fmV9thkzOo"
      },
      "source": [
        "# Vectors"
      ]
    },
    {
      "cell_type": "code",
      "execution_count": null,
      "metadata": {
        "colab": {
          "base_uri": "https://localhost:8080/"
        },
        "id": "AwAGT4VJk2Tq",
        "outputId": "13e195ea-3281-427c-a79a-a3bfda5a9ec2"
      },
      "outputs": [
        {
          "data": {
            "text/plain": [
              "\u001b[36mnumsV\u001b[39m: \u001b[32mVector\u001b[39m[\u001b[32mInt\u001b[39m] = \u001b[33mVector\u001b[39m(\n",
              "  \u001b[32m1\u001b[39m,\n",
              "  \u001b[32m2\u001b[39m,\n",
              "  \u001b[32m3\u001b[39m,\n",
              "  \u001b[32m4\u001b[39m,\n",
              "  \u001b[32m5\u001b[39m,\n",
              "  \u001b[32m6\u001b[39m,\n",
              "  \u001b[32m7\u001b[39m,\n",
              "  \u001b[32m8\u001b[39m,\n",
              "  \u001b[32m9\u001b[39m,\n",
              "  \u001b[32m10\u001b[39m,\n",
              "  \u001b[32m11\u001b[39m,\n",
              "  \u001b[32m12\u001b[39m,\n",
              "  \u001b[32m13\u001b[39m,\n",
              "  \u001b[32m14\u001b[39m,\n",
              "  \u001b[32m15\u001b[39m,\n",
              "  \u001b[32m16\u001b[39m,\n",
              "  \u001b[32m17\u001b[39m,\n",
              "  \u001b[32m18\u001b[39m,\n",
              "  \u001b[32m19\u001b[39m,\n",
              "  \u001b[32m20\u001b[39m,\n",
              "  \u001b[32m21\u001b[39m,\n",
              "  \u001b[32m22\u001b[39m,\n",
              "  \u001b[32m23\u001b[39m,\n",
              "  \u001b[32m24\u001b[39m,\n",
              "  \u001b[32m25\u001b[39m,\n",
              "  \u001b[32m26\u001b[39m,\n",
              "  \u001b[32m27\u001b[39m,\n",
              "  \u001b[32m28\u001b[39m,\n",
              "  \u001b[32m29\u001b[39m,\n",
              "  \u001b[32m30\u001b[39m,\n",
              "  \u001b[32m31\u001b[39m,\n",
              "  \u001b[32m32\u001b[39m,\n",
              "  \u001b[32m33\u001b[39m,\n",
              "  \u001b[32m34\u001b[39m,\n",
              "  \u001b[32m35\u001b[39m,\n",
              "  \u001b[32m36\u001b[39m,\n",
              "  \u001b[32m37\u001b[39m,\n",
              "  \u001b[32m38\u001b[39m,\n",
              "..."
            ]
          },
          "execution_count": 91,
          "metadata": {},
          "output_type": "execute_result"
        }
      ],
      "source": [
        "var numsV = (1 to 10000).toVector"
      ]
    },
    {
      "cell_type": "code",
      "execution_count": null,
      "metadata": {
        "colab": {
          "base_uri": "https://localhost:8080/"
        },
        "id": "pZ24n14Sk89V",
        "outputId": "45c3553f-e934-4a0f-95a9-ce872279bfc6"
      },
      "outputs": [
        {
          "data": {
            "text/plain": [
              "\u001b[36mbegin_code\u001b[39m: \u001b[32mLong\u001b[39m = \u001b[32m1644260846188L\u001b[39m"
            ]
          },
          "execution_count": 96,
          "metadata": {},
          "output_type": "execute_result"
        }
      ],
      "source": [
        "var begin_code = System.currentTimeMillis()"
      ]
    },
    {
      "cell_type": "code",
      "execution_count": null,
      "metadata": {
        "id": "Apu1gaDxlHKU"
      },
      "outputs": [],
      "source": [
        "for (i <- List.range(0,numsV.size)) numsV(i)"
      ]
    },
    {
      "cell_type": "code",
      "execution_count": null,
      "metadata": {
        "colab": {
          "base_uri": "https://localhost:8080/"
        },
        "id": "G8XE0UPtlTz1",
        "outputId": "2d2234ff-986f-4740-a033-cc55351967c1"
      },
      "outputs": [
        {
          "data": {
            "text/plain": [
              "\u001b[36mend_code\u001b[39m: \u001b[32mLong\u001b[39m = \u001b[32m1644260849208L\u001b[39m"
            ]
          },
          "execution_count": 98,
          "metadata": {},
          "output_type": "execute_result"
        }
      ],
      "source": [
        "var end_code = System.currentTimeMillis()"
      ]
    },
    {
      "cell_type": "code",
      "execution_count": null,
      "metadata": {
        "colab": {
          "base_uri": "https://localhost:8080/"
        },
        "id": "J4af5od2lYle",
        "outputId": "5d966b02-d0d4-4781-92ce-319b12874b04"
      },
      "outputs": [
        {
          "data": {
            "text/plain": [
              "\u001b[36mvecTime\u001b[39m: \u001b[32mLong\u001b[39m = \u001b[32m3020L\u001b[39m"
            ]
          },
          "execution_count": 99,
          "metadata": {},
          "output_type": "execute_result"
        }
      ],
      "source": [
        "var vecTime = end_code - begin_code"
      ]
    },
    {
      "cell_type": "markdown",
      "metadata": {
        "id": "5sOFWvW4lp2Z"
      },
      "source": [
        "# Maps"
      ]
    },
    {
      "cell_type": "code",
      "execution_count": null,
      "metadata": {
        "colab": {
          "base_uri": "https://localhost:8080/"
        },
        "id": "QsyMQKY0lo_f",
        "outputId": "6f6c46b9-8000-40db-b250-45766e9c6509"
      },
      "outputs": [
        {
          "data": {
            "text/plain": [
              "\u001b[36mfoodMap\u001b[39m: \u001b[32mMap\u001b[39m[\u001b[32mString\u001b[39m, \u001b[32mDouble\u001b[39m] = \u001b[33mMap\u001b[39m(\n",
              "  \u001b[32m\"Pizza\"\u001b[39m -> \u001b[32m1.99\u001b[39m,\n",
              "  \u001b[32m\"Cake\"\u001b[39m -> \u001b[32m2.99\u001b[39m,\n",
              "  \u001b[32m\"Brownies\"\u001b[39m -> \u001b[32m3.99\u001b[39m\n",
              ")"
            ]
          },
          "execution_count": 100,
          "metadata": {},
          "output_type": "execute_result"
        }
      ],
      "source": [
        "var foodMap = Map(\"Pizza\" -> 1.99, \"Cake\" -> 2.99, \"Brownies\" -> 3.99)"
      ]
    },
    {
      "cell_type": "code",
      "execution_count": null,
      "metadata": {
        "colab": {
          "base_uri": "https://localhost:8080/"
        },
        "id": "phXhkH8kl7Pv",
        "outputId": "bc220a9f-e8ae-4514-dc23-c5cbda3d46ce"
      },
      "outputs": [
        {
          "data": {
            "text/plain": [
              "\u001b[36mfoodMap2\u001b[39m: \u001b[32mMap\u001b[39m[\u001b[32mString\u001b[39m, \u001b[32mDouble\u001b[39m] = \u001b[33mMap\u001b[39m(\n",
              "  \u001b[32m\"Pizza\"\u001b[39m -> \u001b[32m1.99\u001b[39m,\n",
              "  \u001b[32m\"Cake\"\u001b[39m -> \u001b[32m2.99\u001b[39m,\n",
              "  \u001b[32m\"Brownies\"\u001b[39m -> \u001b[32m3.99\u001b[39m,\n",
              "  \u001b[32m\"Ice Cream\"\u001b[39m -> \u001b[32m0.99\u001b[39m\n",
              ")"
            ]
          },
          "execution_count": 101,
          "metadata": {},
          "output_type": "execute_result"
        }
      ],
      "source": [
        "var foodMap2 = foodMap + (\"Ice Cream\" -> 0.99)"
      ]
    },
    {
      "cell_type": "code",
      "execution_count": null,
      "metadata": {
        "colab": {
          "base_uri": "https://localhost:8080/"
        },
        "id": "rqNFfPqxmKZz",
        "outputId": "573db8e7-63a5-475c-d9aa-bc7202a072c0"
      },
      "outputs": [
        {
          "data": {
            "text/plain": [
              "\u001b[36mfoodMap3\u001b[39m: \u001b[32mMap\u001b[39m[\u001b[32mString\u001b[39m, \u001b[32mDouble\u001b[39m] = \u001b[33mMap\u001b[39m(\n",
              "  \u001b[32m\"Pizza\"\u001b[39m -> \u001b[32m1.99\u001b[39m,\n",
              "  \u001b[32m\"Cake\"\u001b[39m -> \u001b[32m2.99\u001b[39m,\n",
              "  \u001b[32m\"Brownies\"\u001b[39m -> \u001b[32m3.99\u001b[39m,\n",
              "  \u001b[32m\"Pasta\"\u001b[39m -> \u001b[32m4.99\u001b[39m,\n",
              "  \u001b[32m\"Wings\"\u001b[39m -> \u001b[32m5.99\u001b[39m,\n",
              "  \u001b[32m\"Ice Cream\"\u001b[39m -> \u001b[32m0.99\u001b[39m\n",
              ")"
            ]
          },
          "execution_count": 102,
          "metadata": {},
          "output_type": "execute_result"
        }
      ],
      "source": [
        "var foodMap3 = foodMap2 ++ Map(\"Pasta\" -> 4.99, \"Wings\" -> 5.99)"
      ]
    },
    {
      "cell_type": "code",
      "execution_count": null,
      "metadata": {
        "colab": {
          "base_uri": "https://localhost:8080/"
        },
        "id": "6meMtavjmYRE",
        "outputId": "df8ca20c-48a2-472e-c546-58d2eb02b5ca"
      },
      "outputs": [
        {
          "data": {
            "text/plain": [
              "\u001b[36mfoodMap4\u001b[39m: \u001b[32mMap\u001b[39m[\u001b[32mString\u001b[39m, \u001b[32mDouble\u001b[39m] = \u001b[33mMap\u001b[39m(\n",
              "  \u001b[32m\"Pizza\"\u001b[39m -> \u001b[32m1.99\u001b[39m,\n",
              "  \u001b[32m\"Cake\"\u001b[39m -> \u001b[32m2.99\u001b[39m,\n",
              "  \u001b[32m\"Brownies\"\u001b[39m -> \u001b[32m3.99\u001b[39m,\n",
              "  \u001b[32m\"Pasta\"\u001b[39m -> \u001b[32m4.99\u001b[39m,\n",
              "  \u001b[32m\"Ice Cream\"\u001b[39m -> \u001b[32m0.99\u001b[39m\n",
              ")"
            ]
          },
          "execution_count": 103,
          "metadata": {},
          "output_type": "execute_result"
        }
      ],
      "source": [
        "var foodMap4 = foodMap3 - (\"Wings\")"
      ]
    },
    {
      "cell_type": "code",
      "execution_count": null,
      "metadata": {
        "colab": {
          "base_uri": "https://localhost:8080/"
        },
        "id": "4TNXlwYUmidw",
        "outputId": "3ce34dda-2fe2-44d0-ff22-7464c343ea1d"
      },
      "outputs": [
        {
          "data": {
            "text/plain": [
              "\u001b[36mfoodMap5\u001b[39m: \u001b[32mMap\u001b[39m[\u001b[32mString\u001b[39m, \u001b[32mDouble\u001b[39m] = \u001b[33mMap\u001b[39m(\n",
              "  \u001b[32m\"Cake\"\u001b[39m -> \u001b[32m2.99\u001b[39m,\n",
              "  \u001b[32m\"Brownies\"\u001b[39m -> \u001b[32m3.99\u001b[39m,\n",
              "  \u001b[32m\"Ice Cream\"\u001b[39m -> \u001b[32m0.99\u001b[39m\n",
              ")"
            ]
          },
          "execution_count": 104,
          "metadata": {},
          "output_type": "execute_result"
        }
      ],
      "source": [
        "var foodMap5 = foodMap4 -- List(\"Pasta\", \"Pizza\")"
      ]
    },
    {
      "cell_type": "markdown",
      "metadata": {
        "id": "Sb8OmvWVmqNt"
      },
      "source": [
        "## Access Elements"
      ]
    },
    {
      "cell_type": "code",
      "execution_count": null,
      "metadata": {
        "colab": {
          "base_uri": "https://localhost:8080/"
        },
        "id": "TAeh083QmuH3",
        "outputId": "3837c3dd-b5fb-4bd7-ca6c-78726aa0c69f"
      },
      "outputs": [
        {
          "data": {
            "text/plain": [
              "\u001b[36mseasonWear\u001b[39m: \u001b[32mMap\u001b[39m[\u001b[32mString\u001b[39m, \u001b[32mString\u001b[39m] = \u001b[33mMap\u001b[39m(\n",
              "  \u001b[32m\"rain\"\u001b[39m -> \u001b[32m\"rainboots\"\u001b[39m,\n",
              "  \u001b[32m\"sunshine\"\u001b[39m -> \u001b[32m\"hat\"\u001b[39m\n",
              ")"
            ]
          },
          "execution_count": 35,
          "metadata": {},
          "output_type": "execute_result"
        }
      ],
      "source": [
        "var seasonWear = Map(\"rain\" -> \"rainboots\", \"sunshine\" -> \"hat\")"
      ]
    },
    {
      "cell_type": "code",
      "execution_count": null,
      "metadata": {
        "colab": {
          "base_uri": "https://localhost:8080/"
        },
        "id": "Gx1CE0K1m3RH",
        "outputId": "7f63bbd3-9e6b-4bb9-b6ed-09f44274290e"
      },
      "outputs": [
        {
          "data": {
            "text/plain": [
              "\u001b[36mrainWear\u001b[39m: \u001b[32mString\u001b[39m = \u001b[32m\"rainboots\"\u001b[39m"
            ]
          },
          "execution_count": 36,
          "metadata": {},
          "output_type": "execute_result"
        }
      ],
      "source": [
        "var rainWear = seasonWear(\"rain\")"
      ]
    },
    {
      "cell_type": "code",
      "execution_count": null,
      "metadata": {
        "colab": {
          "base_uri": "https://localhost:8080/"
        },
        "id": "572y2k_am_4I",
        "outputId": "908692ff-e834-4715-ac60-d3fb52be0ab1"
      },
      "outputs": [
        {
          "data": {
            "text/plain": [
              "\u001b[36msnowWear\u001b[39m: \u001b[32mString\u001b[39m = \u001b[32m\"No such weather\"\u001b[39m"
            ]
          },
          "execution_count": 37,
          "metadata": {},
          "output_type": "execute_result"
        }
      ],
      "source": [
        "var snowWear = seasonWear.getOrElse(\"snow\", \"No such weather\")"
      ]
    },
    {
      "cell_type": "code",
      "execution_count": null,
      "metadata": {
        "colab": {
          "base_uri": "https://localhost:8080/"
        },
        "id": "BQxwitbDnPTm",
        "outputId": "ddfbe44e-ca70-4a32-d682-ad7f00427f34"
      },
      "outputs": [
        {
          "data": {
            "text/plain": [
              "\u001b[36mseasonWear2\u001b[39m: \u001b[32mMap\u001b[39m[\u001b[32mString\u001b[39m, \u001b[32mString\u001b[39m] = \u001b[33mMap\u001b[39m(\n",
              "  \u001b[32m\"rain\"\u001b[39m -> \u001b[32m\"rainboots\"\u001b[39m,\n",
              "  \u001b[32m\"sunshine\"\u001b[39m -> \u001b[32m\"hat\"\u001b[39m\n",
              ")"
            ]
          },
          "execution_count": 38,
          "metadata": {},
          "output_type": "execute_result"
        }
      ],
      "source": [
        "var seasonWear2 = Map(\"rain\" -> \"rainboots\", \"sunshine\" -> \"hat\").withDefaultValue(\"No such weather\")"
      ]
    },
    {
      "cell_type": "code",
      "execution_count": null,
      "metadata": {
        "colab": {
          "base_uri": "https://localhost:8080/"
        },
        "id": "g0uTpk2inWGk",
        "outputId": "7cabd082-75e5-4974-ab0b-7c8614b01b3a"
      },
      "outputs": [
        {
          "name": "stdout",
          "output_type": "stream",
          "text": [
            "weather: rainboots\n"
          ]
        },
        {
          "data": {
            "text/plain": [
              "\u001b[36mwind\u001b[39m: \u001b[32mString\u001b[39m = \u001b[32m\"rainboots\"\u001b[39m"
            ]
          },
          "execution_count": 40,
          "metadata": {},
          "output_type": "execute_result"
        }
      ],
      "source": [
        "var wind = seasonWear2(\"rain\")\n",
        "// seasonWear2(\"wind\")\n",
        "println(s\"weather: $wind\")"
      ]
    },
    {
      "cell_type": "markdown",
      "metadata": {
        "id": "MwlweLDlnxB5"
      },
      "source": [
        "## Key Value Functions"
      ]
    },
    {
      "cell_type": "code",
      "execution_count": null,
      "metadata": {
        "colab": {
          "base_uri": "https://localhost:8080/"
        },
        "id": "s88YIko3nzC2",
        "outputId": "739d7ef3-437a-4a2c-f8d6-1c57f3e4238c"
      },
      "outputs": [
        {
          "data": {
            "text/plain": [
              "\u001b[36mkeys_only\u001b[39m: \u001b[32mIterable\u001b[39m[\u001b[32mString\u001b[39m] = \u001b[33mSet\u001b[39m(\u001b[32m\"rain\"\u001b[39m, \u001b[32m\"sunshine\"\u001b[39m)\n",
              "\u001b[36mvalues_only\u001b[39m: \u001b[32mIterable\u001b[39m[\u001b[32mString\u001b[39m] = \u001b[33mMapLike.DefaultValuesIterable\u001b[39m(\n",
              "  \u001b[32m\"rainboots\"\u001b[39m,\n",
              "  \u001b[32m\"hat\"\u001b[39m\n",
              ")"
            ]
          },
          "execution_count": 117,
          "metadata": {},
          "output_type": "execute_result"
        }
      ],
      "source": [
        "var keys_only = seasonWear.keys\n",
        "var values_only = seasonWear.values"
      ]
    },
    {
      "cell_type": "code",
      "execution_count": null,
      "metadata": {
        "colab": {
          "base_uri": "https://localhost:8080/"
        },
        "id": "f_UO3D2RoM11",
        "outputId": "c03beb0d-e017-4074-e200-bb58cf33cac3"
      },
      "outputs": [
        {
          "name": "stdout",
          "output_type": "stream",
          "text": [
            "Activity: movie\n",
            "person: friend\n",
            "Activity: dinner\n",
            "person: mom\n"
          ]
        },
        {
          "data": {
            "text/plain": [
              "\u001b[36mguestList\u001b[39m: \u001b[32mMap\u001b[39m[\u001b[32mString\u001b[39m, \u001b[32mString\u001b[39m] = \u001b[33mMap\u001b[39m(\u001b[32m\"movie\"\u001b[39m -> \u001b[32m\"friend\"\u001b[39m, \u001b[32m\"dinner\"\u001b[39m -> \u001b[32m\"mom\"\u001b[39m)"
            ]
          },
          "execution_count": 118,
          "metadata": {},
          "output_type": "execute_result"
        }
      ],
      "source": [
        "val guestList = Map(\"movie\" -> \"friend\", \"dinner\" -> \"mom\")\n",
        "\n",
        "for ((k,v) <- guestList) {\n",
        "  println(\"Activity: \" + k)\n",
        "  println(\"person: \" + v)\n",
        "}"
      ]
    },
    {
      "cell_type": "code",
      "execution_count": null,
      "metadata": {
        "colab": {
          "base_uri": "https://localhost:8080/"
        },
        "id": "MPYNJt1gohLW",
        "outputId": "c6d0a798-931e-4198-bd72-bb813a57d472"
      },
      "outputs": [
        {
          "name": "stdout",
          "output_type": "stream",
          "text": [
            "activity: movie, person: friend\n",
            "activity: dinner, person: mom\n"
          ]
        }
      ],
      "source": [
        "guestList.foreach {\n",
        "  case(activity, person) => println(s\"activity: $activity, person: $person\")\n",
        "}"
      ]
    },
    {
      "cell_type": "markdown",
      "metadata": {
        "id": "WDox_cBA5N5N"
      },
      "source": [
        "# Sets"
      ]
    },
    {
      "cell_type": "code",
      "execution_count": null,
      "metadata": {
        "colab": {
          "base_uri": "https://localhost:8080/"
        },
        "id": "ygqLSu-m5NfV",
        "outputId": "8faab6eb-3b98-4557-9f4d-416bcc30dc4b"
      },
      "outputs": [
        {
          "data": {
            "text/plain": [
              "\u001b[36mdinnerSet\u001b[39m: \u001b[32mSet\u001b[39m[\u001b[32mString\u001b[39m] = \u001b[33mSet\u001b[39m(\u001b[32m\"Pizza\"\u001b[39m, \u001b[32m\"Pasta\"\u001b[39m, \u001b[32m\"Burgers\"\u001b[39m)"
            ]
          },
          "execution_count": 120,
          "metadata": {},
          "output_type": "execute_result"
        }
      ],
      "source": [
        "var dinnerSet = Set(\"Pizza\", \"Pasta\", \"Burgers\")"
      ]
    },
    {
      "cell_type": "code",
      "execution_count": null,
      "metadata": {
        "colab": {
          "base_uri": "https://localhost:8080/"
        },
        "id": "DHgqdCeH5x2u",
        "outputId": "928bdffd-d08e-499e-aa97-a3e5e779ea61"
      },
      "outputs": [
        {
          "data": {
            "text/plain": [
              "\u001b[36mdinnerSet1\u001b[39m: \u001b[32mSet\u001b[39m[\u001b[32mString\u001b[39m] = \u001b[33mSet\u001b[39m(\u001b[32m\"Pizza\"\u001b[39m, \u001b[32m\"Pasta\"\u001b[39m, \u001b[32m\"Burgers\"\u001b[39m, \u001b[32m\"Wings\"\u001b[39m)"
            ]
          },
          "execution_count": 121,
          "metadata": {},
          "output_type": "execute_result"
        }
      ],
      "source": [
        "var dinnerSet1 = dinnerSet + \"Wings\""
      ]
    },
    {
      "cell_type": "code",
      "execution_count": null,
      "metadata": {
        "colab": {
          "base_uri": "https://localhost:8080/"
        },
        "id": "dsFrFbSS531S",
        "outputId": "0f950891-0264-4e36-82cc-8e08cee486f4"
      },
      "outputs": [
        {
          "data": {
            "text/plain": [
              "\u001b[36mdinnerSet2\u001b[39m: \u001b[32mSet\u001b[39m[\u001b[32mString\u001b[39m] = \u001b[33mSet\u001b[39m(\n",
              "  \u001b[32m\"Chinese\"\u001b[39m,\n",
              "  \u001b[32m\"Pizza\"\u001b[39m,\n",
              "  \u001b[32m\"Mediterranean\"\u001b[39m,\n",
              "  \u001b[32m\"Pasta\"\u001b[39m,\n",
              "  \u001b[32m\"Wings\"\u001b[39m,\n",
              "  \u001b[32m\"Burgers\"\u001b[39m\n",
              ")"
            ]
          },
          "execution_count": 122,
          "metadata": {},
          "output_type": "execute_result"
        }
      ],
      "source": [
        "var dinnerSet2 = dinnerSet1 ++ List(\"Chinese\", \"Mediterranean\")"
      ]
    },
    {
      "cell_type": "code",
      "execution_count": null,
      "metadata": {
        "colab": {
          "base_uri": "https://localhost:8080/"
        },
        "id": "Yq3GrCG56BOp",
        "outputId": "5a7c24f4-66ed-453f-cbd0-1859f2b3e8b0"
      },
      "outputs": [
        {
          "data": {
            "text/plain": [
              "\u001b[36mdinnerSet3\u001b[39m: \u001b[32mSet\u001b[39m[\u001b[32mString\u001b[39m] = \u001b[33mSet\u001b[39m(\n",
              "  \u001b[32m\"Chinese\"\u001b[39m,\n",
              "  \u001b[32m\"Pizza\"\u001b[39m,\n",
              "  \u001b[32m\"Mediterranean\"\u001b[39m,\n",
              "  \u001b[32m\"Pasta\"\u001b[39m,\n",
              "  \u001b[32m\"Burgers\"\u001b[39m\n",
              ")"
            ]
          },
          "execution_count": 123,
          "metadata": {},
          "output_type": "execute_result"
        }
      ],
      "source": [
        "var dinnerSet3 = dinnerSet2 - \"Wings\""
      ]
    },
    {
      "cell_type": "code",
      "execution_count": null,
      "metadata": {
        "colab": {
          "base_uri": "https://localhost:8080/"
        },
        "id": "hGHs9Zx76IHm",
        "outputId": "28793bfd-5f1d-413c-be1f-3b6eab853d34"
      },
      "outputs": [
        {
          "data": {
            "text/plain": [
              "\u001b[36mdinnerSet4\u001b[39m: \u001b[32mSet\u001b[39m[\u001b[32mString\u001b[39m] = \u001b[33mSet\u001b[39m(\u001b[32m\"Mediterranean\"\u001b[39m, \u001b[32m\"Pasta\"\u001b[39m, \u001b[32m\"Burgers\"\u001b[39m)"
            ]
          },
          "execution_count": 125,
          "metadata": {},
          "output_type": "execute_result"
        }
      ],
      "source": [
        "var dinnerSet4 = dinnerSet3 -- List(\"Chinese\", \"Pizza\")"
      ]
    },
    {
      "cell_type": "markdown",
      "metadata": {
        "id": "fnPTqDD06W3m"
      },
      "source": [
        "## Set Operations"
      ]
    },
    {
      "cell_type": "code",
      "execution_count": null,
      "metadata": {
        "colab": {
          "base_uri": "https://localhost:8080/"
        },
        "id": "UiTfg9pN6Y0o",
        "outputId": "4401d9d7-dfc4-4ee4-b9c5-20df4a0b5af7"
      },
      "outputs": [
        {
          "data": {
            "text/plain": [
              "\u001b[36mvegetables\u001b[39m: \u001b[32mSet\u001b[39m[\u001b[32mString\u001b[39m] = \u001b[33mSet\u001b[39m(\n",
              "  \u001b[32m\"potato\"\u001b[39m,\n",
              "  \u001b[32m\"asparagus\"\u001b[39m,\n",
              "  \u001b[32m\"turnip\"\u001b[39m,\n",
              "  \u001b[32m\"carrot\"\u001b[39m,\n",
              "  \u001b[32m\"spinach\"\u001b[39m,\n",
              "  \u001b[32m\"okra\"\u001b[39m,\n",
              "  \u001b[32m\"cucumber\"\u001b[39m\n",
              ")\n",
              "\u001b[36mrootVegetables\u001b[39m: \u001b[32mSet\u001b[39m[\u001b[32mString\u001b[39m] = \u001b[33mSet\u001b[39m(\u001b[32m\"potato\"\u001b[39m, \u001b[32m\"carrot\"\u001b[39m, \u001b[32m\"turnip\"\u001b[39m, \u001b[32m\"radish\"\u001b[39m)"
            ]
          },
          "execution_count": 126,
          "metadata": {},
          "output_type": "execute_result"
        }
      ],
      "source": [
        "var vegetables = Set(\"potato\", \"asparagus\", \"cucumber\", \"carrot\", \"spinach\", \"turnip\", \"okra\")\n",
        "var rootVegetables = Set(\"potato\", \"carrot\", \"turnip\", \"radish\")"
      ]
    },
    {
      "cell_type": "code",
      "execution_count": null,
      "metadata": {
        "colab": {
          "base_uri": "https://localhost:8080/"
        },
        "id": "wuIhx43N6vLT",
        "outputId": "f66d2890-6204-47e9-8db7-93f43f7291cc"
      },
      "outputs": [
        {
          "data": {
            "text/plain": [
              "\u001b[36mintersect\u001b[39m: \u001b[32mSet\u001b[39m[\u001b[32mString\u001b[39m] = \u001b[33mSet\u001b[39m(\u001b[32m\"potato\"\u001b[39m, \u001b[32m\"turnip\"\u001b[39m, \u001b[32m\"carrot\"\u001b[39m)"
            ]
          },
          "execution_count": 127,
          "metadata": {},
          "output_type": "execute_result"
        }
      ],
      "source": [
        "var intersect = vegetables & rootVegetables\n",
        "// vegetables.intersect(rootVegetables)"
      ]
    },
    {
      "cell_type": "code",
      "execution_count": null,
      "metadata": {
        "colab": {
          "base_uri": "https://localhost:8080/"
        },
        "id": "QkQxge-y69cv",
        "outputId": "b685bf7a-fc15-41a8-84d6-28a9e05b1eee"
      },
      "outputs": [
        {
          "data": {
            "text/plain": [
              "\u001b[36munion\u001b[39m: \u001b[32mSet\u001b[39m[\u001b[32mString\u001b[39m] = \u001b[33mSet\u001b[39m(\n",
              "  \u001b[32m\"potato\"\u001b[39m,\n",
              "  \u001b[32m\"asparagus\"\u001b[39m,\n",
              "  \u001b[32m\"turnip\"\u001b[39m,\n",
              "  \u001b[32m\"carrot\"\u001b[39m,\n",
              "  \u001b[32m\"spinach\"\u001b[39m,\n",
              "  \u001b[32m\"radish\"\u001b[39m,\n",
              "  \u001b[32m\"okra\"\u001b[39m,\n",
              "  \u001b[32m\"cucumber\"\u001b[39m\n",
              ")"
            ]
          },
          "execution_count": 128,
          "metadata": {},
          "output_type": "execute_result"
        }
      ],
      "source": [
        "var union = vegetables | rootVegetables\n",
        "// vegetables.union(rootVegetables)"
      ]
    },
    {
      "cell_type": "code",
      "execution_count": null,
      "metadata": {
        "colab": {
          "base_uri": "https://localhost:8080/"
        },
        "id": "FsjpUF5f7Lvm",
        "outputId": "8b97885d-8b1f-490f-9a0d-2ee70de44487"
      },
      "outputs": [
        {
          "data": {
            "text/plain": [
              "\u001b[36mdiffVeg\u001b[39m: \u001b[32mSet\u001b[39m[\u001b[32mString\u001b[39m] = \u001b[33mSet\u001b[39m(\u001b[32m\"asparagus\"\u001b[39m, \u001b[32m\"spinach\"\u001b[39m, \u001b[32m\"okra\"\u001b[39m, \u001b[32m\"cucumber\"\u001b[39m)\n",
              "\u001b[36mdiffVeg2\u001b[39m: \u001b[32mSet\u001b[39m[\u001b[32mString\u001b[39m] = \u001b[33mSet\u001b[39m(\u001b[32m\"radish\"\u001b[39m)"
            ]
          },
          "execution_count": 130,
          "metadata": {},
          "output_type": "execute_result"
        }
      ],
      "source": [
        "var diffVeg = vegetables &~ rootVegetables\n",
        "// vegestables.diff(rootVegetables)\n",
        "var diffVeg2 = rootVegetables &~ vegetables"
      ]
    },
    {
      "cell_type": "markdown",
      "metadata": {
        "id": "sfdYxi1k7TNj"
      },
      "source": [
        "# ArrayBuffer"
      ]
    },
    {
      "cell_type": "code",
      "execution_count": null,
      "metadata": {
        "colab": {
          "base_uri": "https://localhost:8080/"
        },
        "id": "qw6CxDaR79QX",
        "outputId": "bf9bf7d4-3b4c-4aee-bc08-3dd35953ce2f"
      },
      "outputs": [
        {
          "data": {
            "text/plain": [
              "\u001b[32mimport \u001b[39m\u001b[36mscala.collection.mutable\u001b[39m"
            ]
          },
          "execution_count": 2,
          "metadata": {},
          "output_type": "execute_result"
        }
      ],
      "source": [
        "import scala.collection.mutable"
      ]
    },
    {
      "cell_type": "code",
      "execution_count": null,
      "metadata": {
        "colab": {
          "base_uri": "https://localhost:8080/"
        },
        "id": "8cVoel5O7VwM",
        "outputId": "8cc321f5-ea7a-4e0d-9c73-35171c240ee6"
      },
      "outputs": [
        {
          "data": {
            "text/plain": [
              "\u001b[36marrayBuff\u001b[39m: \u001b[32mmutable\u001b[39m.\u001b[32mArrayBuffer\u001b[39m[\u001b[32mInt\u001b[39m] = \u001b[33mArrayBuffer\u001b[39m()"
            ]
          },
          "execution_count": 3,
          "metadata": {},
          "output_type": "execute_result"
        }
      ],
      "source": [
        "var arrayBuff = mutable.ArrayBuffer.empty[Int]"
      ]
    },
    {
      "cell_type": "code",
      "execution_count": null,
      "metadata": {
        "colab": {
          "base_uri": "https://localhost:8080/"
        },
        "id": "SyJ7DKa88UQ0",
        "outputId": "4672bd51-fd0b-41ef-8af8-58e2f36768cf"
      },
      "outputs": [
        {
          "data": {
            "text/plain": [
              "\u001b[36mres3\u001b[39m: \u001b[32mmutable\u001b[39m.\u001b[32mArrayBuffer\u001b[39m[\u001b[32mInt\u001b[39m] = \u001b[33mArrayBuffer\u001b[39m(\u001b[32m1\u001b[39m)"
            ]
          },
          "execution_count": 4,
          "metadata": {},
          "output_type": "execute_result"
        }
      ],
      "source": [
        "arrayBuff += 1"
      ]
    },
    {
      "cell_type": "code",
      "execution_count": null,
      "metadata": {
        "colab": {
          "base_uri": "https://localhost:8080/"
        },
        "id": "wKKeA8RC8Yog",
        "outputId": "3c1ee52b-eaa1-44c8-b618-ad6e10701029"
      },
      "outputs": [
        {
          "data": {
            "text/plain": [
              "\u001b[36mres12\u001b[39m: \u001b[32mmutable\u001b[39m.\u001b[32mArrayBuffer\u001b[39m[\u001b[32mInt\u001b[39m] = \u001b[33mArrayBuffer\u001b[39m(\u001b[32m4\u001b[39m, \u001b[32m2\u001b[39m, \u001b[32m3\u001b[39m, \u001b[32m4\u001b[39m)"
            ]
          },
          "execution_count": 13,
          "metadata": {},
          "output_type": "execute_result"
        }
      ],
      "source": [
        "arrayBuff ++= List(2,3,4)"
      ]
    },
    {
      "cell_type": "code",
      "execution_count": null,
      "metadata": {
        "colab": {
          "base_uri": "https://localhost:8080/"
        },
        "id": "zTfbGy_t8ekZ",
        "outputId": "0e6f5e59-298a-45a8-ea55-c9aba89e2f39"
      },
      "outputs": [
        {
          "data": {
            "text/plain": [
              "\u001b[36mres5\u001b[39m: \u001b[32mmutable\u001b[39m.\u001b[32mArrayBuffer\u001b[39m[\u001b[32mInt\u001b[39m] = \u001b[33mArrayBuffer\u001b[39m(\u001b[32m1\u001b[39m, \u001b[32m3\u001b[39m, \u001b[32m4\u001b[39m)"
            ]
          },
          "execution_count": 6,
          "metadata": {},
          "output_type": "execute_result"
        }
      ],
      "source": [
        "arrayBuff -= 2"
      ]
    },
    {
      "cell_type": "code",
      "execution_count": null,
      "metadata": {
        "colab": {
          "base_uri": "https://localhost:8080/"
        },
        "id": "cX23D1Pi8hR1",
        "outputId": "451dfdca-6eb8-4af6-ca31-d348447a5e6f"
      },
      "outputs": [
        {
          "data": {
            "text/plain": [
              "\u001b[36mres6\u001b[39m: \u001b[32mmutable\u001b[39m.\u001b[32mArrayBuffer\u001b[39m[\u001b[32mInt\u001b[39m] = \u001b[33mArrayBuffer\u001b[39m(\u001b[32m4\u001b[39m)"
            ]
          },
          "execution_count": 7,
          "metadata": {},
          "output_type": "execute_result"
        }
      ],
      "source": [
        "arrayBuff --= List(1,3)"
      ]
    },
    {
      "cell_type": "markdown",
      "metadata": {
        "id": "PdHfoLve87l-"
      },
      "source": [
        "# ListBuffer"
      ]
    },
    {
      "cell_type": "code",
      "execution_count": null,
      "metadata": {
        "colab": {
          "base_uri": "https://localhost:8080/"
        },
        "id": "mVXel_TK87Bc",
        "outputId": "3ec1c368-5869-4f1b-cfec-46e6bc5a7ff7"
      },
      "outputs": [
        {
          "data": {
            "text/plain": [
              "\u001b[36mlistBuff\u001b[39m: \u001b[32mmutable\u001b[39m.\u001b[32mListBuffer\u001b[39m[\u001b[32mInt\u001b[39m] = \u001b[33mListBuffer\u001b[39m()"
            ]
          },
          "execution_count": 8,
          "metadata": {},
          "output_type": "execute_result"
        }
      ],
      "source": [
        "var listBuff = mutable.ListBuffer.empty[Int]"
      ]
    },
    {
      "cell_type": "code",
      "execution_count": null,
      "metadata": {
        "colab": {
          "base_uri": "https://localhost:8080/"
        },
        "id": "P79Svsmm9F4U",
        "outputId": "0684ee45-158a-49c2-837b-3c140334504d"
      },
      "outputs": [
        {
          "data": {
            "text/plain": [
              "\u001b[36mres8\u001b[39m: \u001b[32mmutable\u001b[39m.\u001b[32mListBuffer\u001b[39m[\u001b[32mInt\u001b[39m] = \u001b[33mListBuffer\u001b[39m(\u001b[32m1\u001b[39m)"
            ]
          },
          "execution_count": 9,
          "metadata": {},
          "output_type": "execute_result"
        }
      ],
      "source": [
        "listBuff += 1\n",
        "// listBuff.addOne()"
      ]
    },
    {
      "cell_type": "code",
      "execution_count": null,
      "metadata": {
        "colab": {
          "base_uri": "https://localhost:8080/"
        },
        "id": "6s4K8MfH9KTb",
        "outputId": "297dd863-dbf5-45ef-902b-b805ff81ee19"
      },
      "outputs": [
        {
          "data": {
            "text/plain": [
              "\u001b[36mres9\u001b[39m: \u001b[32mmutable\u001b[39m.\u001b[32mListBuffer\u001b[39m[\u001b[32mInt\u001b[39m] = \u001b[33mListBuffer\u001b[39m(\u001b[32m1\u001b[39m, \u001b[32m2\u001b[39m, \u001b[32m3\u001b[39m, \u001b[32m4\u001b[39m)"
            ]
          },
          "execution_count": 10,
          "metadata": {},
          "output_type": "execute_result"
        }
      ],
      "source": [
        "listBuff ++= List(2,3,4)\n",
        "// listBuff.addAll()"
      ]
    },
    {
      "cell_type": "code",
      "execution_count": null,
      "metadata": {
        "colab": {
          "base_uri": "https://localhost:8080/"
        },
        "id": "9XsGquL19Vhr",
        "outputId": "f0b7c9ed-e814-404e-f5d4-80fd15b70234"
      },
      "outputs": [
        {
          "data": {
            "text/plain": [
              "\u001b[36mres10\u001b[39m: \u001b[32mmutable\u001b[39m.\u001b[32mListBuffer\u001b[39m[\u001b[32mInt\u001b[39m] = \u001b[33mListBuffer\u001b[39m(\u001b[32m1\u001b[39m, \u001b[32m3\u001b[39m, \u001b[32m4\u001b[39m)"
            ]
          },
          "execution_count": 11,
          "metadata": {},
          "output_type": "execute_result"
        }
      ],
      "source": [
        "listBuff -= 2\n",
        "// buffer.subtractOne()"
      ]
    },
    {
      "cell_type": "code",
      "execution_count": null,
      "metadata": {
        "colab": {
          "base_uri": "https://localhost:8080/"
        },
        "id": "NqtKvFNI9ap9",
        "outputId": "5ee34a96-82c6-4265-8e60-8123e4c5c402"
      },
      "outputs": [
        {
          "data": {
            "text/plain": [
              "\u001b[36mres11\u001b[39m: \u001b[32mmutable\u001b[39m.\u001b[32mListBuffer\u001b[39m[\u001b[32mInt\u001b[39m] = \u001b[33mListBuffer\u001b[39m(\u001b[32m4\u001b[39m)"
            ]
          },
          "execution_count": 12,
          "metadata": {},
          "output_type": "execute_result"
        }
      ],
      "source": [
        "listBuff --= List(1,3)\n",
        "// listBuff.subtractAll(List(1,3))"
      ]
    },
    {
      "cell_type": "markdown",
      "metadata": {
        "id": "nJXl-EOv-n5j"
      },
      "source": [
        "# Stacks"
      ]
    },
    {
      "cell_type": "code",
      "execution_count": null,
      "metadata": {
        "colab": {
          "base_uri": "https://localhost:8080/"
        },
        "id": "EiXtzYyt-nZi",
        "outputId": "899a8d4c-0c7f-471b-b1e0-e970ae2dc2bd"
      },
      "outputs": [
        {
          "data": {
            "text/plain": [
              "\u001b[36mnewStack\u001b[39m: \u001b[32mmutable\u001b[39m.\u001b[32mStack\u001b[39m[\u001b[32mString\u001b[39m] = \u001b[33mStack\u001b[39m()"
            ]
          },
          "execution_count": 34,
          "metadata": {},
          "output_type": "execute_result"
        }
      ],
      "source": [
        "var newStack = new mutable.Stack[String]()"
      ]
    },
    {
      "cell_type": "code",
      "execution_count": null,
      "metadata": {
        "colab": {
          "base_uri": "https://localhost:8080/"
        },
        "id": "iC1wvgtn-wo4",
        "outputId": "3ef3c112-e6fb-4287-9d4d-61b09be4be3f"
      },
      "outputs": [
        {
          "data": {
            "text/plain": [
              "\u001b[36mres22\u001b[39m: \u001b[32mmutable\u001b[39m.\u001b[32mStack\u001b[39m[\u001b[32mString\u001b[39m] = \u001b[33mStack\u001b[39m(\u001b[32m\"Main\"\u001b[39m, \u001b[32m\"Main\"\u001b[39m)"
            ]
          },
          "execution_count": 23,
          "metadata": {},
          "output_type": "execute_result"
        }
      ],
      "source": [
        "newStack.push(\"Main\")"
      ]
    },
    {
      "cell_type": "code",
      "execution_count": null,
      "metadata": {
        "colab": {
          "base_uri": "https://localhost:8080/"
        },
        "id": "Ipb-9DLd-yLH",
        "outputId": "a6bf0757-a2df-430e-cf63-23c5e729cd3b"
      },
      "outputs": [
        {
          "data": {
            "text/plain": [
              "\u001b[36mres23\u001b[39m: \u001b[32mmutable\u001b[39m.\u001b[32mStack\u001b[39m[\u001b[32mString\u001b[39m] = \u001b[33mStack\u001b[39m(\u001b[32m\"Function 1\"\u001b[39m, \u001b[32m\"Main\"\u001b[39m, \u001b[32m\"Main\"\u001b[39m)"
            ]
          },
          "execution_count": 24,
          "metadata": {},
          "output_type": "execute_result"
        }
      ],
      "source": [
        "newStack.push(\"Function 1\")"
      ]
    },
    {
      "cell_type": "code",
      "execution_count": null,
      "metadata": {
        "colab": {
          "base_uri": "https://localhost:8080/"
        },
        "id": "20Qd9--K_P4c",
        "outputId": "d0e9a8d9-b5c4-4321-cd27-3d4828e728e7"
      },
      "outputs": [
        {
          "data": {
            "text/plain": [
              "\u001b[36mres24\u001b[39m: \u001b[32mmutable\u001b[39m.\u001b[32mStack\u001b[39m[\u001b[32mString\u001b[39m] = \u001b[33mStack\u001b[39m(\n",
              "  \u001b[32m\"Function 2 called from Function 1\"\u001b[39m,\n",
              "  \u001b[32m\"Function 1\"\u001b[39m,\n",
              "  \u001b[32m\"Main\"\u001b[39m,\n",
              "  \u001b[32m\"Main\"\u001b[39m\n",
              ")"
            ]
          },
          "execution_count": 25,
          "metadata": {},
          "output_type": "execute_result"
        }
      ],
      "source": [
        "newStack.push(\"Function 2 called from Function 1\")"
      ]
    },
    {
      "cell_type": "code",
      "execution_count": null,
      "metadata": {
        "colab": {
          "base_uri": "https://localhost:8080/"
        },
        "id": "t8BwrA7h_dcQ",
        "outputId": "f6896bda-3c4f-4859-f4aa-c5051c737516"
      },
      "outputs": [
        {
          "data": {
            "text/plain": [
              "\u001b[36mres25_0\u001b[39m: \u001b[32mString\u001b[39m = \u001b[32m\"Function 2 called from Function 1\"\u001b[39m\n",
              "\u001b[36mres25_1\u001b[39m: \u001b[32mString\u001b[39m = \u001b[32m\"Function 2 called from Function 1\"\u001b[39m\n",
              "\u001b[36mres25_2\u001b[39m: \u001b[32mString\u001b[39m = \u001b[32m\"Function 1\"\u001b[39m"
            ]
          },
          "execution_count": 26,
          "metadata": {},
          "output_type": "execute_result"
        }
      ],
      "source": [
        "newStack.top\n",
        "newStack.pop\n",
        "newStack.top"
      ]
    },
    {
      "cell_type": "markdown",
      "metadata": {
        "id": "Su130CMTCLBC"
      },
      "source": [
        "# Mutable Maps and Sets"
      ]
    },
    {
      "cell_type": "markdown",
      "metadata": {
        "id": "xss2HPTrCQay"
      },
      "source": [
        "## Maps"
      ]
    },
    {
      "cell_type": "code",
      "execution_count": null,
      "metadata": {
        "colab": {
          "base_uri": "https://localhost:8080/"
        },
        "id": "_FHRmCXnCPao",
        "outputId": "1ff3ec53-f639-4703-a61d-1931e71e243c"
      },
      "outputs": [
        {
          "data": {
            "text/plain": [
              "\u001b[36mfruitMap\u001b[39m: \u001b[32mmutable\u001b[39m.\u001b[32mMap\u001b[39m[\u001b[32mString\u001b[39m, \u001b[32mDouble\u001b[39m] = \u001b[33mMap\u001b[39m(\n",
              "  \u001b[32m\"apples\"\u001b[39m -> \u001b[32m1.99\u001b[39m,\n",
              "  \u001b[32m\"Pears\"\u001b[39m -> \u001b[32m3.99\u001b[39m,\n",
              "  \u001b[32m\"Oranges\"\u001b[39m -> \u001b[32m2.99\u001b[39m\n",
              ")"
            ]
          },
          "execution_count": 27,
          "metadata": {},
          "output_type": "execute_result"
        }
      ],
      "source": [
        "var fruitMap = mutable.Map(\"apples\" -> 1.99, \"Oranges\" -> 2.99, \"Pears\" -> 3.99) "
      ]
    },
    {
      "cell_type": "code",
      "execution_count": null,
      "metadata": {
        "colab": {
          "base_uri": "https://localhost:8080/"
        },
        "id": "I33yLm0GCeKc",
        "outputId": "bdcf8f3d-a0eb-4b23-fa06-a3023d3def88"
      },
      "outputs": [
        {
          "data": {
            "text/plain": [
              "\u001b[36mres27\u001b[39m: \u001b[32mmutable\u001b[39m.\u001b[32mMap\u001b[39m[\u001b[32mString\u001b[39m, \u001b[32mDouble\u001b[39m] = \u001b[33mMap\u001b[39m(\n",
              "  \u001b[32m\"bananas\"\u001b[39m -> \u001b[32m0.99\u001b[39m,\n",
              "  \u001b[32m\"apples\"\u001b[39m -> \u001b[32m1.99\u001b[39m,\n",
              "  \u001b[32m\"Pears\"\u001b[39m -> \u001b[32m3.99\u001b[39m,\n",
              "  \u001b[32m\"Oranges\"\u001b[39m -> \u001b[32m2.99\u001b[39m\n",
              ")"
            ]
          },
          "execution_count": 28,
          "metadata": {},
          "output_type": "execute_result"
        }
      ],
      "source": [
        "fruitMap += (\"bananas\" -> 0.99)"
      ]
    },
    {
      "cell_type": "code",
      "execution_count": null,
      "metadata": {
        "colab": {
          "base_uri": "https://localhost:8080/"
        },
        "id": "raplxKn5CjUs",
        "outputId": "2cbabff4-0257-4a21-a1a8-e1a2c0adde15"
      },
      "outputs": [
        {
          "data": {
            "text/plain": [
              "\u001b[36mres28\u001b[39m: \u001b[32mmutable\u001b[39m.\u001b[32mMap\u001b[39m[\u001b[32mString\u001b[39m, \u001b[32mDouble\u001b[39m] = \u001b[33mMap\u001b[39m(\n",
              "  \u001b[32m\"bananas\"\u001b[39m -> \u001b[32m0.99\u001b[39m,\n",
              "  \u001b[32m\"Pears\"\u001b[39m -> \u001b[32m3.99\u001b[39m,\n",
              "  \u001b[32m\"Oranges\"\u001b[39m -> \u001b[32m2.99\u001b[39m\n",
              ")"
            ]
          },
          "execution_count": 29,
          "metadata": {},
          "output_type": "execute_result"
        }
      ],
      "source": [
        "fruitMap -= (\"apples\")"
      ]
    },
    {
      "cell_type": "markdown",
      "metadata": {
        "id": "1_2qaGV_CyEb"
      },
      "source": [
        "## Sets"
      ]
    },
    {
      "cell_type": "code",
      "execution_count": null,
      "metadata": {
        "colab": {
          "base_uri": "https://localhost:8080/"
        },
        "id": "K-tzlpsVDIGE",
        "outputId": "8f9ef667-7e28-4395-ed58-65e89eb120e0"
      },
      "outputs": [
        {
          "data": {
            "text/plain": [
              "\u001b[36mfruitSet\u001b[39m: \u001b[32mmutable\u001b[39m.\u001b[32mSet\u001b[39m[\u001b[32mString\u001b[39m] = \u001b[33mSet\u001b[39m(\u001b[32m\"pears\"\u001b[39m, \u001b[32m\"oranges\"\u001b[39m, \u001b[32m\"apples\"\u001b[39m)"
            ]
          },
          "execution_count": 30,
          "metadata": {},
          "output_type": "execute_result"
        }
      ],
      "source": [
        "var fruitSet = mutable.Set(\"apples\", \"oranges\", \"pears\")"
      ]
    },
    {
      "cell_type": "code",
      "execution_count": null,
      "metadata": {
        "colab": {
          "base_uri": "https://localhost:8080/"
        },
        "id": "iDDCMGcKDRh_",
        "outputId": "4874b124-4828-42d8-9376-fd875afaae18"
      },
      "outputs": [
        {
          "data": {
            "text/plain": [
              "\u001b[36mres30\u001b[39m: \u001b[32mmutable\u001b[39m.\u001b[32mSet\u001b[39m[\u001b[32mString\u001b[39m] = \u001b[33mSet\u001b[39m(\u001b[32m\"pears\"\u001b[39m, \u001b[32m\"oranges\"\u001b[39m, \u001b[32m\"bananas\"\u001b[39m, \u001b[32m\"apples\"\u001b[39m)"
            ]
          },
          "execution_count": 31,
          "metadata": {},
          "output_type": "execute_result"
        }
      ],
      "source": [
        "fruitSet += \"bananas\""
      ]
    },
    {
      "cell_type": "code",
      "execution_count": null,
      "metadata": {
        "colab": {
          "base_uri": "https://localhost:8080/"
        },
        "id": "ThI_0t1PDVBm",
        "outputId": "bb47b035-5af7-4931-99f9-d205a30eee18"
      },
      "outputs": [
        {
          "data": {
            "text/plain": [
              "\u001b[36mres31\u001b[39m: \u001b[32mmutable\u001b[39m.\u001b[32mSet\u001b[39m[\u001b[32mString\u001b[39m] = \u001b[33mSet\u001b[39m(\u001b[32m\"oranges\"\u001b[39m, \u001b[32m\"bananas\"\u001b[39m, \u001b[32m\"apples\"\u001b[39m)"
            ]
          },
          "execution_count": 32,
          "metadata": {},
          "output_type": "execute_result"
        }
      ],
      "source": [
        "fruitSet -= \"pears\""
      ]
    }
  ],
  "metadata": {
    "colab": {
      "collapsed_sections": [],
      "provenance": [],
      "include_colab_link": true
    },
    "gpuClass": "standard",
    "kernelspec": {
      "display_name": "Scala",
      "language": "scala",
      "name": "scala"
    }
  },
  "nbformat": 4,
  "nbformat_minor": 0
}
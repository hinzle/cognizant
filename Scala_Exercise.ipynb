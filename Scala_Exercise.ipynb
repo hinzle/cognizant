{
  "cells": [
    {
      "cell_type": "markdown",
      "metadata": {
        "id": "up2G8zDbhsEN"
      },
      "source": [
        "# Scala in Colab"
      ]
    },
    {
      "cell_type": "markdown",
      "metadata": {
        "id": "sL1Vq6r6J6dA"
      },
      "source": [
        "## Install the Scala Kernel\n",
        "If you get a \"scala\" kernel not recognized warning when loading up the notebook for the first time, start by running the two cells below. Once you are done **reload the page** to load the notebook in the installed Scala kernel."
      ]
    },
    {
      "cell_type": "code",
      "execution_count": null,
      "metadata": {
        "id": "RoCcdvTCAqeR"
      },
      "outputs": [],
      "source": [
        "// %%shell\n",
        "// SCALA_VERSION=2.12.8 ALMOND_VERSION=0.3.0+16-548dc10f-SNAPSHOT\n",
        "// curl -Lo coursier https://git.io/coursier-cli\n",
        "// chmod +x coursier\n",
        "// ./coursier bootstrap \\\n",
        "//     -r jitpack -r sonatype:snapshots \\\n",
        "//     -i user -I user:sh.almond:scala-kernel-api_$SCALA_VERSION:$ALMOND_VERSION \\\n",
        "//     sh.almond:scala-kernel_$SCALA_VERSION:$ALMOND_VERSION \\\n",
        "//     --sources --default=true \\\n",
        "//     -o almond-snapshot --embed-files=false\n",
        "// rm coursier\n",
        "// ./almond-snapshot --install --global --force\n",
        "// rm almond-snapshot"
      ]
    },
    {
      "cell_type": "code",
      "execution_count": null,
      "metadata": {
        "colab": {
          "base_uri": "https://localhost:8080/"
        },
        "id": "BZchIo9sArF4",
        "outputId": "ce8e7880-822c-4bcf-e7b9-556d8e091c2d"
      },
      "outputs": [
        {
          "output_type": "execute_result",
          "data": {
            "text/plain": []
          },
          "metadata": {},
          "execution_count": 3
        }
      ],
      "source": [
        "// %%shell\n",
        "// echo \"{\n",
        "//   \\\"language\\\" : \\\"scala\\\",\n",
        "//   \\\"display_name\\\" : \\\"Scala\\\",\n",
        "//   \\\"argv\\\" : [\n",
        "//     \\\"bash\\\",\n",
        "//     \\\"-c\\\",\n",
        "//     \\\"env LD_PRELOAD=/usr/lib/x86_64-linux-gnu/libpython3.6m.so:\\$LD_PRELOAD java -jar /usr/local/share/jupyter/kernels/scala/launcher.jar --connection-file {connection_file}\\\"\n",
        "//   ]\n",
        "// }\" > /usr/local/share/jupyter/kernels/scala/kernel.json"
      ]
    },
    {
      "cell_type": "markdown",
      "metadata": {
        "id": "kQe78pN0OSuq"
      },
      "source": [
        "## Hello World!"
      ]
    },
    {
      "cell_type": "code",
      "execution_count": 1,
      "metadata": {
        "colab": {
          "base_uri": "https://localhost:8080/"
        },
        "id": "a9z0PxRg_iOp",
        "outputId": "2c1dedb9-c50a-4e10-ce89-178fb15255b8"
      },
      "outputs": [
        {
          "output_type": "stream",
          "name": "stdout",
          "text": [
            "Hello, world!\n"
          ]
        }
      ],
      "source": [
        "println(\"Hello, world!\")"
      ]
    },
    {
      "cell_type": "markdown",
      "metadata": {
        "id": "0afa2431"
      },
      "source": [
        "# Part 1 - Intro to Scala Collections - Exercises"
      ]
    },
    {
      "cell_type": "markdown",
      "metadata": {
        "id": "9134b0f5"
      },
      "source": [
        "## Exercise 1"
      ]
    },
    {
      "cell_type": "markdown",
      "metadata": {
        "id": "f5635d8e"
      },
      "source": [
        "#### Task 1\n",
        "##### Create a list that contains the elements 1,2,3,4,5.\n",
        "##### Name the list List1.\n",
        "\n",
        "#### Result:"
      ]
    },
    {
      "cell_type": "code",
      "execution_count": 2,
      "metadata": {
        "colab": {
          "base_uri": "https://localhost:8080/"
        },
        "id": "7233dd46",
        "outputId": "22b77408-8816-430c-9e23-3956dc30d5e7"
      },
      "outputs": [
        {
          "output_type": "execute_result",
          "data": {
            "text/plain": [
              "\u001b[36mList1\u001b[39m: \u001b[32mList\u001b[39m[\u001b[32mInt\u001b[39m] = \u001b[33mList\u001b[39m(\u001b[32m1\u001b[39m, \u001b[32m2\u001b[39m, \u001b[32m3\u001b[39m, \u001b[32m4\u001b[39m, \u001b[32m5\u001b[39m)"
            ]
          },
          "metadata": {},
          "execution_count": 2
        }
      ],
      "source": [
        "var List1 = List(1,2,3,4,5)"
      ]
    },
    {
      "cell_type": "markdown",
      "metadata": {
        "id": "d984e12b"
      },
      "source": [
        "#### Task 2\n",
        "##### Create a list that contains the elements Capital, One, Data, Science.\n",
        "##### Name the list List2.\n",
        "\n",
        "#### Result:"
      ]
    },
    {
      "cell_type": "code",
      "execution_count": 3,
      "metadata": {
        "colab": {
          "base_uri": "https://localhost:8080/"
        },
        "id": "5896e9f0",
        "outputId": "38d09a59-091d-4911-901c-7b68fed0543c"
      },
      "outputs": [
        {
          "output_type": "execute_result",
          "data": {
            "text/plain": [
              "\u001b[36mList2\u001b[39m: \u001b[32mList\u001b[39m[\u001b[32mString\u001b[39m] = \u001b[33mList\u001b[39m(\u001b[32m\"Capital\"\u001b[39m, \u001b[32m\"One\"\u001b[39m, \u001b[32m\"Data\"\u001b[39m, \u001b[32m\"Science\"\u001b[39m)"
            ]
          },
          "metadata": {},
          "execution_count": 3
        }
      ],
      "source": [
        "var List2 = List(\"Capital\", \"One\", \"Data\", \"Science\")"
      ]
    },
    {
      "cell_type": "markdown",
      "metadata": {
        "id": "ef7fc5d8"
      },
      "source": [
        "#### Task 3\n",
        "##### Multiply each each element in List1 by 2.\n",
        "\n",
        "#### Result:"
      ]
    },
    {
      "cell_type": "code",
      "execution_count": 4,
      "metadata": {
        "colab": {
          "base_uri": "https://localhost:8080/"
        },
        "id": "c35b60a7",
        "outputId": "82e0ff3f-6e22-48a9-f6bf-f92268504ef1"
      },
      "outputs": [
        {
          "output_type": "execute_result",
          "data": {
            "text/plain": [
              "\u001b[36mres3\u001b[39m: \u001b[32mList\u001b[39m[\u001b[32mInt\u001b[39m] = \u001b[33mList\u001b[39m(\u001b[32m2\u001b[39m, \u001b[32m4\u001b[39m, \u001b[32m6\u001b[39m, \u001b[32m8\u001b[39m, \u001b[32m10\u001b[39m)"
            ]
          },
          "metadata": {},
          "execution_count": 4
        }
      ],
      "source": [
        "List1.map(_ * 2)"
      ]
    },
    {
      "cell_type": "markdown",
      "metadata": {
        "id": "5aff3875"
      },
      "source": [
        "#### Task 4\n",
        "##### Create a set with the elements 1,2,3,3,4,4.\n",
        "##### Which elements are actually included in the set?\n",
        "\n",
        "#### Result:"
      ]
    },
    {
      "cell_type": "code",
      "execution_count": 5,
      "metadata": {
        "colab": {
          "base_uri": "https://localhost:8080/"
        },
        "id": "77866b77",
        "outputId": "12b2bf18-d78e-4a4e-cc7d-d8597146f22e"
      },
      "outputs": [
        {
          "output_type": "execute_result",
          "data": {
            "text/plain": [
              "\u001b[36mnumberSet\u001b[39m: \u001b[32mSet\u001b[39m[\u001b[32mInt\u001b[39m] = \u001b[33mSet\u001b[39m(\u001b[32m1\u001b[39m, \u001b[32m2\u001b[39m, \u001b[32m3\u001b[39m, \u001b[32m4\u001b[39m)"
            ]
          },
          "metadata": {},
          "execution_count": 5
        }
      ],
      "source": [
        "var numberSet = Set(1,2,3,3,4,4)"
      ]
    },
    {
      "cell_type": "markdown",
      "metadata": {
        "id": "f937e17d"
      },
      "source": [
        "#### Task 5\n",
        "##### Create a map that has the following elements: Data Scientist -> 1000, Data Analyst -> 100, Data Engineer -> 500.\n",
        "##### Name the map Map1.\n",
        "\n",
        "#### Result:"
      ]
    },
    {
      "cell_type": "code",
      "execution_count": 6,
      "metadata": {
        "colab": {
          "base_uri": "https://localhost:8080/"
        },
        "id": "675d65b9",
        "outputId": "6a6044a3-ce1c-4801-f59e-c785e975f087"
      },
      "outputs": [
        {
          "output_type": "execute_result",
          "data": {
            "text/plain": [
              "\u001b[36mdsMap\u001b[39m: \u001b[32mMap\u001b[39m[\u001b[32mString\u001b[39m, \u001b[32mInt\u001b[39m] = \u001b[33mMap\u001b[39m(\n",
              "  \u001b[32m\"Data Scientist\"\u001b[39m -> \u001b[32m1000\u001b[39m,\n",
              "  \u001b[32m\"Data Engineer\"\u001b[39m -> \u001b[32m500\u001b[39m,\n",
              "  \u001b[32m\"Data Analyst\"\u001b[39m -> \u001b[32m100\u001b[39m\n",
              ")"
            ]
          },
          "metadata": {},
          "execution_count": 6
        }
      ],
      "source": [
        "var dsMap = Map(\"Data Scientist\" -> 1000, \"Data Engineer\" -> 500, \"Data Analyst\" -> 100)"
      ]
    },
    {
      "cell_type": "markdown",
      "metadata": {
        "id": "de70721e"
      },
      "source": [
        "#### Task 6\n",
        "##### Create both an immutable and a mutable set that contain the elements 1,2,3,4\n",
        "\n",
        "#### Result:"
      ]
    },
    {
      "cell_type": "code",
      "execution_count": 7,
      "metadata": {
        "colab": {
          "base_uri": "https://localhost:8080/"
        },
        "id": "7ba82f5a",
        "outputId": "16c0d593-18fe-4e61-cc6c-831e33cbd4ef"
      },
      "outputs": [
        {
          "output_type": "execute_result",
          "data": {
            "text/plain": [
              "\u001b[36mnumberSet1\u001b[39m: \u001b[32mSet\u001b[39m[\u001b[32mInt\u001b[39m] = \u001b[33mSet\u001b[39m(\u001b[32m1\u001b[39m, \u001b[32m2\u001b[39m, \u001b[32m3\u001b[39m, \u001b[32m4\u001b[39m)"
            ]
          },
          "metadata": {},
          "execution_count": 7
        }
      ],
      "source": [
        "var numberSet1 = Set(1,2,3,3,4,4)"
      ]
    },
    {
      "cell_type": "code",
      "source": [
        "import scala.collection.mutable"
      ],
      "metadata": {
        "id": "oLi8MjysERi6",
        "outputId": "6fca63fe-cca6-432d-d066-3700fdfc448a",
        "colab": {
          "base_uri": "https://localhost:8080/"
        }
      },
      "execution_count": 8,
      "outputs": [
        {
          "output_type": "execute_result",
          "data": {
            "text/plain": [
              "\u001b[32mimport \u001b[39m\u001b[36mscala.collection.mutable\u001b[39m"
            ]
          },
          "metadata": {},
          "execution_count": 8
        }
      ]
    },
    {
      "cell_type": "code",
      "execution_count": 9,
      "metadata": {
        "colab": {
          "base_uri": "https://localhost:8080/"
        },
        "id": "n3lJo0R5bccf",
        "outputId": "3784c75d-b993-402b-d915-675f8d3bdfbf"
      },
      "outputs": [
        {
          "output_type": "execute_result",
          "data": {
            "text/plain": [
              "\u001b[36mnumberSet2\u001b[39m: \u001b[32mmutable\u001b[39m.\u001b[32mSet\u001b[39m[\u001b[32mInt\u001b[39m] = \u001b[33mSet\u001b[39m(\u001b[32m1\u001b[39m, \u001b[32m2\u001b[39m, \u001b[32m3\u001b[39m, \u001b[32m4\u001b[39m)"
            ]
          },
          "metadata": {},
          "execution_count": 9
        }
      ],
      "source": [
        "var numberSet2 = mutable.Set(1,2,3,3,4,4)"
      ]
    },
    {
      "cell_type": "markdown",
      "metadata": {
        "id": "8e88754a"
      },
      "source": [
        "## Exercise 2"
      ]
    },
    {
      "cell_type": "markdown",
      "metadata": {
        "id": "b20ed375"
      },
      "source": [
        "#### Task 1\n",
        "##### Create a List that contaisn the elements 1,2,3,4,5,6,7,8,9,10.\n",
        "##### Name the List List1.\n",
        "\n",
        "#### Result:"
      ]
    },
    {
      "cell_type": "code",
      "execution_count": 10,
      "metadata": {
        "colab": {
          "base_uri": "https://localhost:8080/"
        },
        "id": "bc11f1bb",
        "outputId": "23e72503-9210-4c52-dbb6-5193bafe0509"
      },
      "outputs": [
        {
          "output_type": "execute_result",
          "data": {
            "text/plain": [
              "\u001b[36mList1\u001b[39m: \u001b[32mList\u001b[39m[\u001b[32mInt\u001b[39m] = \u001b[33mList\u001b[39m(\u001b[32m1\u001b[39m, \u001b[32m2\u001b[39m, \u001b[32m3\u001b[39m, \u001b[32m4\u001b[39m, \u001b[32m5\u001b[39m, \u001b[32m6\u001b[39m, \u001b[32m7\u001b[39m, \u001b[32m8\u001b[39m, \u001b[32m9\u001b[39m, \u001b[32m10\u001b[39m)"
            ]
          },
          "metadata": {},
          "execution_count": 10
        }
      ],
      "source": [
        "var List1 = List(1,2,3,4,5,6,7,8,9,10)"
      ]
    },
    {
      "cell_type": "markdown",
      "metadata": {
        "id": "3d0a0e86"
      },
      "source": [
        "#### Task 2\n",
        "##### Access the third element of List1\n",
        "\n",
        "#### Result: "
      ]
    },
    {
      "cell_type": "code",
      "execution_count": 11,
      "metadata": {
        "colab": {
          "base_uri": "https://localhost:8080/"
        },
        "id": "d35fa591",
        "outputId": "135a470f-855e-4926-faf7-db1c17f6f1d9"
      },
      "outputs": [
        {
          "output_type": "execute_result",
          "data": {
            "text/plain": [
              "\u001b[36mres10\u001b[39m: \u001b[32mInt\u001b[39m = \u001b[32m3\u001b[39m"
            ]
          },
          "metadata": {},
          "execution_count": 11
        }
      ],
      "source": [
        "List1(2)"
      ]
    },
    {
      "cell_type": "markdown",
      "metadata": {
        "id": "c8a1cb27"
      },
      "source": [
        "#### Task 3\n",
        "##### Check if List1 contains the element 11\n",
        "\n",
        "#### Result:"
      ]
    },
    {
      "cell_type": "code",
      "execution_count": null,
      "metadata": {
        "colab": {
          "background_save": true
        },
        "id": "c84899eb"
      },
      "outputs": [],
      "source": []
    },
    {
      "cell_type": "markdown",
      "metadata": {
        "id": "5419e2a1"
      },
      "source": [
        "#### Task 4\n",
        "##### Filter List1 for all the elements with a value lower than 7\n",
        "\n",
        "#### Result:"
      ]
    },
    {
      "cell_type": "code",
      "execution_count": null,
      "metadata": {
        "colab": {
          "background_save": true
        },
        "id": "9834796f"
      },
      "outputs": [],
      "source": []
    },
    {
      "cell_type": "markdown",
      "metadata": {
        "id": "0621e2fa"
      },
      "source": [
        "#### Task 5\n",
        "##### Sort List1\n",
        "\n",
        "#### Result:"
      ]
    },
    {
      "cell_type": "code",
      "execution_count": null,
      "metadata": {
        "colab": {
          "background_save": true
        },
        "id": "244cb58b"
      },
      "outputs": [],
      "source": []
    },
    {
      "cell_type": "markdown",
      "metadata": {
        "id": "138f8086"
      },
      "source": [
        "#### Task 6\n",
        "##### Create a list with elements 2,4,6,8,9. Name the list List2.\n",
        "##### Check if all elements of List2 can be divided by 2 with a reminder of 0.\n",
        "\n",
        "#### Result: "
      ]
    },
    {
      "cell_type": "code",
      "execution_count": null,
      "metadata": {
        "colab": {
          "background_save": true
        },
        "id": "c4dc36cb"
      },
      "outputs": [],
      "source": []
    },
    {
      "cell_type": "markdown",
      "metadata": {
        "id": "7f899df2"
      },
      "source": [
        "#### Task 7\n",
        "##### Create a map with the following elements: New York -> 85, Los Angeles -> 75, Miami -> 90.\n",
        "##### Name the map Map1.\n",
        "##### Add the following elements to Map1: DC -> 85, Chicago -> 70 and name the resulting map Map2.\n",
        "\n",
        "#### Result:"
      ]
    },
    {
      "cell_type": "code",
      "execution_count": null,
      "metadata": {
        "colab": {
          "background_save": true
        },
        "id": "50832987"
      },
      "outputs": [],
      "source": []
    },
    {
      "cell_type": "markdown",
      "metadata": {
        "id": "75a913f0"
      },
      "source": [
        "#### Task 8\n",
        "##### Access the value for the key DC in Map2.\n",
        "##### Print the following sentence: It is {value for key DC} degrees in DC.\n",
        "\n",
        "#### Result:"
      ]
    },
    {
      "cell_type": "code",
      "execution_count": null,
      "metadata": {
        "colab": {
          "background_save": true
        },
        "id": "3541dd85"
      },
      "outputs": [],
      "source": []
    },
    {
      "cell_type": "markdown",
      "metadata": {
        "id": "fa341ed9"
      },
      "source": [
        "#### Task 9\n",
        "##### Create a set with the following elements: Monday, Tuesday, Wednesday, Thursday, Friday.\n",
        "##### Name the set Set1.\n",
        "##### Add the following elements to the set: Saturday, Sunday and name the resulting set Set2.\n",
        "\n",
        "#### Result:"
      ]
    },
    {
      "cell_type": "code",
      "execution_count": null,
      "metadata": {
        "colab": {
          "background_save": true
        },
        "id": "1428308d"
      },
      "outputs": [],
      "source": []
    },
    {
      "cell_type": "markdown",
      "metadata": {
        "id": "41d8cbd0"
      },
      "source": [
        "#### Task 10\n",
        "##### Take the intersection of Set1 and Set2.\n",
        "##### Take the union of Set1 and Set2.\n",
        "\n",
        "#### Result:"
      ]
    },
    {
      "cell_type": "code",
      "execution_count": null,
      "metadata": {
        "colab": {
          "background_save": true
        },
        "id": "84ac800c"
      },
      "outputs": [],
      "source": []
    },
    {
      "cell_type": "markdown",
      "metadata": {
        "id": "d3d9115e"
      },
      "source": [
        "## Exercise 3"
      ]
    },
    {
      "cell_type": "markdown",
      "metadata": {
        "id": "07c64b8b"
      },
      "source": [
        "#### Task 1\n",
        "##### Create an empty ArrayBuffer of type Double and name it Array_1.\n",
        "##### Add the element 0.3 to Array_1.\n",
        "\n",
        "#### Result:"
      ]
    },
    {
      "cell_type": "code",
      "execution_count": null,
      "metadata": {
        "colab": {
          "background_save": true
        },
        "id": "16148b36"
      },
      "outputs": [],
      "source": []
    },
    {
      "cell_type": "markdown",
      "metadata": {
        "id": "d4c672a0"
      },
      "source": [
        "#### Task 2\n",
        "##### Add the elements 0.5, 0.8 to Array_1.\n",
        "##### Remove element 0.3 from Array_1.\n",
        "\n",
        "#### Result:"
      ]
    },
    {
      "cell_type": "code",
      "execution_count": null,
      "metadata": {
        "colab": {
          "background_save": true
        },
        "id": "5b12573c"
      },
      "outputs": [],
      "source": []
    },
    {
      "cell_type": "markdown",
      "metadata": {
        "id": "01ebb096"
      },
      "source": [
        "#### Task 3\n",
        "##### Create an empty ListBuffer of type Byte and name it LBuffer_1.\n",
        "##### Add the element 123 to LBuffer_1.\n",
        "\n",
        "#### Result:"
      ]
    },
    {
      "cell_type": "code",
      "execution_count": null,
      "metadata": {
        "colab": {
          "background_save": true
        },
        "id": "6baea058"
      },
      "outputs": [],
      "source": []
    },
    {
      "cell_type": "markdown",
      "metadata": {
        "id": "30458c55"
      },
      "source": [
        "#### Task 4\n",
        "##### Add the elements 46, 79 to LBuffer_1.\n",
        "##### Remove elements 123, 46 from LBuffer_1.\n",
        "\n",
        "#### Result:"
      ]
    },
    {
      "cell_type": "code",
      "execution_count": null,
      "metadata": {
        "colab": {
          "background_save": true
        },
        "id": "c873723f"
      },
      "outputs": [],
      "source": []
    },
    {
      "cell_type": "markdown",
      "metadata": {
        "id": "1963c0ea"
      },
      "source": [
        "#### Task 5\n",
        "##### Create an empty stack that can hold elements of type String called Stack_1.\n",
        "##### Add the elements First one, Second one, Third one to Stack_1.\n",
        "\n",
        "#### Result:"
      ]
    },
    {
      "cell_type": "code",
      "execution_count": null,
      "metadata": {
        "colab": {
          "background_save": true
        },
        "id": "f4a991d4"
      },
      "outputs": [],
      "source": []
    },
    {
      "cell_type": "markdown",
      "metadata": {
        "id": "7370ea1f"
      },
      "source": [
        "#### Task 6\n",
        "##### Pop the last call from Stack_1.\n",
        "##### Pop the last call from Stack_1 again.\n",
        "##### Print the remaining call in Stack_1.\n",
        "\n",
        "#### Result:"
      ]
    },
    {
      "cell_type": "code",
      "execution_count": null,
      "metadata": {
        "colab": {
          "background_save": true
        },
        "id": "f4b3783c"
      },
      "outputs": [],
      "source": []
    },
    {
      "cell_type": "markdown",
      "metadata": {
        "id": "010862b5"
      },
      "source": [
        "#### Task 7\n",
        "##### Create a mutable map called MMap_1.\n",
        "##### Add the following elements to MMap_1: USA -> 330, Mexico -> 130, Canada -> 30\n",
        "\n",
        "#### Result: "
      ]
    },
    {
      "cell_type": "code",
      "execution_count": null,
      "metadata": {
        "colab": {
          "background_save": true
        },
        "id": "5f03ae4c"
      },
      "outputs": [],
      "source": []
    },
    {
      "cell_type": "markdown",
      "metadata": {
        "id": "6d79549d"
      },
      "source": [
        "#### Task 8\n",
        "##### Remove Canada -> 30 from the mutable map and add Canada -> 40 instead\n",
        "\n",
        "#### Result:"
      ]
    },
    {
      "cell_type": "code",
      "execution_count": null,
      "metadata": {
        "colab": {
          "background_save": true
        },
        "id": "923304eb"
      },
      "outputs": [],
      "source": []
    },
    {
      "cell_type": "markdown",
      "metadata": {
        "id": "2b0df602"
      },
      "source": [
        "#### Task 9\n",
        "##### Create an array Array_1 and add elements 1, 2, 3, 4 to it.\n",
        "##### Print Array_1.\n",
        "\n",
        "#### Result:"
      ]
    },
    {
      "cell_type": "code",
      "execution_count": null,
      "metadata": {
        "colab": {
          "background_save": true
        },
        "id": "3c05d1c7"
      },
      "outputs": [],
      "source": []
    },
    {
      "cell_type": "markdown",
      "metadata": {
        "id": "c6da4d3a"
      },
      "source": [
        "#### Task 10\n",
        "##### Multiply all the elements in Array_1 by 3 and call the resulting array Array_2.\n",
        "##### Filter Array_2 for all the elements that can be divided by 2 without having a remainder and assign them to Array_3.\n",
        "##### Print Array_3.\n",
        "\n",
        "#### Result:"
      ]
    },
    {
      "cell_type": "code",
      "execution_count": null,
      "metadata": {
        "colab": {
          "background_save": true
        },
        "id": "3923d804"
      },
      "outputs": [],
      "source": []
    }
  ],
  "metadata": {
    "colab": {
      "collapsed_sections": [],
      "provenance": []
    },
    "kernelspec": {
      "display_name": "Scala",
      "language": "scala",
      "name": "scala"
    }
  },
  "nbformat": 4,
  "nbformat_minor": 0
}
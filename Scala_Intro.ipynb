{
  "cells": [
    {
      "cell_type": "markdown",
      "metadata": {
        "id": "up2G8zDbhsEN"
      },
      "source": [
        "# Scala in Colab"
      ]
    },
    {
      "cell_type": "markdown",
      "metadata": {
        "id": "sL1Vq6r6J6dA"
      },
      "source": [
        "## Install the Scala Kernel\n",
        "If you get a \"scala\" kernel not recognized warning when loading up the notebook for the first time, start by running the two cells below. Once you are done **reload the page** to load the notebook in the installed Scala kernel."
      ]
    },
    {
      "cell_type": "code",
      "execution_count": null,
      "metadata": {
        "id": "RoCcdvTCAqeR"
      },
      "outputs": [],
      "source": [
        "// %%shell\n",
        "// SCALA_VERSION=2.12.8 ALMOND_VERSION=0.3.0+16-548dc10f-SNAPSHOT\n",
        "// curl -Lo coursier https://git.io/coursier-cli\n",
        "// chmod +x coursier\n",
        "// ./coursier bootstrap \\\n",
        "//     -r jitpack -r sonatype:snapshots \\\n",
        "//     -i user -I user:sh.almond:scala-kernel-api_$SCALA_VERSION:$ALMOND_VERSION \\\n",
        "//     sh.almond:scala-kernel_$SCALA_VERSION:$ALMOND_VERSION \\\n",
        "//     --sources --default=true \\\n",
        "//     -o almond-snapshot --embed-files=false\n",
        "// rm coursier\n",
        "// ./almond-snapshot --install --global --force\n",
        "// rm almond-snapshot"
      ]
    },
    {
      "cell_type": "code",
      "execution_count": null,
      "metadata": {
        "id": "BZchIo9sArF4"
      },
      "outputs": [],
      "source": [
        "// %%shell\n",
        "// echo \"{\n",
        "//   \\\"language\\\" : \\\"scala\\\",\n",
        "//   \\\"display_name\\\" : \\\"Scala\\\",\n",
        "//   \\\"argv\\\" : [\n",
        "//     \\\"bash\\\",\n",
        "//     \\\"-c\\\",\n",
        "//     \\\"env LD_PRELOAD=/usr/lib/x86_64-linux-gnu/libpython3.6m.so:\\$LD_PRELOAD java -jar /usr/local/share/jupyter/kernels/scala/launcher.jar --connection-file {connection_file}\\\"\n",
        "//   ]\n",
        "// }\" > /usr/local/share/jupyter/kernels/scala/kernel.json"
      ]
    },
    {
      "cell_type": "markdown",
      "metadata": {
        "id": "kQe78pN0OSuq"
      },
      "source": [
        "## Hello World!"
      ]
    },
    {
      "cell_type": "code",
      "execution_count": 2,
      "metadata": {
        "colab": {
          "base_uri": "https://localhost:8080/"
        },
        "id": "a9z0PxRg_iOp",
        "outputId": "0ea6ca97-3677-4670-ce31-63bbf759bcb6"
      },
      "outputs": [
        {
          "output_type": "stream",
          "name": "stdout",
          "text": [
            "Hello, world!\n"
          ]
        }
      ],
      "source": [
        "println(\"Hello, world!\")"
      ]
    },
    {
      "cell_type": "markdown",
      "metadata": {
        "id": "q5HcwZubBPVC"
      },
      "source": [
        "# Lists"
      ]
    },
    {
      "cell_type": "markdown",
      "metadata": {
        "id": "GK4QRZw-CSkX"
      },
      "source": [
        "Manually entering elements into list"
      ]
    },
    {
      "cell_type": "code",
      "execution_count": 3,
      "metadata": {
        "colab": {
          "base_uri": "https://localhost:8080/"
        },
        "id": "R4wkgYsPBUKb",
        "outputId": "bdcc8bd3-a0d8-4c4b-9048-bf5ff8a3b1fb"
      },
      "outputs": [
        {
          "output_type": "stream",
          "name": "stdout",
          "text": [
            "List(1, 2, 3)\n"
          ]
        },
        {
          "output_type": "execute_result",
          "data": {
            "text/plain": [
              "\u001b[36mlist1\u001b[39m: \u001b[32mList\u001b[39m[\u001b[32mInt\u001b[39m] = \u001b[33mList\u001b[39m(\u001b[32m1\u001b[39m, \u001b[32m2\u001b[39m, \u001b[32m3\u001b[39m)"
            ]
          },
          "metadata": {},
          "execution_count": 3
        }
      ],
      "source": [
        "var list1 = List(1,2,3)\n",
        "println(list1)"
      ]
    },
    {
      "cell_type": "code",
      "execution_count": 4,
      "metadata": {
        "colab": {
          "base_uri": "https://localhost:8080/"
        },
        "id": "2EpviEWzCWL-",
        "outputId": "b912d112-9836-4a75-aa14-158a659e8ae6"
      },
      "outputs": [
        {
          "output_type": "stream",
          "name": "stdout",
          "text": [
            "List(1, hello, false)\n"
          ]
        },
        {
          "output_type": "execute_result",
          "data": {
            "text/plain": [
              "\u001b[36mlist2\u001b[39m: \u001b[32mList\u001b[39m[\u001b[32mAny\u001b[39m] = \u001b[33mList\u001b[39m(\u001b[32m1\u001b[39m, \u001b[32m\"hello\"\u001b[39m, false)"
            ]
          },
          "metadata": {},
          "execution_count": 4
        }
      ],
      "source": [
        "var list2 = List(1,\"hello\",false)\n",
        "println(list2)"
      ]
    },
    {
      "cell_type": "code",
      "execution_count": 5,
      "metadata": {
        "colab": {
          "base_uri": "https://localhost:8080/"
        },
        "id": "YINddQrZCn76",
        "outputId": "63469eb9-97f6-4962-a292-a0a8969dbed0"
      },
      "outputs": [
        {
          "output_type": "stream",
          "name": "stdout",
          "text": [
            "List(1, 2, 3, 4, 5, 6, 7, 8, 9)\n"
          ]
        },
        {
          "output_type": "execute_result",
          "data": {
            "text/plain": [
              "\u001b[36mlist3\u001b[39m: \u001b[32mList\u001b[39m[\u001b[32mInt\u001b[39m] = \u001b[33mList\u001b[39m(\u001b[32m1\u001b[39m, \u001b[32m2\u001b[39m, \u001b[32m3\u001b[39m, \u001b[32m4\u001b[39m, \u001b[32m5\u001b[39m, \u001b[32m6\u001b[39m, \u001b[32m7\u001b[39m, \u001b[32m8\u001b[39m, \u001b[32m9\u001b[39m)\n",
              "\u001b[36mevenList\u001b[39m: \u001b[32mList\u001b[39m[\u001b[32mInt\u001b[39m] = \u001b[33mList\u001b[39m(\u001b[32m2\u001b[39m, \u001b[32m4\u001b[39m, \u001b[32m6\u001b[39m, \u001b[32m8\u001b[39m, \u001b[32m10\u001b[39m, \u001b[32m12\u001b[39m, \u001b[32m14\u001b[39m, \u001b[32m16\u001b[39m, \u001b[32m18\u001b[39m)"
            ]
          },
          "metadata": {},
          "execution_count": 5
        }
      ],
      "source": [
        "var list3 = List.range(1,10)\n",
        "var evenList = List.range(2,20,2)\n",
        "println(list3)"
      ]
    },
    {
      "cell_type": "code",
      "execution_count": 6,
      "metadata": {
        "colab": {
          "base_uri": "https://localhost:8080/"
        },
        "id": "MGEeCqVGC3ki",
        "outputId": "61abd43f-d84c-4e0b-8aaf-4ef794dc4584"
      },
      "outputs": [
        {
          "output_type": "execute_result",
          "data": {
            "text/plain": [
              "\u001b[36mlist4\u001b[39m: \u001b[32mList\u001b[39m[\u001b[32mString\u001b[39m] = \u001b[33mList\u001b[39m(\u001b[32m\"hello\"\u001b[39m, \u001b[32m\"hello\"\u001b[39m, \u001b[32m\"hello\"\u001b[39m)"
            ]
          },
          "metadata": {},
          "execution_count": 6
        }
      ],
      "source": [
        "var list4 = List.fill(3) (\"hello\")"
      ]
    },
    {
      "cell_type": "code",
      "execution_count": 7,
      "metadata": {
        "colab": {
          "base_uri": "https://localhost:8080/"
        },
        "id": "tXHypoccC_j7",
        "outputId": "8a7b38f0-bfd1-470d-cdc0-580c91f8a959"
      },
      "outputs": [
        {
          "output_type": "execute_result",
          "data": {
            "text/plain": [
              "\u001b[36mlist5\u001b[39m: \u001b[32mList\u001b[39m[\u001b[32mInt\u001b[39m] = \u001b[33mList\u001b[39m(\u001b[32m0\u001b[39m, \u001b[32m1\u001b[39m, \u001b[32m4\u001b[39m, \u001b[32m9\u001b[39m)"
            ]
          },
          "metadata": {},
          "execution_count": 7
        }
      ],
      "source": [
        "var list5 = List.tabulate(4) (s => s*s)"
      ]
    },
    {
      "cell_type": "markdown",
      "metadata": {
        "id": "Sj4XR7uLDYLz"
      },
      "source": [
        "## List Conversion"
      ]
    },
    {
      "cell_type": "code",
      "execution_count": 8,
      "metadata": {
        "colab": {
          "base_uri": "https://localhost:8080/"
        },
        "id": "eoPAWbBMDZw3",
        "outputId": "602e68f6-1d92-45a8-b44d-3f3a491f5eff"
      },
      "outputs": [
        {
          "output_type": "execute_result",
          "data": {
            "text/plain": [
              "\u001b[36mlist6\u001b[39m: \u001b[32mList\u001b[39m[\u001b[32mChar\u001b[39m] = \u001b[33mList\u001b[39m(\u001b[32m'a'\u001b[39m, \u001b[32m'l'\u001b[39m, \u001b[32m'p'\u001b[39m, \u001b[32m'h'\u001b[39m, \u001b[32m'a'\u001b[39m, \u001b[32m'b'\u001b[39m, \u001b[32m'e'\u001b[39m, \u001b[32m't'\u001b[39m)"
            ]
          },
          "metadata": {},
          "execution_count": 8
        }
      ],
      "source": [
        "var list6 = \"alphabet\".toList"
      ]
    },
    {
      "cell_type": "markdown",
      "metadata": {
        "id": "u9AbtAAqDjj5"
      },
      "source": [
        "## Elements, Indices, Length"
      ]
    },
    {
      "cell_type": "code",
      "execution_count": 9,
      "metadata": {
        "colab": {
          "base_uri": "https://localhost:8080/"
        },
        "id": "YEqyXEtXDnJw",
        "outputId": "94cbe7fc-c9fd-4273-b1aa-b1623b863bc2"
      },
      "outputs": [
        {
          "output_type": "stream",
          "name": "stdout",
          "text": [
            "Access element 2: Cake\n"
          ]
        },
        {
          "output_type": "execute_result",
          "data": {
            "text/plain": [
              "\u001b[36mfoodList\u001b[39m: \u001b[32mList\u001b[39m[\u001b[32mString\u001b[39m] = \u001b[33mList\u001b[39m(\u001b[32m\"Pizza\"\u001b[39m, \u001b[32m\"Cake\"\u001b[39m, \u001b[32m\"Brownies\"\u001b[39m)"
            ]
          },
          "metadata": {},
          "execution_count": 9
        }
      ],
      "source": [
        "var foodList = List(\"Pizza\", \"Cake\", \"Brownies\")\n",
        "println(\"Access element 2: \" + foodList(1))"
      ]
    },
    {
      "cell_type": "code",
      "execution_count": 10,
      "metadata": {
        "colab": {
          "base_uri": "https://localhost:8080/"
        },
        "id": "vjnySx1sD8rV",
        "outputId": "e9f74ab4-3ccd-442d-dd25-66a4828e3522"
      },
      "outputs": [
        {
          "output_type": "stream",
          "name": "stdout",
          "text": [
            "Get index of Cake: 1\n"
          ]
        }
      ],
      "source": [
        "println(\"Get index of Cake: \" + foodList.indexOf(\"Cake\"))"
      ]
    },
    {
      "cell_type": "code",
      "execution_count": 11,
      "metadata": {
        "colab": {
          "base_uri": "https://localhost:8080/"
        },
        "id": "kk5htbVSERVl",
        "outputId": "8afc6bd0-030b-4d33-af40-21944ebfdf2e"
      },
      "outputs": [
        {
          "output_type": "stream",
          "name": "stdout",
          "text": [
            "Is there a fifth element in this list?\n"
          ]
        },
        {
          "output_type": "execute_result",
          "data": {
            "text/plain": [
              "\u001b[36mres10_1\u001b[39m: \u001b[32mBoolean\u001b[39m = false"
            ]
          },
          "metadata": {},
          "execution_count": 11
        }
      ],
      "source": [
        "println(\"Is there a fifth element in this list?\")\n",
        "foodList.isDefinedAt(4)"
      ]
    },
    {
      "cell_type": "code",
      "execution_count": 12,
      "metadata": {
        "colab": {
          "base_uri": "https://localhost:8080/"
        },
        "id": "9tA7jCJAEbZ-",
        "outputId": "c593b71c-2a13-4b68-fc97-c29e7906b28a"
      },
      "outputs": [
        {
          "output_type": "execute_result",
          "data": {
            "text/plain": [
              "\u001b[36mres11_0\u001b[39m: \u001b[32mBoolean\u001b[39m = false\n",
              "\u001b[36mres11_1\u001b[39m: \u001b[32mInt\u001b[39m = \u001b[32m3\u001b[39m"
            ]
          },
          "metadata": {},
          "execution_count": 12
        }
      ],
      "source": [
        "foodList.isEmpty\n",
        "foodList.size // foodList.length"
      ]
    },
    {
      "cell_type": "code",
      "execution_count": 13,
      "metadata": {
        "colab": {
          "base_uri": "https://localhost:8080/"
        },
        "id": "HqBzzJUQEk_f",
        "outputId": "ac8427ef-20d9-413f-b355-7a2c99c5d539"
      },
      "outputs": [
        {
          "output_type": "execute_result",
          "data": {
            "text/plain": [
              "\u001b[36mres12\u001b[39m: \u001b[32mBoolean\u001b[39m = true"
            ]
          },
          "metadata": {},
          "execution_count": 13
        }
      ],
      "source": [
        "foodList.contains(\"Cake\")"
      ]
    },
    {
      "cell_type": "markdown",
      "metadata": {
        "id": "XKcd78izE1hp"
      },
      "source": [
        "## Filtering Functions"
      ]
    },
    {
      "cell_type": "code",
      "execution_count": 14,
      "metadata": {
        "colab": {
          "base_uri": "https://localhost:8080/"
        },
        "id": "7cUqCXydE4ER",
        "outputId": "89bdec70-387f-4652-f8bd-5c989397c2a4"
      },
      "outputs": [
        {
          "output_type": "execute_result",
          "data": {
            "text/plain": [
              "\u001b[36mnums\u001b[39m: \u001b[32mList\u001b[39m[\u001b[32mInt\u001b[39m] = \u001b[33mList\u001b[39m(\n",
              "  \u001b[32m2\u001b[39m,\n",
              "  \u001b[32m3\u001b[39m,\n",
              "  \u001b[32m4\u001b[39m,\n",
              "  \u001b[32m5\u001b[39m,\n",
              "  \u001b[32m6\u001b[39m,\n",
              "  \u001b[32m7\u001b[39m,\n",
              "  \u001b[32m8\u001b[39m,\n",
              "  \u001b[32m9\u001b[39m,\n",
              "  \u001b[32m10\u001b[39m,\n",
              "  \u001b[32m11\u001b[39m,\n",
              "  \u001b[32m12\u001b[39m,\n",
              "  \u001b[32m13\u001b[39m,\n",
              "  \u001b[32m14\u001b[39m,\n",
              "  \u001b[32m15\u001b[39m,\n",
              "  \u001b[32m16\u001b[39m,\n",
              "  \u001b[32m17\u001b[39m,\n",
              "  \u001b[32m18\u001b[39m,\n",
              "  \u001b[32m19\u001b[39m,\n",
              "  \u001b[32m20\u001b[39m\n",
              ")"
            ]
          },
          "metadata": {},
          "execution_count": 14
        }
      ],
      "source": [
        "var nums = List.range(2,21)"
      ]
    },
    {
      "cell_type": "code",
      "execution_count": 15,
      "metadata": {
        "colab": {
          "base_uri": "https://localhost:8080/"
        },
        "id": "sbAcIJBsFAxF",
        "outputId": "ba88524c-af30-478d-ce92-94ba3779ca49"
      },
      "outputs": [
        {
          "output_type": "stream",
          "name": "stdout",
          "text": [
            "Tail: List(3, 4, 5, 6, 7, 8, 9, 10, 11, 12, 13, 14, 15, 16, 17, 18, 19, 20)\n"
          ]
        },
        {
          "output_type": "execute_result",
          "data": {
            "text/plain": [
              "\u001b[36mres14_0\u001b[39m: \u001b[32mInt\u001b[39m = \u001b[32m2\u001b[39m"
            ]
          },
          "metadata": {},
          "execution_count": 15
        }
      ],
      "source": [
        "nums.head\n",
        "println(\"Tail: \" + nums.tail)"
      ]
    },
    {
      "cell_type": "code",
      "execution_count": 16,
      "metadata": {
        "colab": {
          "base_uri": "https://localhost:8080/"
        },
        "id": "QtBwI7mDFQ_y",
        "outputId": "4a16ab53-06ab-4914-caa2-e14b84ac4770"
      },
      "outputs": [
        {
          "output_type": "execute_result",
          "data": {
            "text/plain": [
              "\u001b[36mres15_0\u001b[39m: \u001b[32mInt\u001b[39m = \u001b[32m20\u001b[39m\n",
              "\u001b[36mres15_1\u001b[39m: \u001b[32mList\u001b[39m[\u001b[32mInt\u001b[39m] = \u001b[33mList\u001b[39m(\n",
              "  \u001b[32m2\u001b[39m,\n",
              "  \u001b[32m3\u001b[39m,\n",
              "  \u001b[32m4\u001b[39m,\n",
              "  \u001b[32m5\u001b[39m,\n",
              "  \u001b[32m6\u001b[39m,\n",
              "  \u001b[32m7\u001b[39m,\n",
              "  \u001b[32m8\u001b[39m,\n",
              "  \u001b[32m9\u001b[39m,\n",
              "  \u001b[32m10\u001b[39m,\n",
              "  \u001b[32m11\u001b[39m,\n",
              "  \u001b[32m12\u001b[39m,\n",
              "  \u001b[32m13\u001b[39m,\n",
              "  \u001b[32m14\u001b[39m,\n",
              "  \u001b[32m15\u001b[39m,\n",
              "  \u001b[32m16\u001b[39m,\n",
              "  \u001b[32m17\u001b[39m,\n",
              "  \u001b[32m18\u001b[39m,\n",
              "  \u001b[32m19\u001b[39m,\n",
              "  \u001b[32m20\u001b[39m\n",
              ")"
            ]
          },
          "metadata": {},
          "execution_count": 16
        }
      ],
      "source": [
        "nums.last\n",
        "nums.distinct"
      ]
    },
    {
      "cell_type": "code",
      "execution_count": 17,
      "metadata": {
        "colab": {
          "base_uri": "https://localhost:8080/"
        },
        "id": "EThRoiRYFXA7",
        "outputId": "db34ff9c-41aa-4f41-8e27-ef65dd9c4005"
      },
      "outputs": [
        {
          "output_type": "execute_result",
          "data": {
            "text/plain": [
              "\u001b[36mres16\u001b[39m: \u001b[32mList\u001b[39m[\u001b[32mInt\u001b[39m] = \u001b[33mList\u001b[39m(\n",
              "  \u001b[32m5\u001b[39m,\n",
              "  \u001b[32m6\u001b[39m,\n",
              "  \u001b[32m7\u001b[39m,\n",
              "  \u001b[32m8\u001b[39m,\n",
              "  \u001b[32m9\u001b[39m,\n",
              "  \u001b[32m10\u001b[39m,\n",
              "  \u001b[32m11\u001b[39m,\n",
              "  \u001b[32m12\u001b[39m,\n",
              "  \u001b[32m13\u001b[39m,\n",
              "  \u001b[32m14\u001b[39m,\n",
              "  \u001b[32m15\u001b[39m,\n",
              "  \u001b[32m16\u001b[39m,\n",
              "  \u001b[32m17\u001b[39m,\n",
              "  \u001b[32m18\u001b[39m,\n",
              "  \u001b[32m19\u001b[39m,\n",
              "  \u001b[32m20\u001b[39m\n",
              ")"
            ]
          },
          "metadata": {},
          "execution_count": 17
        }
      ],
      "source": [
        "nums.drop(3)"
      ]
    },
    {
      "cell_type": "code",
      "execution_count": 18,
      "metadata": {
        "colab": {
          "base_uri": "https://localhost:8080/"
        },
        "id": "6tjN3s1TFbCv",
        "outputId": "2ee6620d-aa12-40ac-bf2c-735246d5c1f4"
      },
      "outputs": [
        {
          "output_type": "execute_result",
          "data": {
            "text/plain": [
              "\u001b[36mres17\u001b[39m: \u001b[32mList\u001b[39m[\u001b[32mInt\u001b[39m] = \u001b[33mList\u001b[39m(\u001b[32m2\u001b[39m, \u001b[32m3\u001b[39m, \u001b[32m4\u001b[39m, \u001b[32m5\u001b[39m, \u001b[32m6\u001b[39m, \u001b[32m7\u001b[39m, \u001b[32m8\u001b[39m, \u001b[32m9\u001b[39m, \u001b[32m10\u001b[39m, \u001b[32m11\u001b[39m, \u001b[32m12\u001b[39m, \u001b[32m13\u001b[39m, \u001b[32m14\u001b[39m, \u001b[32m15\u001b[39m, \u001b[32m16\u001b[39m, \u001b[32m17\u001b[39m)"
            ]
          },
          "metadata": {},
          "execution_count": 18
        }
      ],
      "source": [
        "nums.dropRight(3)"
      ]
    },
    {
      "cell_type": "code",
      "execution_count": 19,
      "metadata": {
        "colab": {
          "base_uri": "https://localhost:8080/"
        },
        "id": "Jh3DeR_JFg0G",
        "outputId": "1204596d-66d2-40e8-e556-04573288b226"
      },
      "outputs": [
        {
          "output_type": "execute_result",
          "data": {
            "text/plain": [
              "\u001b[36mres18_0\u001b[39m: \u001b[32mList\u001b[39m[\u001b[32mInt\u001b[39m] = \u001b[33mList\u001b[39m(\u001b[32m11\u001b[39m, \u001b[32m12\u001b[39m, \u001b[32m13\u001b[39m, \u001b[32m14\u001b[39m, \u001b[32m15\u001b[39m, \u001b[32m16\u001b[39m, \u001b[32m17\u001b[39m, \u001b[32m18\u001b[39m, \u001b[32m19\u001b[39m, \u001b[32m20\u001b[39m)\n",
              "\u001b[36mres18_1\u001b[39m: \u001b[32mList\u001b[39m[\u001b[32mInt\u001b[39m] = \u001b[33mList\u001b[39m(\u001b[32m5\u001b[39m, \u001b[32m6\u001b[39m)"
            ]
          },
          "metadata": {},
          "execution_count": 19
        }
      ],
      "source": [
        "// elements greater than 10\n",
        "nums.filter(_ > 10)\n",
        "nums.slice(3,5)"
      ]
    },
    {
      "cell_type": "markdown",
      "metadata": {
        "id": "AtaamAcaF0T9"
      },
      "source": [
        "## Transformations"
      ]
    },
    {
      "cell_type": "code",
      "execution_count": 20,
      "metadata": {
        "colab": {
          "base_uri": "https://localhost:8080/"
        },
        "id": "QOQx1PNxFyLG",
        "outputId": "c6e7dd43-24e9-498c-b6a7-6bfaefe9a9f9"
      },
      "outputs": [
        {
          "output_type": "execute_result",
          "data": {
            "text/plain": [
              "\u001b[36mnums2\u001b[39m: \u001b[32mList\u001b[39m[\u001b[32mInt\u001b[39m] = \u001b[33mList\u001b[39m(\u001b[32m1\u001b[39m, \u001b[32m7\u001b[39m, \u001b[32m6\u001b[39m)"
            ]
          },
          "metadata": {},
          "execution_count": 20
        }
      ],
      "source": [
        "var nums2 = List(1,7,6)"
      ]
    },
    {
      "cell_type": "code",
      "execution_count": 21,
      "metadata": {
        "colab": {
          "base_uri": "https://localhost:8080/"
        },
        "id": "_Cop6thMF-2j",
        "outputId": "626f8bb8-23b4-4b11-cbae-6fa20064c567"
      },
      "outputs": [
        {
          "output_type": "execute_result",
          "data": {
            "text/plain": [
              "\u001b[36mres20\u001b[39m: \u001b[32mList\u001b[39m[\u001b[32mInt\u001b[39m] = \u001b[33mList\u001b[39m(\u001b[32m1\u001b[39m, \u001b[32m7\u001b[39m, \u001b[32m6\u001b[39m, \u001b[32m9\u001b[39m)"
            ]
          },
          "metadata": {},
          "execution_count": 21
        }
      ],
      "source": [
        "nums2 :+ 9"
      ]
    },
    {
      "cell_type": "code",
      "execution_count": 22,
      "metadata": {
        "colab": {
          "base_uri": "https://localhost:8080/"
        },
        "id": "_yTs9ZDGGDgm",
        "outputId": "dd8d136a-759b-4675-f235-961fdf6f60ec"
      },
      "outputs": [
        {
          "output_type": "execute_result",
          "data": {
            "text/plain": [
              "\u001b[36mres21\u001b[39m: \u001b[32mList\u001b[39m[\u001b[32mAny\u001b[39m] = \u001b[33mList\u001b[39m(\u001b[32m1\u001b[39m, \u001b[32m7\u001b[39m, \u001b[32m6\u001b[39m, \u001b[33mList\u001b[39m(\u001b[32m7\u001b[39m, \u001b[32m10\u001b[39m))"
            ]
          },
          "metadata": {},
          "execution_count": 22
        }
      ],
      "source": [
        "nums2 :+ List(7,10)"
      ]
    },
    {
      "cell_type": "code",
      "execution_count": 23,
      "metadata": {
        "colab": {
          "base_uri": "https://localhost:8080/"
        },
        "id": "-j8-Rsa2GQsg",
        "outputId": "ffdbba3e-0f13-47d4-fe0f-21f230d04e1b"
      },
      "outputs": [
        {
          "output_type": "execute_result",
          "data": {
            "text/plain": [
              "\u001b[36mres22\u001b[39m: \u001b[32mList\u001b[39m[\u001b[32mInt\u001b[39m] = \u001b[33mList\u001b[39m(\u001b[32m8\u001b[39m, \u001b[32m1\u001b[39m, \u001b[32m7\u001b[39m, \u001b[32m6\u001b[39m)"
            ]
          },
          "metadata": {},
          "execution_count": 23
        }
      ],
      "source": [
        "8 +: nums2"
      ]
    },
    {
      "cell_type": "code",
      "execution_count": 24,
      "metadata": {
        "colab": {
          "base_uri": "https://localhost:8080/"
        },
        "id": "kraujZIhHC7k",
        "outputId": "d90448cf-b45d-4a0e-96ee-aea14af41caf"
      },
      "outputs": [
        {
          "output_type": "execute_result",
          "data": {
            "text/plain": [
              "\u001b[36mres23\u001b[39m: \u001b[32mList\u001b[39m[\u001b[32mAny\u001b[39m] = \u001b[33mList\u001b[39m(\u001b[33mList\u001b[39m(\u001b[32m7\u001b[39m, \u001b[32m10\u001b[39m), \u001b[32m1\u001b[39m, \u001b[32m7\u001b[39m, \u001b[32m6\u001b[39m)"
            ]
          },
          "metadata": {},
          "execution_count": 24
        }
      ],
      "source": [
        "List(7,10) +: nums2"
      ]
    },
    {
      "cell_type": "code",
      "execution_count": 25,
      "metadata": {
        "colab": {
          "base_uri": "https://localhost:8080/"
        },
        "id": "7xlt1HYJILn-",
        "outputId": "15eba3b5-ebc3-43a9-b46f-0241e2d6a517"
      },
      "outputs": [
        {
          "output_type": "execute_result",
          "data": {
            "text/plain": [
              "\u001b[36mres24\u001b[39m: \u001b[32mList\u001b[39m[\u001b[32mInt\u001b[39m] = \u001b[33mList\u001b[39m(\u001b[32m1\u001b[39m, \u001b[32m6\u001b[39m, \u001b[32m7\u001b[39m)"
            ]
          },
          "metadata": {},
          "execution_count": 25
        }
      ],
      "source": [
        "nums2.sorted"
      ]
    },
    {
      "cell_type": "code",
      "execution_count": 26,
      "metadata": {
        "colab": {
          "base_uri": "https://localhost:8080/"
        },
        "id": "BIpW0bIWHJmm",
        "outputId": "e3ce4170-f2a9-4787-ee46-abd039e3c8d2"
      },
      "outputs": [
        {
          "output_type": "execute_result",
          "data": {
            "text/plain": [
              "\u001b[36mres25\u001b[39m: \u001b[32mList\u001b[39m[\u001b[32mInt\u001b[39m] = \u001b[33mList\u001b[39m(\u001b[32m1\u001b[39m, \u001b[32m6\u001b[39m, \u001b[32m7\u001b[39m)"
            ]
          },
          "metadata": {},
          "execution_count": 26
        }
      ],
      "source": [
        "nums2.sortWith(_ < _)"
      ]
    },
    {
      "cell_type": "code",
      "execution_count": 27,
      "metadata": {
        "colab": {
          "base_uri": "https://localhost:8080/"
        },
        "id": "8sf7L1ZPHQKG",
        "outputId": "b7c13df0-5458-487a-a671-c07ef40fa121"
      },
      "outputs": [
        {
          "output_type": "execute_result",
          "data": {
            "text/plain": [
              "\u001b[36mres26\u001b[39m: \u001b[32mList\u001b[39m[\u001b[32mInt\u001b[39m] = \u001b[33mList\u001b[39m(\u001b[32m6\u001b[39m, \u001b[32m7\u001b[39m, \u001b[32m1\u001b[39m)"
            ]
          },
          "metadata": {},
          "execution_count": 27
        }
      ],
      "source": [
        "nums2.reverse"
      ]
    },
    {
      "cell_type": "markdown",
      "metadata": {
        "id": "IdTOdQQ4IRXE"
      },
      "source": [
        "### Mapping"
      ]
    },
    {
      "cell_type": "code",
      "execution_count": 28,
      "metadata": {
        "colab": {
          "base_uri": "https://localhost:8080/"
        },
        "id": "v5QZLI4uIP6W",
        "outputId": "d3f5e29e-53a7-45bf-fe37-17d48c9dcb70"
      },
      "outputs": [
        {
          "output_type": "execute_result",
          "data": {
            "text/plain": [
              "\u001b[36mres27_0\u001b[39m: \u001b[32mList\u001b[39m[\u001b[32mDouble\u001b[39m] = \u001b[33mList\u001b[39m(\u001b[32m2.5\u001b[39m, \u001b[32m8.5\u001b[39m, \u001b[32m7.5\u001b[39m)\n",
              "\u001b[36mres27_1\u001b[39m: \u001b[32mList\u001b[39m[\u001b[32mDouble\u001b[39m] = \u001b[33mList\u001b[39m(\u001b[32m1.5\u001b[39m, \u001b[32m10.5\u001b[39m, \u001b[32m9.0\u001b[39m)"
            ]
          },
          "metadata": {},
          "execution_count": 28
        }
      ],
      "source": [
        "nums2.map(_ + 1.5)\n",
        "nums2.map(_ * 1.5)"
      ]
    },
    {
      "cell_type": "code",
      "execution_count": 29,
      "metadata": {
        "colab": {
          "base_uri": "https://localhost:8080/"
        },
        "id": "3MWxp0aLImP-",
        "outputId": "e116b604-8461-41b6-fca2-51b53b28fbb7"
      },
      "outputs": [
        {
          "output_type": "execute_result",
          "data": {
            "text/plain": [
              "\u001b[36mres28\u001b[39m: \u001b[32mInt\u001b[39m = \u001b[32m1050\u001b[39m"
            ]
          },
          "metadata": {},
          "execution_count": 29
        }
      ],
      "source": [
        "nums2.reduce(_ * _ * 5)\n",
        "// 1 7 6\n",
        "// 1 * 7 * 5 = 35\n",
        "// 35 * 6 * 5 = 1050"
      ]
    },
    {
      "cell_type": "markdown",
      "metadata": {
        "id": "TuhVFkJxIwFo"
      },
      "source": [
        "## Partitioning"
      ]
    },
    {
      "cell_type": "code",
      "execution_count": 30,
      "metadata": {
        "colab": {
          "base_uri": "https://localhost:8080/"
        },
        "id": "DHrrrUYSIvc2",
        "outputId": "2a1a2940-9cc9-44c5-f447-6f64fba05c9e"
      },
      "outputs": [
        {
          "output_type": "execute_result",
          "data": {
            "text/plain": [
              "\u001b[36mnums3\u001b[39m: \u001b[32mList\u001b[39m[\u001b[32mInt\u001b[39m] = \u001b[33mList\u001b[39m(\u001b[32m2\u001b[39m, \u001b[32m3\u001b[39m, \u001b[32m4\u001b[39m, \u001b[32m5\u001b[39m, \u001b[32m6\u001b[39m, \u001b[32m7\u001b[39m, \u001b[32m8\u001b[39m, \u001b[32m9\u001b[39m)"
            ]
          },
          "metadata": {},
          "execution_count": 30
        }
      ],
      "source": [
        "var nums3 = List.range(2,10)"
      ]
    },
    {
      "cell_type": "code",
      "execution_count": 31,
      "metadata": {
        "colab": {
          "base_uri": "https://localhost:8080/"
        },
        "id": "pP4cK2IrJg0b",
        "outputId": "4332e0dd-ca85-407c-8148-71c892846f03"
      },
      "outputs": [
        {
          "output_type": "execute_result",
          "data": {
            "text/plain": [
              "\u001b[36mres30\u001b[39m: (\u001b[32mList\u001b[39m[\u001b[32mInt\u001b[39m], \u001b[32mList\u001b[39m[\u001b[32mInt\u001b[39m]) = (\u001b[33mList\u001b[39m(\u001b[32m2\u001b[39m, \u001b[32m3\u001b[39m, \u001b[32m4\u001b[39m, \u001b[32m5\u001b[39m), \u001b[33mList\u001b[39m(\u001b[32m6\u001b[39m, \u001b[32m7\u001b[39m, \u001b[32m8\u001b[39m, \u001b[32m9\u001b[39m))"
            ]
          },
          "metadata": {},
          "execution_count": 31
        }
      ],
      "source": [
        "nums3.splitAt(4)"
      ]
    },
    {
      "cell_type": "code",
      "execution_count": 32,
      "metadata": {
        "colab": {
          "base_uri": "https://localhost:8080/"
        },
        "id": "NaE6zxF0Juin",
        "outputId": "d3281fc8-25a3-4244-a99a-2d4648486bf1"
      },
      "outputs": [
        {
          "output_type": "execute_result",
          "data": {
            "text/plain": [
              "\u001b[36mres31_0\u001b[39m: (\u001b[32mList\u001b[39m[\u001b[32mInt\u001b[39m], \u001b[32mList\u001b[39m[\u001b[32mInt\u001b[39m]) = (\u001b[33mList\u001b[39m(\u001b[32m2\u001b[39m, \u001b[32m3\u001b[39m, \u001b[32m4\u001b[39m, \u001b[32m5\u001b[39m), \u001b[33mList\u001b[39m(\u001b[32m6\u001b[39m, \u001b[32m7\u001b[39m, \u001b[32m8\u001b[39m, \u001b[32m9\u001b[39m))\n",
              "\u001b[36mres31_1\u001b[39m: \u001b[32mMap\u001b[39m[\u001b[32mBoolean\u001b[39m, \u001b[32mList\u001b[39m[\u001b[32mInt\u001b[39m]] = \u001b[33mMap\u001b[39m(\n",
              "  false -> \u001b[33mList\u001b[39m(\u001b[32m2\u001b[39m, \u001b[32m3\u001b[39m, \u001b[32m4\u001b[39m, \u001b[32m5\u001b[39m),\n",
              "  true -> \u001b[33mList\u001b[39m(\u001b[32m6\u001b[39m, \u001b[32m7\u001b[39m, \u001b[32m8\u001b[39m, \u001b[32m9\u001b[39m)\n",
              ")"
            ]
          },
          "metadata": {},
          "execution_count": 32
        }
      ],
      "source": [
        "nums3.partition(_ <= 5)\n",
        "nums3.groupBy(_ > 5)"
      ]
    },
    {
      "cell_type": "code",
      "execution_count": 33,
      "metadata": {
        "colab": {
          "base_uri": "https://localhost:8080/"
        },
        "id": "l4o3pdLBKEBn",
        "outputId": "57cf8978-eecf-42e0-c1c3-ea44262c6d65"
      },
      "outputs": [
        {
          "output_type": "stream",
          "name": "stdout",
          "text": [
            "List(2, 4, 6, 8, 10, 12, 14, 16, 18)\n",
            "Vector(List(2, 4, 6, 8), List(6, 8, 10, 12), List(10, 12, 14, 16), List(14, 16, 18))\n"
          ]
        },
        {
          "output_type": "execute_result",
          "data": {
            "text/plain": [
              "\u001b[36mwindow\u001b[39m: \u001b[32mIterator\u001b[39m[\u001b[32mList\u001b[39m[\u001b[32mInt\u001b[39m]] = <iterator>"
            ]
          },
          "metadata": {},
          "execution_count": 33
        }
      ],
      "source": [
        "var window = evenList.sliding(4,2)\n",
        "// (size, step)\n",
        "println(evenList)\n",
        "println(window.toVector)"
      ]
    },
    {
      "cell_type": "markdown",
      "metadata": {
        "id": "OKlY407xLBTw"
      },
      "source": [
        "## Zip, unzip, flatten"
      ]
    },
    {
      "cell_type": "code",
      "execution_count": 34,
      "metadata": {
        "colab": {
          "base_uri": "https://localhost:8080/"
        },
        "id": "_qUOPYYLLA8M",
        "outputId": "ef19aa40-833e-4aaf-e294-0a4802bc9b1a"
      },
      "outputs": [
        {
          "output_type": "stream",
          "name": "stdout",
          "text": [
            "List(Pizza, Cake, Brownies)\n"
          ]
        },
        {
          "output_type": "execute_result",
          "data": {
            "text/plain": [
              "\u001b[36mfoodCount\u001b[39m: \u001b[32mList\u001b[39m[\u001b[32mInt\u001b[39m] = \u001b[33mList\u001b[39m(\u001b[32m3\u001b[39m, \u001b[32m4\u001b[39m, \u001b[32m2\u001b[39m)"
            ]
          },
          "metadata": {},
          "execution_count": 34
        }
      ],
      "source": [
        "println(foodList)\n",
        "var foodCount = List(3,4,2)"
      ]
    },
    {
      "cell_type": "code",
      "execution_count": 35,
      "metadata": {
        "colab": {
          "base_uri": "https://localhost:8080/"
        },
        "id": "TNBp6SrZLM_i",
        "outputId": "6696bc3a-f7e2-435e-99d8-7a0bb9f2ea5f"
      },
      "outputs": [
        {
          "output_type": "execute_result",
          "data": {
            "text/plain": [
              "\u001b[36mshoppingList\u001b[39m: \u001b[32mList\u001b[39m[(\u001b[32mString\u001b[39m, \u001b[32mInt\u001b[39m)] = \u001b[33mList\u001b[39m(\n",
              "  (\u001b[32m\"Pizza\"\u001b[39m, \u001b[32m3\u001b[39m),\n",
              "  (\u001b[32m\"Cake\"\u001b[39m, \u001b[32m4\u001b[39m),\n",
              "  (\u001b[32m\"Brownies\"\u001b[39m, \u001b[32m2\u001b[39m)\n",
              ")"
            ]
          },
          "metadata": {},
          "execution_count": 35
        }
      ],
      "source": [
        "var shoppingList = foodList.zip(foodCount)"
      ]
    },
    {
      "cell_type": "code",
      "execution_count": 36,
      "metadata": {
        "colab": {
          "base_uri": "https://localhost:8080/"
        },
        "id": "mfazK8lJLYSP",
        "outputId": "c23af439-928c-4d25-c1c6-7d76d9f72b93"
      },
      "outputs": [
        {
          "output_type": "execute_result",
          "data": {
            "text/plain": [
              "\u001b[36mres35\u001b[39m: (\u001b[32mList\u001b[39m[\u001b[32mString\u001b[39m], \u001b[32mList\u001b[39m[\u001b[32mInt\u001b[39m]) = (\n",
              "  \u001b[33mList\u001b[39m(\u001b[32m\"Pizza\"\u001b[39m, \u001b[32m\"Cake\"\u001b[39m, \u001b[32m\"Brownies\"\u001b[39m),\n",
              "  \u001b[33mList\u001b[39m(\u001b[32m3\u001b[39m, \u001b[32m4\u001b[39m, \u001b[32m2\u001b[39m)\n",
              ")"
            ]
          },
          "metadata": {},
          "execution_count": 36
        }
      ],
      "source": [
        "shoppingList.unzip"
      ]
    },
    {
      "cell_type": "code",
      "execution_count": 37,
      "metadata": {
        "colab": {
          "base_uri": "https://localhost:8080/"
        },
        "id": "5QGUMHzhLmpI",
        "outputId": "2742aea0-ab0d-4913-f2ce-24c63b9a1104"
      },
      "outputs": [
        {
          "output_type": "execute_result",
          "data": {
            "text/plain": [
              "\u001b[36mnest\u001b[39m: \u001b[32mList\u001b[39m[\u001b[32mList\u001b[39m[\u001b[32mInt\u001b[39m]] = \u001b[33mList\u001b[39m(\u001b[33mList\u001b[39m(\u001b[32m1\u001b[39m, \u001b[32m2\u001b[39m, \u001b[32m3\u001b[39m), \u001b[33mList\u001b[39m(\u001b[32m4\u001b[39m, \u001b[32m5\u001b[39m, \u001b[32m6\u001b[39m))\n",
              "\u001b[36mres36_1\u001b[39m: \u001b[32mList\u001b[39m[\u001b[32mInt\u001b[39m] = \u001b[33mList\u001b[39m(\u001b[32m1\u001b[39m, \u001b[32m2\u001b[39m, \u001b[32m3\u001b[39m, \u001b[32m4\u001b[39m, \u001b[32m5\u001b[39m, \u001b[32m6\u001b[39m)"
            ]
          },
          "metadata": {},
          "execution_count": 37
        }
      ],
      "source": [
        "var nest = List(List(1,2,3), List(4,5,6))\n",
        "nest.flatten"
      ]
    },
    {
      "cell_type": "code",
      "execution_count": 38,
      "metadata": {
        "colab": {
          "base_uri": "https://localhost:8080/"
        },
        "id": "dj2_MAxSL2Z6",
        "outputId": "e215a666-951f-4332-df0c-bdec911297c0"
      },
      "outputs": [
        {
          "output_type": "stream",
          "name": "stdout",
          "text": [
            "List(2, 4, 6, 8, 10, 12, 14, 16, 18)"
          ]
        },
        {
          "output_type": "execute_result",
          "data": {
            "text/plain": [
              "\u001b[36mres37_1\u001b[39m: \u001b[32mBoolean\u001b[39m = true\n",
              "\u001b[36mres37_2\u001b[39m: \u001b[32mBoolean\u001b[39m = false"
            ]
          },
          "metadata": {},
          "execution_count": 38
        }
      ],
      "source": [
        "print(evenList)\n",
        "evenList.forall(_ % 2 == 0)\n",
        "evenList.forall(_ % 3 == 0)"
      ]
    },
    {
      "cell_type": "code",
      "execution_count": 39,
      "metadata": {
        "colab": {
          "base_uri": "https://localhost:8080/"
        },
        "id": "Ds1HTj_JMFhu",
        "outputId": "81eb7b86-a4e8-4bcc-fdaa-81b0d0a17381"
      },
      "outputs": [
        {
          "output_type": "execute_result",
          "data": {
            "text/plain": [
              "\u001b[36moddList\u001b[39m: \u001b[32mList\u001b[39m[\u001b[32mInt\u001b[39m] = \u001b[33mList\u001b[39m(\u001b[32m1\u001b[39m, \u001b[32m3\u001b[39m, \u001b[32m5\u001b[39m, \u001b[32m7\u001b[39m, \u001b[32m9\u001b[39m, \u001b[32m11\u001b[39m, \u001b[32m13\u001b[39m, \u001b[32m15\u001b[39m, \u001b[32m17\u001b[39m, \u001b[32m19\u001b[39m)\n",
              "\u001b[36mres38_1\u001b[39m: \u001b[32mInt\u001b[39m = \u001b[32m1\u001b[39m\n",
              "\u001b[36mres38_2\u001b[39m: \u001b[32mInt\u001b[39m = \u001b[32m19\u001b[39m\n",
              "\u001b[36mres38_3\u001b[39m: \u001b[32mInt\u001b[39m = \u001b[32m100\u001b[39m\n",
              "\u001b[36mres38_4\u001b[39m: \u001b[32mInt\u001b[39m = \u001b[32m654729075\u001b[39m"
            ]
          },
          "metadata": {},
          "execution_count": 39
        }
      ],
      "source": [
        "var oddList = List.range(1,21,2)\n",
        "oddList.min\n",
        "oddList.max\n",
        "oddList.sum\n",
        "oddList.product"
      ]
    },
    {
      "cell_type": "markdown",
      "metadata": {
        "id": "jg7rSSPFNOm3"
      },
      "source": [
        "#LazyList"
      ]
    },
    {
      "cell_type": "code",
      "execution_count": 40,
      "metadata": {
        "colab": {
          "base_uri": "https://localhost:8080/"
        },
        "id": "rgsQtELmNPux",
        "outputId": "60acf792-9a03-432b-dc5c-bd2af33cea2b"
      },
      "outputs": [
        {
          "output_type": "execute_result",
          "data": {
            "text/plain": [
              "\u001b[36mstreamList\u001b[39m: \u001b[32mStream\u001b[39m[\u001b[32mInt\u001b[39m] = \u001b[33mStream\u001b[39m(\n",
              "  \u001b[32m1\u001b[39m,\n",
              "  \u001b[32m2\u001b[39m,\n",
              "  \u001b[32m3\u001b[39m,\n",
              "  \u001b[32m4\u001b[39m,\n",
              "  \u001b[32m5\u001b[39m,\n",
              "  \u001b[32m6\u001b[39m,\n",
              "  \u001b[32m7\u001b[39m,\n",
              "  \u001b[32m8\u001b[39m,\n",
              "  \u001b[32m9\u001b[39m,\n",
              "  \u001b[32m10\u001b[39m,\n",
              "  \u001b[32m11\u001b[39m,\n",
              "  \u001b[32m12\u001b[39m,\n",
              "  \u001b[32m13\u001b[39m,\n",
              "  \u001b[32m14\u001b[39m,\n",
              "  \u001b[32m15\u001b[39m,\n",
              "  \u001b[32m16\u001b[39m,\n",
              "  \u001b[32m17\u001b[39m,\n",
              "  \u001b[32m18\u001b[39m,\n",
              "  \u001b[32m19\u001b[39m,\n",
              "  \u001b[32m20\u001b[39m,\n",
              "  \u001b[32m21\u001b[39m,\n",
              "  \u001b[32m22\u001b[39m,\n",
              "  \u001b[32m23\u001b[39m,\n",
              "  \u001b[32m24\u001b[39m,\n",
              "  \u001b[32m25\u001b[39m,\n",
              "  \u001b[32m26\u001b[39m,\n",
              "  \u001b[32m27\u001b[39m,\n",
              "  \u001b[32m28\u001b[39m,\n",
              "  \u001b[32m29\u001b[39m,\n",
              "  \u001b[32m30\u001b[39m,\n",
              "  \u001b[32m31\u001b[39m,\n",
              "  \u001b[32m32\u001b[39m,\n",
              "  \u001b[32m33\u001b[39m,\n",
              "  \u001b[32m34\u001b[39m,\n",
              "  \u001b[32m35\u001b[39m,\n",
              "  \u001b[32m36\u001b[39m,\n",
              "  \u001b[32m37\u001b[39m,\n",
              "  \u001b[32m38\u001b[39m,\n",
              "..."
            ]
          },
          "metadata": {},
          "execution_count": 40
        }
      ],
      "source": [
        "var streamList = (1 to 999999999).toStream"
      ]
    },
    {
      "cell_type": "code",
      "execution_count": 41,
      "metadata": {
        "colab": {
          "base_uri": "https://localhost:8080/"
        },
        "id": "3H3ilIIBNcaJ",
        "outputId": "7d3dd023-4584-447f-92d2-0cc9cbb9b5ad"
      },
      "outputs": [
        {
          "output_type": "execute_result",
          "data": {
            "text/plain": [
              "\u001b[36mres40_0\u001b[39m: \u001b[32mInt\u001b[39m = \u001b[32m1\u001b[39m\n",
              "\u001b[36mres40_1\u001b[39m: \u001b[32mStream\u001b[39m[\u001b[32mInt\u001b[39m] = \u001b[33mStream\u001b[39m(\n",
              "  \u001b[32m2\u001b[39m,\n",
              "  \u001b[32m3\u001b[39m,\n",
              "  \u001b[32m4\u001b[39m,\n",
              "  \u001b[32m5\u001b[39m,\n",
              "  \u001b[32m6\u001b[39m,\n",
              "  \u001b[32m7\u001b[39m,\n",
              "  \u001b[32m8\u001b[39m,\n",
              "  \u001b[32m9\u001b[39m,\n",
              "  \u001b[32m10\u001b[39m,\n",
              "  \u001b[32m11\u001b[39m,\n",
              "  \u001b[32m12\u001b[39m,\n",
              "  \u001b[32m13\u001b[39m,\n",
              "  \u001b[32m14\u001b[39m,\n",
              "  \u001b[32m15\u001b[39m,\n",
              "  \u001b[32m16\u001b[39m,\n",
              "  \u001b[32m17\u001b[39m,\n",
              "  \u001b[32m18\u001b[39m,\n",
              "  \u001b[32m19\u001b[39m,\n",
              "  \u001b[32m20\u001b[39m,\n",
              "  \u001b[32m21\u001b[39m,\n",
              "  \u001b[32m22\u001b[39m,\n",
              "  \u001b[32m23\u001b[39m,\n",
              "  \u001b[32m24\u001b[39m,\n",
              "  \u001b[32m25\u001b[39m,\n",
              "  \u001b[32m26\u001b[39m,\n",
              "  \u001b[32m27\u001b[39m,\n",
              "  \u001b[32m28\u001b[39m,\n",
              "  \u001b[32m29\u001b[39m,\n",
              "  \u001b[32m30\u001b[39m,\n",
              "  \u001b[32m31\u001b[39m,\n",
              "  \u001b[32m32\u001b[39m,\n",
              "  \u001b[32m33\u001b[39m,\n",
              "  \u001b[32m34\u001b[39m,\n",
              "  \u001b[32m35\u001b[39m,\n",
              "  \u001b[32m36\u001b[39m,\n",
              "  \u001b[32m37\u001b[39m,\n",
              "  \u001b[32m38\u001b[39m,\n",
              "  \u001b[32m39\u001b[39m,\n",
              "..."
            ]
          },
          "metadata": {},
          "execution_count": 41
        }
      ],
      "source": [
        "streamList.head\n",
        "streamList.tail"
      ]
    },
    {
      "cell_type": "code",
      "execution_count": 42,
      "metadata": {
        "colab": {
          "base_uri": "https://localhost:8080/"
        },
        "id": "76m_LLMsNh5X",
        "outputId": "e6084325-e2e1-401b-a221-f4745d6088dc"
      },
      "outputs": [
        {
          "output_type": "execute_result",
          "data": {
            "text/plain": [
              "\u001b[36mstreamList2\u001b[39m: \u001b[32mStream\u001b[39m[\u001b[32mInt\u001b[39m] = \u001b[33mStream\u001b[39m(\n",
              "  \u001b[32m2\u001b[39m,\n",
              "  \u001b[32m3\u001b[39m,\n",
              "  \u001b[32m4\u001b[39m,\n",
              "  \u001b[32m5\u001b[39m,\n",
              "  \u001b[32m6\u001b[39m,\n",
              "  \u001b[32m7\u001b[39m,\n",
              "  \u001b[32m8\u001b[39m,\n",
              "  \u001b[32m9\u001b[39m,\n",
              "  \u001b[32m10\u001b[39m,\n",
              "  \u001b[32m11\u001b[39m,\n",
              "  \u001b[32m12\u001b[39m,\n",
              "  \u001b[32m13\u001b[39m,\n",
              "  \u001b[32m14\u001b[39m,\n",
              "  \u001b[32m15\u001b[39m,\n",
              "  \u001b[32m16\u001b[39m,\n",
              "  \u001b[32m17\u001b[39m,\n",
              "  \u001b[32m18\u001b[39m,\n",
              "  \u001b[32m19\u001b[39m,\n",
              "  \u001b[32m20\u001b[39m,\n",
              "  \u001b[32m21\u001b[39m,\n",
              "  \u001b[32m22\u001b[39m,\n",
              "  \u001b[32m23\u001b[39m,\n",
              "  \u001b[32m24\u001b[39m,\n",
              "  \u001b[32m25\u001b[39m,\n",
              "  \u001b[32m26\u001b[39m,\n",
              "  \u001b[32m27\u001b[39m,\n",
              "  \u001b[32m28\u001b[39m,\n",
              "  \u001b[32m29\u001b[39m,\n",
              "  \u001b[32m30\u001b[39m,\n",
              "  \u001b[32m31\u001b[39m,\n",
              "  \u001b[32m32\u001b[39m,\n",
              "  \u001b[32m33\u001b[39m,\n",
              "  \u001b[32m34\u001b[39m,\n",
              "  \u001b[32m35\u001b[39m,\n",
              "  \u001b[32m36\u001b[39m,\n",
              "  \u001b[32m37\u001b[39m,\n",
              "  \u001b[32m38\u001b[39m,\n",
              "  \u001b[32m39\u001b[39m,\n",
              "..."
            ]
          },
          "metadata": {},
          "execution_count": 42
        }
      ],
      "source": [
        "var streamList2 = streamList.drop(1)"
      ]
    },
    {
      "cell_type": "code",
      "execution_count": 43,
      "metadata": {
        "colab": {
          "base_uri": "https://localhost:8080/"
        },
        "id": "pWzNenlcNqHq",
        "outputId": "2c52f3b4-5c5d-4bea-da67-28a8d9c60962"
      },
      "outputs": [
        {
          "output_type": "execute_result",
          "data": {
            "text/plain": [
              "\u001b[36mres42\u001b[39m: \u001b[32mInt\u001b[39m = \u001b[32m2\u001b[39m"
            ]
          },
          "metadata": {},
          "execution_count": 43
        }
      ],
      "source": [
        "streamList2.head"
      ]
    },
    {
      "cell_type": "markdown",
      "metadata": {
        "id": "VQoizYcmO_iT"
      },
      "source": [
        "# Queues"
      ]
    },
    {
      "cell_type": "code",
      "execution_count": 97,
      "metadata": {
        "colab": {
          "base_uri": "https://localhost:8080/"
        },
        "id": "gPvTxRAXO8zm",
        "outputId": "c88862e4-61eb-443c-aca5-79a4835f16bf"
      },
      "outputs": [
        {
          "output_type": "execute_result",
          "data": {
            "text/plain": [
              "\u001b[36mqueue1\u001b[39m: \u001b[32mcollection\u001b[39m.\u001b[32mimmutable\u001b[39m.\u001b[32mQueue\u001b[39m[\u001b[32mString\u001b[39m] = \u001b[33mQueue\u001b[39m()"
            ]
          },
          "metadata": {},
          "execution_count": 97
        }
      ],
      "source": [
        "var queue1 = collection.immutable.Queue[String]()"
      ]
    },
    {
      "cell_type": "code",
      "execution_count": 98,
      "metadata": {
        "colab": {
          "base_uri": "https://localhost:8080/"
        },
        "id": "WobueGtVPH1M",
        "outputId": "5f2639f9-a04f-468f-ba94-2967f500f1d2"
      },
      "outputs": [
        {
          "output_type": "execute_result",
          "data": {
            "text/plain": [
              "\u001b[36mqueue2\u001b[39m: \u001b[32mcollection\u001b[39m.\u001b[32mimmutable\u001b[39m.\u001b[32mQueue\u001b[39m[\u001b[32mString\u001b[39m] = \u001b[33mQueue\u001b[39m(\u001b[32m\"First\"\u001b[39m)"
            ]
          },
          "metadata": {},
          "execution_count": 98
        }
      ],
      "source": [
        "var queue2 = queue1.enqueue(\"First\")"
      ]
    },
    {
      "cell_type": "code",
      "execution_count": 46,
      "metadata": {
        "colab": {
          "base_uri": "https://localhost:8080/"
        },
        "id": "I8cxBf4fPPo7",
        "outputId": "cfca8fb4-38df-414a-f710-b4325b2c6457"
      },
      "outputs": [
        {
          "output_type": "execute_result",
          "data": {
            "text/plain": [
              "\u001b[36mqueue3\u001b[39m: \u001b[32mcollection\u001b[39m.\u001b[32mimmutable\u001b[39m.\u001b[32mQueue\u001b[39m[\u001b[32mString\u001b[39m] = \u001b[33mQueue\u001b[39m(\n",
              "  \u001b[32m\"First\"\u001b[39m,\n",
              "  \u001b[32m\"Second\"\u001b[39m,\n",
              "  \u001b[32m\"Third\"\u001b[39m,\n",
              "  \u001b[32m\"Fourth\"\u001b[39m\n",
              ")"
            ]
          },
          "metadata": {},
          "execution_count": 46
        }
      ],
      "source": [
        "var queue3 = queue2.enqueue(List(\"Second\", \"Third\", \"Fourth\"))"
      ]
    },
    {
      "cell_type": "code",
      "execution_count": 47,
      "metadata": {
        "colab": {
          "base_uri": "https://localhost:8080/"
        },
        "id": "8fXJm0mqPiY8",
        "outputId": "b1e54f9f-c8a2-47de-8d2b-23e69d50d9fa"
      },
      "outputs": [
        {
          "output_type": "execute_result",
          "data": {
            "text/plain": [
              "\u001b[36mdequeueElement\u001b[39m: \u001b[32mString\u001b[39m = \u001b[32m\"First\"\u001b[39m\n",
              "\u001b[36mqueue4\u001b[39m: \u001b[32mcollection\u001b[39m.\u001b[32mimmutable\u001b[39m.\u001b[32mQueue\u001b[39m[\u001b[32mString\u001b[39m] = \u001b[33mQueue\u001b[39m()"
            ]
          },
          "metadata": {},
          "execution_count": 47
        }
      ],
      "source": [
        "var (dequeueElement, queue4) = queue2.dequeue"
      ]
    },
    {
      "cell_type": "markdown",
      "metadata": {
        "id": "Q9fmV9thkzOo"
      },
      "source": [
        "# Vectors"
      ]
    },
    {
      "cell_type": "code",
      "execution_count": 48,
      "metadata": {
        "colab": {
          "base_uri": "https://localhost:8080/"
        },
        "id": "AwAGT4VJk2Tq",
        "outputId": "8233ed03-ba98-4259-995d-e2275ada7d0e"
      },
      "outputs": [
        {
          "output_type": "execute_result",
          "data": {
            "text/plain": [
              "\u001b[36mnumsV\u001b[39m: \u001b[32mVector\u001b[39m[\u001b[32mInt\u001b[39m] = \u001b[33mVector\u001b[39m(\n",
              "  \u001b[32m1\u001b[39m,\n",
              "  \u001b[32m2\u001b[39m,\n",
              "  \u001b[32m3\u001b[39m,\n",
              "  \u001b[32m4\u001b[39m,\n",
              "  \u001b[32m5\u001b[39m,\n",
              "  \u001b[32m6\u001b[39m,\n",
              "  \u001b[32m7\u001b[39m,\n",
              "  \u001b[32m8\u001b[39m,\n",
              "  \u001b[32m9\u001b[39m,\n",
              "  \u001b[32m10\u001b[39m,\n",
              "  \u001b[32m11\u001b[39m,\n",
              "  \u001b[32m12\u001b[39m,\n",
              "  \u001b[32m13\u001b[39m,\n",
              "  \u001b[32m14\u001b[39m,\n",
              "  \u001b[32m15\u001b[39m,\n",
              "  \u001b[32m16\u001b[39m,\n",
              "  \u001b[32m17\u001b[39m,\n",
              "  \u001b[32m18\u001b[39m,\n",
              "  \u001b[32m19\u001b[39m,\n",
              "  \u001b[32m20\u001b[39m,\n",
              "  \u001b[32m21\u001b[39m,\n",
              "  \u001b[32m22\u001b[39m,\n",
              "  \u001b[32m23\u001b[39m,\n",
              "  \u001b[32m24\u001b[39m,\n",
              "  \u001b[32m25\u001b[39m,\n",
              "  \u001b[32m26\u001b[39m,\n",
              "  \u001b[32m27\u001b[39m,\n",
              "  \u001b[32m28\u001b[39m,\n",
              "  \u001b[32m29\u001b[39m,\n",
              "  \u001b[32m30\u001b[39m,\n",
              "  \u001b[32m31\u001b[39m,\n",
              "  \u001b[32m32\u001b[39m,\n",
              "  \u001b[32m33\u001b[39m,\n",
              "  \u001b[32m34\u001b[39m,\n",
              "  \u001b[32m35\u001b[39m,\n",
              "  \u001b[32m36\u001b[39m,\n",
              "  \u001b[32m37\u001b[39m,\n",
              "  \u001b[32m38\u001b[39m,\n",
              "..."
            ]
          },
          "metadata": {},
          "execution_count": 48
        }
      ],
      "source": [
        "var numsV = (1 to 10000).toVector"
      ]
    },
    {
      "cell_type": "code",
      "execution_count": 49,
      "metadata": {
        "colab": {
          "base_uri": "https://localhost:8080/"
        },
        "id": "pZ24n14Sk89V",
        "outputId": "0e6e36d0-9f4d-4f44-dc90-b09b973cce34"
      },
      "outputs": [
        {
          "output_type": "execute_result",
          "data": {
            "text/plain": [
              "\u001b[36mbegin_code\u001b[39m: \u001b[32mLong\u001b[39m = \u001b[32m1661980011131L\u001b[39m"
            ]
          },
          "metadata": {},
          "execution_count": 49
        }
      ],
      "source": [
        "var begin_code = System.currentTimeMillis()"
      ]
    },
    {
      "cell_type": "code",
      "execution_count": 50,
      "metadata": {
        "id": "Apu1gaDxlHKU"
      },
      "outputs": [],
      "source": [
        "for (i <- List.range(0,numsV.size)) numsV(i)"
      ]
    },
    {
      "cell_type": "code",
      "execution_count": 51,
      "metadata": {
        "colab": {
          "base_uri": "https://localhost:8080/"
        },
        "id": "G8XE0UPtlTz1",
        "outputId": "966f1dd9-86ea-4c0b-d2bd-e55c77d77ffb"
      },
      "outputs": [
        {
          "output_type": "execute_result",
          "data": {
            "text/plain": [
              "\u001b[36mend_code\u001b[39m: \u001b[32mLong\u001b[39m = \u001b[32m1661980011770L\u001b[39m"
            ]
          },
          "metadata": {},
          "execution_count": 51
        }
      ],
      "source": [
        "var end_code = System.currentTimeMillis()"
      ]
    },
    {
      "cell_type": "code",
      "execution_count": 52,
      "metadata": {
        "colab": {
          "base_uri": "https://localhost:8080/"
        },
        "id": "J4af5od2lYle",
        "outputId": "077cee69-942c-46ba-bc17-d89db2140030"
      },
      "outputs": [
        {
          "output_type": "execute_result",
          "data": {
            "text/plain": [
              "\u001b[36mvecTime\u001b[39m: \u001b[32mLong\u001b[39m = \u001b[32m639L\u001b[39m"
            ]
          },
          "metadata": {},
          "execution_count": 52
        }
      ],
      "source": [
        "var vecTime = end_code - begin_code"
      ]
    },
    {
      "cell_type": "markdown",
      "metadata": {
        "id": "5sOFWvW4lp2Z"
      },
      "source": [
        "# Maps"
      ]
    },
    {
      "cell_type": "code",
      "execution_count": 53,
      "metadata": {
        "colab": {
          "base_uri": "https://localhost:8080/"
        },
        "id": "QsyMQKY0lo_f",
        "outputId": "cf6f4fdb-7085-45fb-ce20-8ae0e6bf2762"
      },
      "outputs": [
        {
          "output_type": "execute_result",
          "data": {
            "text/plain": [
              "\u001b[36mfoodMap\u001b[39m: \u001b[32mMap\u001b[39m[\u001b[32mString\u001b[39m, \u001b[32mDouble\u001b[39m] = \u001b[33mMap\u001b[39m(\n",
              "  \u001b[32m\"Pizza\"\u001b[39m -> \u001b[32m1.99\u001b[39m,\n",
              "  \u001b[32m\"Cake\"\u001b[39m -> \u001b[32m2.99\u001b[39m,\n",
              "  \u001b[32m\"Brownies\"\u001b[39m -> \u001b[32m3.99\u001b[39m\n",
              ")"
            ]
          },
          "metadata": {},
          "execution_count": 53
        }
      ],
      "source": [
        "var foodMap = Map(\"Pizza\" -> 1.99, \"Cake\" -> 2.99, \"Brownies\" -> 3.99)"
      ]
    },
    {
      "cell_type": "code",
      "execution_count": 54,
      "metadata": {
        "colab": {
          "base_uri": "https://localhost:8080/"
        },
        "id": "phXhkH8kl7Pv",
        "outputId": "85a06c32-9007-4e21-f09b-fb5fd8a517dd"
      },
      "outputs": [
        {
          "output_type": "execute_result",
          "data": {
            "text/plain": [
              "\u001b[36mfoodMap2\u001b[39m: \u001b[32mMap\u001b[39m[\u001b[32mString\u001b[39m, \u001b[32mDouble\u001b[39m] = \u001b[33mMap\u001b[39m(\n",
              "  \u001b[32m\"Pizza\"\u001b[39m -> \u001b[32m1.99\u001b[39m,\n",
              "  \u001b[32m\"Cake\"\u001b[39m -> \u001b[32m2.99\u001b[39m,\n",
              "  \u001b[32m\"Brownies\"\u001b[39m -> \u001b[32m3.99\u001b[39m,\n",
              "  \u001b[32m\"Ice Cream\"\u001b[39m -> \u001b[32m0.99\u001b[39m\n",
              ")"
            ]
          },
          "metadata": {},
          "execution_count": 54
        }
      ],
      "source": [
        "var foodMap2 = foodMap + (\"Ice Cream\" -> 0.99)"
      ]
    },
    {
      "cell_type": "code",
      "execution_count": 55,
      "metadata": {
        "colab": {
          "base_uri": "https://localhost:8080/"
        },
        "id": "rqNFfPqxmKZz",
        "outputId": "2e82610a-e6b8-4687-ed60-8a0ea63c8ae9"
      },
      "outputs": [
        {
          "output_type": "execute_result",
          "data": {
            "text/plain": [
              "\u001b[36mfoodMap3\u001b[39m: \u001b[32mMap\u001b[39m[\u001b[32mString\u001b[39m, \u001b[32mDouble\u001b[39m] = \u001b[33mMap\u001b[39m(\n",
              "  \u001b[32m\"Pizza\"\u001b[39m -> \u001b[32m1.99\u001b[39m,\n",
              "  \u001b[32m\"Cake\"\u001b[39m -> \u001b[32m2.99\u001b[39m,\n",
              "  \u001b[32m\"Brownies\"\u001b[39m -> \u001b[32m3.99\u001b[39m,\n",
              "  \u001b[32m\"Pasta\"\u001b[39m -> \u001b[32m4.99\u001b[39m,\n",
              "  \u001b[32m\"Wings\"\u001b[39m -> \u001b[32m5.99\u001b[39m,\n",
              "  \u001b[32m\"Ice Cream\"\u001b[39m -> \u001b[32m0.99\u001b[39m\n",
              ")"
            ]
          },
          "metadata": {},
          "execution_count": 55
        }
      ],
      "source": [
        "var foodMap3 = foodMap2 ++ Map(\"Pasta\" -> 4.99, \"Wings\" -> 5.99)"
      ]
    },
    {
      "cell_type": "code",
      "execution_count": 56,
      "metadata": {
        "colab": {
          "base_uri": "https://localhost:8080/"
        },
        "id": "6meMtavjmYRE",
        "outputId": "581eb876-14af-4ddd-c1bd-609a16a69b75"
      },
      "outputs": [
        {
          "output_type": "execute_result",
          "data": {
            "text/plain": [
              "\u001b[36mfoodMap4\u001b[39m: \u001b[32mMap\u001b[39m[\u001b[32mString\u001b[39m, \u001b[32mDouble\u001b[39m] = \u001b[33mMap\u001b[39m(\n",
              "  \u001b[32m\"Pizza\"\u001b[39m -> \u001b[32m1.99\u001b[39m,\n",
              "  \u001b[32m\"Cake\"\u001b[39m -> \u001b[32m2.99\u001b[39m,\n",
              "  \u001b[32m\"Brownies\"\u001b[39m -> \u001b[32m3.99\u001b[39m,\n",
              "  \u001b[32m\"Pasta\"\u001b[39m -> \u001b[32m4.99\u001b[39m,\n",
              "  \u001b[32m\"Ice Cream\"\u001b[39m -> \u001b[32m0.99\u001b[39m\n",
              ")"
            ]
          },
          "metadata": {},
          "execution_count": 56
        }
      ],
      "source": [
        "var foodMap4 = foodMap3 - (\"Wings\")"
      ]
    },
    {
      "cell_type": "code",
      "execution_count": 57,
      "metadata": {
        "colab": {
          "base_uri": "https://localhost:8080/"
        },
        "id": "4TNXlwYUmidw",
        "outputId": "390a55ef-ad64-446a-862b-7358abfa7766"
      },
      "outputs": [
        {
          "output_type": "execute_result",
          "data": {
            "text/plain": [
              "\u001b[36mfoodMap5\u001b[39m: \u001b[32mMap\u001b[39m[\u001b[32mString\u001b[39m, \u001b[32mDouble\u001b[39m] = \u001b[33mMap\u001b[39m(\n",
              "  \u001b[32m\"Cake\"\u001b[39m -> \u001b[32m2.99\u001b[39m,\n",
              "  \u001b[32m\"Brownies\"\u001b[39m -> \u001b[32m3.99\u001b[39m,\n",
              "  \u001b[32m\"Ice Cream\"\u001b[39m -> \u001b[32m0.99\u001b[39m\n",
              ")"
            ]
          },
          "metadata": {},
          "execution_count": 57
        }
      ],
      "source": [
        "var foodMap5 = foodMap4 -- List(\"Pasta\", \"Pizza\")"
      ]
    },
    {
      "cell_type": "markdown",
      "metadata": {
        "id": "Sb8OmvWVmqNt"
      },
      "source": [
        "## Access Elements"
      ]
    },
    {
      "cell_type": "code",
      "execution_count": 58,
      "metadata": {
        "colab": {
          "base_uri": "https://localhost:8080/"
        },
        "id": "TAeh083QmuH3",
        "outputId": "d732cd60-6bff-43a7-f731-3d738a74c3e5"
      },
      "outputs": [
        {
          "output_type": "execute_result",
          "data": {
            "text/plain": [
              "\u001b[36mseasonWear\u001b[39m: \u001b[32mMap\u001b[39m[\u001b[32mString\u001b[39m, \u001b[32mString\u001b[39m] = \u001b[33mMap\u001b[39m(\n",
              "  \u001b[32m\"rain\"\u001b[39m -> \u001b[32m\"rainboots\"\u001b[39m,\n",
              "  \u001b[32m\"sunshine\"\u001b[39m -> \u001b[32m\"hat\"\u001b[39m\n",
              ")"
            ]
          },
          "metadata": {},
          "execution_count": 58
        }
      ],
      "source": [
        "var seasonWear = Map(\"rain\" -> \"rainboots\", \"sunshine\" -> \"hat\")"
      ]
    },
    {
      "cell_type": "code",
      "execution_count": 59,
      "metadata": {
        "colab": {
          "base_uri": "https://localhost:8080/"
        },
        "id": "Gx1CE0K1m3RH",
        "outputId": "be02d033-f120-4a32-99b5-0a916a1cde9a"
      },
      "outputs": [
        {
          "output_type": "execute_result",
          "data": {
            "text/plain": [
              "\u001b[36mrainWear\u001b[39m: \u001b[32mString\u001b[39m = \u001b[32m\"rainboots\"\u001b[39m"
            ]
          },
          "metadata": {},
          "execution_count": 59
        }
      ],
      "source": [
        "var rainWear = seasonWear(\"rain\")"
      ]
    },
    {
      "cell_type": "code",
      "execution_count": 60,
      "metadata": {
        "colab": {
          "base_uri": "https://localhost:8080/"
        },
        "id": "572y2k_am_4I",
        "outputId": "a7cb14bd-196e-475d-937b-33e1a112edc9"
      },
      "outputs": [
        {
          "output_type": "execute_result",
          "data": {
            "text/plain": [
              "\u001b[36msnowWear\u001b[39m: \u001b[32mString\u001b[39m = \u001b[32m\"No such weather\"\u001b[39m"
            ]
          },
          "metadata": {},
          "execution_count": 60
        }
      ],
      "source": [
        "var snowWear = seasonWear.getOrElse(\"snow\", \"No such weather\")"
      ]
    },
    {
      "cell_type": "code",
      "execution_count": 61,
      "metadata": {
        "colab": {
          "base_uri": "https://localhost:8080/"
        },
        "id": "BQxwitbDnPTm",
        "outputId": "f4c5316c-11a2-4b04-a3b4-0c4f1b4fd4ba"
      },
      "outputs": [
        {
          "output_type": "execute_result",
          "data": {
            "text/plain": [
              "\u001b[36mseasonWear2\u001b[39m: \u001b[32mMap\u001b[39m[\u001b[32mString\u001b[39m, \u001b[32mString\u001b[39m] = \u001b[33mMap\u001b[39m(\n",
              "  \u001b[32m\"rain\"\u001b[39m -> \u001b[32m\"rainboots\"\u001b[39m,\n",
              "  \u001b[32m\"sunshine\"\u001b[39m -> \u001b[32m\"hat\"\u001b[39m\n",
              ")"
            ]
          },
          "metadata": {},
          "execution_count": 61
        }
      ],
      "source": [
        "var seasonWear2 = Map(\"rain\" -> \"rainboots\", \"sunshine\" -> \"hat\").withDefaultValue(\"No such weather\")"
      ]
    },
    {
      "cell_type": "code",
      "execution_count": 62,
      "metadata": {
        "colab": {
          "base_uri": "https://localhost:8080/"
        },
        "id": "g0uTpk2inWGk",
        "outputId": "ce7e95d3-9efa-49c6-f4d4-27fa63344977"
      },
      "outputs": [
        {
          "output_type": "stream",
          "name": "stdout",
          "text": [
            "weather: rainboots\n"
          ]
        },
        {
          "output_type": "execute_result",
          "data": {
            "text/plain": [
              "\u001b[36mwind\u001b[39m: \u001b[32mString\u001b[39m = \u001b[32m\"rainboots\"\u001b[39m"
            ]
          },
          "metadata": {},
          "execution_count": 62
        }
      ],
      "source": [
        "var wind = seasonWear2(\"rain\")\n",
        "// seasonWear2(\"wind\")\n",
        "println(s\"weather: $wind\")"
      ]
    },
    {
      "cell_type": "markdown",
      "metadata": {
        "id": "MwlweLDlnxB5"
      },
      "source": [
        "## Key Value Functions"
      ]
    },
    {
      "cell_type": "code",
      "execution_count": 63,
      "metadata": {
        "colab": {
          "base_uri": "https://localhost:8080/"
        },
        "id": "s88YIko3nzC2",
        "outputId": "b88fdd95-c6bc-4ba6-8ab9-e49e513a7bcb"
      },
      "outputs": [
        {
          "output_type": "execute_result",
          "data": {
            "text/plain": [
              "\u001b[36mkeys_only\u001b[39m: \u001b[32mIterable\u001b[39m[\u001b[32mString\u001b[39m] = \u001b[33mSet\u001b[39m(\u001b[32m\"rain\"\u001b[39m, \u001b[32m\"sunshine\"\u001b[39m)\n",
              "\u001b[36mvalues_only\u001b[39m: \u001b[32mIterable\u001b[39m[\u001b[32mString\u001b[39m] = \u001b[33mMapLike.DefaultValuesIterable\u001b[39m(\n",
              "  \u001b[32m\"rainboots\"\u001b[39m,\n",
              "  \u001b[32m\"hat\"\u001b[39m\n",
              ")"
            ]
          },
          "metadata": {},
          "execution_count": 63
        }
      ],
      "source": [
        "var keys_only = seasonWear.keys\n",
        "var values_only = seasonWear.values"
      ]
    },
    {
      "cell_type": "code",
      "execution_count": 64,
      "metadata": {
        "colab": {
          "base_uri": "https://localhost:8080/"
        },
        "id": "f_UO3D2RoM11",
        "outputId": "ddfe40a4-f55d-46e5-8a27-ec4746a1f29c"
      },
      "outputs": [
        {
          "output_type": "stream",
          "name": "stdout",
          "text": [
            "Activity: movie\n",
            "person: friend\n",
            "Activity: dinner\n",
            "person: mom\n"
          ]
        },
        {
          "output_type": "execute_result",
          "data": {
            "text/plain": [
              "\u001b[36mguestList\u001b[39m: \u001b[32mMap\u001b[39m[\u001b[32mString\u001b[39m, \u001b[32mString\u001b[39m] = \u001b[33mMap\u001b[39m(\u001b[32m\"movie\"\u001b[39m -> \u001b[32m\"friend\"\u001b[39m, \u001b[32m\"dinner\"\u001b[39m -> \u001b[32m\"mom\"\u001b[39m)"
            ]
          },
          "metadata": {},
          "execution_count": 64
        }
      ],
      "source": [
        "val guestList = Map(\"movie\" -> \"friend\", \"dinner\" -> \"mom\")\n",
        "\n",
        "for ((k,v) <- guestList) {\n",
        "  println(\"Activity: \" + k)\n",
        "  println(\"person: \" + v)\n",
        "}"
      ]
    },
    {
      "cell_type": "code",
      "execution_count": 65,
      "metadata": {
        "colab": {
          "base_uri": "https://localhost:8080/"
        },
        "id": "MPYNJt1gohLW",
        "outputId": "fbfd1d80-8950-42aa-88e1-ac0476ee0da8"
      },
      "outputs": [
        {
          "output_type": "stream",
          "name": "stdout",
          "text": [
            "activity: movie, person: friend\n",
            "activity: dinner, person: mom\n"
          ]
        }
      ],
      "source": [
        "guestList.foreach {\n",
        "  case(activity, person) => println(s\"activity: $activity, person: $person\")\n",
        "}"
      ]
    },
    {
      "cell_type": "markdown",
      "metadata": {
        "id": "WDox_cBA5N5N"
      },
      "source": [
        "# Sets"
      ]
    },
    {
      "cell_type": "code",
      "execution_count": 66,
      "metadata": {
        "colab": {
          "base_uri": "https://localhost:8080/"
        },
        "id": "ygqLSu-m5NfV",
        "outputId": "7d4ee6e6-3a26-4abb-9d9f-d1f58be489c9"
      },
      "outputs": [
        {
          "output_type": "execute_result",
          "data": {
            "text/plain": [
              "\u001b[36mdinnerSet\u001b[39m: \u001b[32mSet\u001b[39m[\u001b[32mString\u001b[39m] = \u001b[33mSet\u001b[39m(\u001b[32m\"Pizza\"\u001b[39m, \u001b[32m\"Pasta\"\u001b[39m, \u001b[32m\"Burgers\"\u001b[39m)"
            ]
          },
          "metadata": {},
          "execution_count": 66
        }
      ],
      "source": [
        "var dinnerSet = Set(\"Pizza\", \"Pasta\", \"Burgers\")"
      ]
    },
    {
      "cell_type": "code",
      "execution_count": 67,
      "metadata": {
        "colab": {
          "base_uri": "https://localhost:8080/"
        },
        "id": "DHgqdCeH5x2u",
        "outputId": "390f6289-a4fb-4fc2-9106-78ddec35353a"
      },
      "outputs": [
        {
          "output_type": "execute_result",
          "data": {
            "text/plain": [
              "\u001b[36mdinnerSet1\u001b[39m: \u001b[32mSet\u001b[39m[\u001b[32mString\u001b[39m] = \u001b[33mSet\u001b[39m(\u001b[32m\"Pizza\"\u001b[39m, \u001b[32m\"Pasta\"\u001b[39m, \u001b[32m\"Burgers\"\u001b[39m, \u001b[32m\"Wings\"\u001b[39m)"
            ]
          },
          "metadata": {},
          "execution_count": 67
        }
      ],
      "source": [
        "var dinnerSet1 = dinnerSet + \"Wings\""
      ]
    },
    {
      "cell_type": "code",
      "execution_count": 68,
      "metadata": {
        "colab": {
          "base_uri": "https://localhost:8080/"
        },
        "id": "dsFrFbSS531S",
        "outputId": "a44e11a3-bd57-419d-a2ec-2c554658c7bf"
      },
      "outputs": [
        {
          "output_type": "execute_result",
          "data": {
            "text/plain": [
              "\u001b[36mdinnerSet2\u001b[39m: \u001b[32mSet\u001b[39m[\u001b[32mString\u001b[39m] = \u001b[33mSet\u001b[39m(\n",
              "  \u001b[32m\"Chinese\"\u001b[39m,\n",
              "  \u001b[32m\"Pizza\"\u001b[39m,\n",
              "  \u001b[32m\"Mediterranean\"\u001b[39m,\n",
              "  \u001b[32m\"Pasta\"\u001b[39m,\n",
              "  \u001b[32m\"Wings\"\u001b[39m,\n",
              "  \u001b[32m\"Burgers\"\u001b[39m\n",
              ")"
            ]
          },
          "metadata": {},
          "execution_count": 68
        }
      ],
      "source": [
        "var dinnerSet2 = dinnerSet1 ++ List(\"Chinese\", \"Mediterranean\")"
      ]
    },
    {
      "cell_type": "code",
      "execution_count": 69,
      "metadata": {
        "colab": {
          "base_uri": "https://localhost:8080/"
        },
        "id": "Yq3GrCG56BOp",
        "outputId": "da5d98f5-821a-4e8f-ef7c-2acf00c16820"
      },
      "outputs": [
        {
          "output_type": "execute_result",
          "data": {
            "text/plain": [
              "\u001b[36mdinnerSet3\u001b[39m: \u001b[32mSet\u001b[39m[\u001b[32mString\u001b[39m] = \u001b[33mSet\u001b[39m(\n",
              "  \u001b[32m\"Chinese\"\u001b[39m,\n",
              "  \u001b[32m\"Pizza\"\u001b[39m,\n",
              "  \u001b[32m\"Mediterranean\"\u001b[39m,\n",
              "  \u001b[32m\"Pasta\"\u001b[39m,\n",
              "  \u001b[32m\"Burgers\"\u001b[39m\n",
              ")"
            ]
          },
          "metadata": {},
          "execution_count": 69
        }
      ],
      "source": [
        "var dinnerSet3 = dinnerSet2 - \"Wings\""
      ]
    },
    {
      "cell_type": "code",
      "execution_count": 70,
      "metadata": {
        "colab": {
          "base_uri": "https://localhost:8080/"
        },
        "id": "hGHs9Zx76IHm",
        "outputId": "d1c87b1b-dd93-46cc-89d1-e71532196f10"
      },
      "outputs": [
        {
          "output_type": "execute_result",
          "data": {
            "text/plain": [
              "\u001b[36mdinnerSet4\u001b[39m: \u001b[32mSet\u001b[39m[\u001b[32mString\u001b[39m] = \u001b[33mSet\u001b[39m(\u001b[32m\"Mediterranean\"\u001b[39m, \u001b[32m\"Pasta\"\u001b[39m, \u001b[32m\"Burgers\"\u001b[39m)"
            ]
          },
          "metadata": {},
          "execution_count": 70
        }
      ],
      "source": [
        "var dinnerSet4 = dinnerSet3 -- List(\"Chinese\", \"Pizza\")"
      ]
    },
    {
      "cell_type": "markdown",
      "metadata": {
        "id": "fnPTqDD06W3m"
      },
      "source": [
        "## Set Operations"
      ]
    },
    {
      "cell_type": "code",
      "execution_count": 71,
      "metadata": {
        "colab": {
          "base_uri": "https://localhost:8080/"
        },
        "id": "UiTfg9pN6Y0o",
        "outputId": "93c1f675-660f-4fbd-c268-50f3b9769370"
      },
      "outputs": [
        {
          "output_type": "execute_result",
          "data": {
            "text/plain": [
              "\u001b[36mvegetables\u001b[39m: \u001b[32mSet\u001b[39m[\u001b[32mString\u001b[39m] = \u001b[33mSet\u001b[39m(\n",
              "  \u001b[32m\"potato\"\u001b[39m,\n",
              "  \u001b[32m\"asparagus\"\u001b[39m,\n",
              "  \u001b[32m\"turnip\"\u001b[39m,\n",
              "  \u001b[32m\"carrot\"\u001b[39m,\n",
              "  \u001b[32m\"spinach\"\u001b[39m,\n",
              "  \u001b[32m\"okra\"\u001b[39m,\n",
              "  \u001b[32m\"cucumber\"\u001b[39m\n",
              ")\n",
              "\u001b[36mrootVegetables\u001b[39m: \u001b[32mSet\u001b[39m[\u001b[32mString\u001b[39m] = \u001b[33mSet\u001b[39m(\u001b[32m\"potato\"\u001b[39m, \u001b[32m\"carrot\"\u001b[39m, \u001b[32m\"turnip\"\u001b[39m, \u001b[32m\"radish\"\u001b[39m)"
            ]
          },
          "metadata": {},
          "execution_count": 71
        }
      ],
      "source": [
        "var vegetables = Set(\"potato\", \"asparagus\", \"cucumber\", \"carrot\", \"spinach\", \"turnip\", \"okra\")\n",
        "var rootVegetables = Set(\"potato\", \"carrot\", \"turnip\", \"radish\")"
      ]
    },
    {
      "cell_type": "code",
      "execution_count": 72,
      "metadata": {
        "colab": {
          "base_uri": "https://localhost:8080/"
        },
        "id": "wuIhx43N6vLT",
        "outputId": "cd72a38b-40a9-4823-dbfa-c25e1d4703d7"
      },
      "outputs": [
        {
          "output_type": "execute_result",
          "data": {
            "text/plain": [
              "\u001b[36mintersect\u001b[39m: \u001b[32mSet\u001b[39m[\u001b[32mString\u001b[39m] = \u001b[33mSet\u001b[39m(\u001b[32m\"potato\"\u001b[39m, \u001b[32m\"turnip\"\u001b[39m, \u001b[32m\"carrot\"\u001b[39m)"
            ]
          },
          "metadata": {},
          "execution_count": 72
        }
      ],
      "source": [
        "var intersect = vegetables & rootVegetables\n",
        "// vegetables.intersect(rootVegetables)"
      ]
    },
    {
      "cell_type": "code",
      "execution_count": 73,
      "metadata": {
        "colab": {
          "base_uri": "https://localhost:8080/"
        },
        "id": "QkQxge-y69cv",
        "outputId": "1e23ecc6-5441-4bf0-deb6-09bf7ccb06c1"
      },
      "outputs": [
        {
          "output_type": "execute_result",
          "data": {
            "text/plain": [
              "\u001b[36munion\u001b[39m: \u001b[32mSet\u001b[39m[\u001b[32mString\u001b[39m] = \u001b[33mSet\u001b[39m(\n",
              "  \u001b[32m\"potato\"\u001b[39m,\n",
              "  \u001b[32m\"asparagus\"\u001b[39m,\n",
              "  \u001b[32m\"turnip\"\u001b[39m,\n",
              "  \u001b[32m\"carrot\"\u001b[39m,\n",
              "  \u001b[32m\"spinach\"\u001b[39m,\n",
              "  \u001b[32m\"radish\"\u001b[39m,\n",
              "  \u001b[32m\"okra\"\u001b[39m,\n",
              "  \u001b[32m\"cucumber\"\u001b[39m\n",
              ")"
            ]
          },
          "metadata": {},
          "execution_count": 73
        }
      ],
      "source": [
        "var union = vegetables | rootVegetables\n",
        "// vegetables.union(rootVegetables)"
      ]
    },
    {
      "cell_type": "code",
      "execution_count": 74,
      "metadata": {
        "colab": {
          "base_uri": "https://localhost:8080/"
        },
        "id": "FsjpUF5f7Lvm",
        "outputId": "0db0b5d1-c61a-4154-ce43-783a7ac3f1c2"
      },
      "outputs": [
        {
          "output_type": "execute_result",
          "data": {
            "text/plain": [
              "\u001b[36mdiffVeg\u001b[39m: \u001b[32mSet\u001b[39m[\u001b[32mString\u001b[39m] = \u001b[33mSet\u001b[39m(\u001b[32m\"asparagus\"\u001b[39m, \u001b[32m\"spinach\"\u001b[39m, \u001b[32m\"okra\"\u001b[39m, \u001b[32m\"cucumber\"\u001b[39m)\n",
              "\u001b[36mdiffVeg2\u001b[39m: \u001b[32mSet\u001b[39m[\u001b[32mString\u001b[39m] = \u001b[33mSet\u001b[39m(\u001b[32m\"radish\"\u001b[39m)"
            ]
          },
          "metadata": {},
          "execution_count": 74
        }
      ],
      "source": [
        "var diffVeg = vegetables &~ rootVegetables\n",
        "// vegestables.diff(rootVegetables)\n",
        "var diffVeg2 = rootVegetables &~ vegetables"
      ]
    },
    {
      "cell_type": "markdown",
      "metadata": {
        "id": "sfdYxi1k7TNj"
      },
      "source": [
        "# ArrayBuffer"
      ]
    },
    {
      "cell_type": "code",
      "execution_count": 75,
      "metadata": {
        "colab": {
          "base_uri": "https://localhost:8080/"
        },
        "id": "qw6CxDaR79QX",
        "outputId": "4b7a2864-5e31-48cd-de65-f5dce169d207"
      },
      "outputs": [
        {
          "output_type": "execute_result",
          "data": {
            "text/plain": [
              "\u001b[32mimport \u001b[39m\u001b[36mscala.collection.mutable\u001b[39m"
            ]
          },
          "metadata": {},
          "execution_count": 75
        }
      ],
      "source": [
        "import scala.collection.mutable"
      ]
    },
    {
      "cell_type": "code",
      "execution_count": 76,
      "metadata": {
        "colab": {
          "base_uri": "https://localhost:8080/"
        },
        "id": "8cVoel5O7VwM",
        "outputId": "c906cb1a-a7e7-4e83-d1d5-6db69e63b84f"
      },
      "outputs": [
        {
          "output_type": "execute_result",
          "data": {
            "text/plain": [
              "\u001b[36marrayBuff\u001b[39m: \u001b[32mmutable\u001b[39m.\u001b[32mArrayBuffer\u001b[39m[\u001b[32mInt\u001b[39m] = \u001b[33mArrayBuffer\u001b[39m()"
            ]
          },
          "metadata": {},
          "execution_count": 76
        }
      ],
      "source": [
        "var arrayBuff = mutable.ArrayBuffer.empty[Int]"
      ]
    },
    {
      "cell_type": "code",
      "execution_count": 77,
      "metadata": {
        "colab": {
          "base_uri": "https://localhost:8080/"
        },
        "id": "SyJ7DKa88UQ0",
        "outputId": "ab1c0052-23cd-4199-afa9-5681802bc545"
      },
      "outputs": [
        {
          "output_type": "execute_result",
          "data": {
            "text/plain": [
              "\u001b[36mres76\u001b[39m: \u001b[32mmutable\u001b[39m.\u001b[32mArrayBuffer\u001b[39m[\u001b[32mInt\u001b[39m] = \u001b[33mArrayBuffer\u001b[39m(\u001b[32m1\u001b[39m)"
            ]
          },
          "metadata": {},
          "execution_count": 77
        }
      ],
      "source": [
        "arrayBuff += 1"
      ]
    },
    {
      "cell_type": "code",
      "execution_count": 78,
      "metadata": {
        "colab": {
          "base_uri": "https://localhost:8080/"
        },
        "id": "wKKeA8RC8Yog",
        "outputId": "32946412-4a9e-4ee7-e4fe-53e58400034d"
      },
      "outputs": [
        {
          "output_type": "execute_result",
          "data": {
            "text/plain": [
              "\u001b[36mres77\u001b[39m: \u001b[32mmutable\u001b[39m.\u001b[32mArrayBuffer\u001b[39m[\u001b[32mInt\u001b[39m] = \u001b[33mArrayBuffer\u001b[39m(\u001b[32m1\u001b[39m, \u001b[32m2\u001b[39m, \u001b[32m3\u001b[39m, \u001b[32m4\u001b[39m)"
            ]
          },
          "metadata": {},
          "execution_count": 78
        }
      ],
      "source": [
        "arrayBuff ++= List(2,3,4)"
      ]
    },
    {
      "cell_type": "code",
      "execution_count": 79,
      "metadata": {
        "colab": {
          "base_uri": "https://localhost:8080/"
        },
        "id": "zTfbGy_t8ekZ",
        "outputId": "967132c2-658e-4f85-99ed-49ed01dd327d"
      },
      "outputs": [
        {
          "output_type": "execute_result",
          "data": {
            "text/plain": [
              "\u001b[36mres78\u001b[39m: \u001b[32mmutable\u001b[39m.\u001b[32mArrayBuffer\u001b[39m[\u001b[32mInt\u001b[39m] = \u001b[33mArrayBuffer\u001b[39m(\u001b[32m1\u001b[39m, \u001b[32m3\u001b[39m, \u001b[32m4\u001b[39m)"
            ]
          },
          "metadata": {},
          "execution_count": 79
        }
      ],
      "source": [
        "arrayBuff -= 2"
      ]
    },
    {
      "cell_type": "code",
      "execution_count": 80,
      "metadata": {
        "colab": {
          "base_uri": "https://localhost:8080/"
        },
        "id": "cX23D1Pi8hR1",
        "outputId": "122e904c-249e-4517-ffcf-17dc010a81e8"
      },
      "outputs": [
        {
          "output_type": "execute_result",
          "data": {
            "text/plain": [
              "\u001b[36mres79\u001b[39m: \u001b[32mmutable\u001b[39m.\u001b[32mArrayBuffer\u001b[39m[\u001b[32mInt\u001b[39m] = \u001b[33mArrayBuffer\u001b[39m(\u001b[32m4\u001b[39m)"
            ]
          },
          "metadata": {},
          "execution_count": 80
        }
      ],
      "source": [
        "arrayBuff --= List(1,3)"
      ]
    },
    {
      "cell_type": "markdown",
      "metadata": {
        "id": "PdHfoLve87l-"
      },
      "source": [
        "# ListBuffer"
      ]
    },
    {
      "cell_type": "code",
      "execution_count": 81,
      "metadata": {
        "colab": {
          "base_uri": "https://localhost:8080/"
        },
        "id": "mVXel_TK87Bc",
        "outputId": "7162ab86-7367-4f57-d90b-de33a4fe2c62"
      },
      "outputs": [
        {
          "output_type": "execute_result",
          "data": {
            "text/plain": [
              "\u001b[36mlistBuff\u001b[39m: \u001b[32mmutable\u001b[39m.\u001b[32mListBuffer\u001b[39m[\u001b[32mInt\u001b[39m] = \u001b[33mListBuffer\u001b[39m()"
            ]
          },
          "metadata": {},
          "execution_count": 81
        }
      ],
      "source": [
        "var listBuff = mutable.ListBuffer.empty[Int]"
      ]
    },
    {
      "cell_type": "code",
      "execution_count": 82,
      "metadata": {
        "colab": {
          "base_uri": "https://localhost:8080/"
        },
        "id": "P79Svsmm9F4U",
        "outputId": "f7da5d9d-963f-41ad-f3c3-5f64610beffa"
      },
      "outputs": [
        {
          "output_type": "execute_result",
          "data": {
            "text/plain": [
              "\u001b[36mres81\u001b[39m: \u001b[32mmutable\u001b[39m.\u001b[32mListBuffer\u001b[39m[\u001b[32mInt\u001b[39m] = \u001b[33mListBuffer\u001b[39m(\u001b[32m1\u001b[39m)"
            ]
          },
          "metadata": {},
          "execution_count": 82
        }
      ],
      "source": [
        "listBuff += 1\n",
        "// listBuff.addOne()"
      ]
    },
    {
      "cell_type": "code",
      "execution_count": 83,
      "metadata": {
        "colab": {
          "base_uri": "https://localhost:8080/"
        },
        "id": "6s4K8MfH9KTb",
        "outputId": "30fddf2d-3fe9-43c2-c381-a322e3d47d2d"
      },
      "outputs": [
        {
          "output_type": "execute_result",
          "data": {
            "text/plain": [
              "\u001b[36mres82\u001b[39m: \u001b[32mmutable\u001b[39m.\u001b[32mListBuffer\u001b[39m[\u001b[32mInt\u001b[39m] = \u001b[33mListBuffer\u001b[39m(\u001b[32m1\u001b[39m, \u001b[32m2\u001b[39m, \u001b[32m3\u001b[39m, \u001b[32m4\u001b[39m)"
            ]
          },
          "metadata": {},
          "execution_count": 83
        }
      ],
      "source": [
        "listBuff ++= List(2,3,4)\n",
        "// listBuff.addAll()"
      ]
    },
    {
      "cell_type": "code",
      "execution_count": 84,
      "metadata": {
        "colab": {
          "base_uri": "https://localhost:8080/"
        },
        "id": "9XsGquL19Vhr",
        "outputId": "06575a51-d0bc-42ee-a3b6-3c197c38cdd5"
      },
      "outputs": [
        {
          "output_type": "execute_result",
          "data": {
            "text/plain": [
              "\u001b[36mres83\u001b[39m: \u001b[32mmutable\u001b[39m.\u001b[32mListBuffer\u001b[39m[\u001b[32mInt\u001b[39m] = \u001b[33mListBuffer\u001b[39m(\u001b[32m1\u001b[39m, \u001b[32m3\u001b[39m, \u001b[32m4\u001b[39m)"
            ]
          },
          "metadata": {},
          "execution_count": 84
        }
      ],
      "source": [
        "listBuff -= 2\n",
        "// buffer.subtractOne()"
      ]
    },
    {
      "cell_type": "code",
      "execution_count": 85,
      "metadata": {
        "colab": {
          "base_uri": "https://localhost:8080/"
        },
        "id": "NqtKvFNI9ap9",
        "outputId": "98f80a01-f4ac-4d16-8043-754e1567d454"
      },
      "outputs": [
        {
          "output_type": "execute_result",
          "data": {
            "text/plain": [
              "\u001b[36mres84\u001b[39m: \u001b[32mmutable\u001b[39m.\u001b[32mListBuffer\u001b[39m[\u001b[32mInt\u001b[39m] = \u001b[33mListBuffer\u001b[39m(\u001b[32m4\u001b[39m)"
            ]
          },
          "metadata": {},
          "execution_count": 85
        }
      ],
      "source": [
        "listBuff --= List(1,3)\n",
        "// listBuff.subtractAll(List(1,3))"
      ]
    },
    {
      "cell_type": "markdown",
      "metadata": {
        "id": "nJXl-EOv-n5j"
      },
      "source": [
        "# Stacks"
      ]
    },
    {
      "cell_type": "code",
      "execution_count": 86,
      "metadata": {
        "colab": {
          "base_uri": "https://localhost:8080/"
        },
        "id": "EiXtzYyt-nZi",
        "outputId": "c8c24933-75f0-4058-f653-ec7f08aaf6d6"
      },
      "outputs": [
        {
          "output_type": "execute_result",
          "data": {
            "text/plain": [
              "\u001b[36mnewStack\u001b[39m: \u001b[32mmutable\u001b[39m.\u001b[32mStack\u001b[39m[\u001b[32mString\u001b[39m] = \u001b[33mStack\u001b[39m()"
            ]
          },
          "metadata": {},
          "execution_count": 86
        }
      ],
      "source": [
        "var newStack = new mutable.Stack[String]()"
      ]
    },
    {
      "cell_type": "code",
      "execution_count": 87,
      "metadata": {
        "colab": {
          "base_uri": "https://localhost:8080/"
        },
        "id": "iC1wvgtn-wo4",
        "outputId": "22a681b7-1194-4d7e-b9c1-8135ec61bc97"
      },
      "outputs": [
        {
          "output_type": "execute_result",
          "data": {
            "text/plain": [
              "\u001b[36mres86\u001b[39m: \u001b[32mmutable\u001b[39m.\u001b[32mStack\u001b[39m[\u001b[32mString\u001b[39m] = \u001b[33mStack\u001b[39m(\u001b[32m\"Main\"\u001b[39m)"
            ]
          },
          "metadata": {},
          "execution_count": 87
        }
      ],
      "source": [
        "newStack.push(\"Main\")"
      ]
    },
    {
      "cell_type": "code",
      "execution_count": 88,
      "metadata": {
        "colab": {
          "base_uri": "https://localhost:8080/"
        },
        "id": "Ipb-9DLd-yLH",
        "outputId": "0973f108-d2cf-4dd8-e347-1c39d279e806"
      },
      "outputs": [
        {
          "output_type": "execute_result",
          "data": {
            "text/plain": [
              "\u001b[36mres87\u001b[39m: \u001b[32mmutable\u001b[39m.\u001b[32mStack\u001b[39m[\u001b[32mString\u001b[39m] = \u001b[33mStack\u001b[39m(\u001b[32m\"Function 1\"\u001b[39m, \u001b[32m\"Main\"\u001b[39m)"
            ]
          },
          "metadata": {},
          "execution_count": 88
        }
      ],
      "source": [
        "newStack.push(\"Function 1\")"
      ]
    },
    {
      "cell_type": "code",
      "execution_count": 89,
      "metadata": {
        "colab": {
          "base_uri": "https://localhost:8080/"
        },
        "id": "20Qd9--K_P4c",
        "outputId": "a532ca96-c383-453e-a218-0d4db5e81844"
      },
      "outputs": [
        {
          "output_type": "execute_result",
          "data": {
            "text/plain": [
              "\u001b[36mres88\u001b[39m: \u001b[32mmutable\u001b[39m.\u001b[32mStack\u001b[39m[\u001b[32mString\u001b[39m] = \u001b[33mStack\u001b[39m(\n",
              "  \u001b[32m\"Function 2 called from Function 1\"\u001b[39m,\n",
              "  \u001b[32m\"Function 1\"\u001b[39m,\n",
              "  \u001b[32m\"Main\"\u001b[39m\n",
              ")"
            ]
          },
          "metadata": {},
          "execution_count": 89
        }
      ],
      "source": [
        "newStack.push(\"Function 2 called from Function 1\")"
      ]
    },
    {
      "cell_type": "code",
      "execution_count": 90,
      "metadata": {
        "colab": {
          "base_uri": "https://localhost:8080/"
        },
        "id": "t8BwrA7h_dcQ",
        "outputId": "ac21c6de-d422-47f9-e19a-fa1bb1b16856"
      },
      "outputs": [
        {
          "output_type": "execute_result",
          "data": {
            "text/plain": [
              "\u001b[36mres89_0\u001b[39m: \u001b[32mString\u001b[39m = \u001b[32m\"Function 2 called from Function 1\"\u001b[39m\n",
              "\u001b[36mres89_1\u001b[39m: \u001b[32mString\u001b[39m = \u001b[32m\"Function 2 called from Function 1\"\u001b[39m\n",
              "\u001b[36mres89_2\u001b[39m: \u001b[32mString\u001b[39m = \u001b[32m\"Function 1\"\u001b[39m"
            ]
          },
          "metadata": {},
          "execution_count": 90
        }
      ],
      "source": [
        "newStack.top\n",
        "newStack.pop\n",
        "newStack.top"
      ]
    },
    {
      "cell_type": "markdown",
      "metadata": {
        "id": "Su130CMTCLBC"
      },
      "source": [
        "# Mutable Maps and Sets"
      ]
    },
    {
      "cell_type": "markdown",
      "metadata": {
        "id": "xss2HPTrCQay"
      },
      "source": [
        "## Maps"
      ]
    },
    {
      "cell_type": "code",
      "execution_count": 91,
      "metadata": {
        "colab": {
          "base_uri": "https://localhost:8080/"
        },
        "id": "_FHRmCXnCPao",
        "outputId": "b79ffc75-488f-4343-d205-25e2468f6603"
      },
      "outputs": [
        {
          "output_type": "execute_result",
          "data": {
            "text/plain": [
              "\u001b[36mfruitMap\u001b[39m: \u001b[32mmutable\u001b[39m.\u001b[32mMap\u001b[39m[\u001b[32mString\u001b[39m, \u001b[32mDouble\u001b[39m] = \u001b[33mMap\u001b[39m(\n",
              "  \u001b[32m\"apples\"\u001b[39m -> \u001b[32m1.99\u001b[39m,\n",
              "  \u001b[32m\"Pears\"\u001b[39m -> \u001b[32m3.99\u001b[39m,\n",
              "  \u001b[32m\"Oranges\"\u001b[39m -> \u001b[32m2.99\u001b[39m\n",
              ")"
            ]
          },
          "metadata": {},
          "execution_count": 91
        }
      ],
      "source": [
        "var fruitMap = mutable.Map(\"apples\" -> 1.99, \"Oranges\" -> 2.99, \"Pears\" -> 3.99) "
      ]
    },
    {
      "cell_type": "code",
      "execution_count": 92,
      "metadata": {
        "colab": {
          "base_uri": "https://localhost:8080/"
        },
        "id": "I33yLm0GCeKc",
        "outputId": "64d6e90f-bf00-427e-9395-78e99bc12e9e"
      },
      "outputs": [
        {
          "output_type": "execute_result",
          "data": {
            "text/plain": [
              "\u001b[36mres91\u001b[39m: \u001b[32mmutable\u001b[39m.\u001b[32mMap\u001b[39m[\u001b[32mString\u001b[39m, \u001b[32mDouble\u001b[39m] = \u001b[33mMap\u001b[39m(\n",
              "  \u001b[32m\"bananas\"\u001b[39m -> \u001b[32m0.99\u001b[39m,\n",
              "  \u001b[32m\"apples\"\u001b[39m -> \u001b[32m1.99\u001b[39m,\n",
              "  \u001b[32m\"Pears\"\u001b[39m -> \u001b[32m3.99\u001b[39m,\n",
              "  \u001b[32m\"Oranges\"\u001b[39m -> \u001b[32m2.99\u001b[39m\n",
              ")"
            ]
          },
          "metadata": {},
          "execution_count": 92
        }
      ],
      "source": [
        "fruitMap += (\"bananas\" -> 0.99)"
      ]
    },
    {
      "cell_type": "code",
      "execution_count": 93,
      "metadata": {
        "colab": {
          "base_uri": "https://localhost:8080/"
        },
        "id": "raplxKn5CjUs",
        "outputId": "22343403-e47e-49a1-88b1-b1a12f3113e7"
      },
      "outputs": [
        {
          "output_type": "execute_result",
          "data": {
            "text/plain": [
              "\u001b[36mres92\u001b[39m: \u001b[32mmutable\u001b[39m.\u001b[32mMap\u001b[39m[\u001b[32mString\u001b[39m, \u001b[32mDouble\u001b[39m] = \u001b[33mMap\u001b[39m(\n",
              "  \u001b[32m\"bananas\"\u001b[39m -> \u001b[32m0.99\u001b[39m,\n",
              "  \u001b[32m\"Pears\"\u001b[39m -> \u001b[32m3.99\u001b[39m,\n",
              "  \u001b[32m\"Oranges\"\u001b[39m -> \u001b[32m2.99\u001b[39m\n",
              ")"
            ]
          },
          "metadata": {},
          "execution_count": 93
        }
      ],
      "source": [
        "fruitMap -= (\"apples\")"
      ]
    },
    {
      "cell_type": "markdown",
      "metadata": {
        "id": "1_2qaGV_CyEb"
      },
      "source": [
        "## Sets"
      ]
    },
    {
      "cell_type": "code",
      "execution_count": 94,
      "metadata": {
        "colab": {
          "base_uri": "https://localhost:8080/"
        },
        "id": "K-tzlpsVDIGE",
        "outputId": "5b65ffbb-7db9-48ab-998d-485230486344"
      },
      "outputs": [
        {
          "output_type": "execute_result",
          "data": {
            "text/plain": [
              "\u001b[36mfruitSet\u001b[39m: \u001b[32mmutable\u001b[39m.\u001b[32mSet\u001b[39m[\u001b[32mString\u001b[39m] = \u001b[33mSet\u001b[39m(\u001b[32m\"pears\"\u001b[39m, \u001b[32m\"oranges\"\u001b[39m, \u001b[32m\"apples\"\u001b[39m)"
            ]
          },
          "metadata": {},
          "execution_count": 94
        }
      ],
      "source": [
        "var fruitSet = mutable.Set(\"apples\", \"oranges\", \"pears\")"
      ]
    },
    {
      "cell_type": "code",
      "execution_count": 95,
      "metadata": {
        "colab": {
          "base_uri": "https://localhost:8080/"
        },
        "id": "iDDCMGcKDRh_",
        "outputId": "fc2fe199-b3ae-4be3-cefa-d5c431a90acd"
      },
      "outputs": [
        {
          "output_type": "execute_result",
          "data": {
            "text/plain": [
              "\u001b[36mres94\u001b[39m: \u001b[32mmutable\u001b[39m.\u001b[32mSet\u001b[39m[\u001b[32mString\u001b[39m] = \u001b[33mSet\u001b[39m(\u001b[32m\"pears\"\u001b[39m, \u001b[32m\"oranges\"\u001b[39m, \u001b[32m\"bananas\"\u001b[39m, \u001b[32m\"apples\"\u001b[39m)"
            ]
          },
          "metadata": {},
          "execution_count": 95
        }
      ],
      "source": [
        "fruitSet += \"bananas\""
      ]
    },
    {
      "cell_type": "code",
      "execution_count": 96,
      "metadata": {
        "colab": {
          "base_uri": "https://localhost:8080/"
        },
        "id": "ThI_0t1PDVBm",
        "outputId": "567f5742-909f-4467-e4ea-aeba0779e277"
      },
      "outputs": [
        {
          "output_type": "execute_result",
          "data": {
            "text/plain": [
              "\u001b[36mres95\u001b[39m: \u001b[32mmutable\u001b[39m.\u001b[32mSet\u001b[39m[\u001b[32mString\u001b[39m] = \u001b[33mSet\u001b[39m(\u001b[32m\"oranges\"\u001b[39m, \u001b[32m\"bananas\"\u001b[39m, \u001b[32m\"apples\"\u001b[39m)"
            ]
          },
          "metadata": {},
          "execution_count": 96
        }
      ],
      "source": [
        "fruitSet -= \"pears\""
      ]
    }
  ],
  "metadata": {
    "colab": {
      "collapsed_sections": [],
      "provenance": []
    },
    "gpuClass": "standard",
    "kernelspec": {
      "display_name": "Scala",
      "language": "scala",
      "name": "scala"
    }
  },
  "nbformat": 4,
  "nbformat_minor": 0
}
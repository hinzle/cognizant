{
  "cells": [
    {
      "cell_type": "markdown",
      "metadata": {
        "id": "view-in-github",
        "colab_type": "text"
      },
      "source": [
        "<a href=\"https://colab.research.google.com/github/hinzle/cognizant/blob/main/Spark_Exercises_Answers.ipynb\" target=\"_parent\"><img src=\"https://colab.research.google.com/assets/colab-badge.svg\" alt=\"Open In Colab\"/></a>"
      ]
    },
    {
      "cell_type": "markdown",
      "id": "37c587f2-8410-4f24-8ecb-50e5ba6836a3",
      "metadata": {
        "id": "37c587f2-8410-4f24-8ecb-50e5ba6836a3"
      },
      "source": [
        "# Part 2 - Intro to Spark - Exercises with answers"
      ]
    },
    {
      "cell_type": "code",
      "execution_count": null,
      "metadata": {
        "id": "RoCcdvTCAqeR"
      },
      "outputs": [],
      "source": [
        "%%shell\n",
        "SCALA_VERSION=2.12.8 ALMOND_VERSION=0.3.0+16-548dc10f-SNAPSHOT\n",
        "curl -Lo coursier https://git.io/coursier-cli\n",
        "chmod +x coursier\n",
        "./coursier bootstrap \\\n",
        "    -r jitpack -r sonatype:snapshots \\\n",
        "    -i user -I user:sh.almond:scala-kernel-api_$SCALA_VERSION:$ALMOND_VERSION \\\n",
        "    sh.almond:scala-kernel_$SCALA_VERSION:$ALMOND_VERSION \\\n",
        "    --sources --default=true \\\n",
        "    -o almond-snapshot --embed-files=false\n",
        "rm coursier\n",
        "./almond-snapshot --install --global --force\n",
        "rm almond-snapshot"
      ],
      "id": "RoCcdvTCAqeR"
    },
    {
      "cell_type": "code",
      "execution_count": null,
      "metadata": {
        "id": "BZchIo9sArF4",
        "colab": {
          "base_uri": "https://localhost:8080/"
        },
        "outputId": "d3db28a3-cafd-4b2d-f157-4a3a3440bdb6"
      },
      "outputs": [
        {
          "output_type": "execute_result",
          "data": {
            "text/plain": [
              ""
            ]
          },
          "metadata": {},
          "execution_count": 4
        }
      ],
      "source": [
        "%%shell\n",
        "echo \"{\n",
        "  \\\"language\\\" : \\\"scala\\\",\n",
        "  \\\"display_name\\\" : \\\"Scala\\\",\n",
        "  \\\"argv\\\" : [\n",
        "    \\\"bash\\\",\n",
        "    \\\"-c\\\",\n",
        "    \\\"env LD_PRELOAD=/usr/lib/x86_64-linux-gnu/libpython3.6m.so:\\$LD_PRELOAD java -jar /usr/local/share/jupyter/kernels/scala/launcher.jar --connection-file {connection_file}\\\"\n",
        "  ]\n",
        "}\" > /usr/local/share/jupyter/kernels/scala/kernel.json"
      ],
      "id": "BZchIo9sArF4"
    },
    {
      "cell_type": "markdown",
      "id": "1ff1f48a-c8e5-4869-b287-e8e3d8d93a47",
      "metadata": {
        "id": "1ff1f48a-c8e5-4869-b287-e8e3d8d93a47"
      },
      "source": [
        "## Exercise 1"
      ]
    },
    {
      "cell_type": "markdown",
      "id": "10eca281-bc36-4f6e-90ac-0eacaadf8bad",
      "metadata": {
        "id": "10eca281-bc36-4f6e-90ac-0eacaadf8bad"
      },
      "source": [
        "#### Task 1\n",
        "##### Create an RDD called RDD_1 from an array with elements 10,20,30,40.\n",
        "\n",
        "#### Result:"
      ]
    },
    {
      "cell_type": "code",
      "execution_count": null,
      "id": "7e6edc8c-008f-401f-b343-ea0302926e1b",
      "metadata": {
        "id": "7e6edc8c-008f-401f-b343-ea0302926e1b",
        "outputId": "87aabaea-626b-4f2d-fda5-eaa7cd9feed6",
        "colab": {
          "base_uri": "https://localhost:8080/",
          "height": 131
        }
      },
      "outputs": [
        {
          "output_type": "error",
          "ename": "SyntaxError",
          "evalue": "ignored",
          "traceback": [
            "\u001b[0;36m  File \u001b[0;32m\"<ipython-input-5-a63edbea5fbf>\"\u001b[0;36m, line \u001b[0;32m1\u001b[0m\n\u001b[0;31m    val Array_1 = Array(10,20,30,40)\u001b[0m\n\u001b[0m              ^\u001b[0m\n\u001b[0;31mSyntaxError\u001b[0m\u001b[0;31m:\u001b[0m invalid syntax\n"
          ]
        }
      ],
      "source": [
        "val Array_1 = Array(10,20,30,40)\n",
        "val RDD_1 = sc.parallelize(Array_1)"
      ]
    },
    {
      "cell_type": "markdown",
      "id": "0da37822-e1d1-4a44-86e1-6c89ae70a78f",
      "metadata": {
        "id": "0da37822-e1d1-4a44-86e1-6c89ae70a78f"
      },
      "source": [
        "#### Task 2\n",
        "##### Create an RDD called RDD_2 from the text file `rdd-input-exercises.txt`.\n",
        "##### This is a text file regarding some of the examples of types of credit card fraud.\n",
        "\n",
        "#### Result:"
      ]
    },
    {
      "cell_type": "code",
      "execution_count": null,
      "id": "3c9793a4-e162-434d-8022-d2282e75cd6f",
      "metadata": {
        "id": "3c9793a4-e162-434d-8022-d2282e75cd6f",
        "outputId": "b1d775e6-f1b1-4697-be62-8c06d52096a7"
      },
      "outputs": [
        {
          "data": {
            "text/plain": [
              "data_dir: String = /home/jovyan/scala-spark-training/data\n"
            ]
          },
          "execution_count": 2,
          "metadata": {},
          "output_type": "execute_result"
        }
      ],
      "source": [
        "val data_dir = \"/home/jovyan/scala-spark-training/data\""
      ]
    },
    {
      "cell_type": "code",
      "execution_count": null,
      "id": "a7f01929-43d8-49c7-bb16-b0844fc8d512",
      "metadata": {
        "id": "a7f01929-43d8-49c7-bb16-b0844fc8d512",
        "outputId": "8fbe667c-9f1a-4a9f-b0ce-44f4cd58531b"
      },
      "outputs": [
        {
          "data": {
            "text/plain": [
              "RDD_2: org.apache.spark.rdd.RDD[String] = /home/jovyan/scala-spark-training/data/rdd-input-exercises.txt MapPartitionsRDD[2] at textFile at <console>:27\n"
            ]
          },
          "execution_count": 3,
          "metadata": {},
          "output_type": "execute_result"
        }
      ],
      "source": [
        "val RDD_2 = sc.textFile(data_dir + \"/rdd-input-exercises.txt\")"
      ]
    },
    {
      "cell_type": "markdown",
      "id": "892fd21c-2f65-4748-85fa-f77457d09514",
      "metadata": {
        "id": "892fd21c-2f65-4748-85fa-f77457d09514"
      },
      "source": [
        "#### Task 3\n",
        "##### Create a new RDD called RDD_identity from the lines in RDD_2 that contain the word identity.\n",
        "##### Create a new RDD called RDD_cardholder from the lines in RDD_2 that contain the word cardholder.\n",
        "\n",
        "#### Result:"
      ]
    },
    {
      "cell_type": "code",
      "execution_count": null,
      "id": "8193de32-5059-4c4d-b372-cb9a1b871dfb",
      "metadata": {
        "id": "8193de32-5059-4c4d-b372-cb9a1b871dfb",
        "outputId": "aa5c625d-30fe-44da-e605-53d44e47fff0"
      },
      "outputs": [
        {
          "data": {
            "text/plain": [
              "RDD_identity: org.apache.spark.rdd.RDD[String] = MapPartitionsRDD[3] at filter at <console>:26\n",
              "RDD_cardholder: org.apache.spark.rdd.RDD[String] = MapPartitionsRDD[4] at filter at <console>:27\n"
            ]
          },
          "execution_count": 4,
          "metadata": {},
          "output_type": "execute_result"
        }
      ],
      "source": [
        "val RDD_identity = RDD_2.filter(line => line.contains(\"identity\"))\n",
        "val RDD_cardholder = RDD_2.filter(line => line.contains(\"cardholder\"))"
      ]
    },
    {
      "cell_type": "markdown",
      "id": "c15aca88-5b19-4934-bebc-cbdf45384759",
      "metadata": {
        "id": "c15aca88-5b19-4934-bebc-cbdf45384759"
      },
      "source": [
        "#### Task 4\n",
        "##### Combine RDD_identity and RDD_cardholder in an RDD called RDD_union by taking the union.\n",
        "\n",
        "#### Result:"
      ]
    },
    {
      "cell_type": "code",
      "execution_count": null,
      "id": "783f6f6b-d5d3-4c43-be21-f805939c8d86",
      "metadata": {
        "id": "783f6f6b-d5d3-4c43-be21-f805939c8d86",
        "outputId": "07893b21-87ca-499b-952a-ac82aa859e84"
      },
      "outputs": [
        {
          "data": {
            "text/plain": [
              "RDD_union: org.apache.spark.rdd.RDD[String] = UnionRDD[5] at union at <console>:27\n"
            ]
          },
          "execution_count": 5,
          "metadata": {},
          "output_type": "execute_result"
        }
      ],
      "source": [
        "val RDD_union = RDD_identity.union(RDD_cardholder)"
      ]
    },
    {
      "cell_type": "markdown",
      "id": "6eda2bd7-ba86-4c73-ba03-82f10346e86a",
      "metadata": {
        "id": "6eda2bd7-ba86-4c73-ba03-82f10346e86a"
      },
      "source": [
        "#### Task 5\n",
        "##### Count the number of lines in RDD_union.\n",
        "\n",
        "#### Result:"
      ]
    },
    {
      "cell_type": "code",
      "execution_count": null,
      "id": "a0b48026-e11b-439e-8d1d-91cffa442b7b",
      "metadata": {
        "id": "a0b48026-e11b-439e-8d1d-91cffa442b7b",
        "outputId": "23c589f2-4c0d-468f-fd14-955daa79d1ab"
      },
      "outputs": [
        {
          "data": {
            "text/plain": [
              "res0: Long = 34\n"
            ]
          },
          "execution_count": 6,
          "metadata": {},
          "output_type": "execute_result"
        }
      ],
      "source": [
        "RDD_union.count()"
      ]
    },
    {
      "cell_type": "markdown",
      "id": "89ae9e4b-3ddb-4ad1-bee2-76917b956fe0",
      "metadata": {
        "id": "89ae9e4b-3ddb-4ad1-bee2-76917b956fe0"
      },
      "source": [
        "#### Task 6\n",
        "##### Print the first 3 lines in RDD_union.\n",
        "\n",
        "#### Result:"
      ]
    },
    {
      "cell_type": "code",
      "execution_count": null,
      "id": "0c8da055-498d-4846-9889-7ff258dc5621",
      "metadata": {
        "id": "0c8da055-498d-4846-9889-7ff258dc5621",
        "outputId": "583a67fe-5e3a-44d9-853e-70927a131047"
      },
      "outputs": [
        {
          "name": "stdout",
          "output_type": "stream",
          "text": [
            "The only common security measure on all cards is a signature panel, but, depending on its exact design, a signature may be relatively easy to forge. Some merchants will demand to see a picture ID, such as a driver's license, to verify the identity of the purchaser, and some credit cards include the holder's picture on the card itself. In some jurisdictions, it is illegal for merchants to demand cardholder identification.[7] Self-serve payment systems (gas stations, kiosks, etc.) are common targets for stolen cards, as there is no way to verify the card holder's identity. There is also a new law that has been implemented that identification or a signature is only required for purchases above $50 unless stated in the policy of the merchant.[citation needed][where?] This new law makes it easier for credit card theft to take place as well because it is not making it necessary for a form of identification to be presented, so as long as the fraud is done at what is considered to be a small amount, little to no action is taken by the merchant to prevent it.\\\n",
            "An account takeover occurs when criminals pose as a genuine customer, gain control of an account and then makes unauthorized transactions. According to Action Fraud,[11] fraud is committed at the point money is lost.[12] An account takeover refers to the act by which fraudsters will attempt to assume control of a customer's account from a broad array of service providers such as credit cards, email, banks, and more. Control at the account level offers better long-term returns for fraudsters but can be extremely harmful to the rightful account owners. According to Forrester, risk-based authentication (RBA) plays a key role in identity and access management (IAM) and risk mitigation of account takeover attacks that result in up to $7 billion in annual losses.[13]\\\n",
            "The most prominent types of account takeovers deal with credit card fraud. As opposed to stealing credit card numbers which can be changed after the user reports it lost or stolen, fraudsters prefer account takeover to maximize their return on investment. A fraudster uses parts of the victim's identity such as an email address to gain access to financial accounts. This individual then intercepts communication about the account to keep the victim blind to any threats. Victims are often the first to detect account takeover when they discover charges on monthly statements they did not authorize or multiple questionable withdrawals.[14] Recently there has been an increase in the number of account takeovers since the adoption of EMV technology, which makes it more difficult for fraudsters to clone physical credit cards.[15]\\\n"
          ]
        }
      ],
      "source": [
        "RDD_union.take(3)\n",
        ".foreach(println)"
      ]
    },
    {
      "cell_type": "code",
      "execution_count": null,
      "id": "ec00851b-59d5-4a0c-af2d-e0965e19066a",
      "metadata": {
        "id": "ec00851b-59d5-4a0c-af2d-e0965e19066a"
      },
      "outputs": [],
      "source": []
    },
    {
      "cell_type": "markdown",
      "id": "a7f133f5-c723-41e4-aabe-6e255c2b6d4c",
      "metadata": {
        "id": "a7f133f5-c723-41e4-aabe-6e255c2b6d4c"
      },
      "source": [
        "## Exercise 2"
      ]
    },
    {
      "cell_type": "markdown",
      "id": "02c7e2d5-2c4c-4e8d-b744-050be378ac3a",
      "metadata": {
        "id": "02c7e2d5-2c4c-4e8d-b744-050be378ac3a"
      },
      "source": [
        "#### Task 1\n",
        "##### Create a dataframe called creditcard from the file `creditcard.csv`.\n",
        "##### Choose option(\"inferSchema\", \"true\") and option(\"header\", \"true\").\n",
        "##### This dataset contains credit card transactions of different amounts and flagged as fraudulent or not. Additionally, it also contains 28 columns of PCA transformations of sensitive data that could not be shared.\n",
        "\n",
        "#### Result:"
      ]
    },
    {
      "cell_type": "code",
      "execution_count": null,
      "id": "e42faaaf-d645-4ddd-9007-6b4946c1790a",
      "metadata": {
        "id": "e42faaaf-d645-4ddd-9007-6b4946c1790a",
        "outputId": "baa29ce8-098b-4f19-b3db-635f9b64357f"
      },
      "outputs": [
        {
          "data": {
            "text/plain": [
              "creditcard: org.apache.spark.sql.DataFrame = [Time: double, V1: double ... 29 more fields]\n"
            ]
          },
          "execution_count": 8,
          "metadata": {},
          "output_type": "execute_result"
        }
      ],
      "source": [
        "val creditcard = spark.read.format(\"csv\")       // read csv format\n",
        "  .option(\"inferSchema\", \"true\")                //  infer the schema\n",
        "  .option(\"header\", \"true\")                     //  include header\n",
        "  .load(data_dir + \"/creditcard.csv\")           // read the file"
      ]
    },
    {
      "cell_type": "markdown",
      "id": "7cf36f6b-6fb3-43fc-8b70-543e8e9f1cbc",
      "metadata": {
        "id": "7cf36f6b-6fb3-43fc-8b70-543e8e9f1cbc"
      },
      "source": [
        "#### Task 2\n",
        "##### View the schema of the dataframe.\n",
        "\n",
        "#### Result: "
      ]
    },
    {
      "cell_type": "code",
      "execution_count": null,
      "id": "2691601b-2208-4618-8426-555d1f4591b7",
      "metadata": {
        "id": "2691601b-2208-4618-8426-555d1f4591b7",
        "outputId": "65252c09-92af-4902-e837-199034df358e"
      },
      "outputs": [
        {
          "name": "stdout",
          "output_type": "stream",
          "text": [
            "root\n",
            " |-- Time: double (nullable = true)\n",
            " |-- V1: double (nullable = true)\n",
            " |-- V2: double (nullable = true)\n",
            " |-- V3: double (nullable = true)\n",
            " |-- V4: double (nullable = true)\n",
            " |-- V5: double (nullable = true)\n",
            " |-- V6: double (nullable = true)\n",
            " |-- V7: double (nullable = true)\n",
            " |-- V8: double (nullable = true)\n",
            " |-- V9: double (nullable = true)\n",
            " |-- V10: double (nullable = true)\n",
            " |-- V11: double (nullable = true)\n",
            " |-- V12: double (nullable = true)\n",
            " |-- V13: double (nullable = true)\n",
            " |-- V14: double (nullable = true)\n",
            " |-- V15: double (nullable = true)\n",
            " |-- V16: double (nullable = true)\n",
            " |-- V17: double (nullable = true)\n",
            " |-- V18: double (nullable = true)\n",
            " |-- V19: double (nullable = true)\n",
            " |-- V20: double (nullable = true)\n",
            " |-- V21: double (nullable = true)\n",
            " |-- V22: double (nullable = true)\n",
            " |-- V23: double (nullable = true)\n",
            " |-- V24: double (nullable = true)\n",
            " |-- V25: double (nullable = true)\n",
            " |-- V26: double (nullable = true)\n",
            " |-- V27: double (nullable = true)\n",
            " |-- V28: double (nullable = true)\n",
            " |-- Amount: double (nullable = true)\n",
            " |-- Class: integer (nullable = true)\n",
            "\n"
          ]
        }
      ],
      "source": [
        "creditcard.printSchema()"
      ]
    },
    {
      "cell_type": "markdown",
      "id": "c5cfa992-6c48-4486-ba95-9c099063432c",
      "metadata": {
        "id": "c5cfa992-6c48-4486-ba95-9c099063432c"
      },
      "source": [
        "#### Task 3\n",
        "##### View the first 10 rows of the Amount and Class column from the dataframe.\n",
        "\n",
        "#### Result:"
      ]
    },
    {
      "cell_type": "code",
      "execution_count": null,
      "id": "f9636818-ff52-4fac-a57b-efde4c032400",
      "metadata": {
        "id": "f9636818-ff52-4fac-a57b-efde4c032400",
        "outputId": "6147a57d-858b-46d4-e1d7-8f944791ce8b"
      },
      "outputs": [
        {
          "name": "stdout",
          "output_type": "stream",
          "text": [
            "+------+-----+\n",
            "|Amount|Class|\n",
            "+------+-----+\n",
            "|149.62|    0|\n",
            "|  2.69|    0|\n",
            "|378.66|    0|\n",
            "| 123.5|    0|\n",
            "| 69.99|    0|\n",
            "|  3.67|    0|\n",
            "|  4.99|    0|\n",
            "|  40.8|    0|\n",
            "|  93.2|    0|\n",
            "|  3.68|    0|\n",
            "+------+-----+\n",
            "only showing top 10 rows\n",
            "\n"
          ]
        }
      ],
      "source": [
        "creditcard.select(\"Amount\", \"Class\")\n",
        ".show(10)"
      ]
    },
    {
      "cell_type": "markdown",
      "id": "c0432682-26a2-429d-99ff-fca1462f0452",
      "metadata": {
        "id": "c0432682-26a2-429d-99ff-fca1462f0452"
      },
      "source": [
        "#### Task 4\n",
        "##### Create a SQL TempView of the dataframe and name it as creditcard_view.\n",
        "\n",
        "\n",
        "#### Result:"
      ]
    },
    {
      "cell_type": "code",
      "execution_count": null,
      "id": "80a16d57-5ead-4b3c-91c0-e2dd27b7c261",
      "metadata": {
        "id": "80a16d57-5ead-4b3c-91c0-e2dd27b7c261"
      },
      "outputs": [],
      "source": [
        "creditcard.createOrReplaceTempView(\"creditcard_view\")"
      ]
    },
    {
      "cell_type": "markdown",
      "id": "1612b3cd-843f-4015-bb21-dd738b67a397",
      "metadata": {
        "id": "1612b3cd-843f-4015-bb21-dd738b67a397"
      },
      "source": [
        "#### Task 5\n",
        "##### Using the SQL command, print the Amount and Class column.\n",
        "\n",
        "#### Result:"
      ]
    },
    {
      "cell_type": "code",
      "execution_count": null,
      "id": "0397cb17-f91a-47e9-8e60-a5a2487dbf60",
      "metadata": {
        "id": "0397cb17-f91a-47e9-8e60-a5a2487dbf60",
        "outputId": "de8c0df7-34d1-4822-e6b1-2d64fb8b98f8"
      },
      "outputs": [
        {
          "data": {
            "text/plain": [
              "res5: org.apache.spark.sql.DataFrame = [Amount: double, Class: int]\n"
            ]
          },
          "execution_count": 12,
          "metadata": {},
          "output_type": "execute_result"
        }
      ],
      "source": [
        "sql(\"SELECT Amount, Class FROM creditcard_view\")"
      ]
    },
    {
      "cell_type": "markdown",
      "id": "b1c999c9-120c-44ed-bbc3-ce613af8e39f",
      "metadata": {
        "id": "b1c999c9-120c-44ed-bbc3-ce613af8e39f"
      },
      "source": [
        "#### Task 6\n",
        "##### Let’s go back to the creditcard DataFrame.\n",
        "##### Select the Amount column and show the first 10 entries\n",
        "\n",
        "#### Result: "
      ]
    },
    {
      "cell_type": "code",
      "execution_count": null,
      "id": "fa3725d2-4aed-45f5-82d8-75b94a8b1d39",
      "metadata": {
        "id": "fa3725d2-4aed-45f5-82d8-75b94a8b1d39",
        "outputId": "75bc96cd-5f03-44cc-a5de-c2e8b616a2db"
      },
      "outputs": [
        {
          "name": "stdout",
          "output_type": "stream",
          "text": [
            "+------+\n",
            "|Amount|\n",
            "+------+\n",
            "|149.62|\n",
            "|  2.69|\n",
            "|378.66|\n",
            "| 123.5|\n",
            "| 69.99|\n",
            "|  3.67|\n",
            "|  4.99|\n",
            "|  40.8|\n",
            "|  93.2|\n",
            "|  3.68|\n",
            "+------+\n",
            "only showing top 10 rows\n",
            "\n"
          ]
        }
      ],
      "source": [
        "creditcard.select(\"Amount\")\n",
        ".show(10)"
      ]
    },
    {
      "cell_type": "markdown",
      "id": "778e8ec9-8895-4e69-9d8d-326f25dadff6",
      "metadata": {
        "id": "778e8ec9-8895-4e69-9d8d-326f25dadff6"
      },
      "source": [
        "#### Task 7\n",
        "##### Using the agg() function, aggregate and find the maximum value from the Amount column.\n",
        "\n",
        "#### Result:"
      ]
    },
    {
      "cell_type": "code",
      "execution_count": null,
      "id": "8ba19349-bf61-411c-8527-cfe159f5f10f",
      "metadata": {
        "id": "8ba19349-bf61-411c-8527-cfe159f5f10f",
        "outputId": "88ef3fc5-9b9a-444e-8581-9765f5d4da69"
      },
      "outputs": [
        {
          "name": "stdout",
          "output_type": "stream",
          "text": [
            "+-----------+\n",
            "|max(Amount)|\n",
            "+-----------+\n",
            "|   25691.16|\n",
            "+-----------+\n",
            "\n"
          ]
        }
      ],
      "source": [
        "creditcard.agg(\"Amount\"->\"max\")\n",
        ".show()"
      ]
    },
    {
      "cell_type": "markdown",
      "id": "3fc6ba4c-6207-43d1-87b3-f7393a60952e",
      "metadata": {
        "id": "3fc6ba4c-6207-43d1-87b3-f7393a60952e"
      },
      "source": [
        "#### Task 8\n",
        "##### Filter the dataframe for rows with Class greater than 0 and sort these rows by descending order of Amount. Show the first 5 rows.\n",
        "\n",
        "#### Result:"
      ]
    },
    {
      "cell_type": "code",
      "execution_count": null,
      "id": "bd3972a6-cd33-4447-a706-8dcaa891400a",
      "metadata": {
        "id": "bd3972a6-cd33-4447-a706-8dcaa891400a",
        "outputId": "bedc82dc-1ce6-40cc-ebdf-16d5a36156f8"
      },
      "outputs": [
        {
          "name": "stdout",
          "output_type": "stream",
          "text": [
            "+-------+-----------------+-----------------+------------------+----------------+------------------+------------------+------------------+-----------------+------------------+------------------+-----------------+------------------+------------------+-----------------+-----------------+-----------------+-----------------+-------------------+------------------+-------------------+--------------------+-------------------+-------------------+-------------------+-------------------+------------------+------------------+------------------+------+-----+\n",
            "|   Time|               V1|               V2|                V3|              V4|                V5|                V6|                V7|               V8|                V9|               V10|              V11|               V12|               V13|              V14|              V15|              V16|              V17|                V18|               V19|                V20|                 V21|                V22|                V23|                V24|                V25|               V26|               V27|               V28|Amount|Class|\n",
            "+-------+-----------------+-----------------+------------------+----------------+------------------+------------------+------------------+-----------------+------------------+------------------+-----------------+------------------+------------------+-----------------+-----------------+-----------------+-----------------+-------------------+------------------+-------------------+--------------------+-------------------+-------------------+-------------------+-------------------+------------------+------------------+------------------+------+-----+\n",
            "|41233.0|-10.6457996485752|  5.9183066586857| -11.6710425949575|8.80736917876038| -7.97550136587277| -3.58680634405361| -13.6167970541448| 6.42816934590602| -7.36845129274034| -12.8881582878915| 6.85495311388866| -13.2116950297251|  1.03561234332246|-13.7789556397675| 1.04044835530024|-11.2903278082585|-20.5780220491922|  -7.54782411219534|  3.11847976563045|-0.0461701790327979|    2.57196959291347|  0.206809359357246|  -1.66780140024191|  0.558418754024331|-0.0278978765982558| 0.354253781525514| 0.273328726801416|-0.152908080809092|   0.0|    1|\n",
            "|53658.0|-1.73934096431325| 1.34452078912347|-0.534379047474665|3.19529149873811|-0.416196142475576| -1.26196066822182| -2.34099093949748|0.713003645507275| -1.41626499933122|  -2.9966693020716|0.747478135782509| -4.59661151187479| -1.92775970193864|-4.75707449850737| -1.2478148188713|-2.53549425081321|-5.35646454386042|  -1.97474852459452|-0.603726269220942|0.00274947845372853|    0.38318010845642|  -0.21395221812466| -0.336639824887574|   0.23707630076775|  0.246002931555889|-0.044227636498999| 0.510729074882634|  0.22095159365596|   0.0|    1|\n",
            "|64585.0| 1.08043336974687|0.962830680816555| -0.27806547765439|2.74331806279958| 0.412364075681078|-0.320778352962878|0.0412895489552235|0.176170299597767|-0.966951551053629|-0.194120466505581| 2.14005681553663|-0.276308752749667| -1.19130573752489|-1.88027540328199|0.398271956336376| 1.36743302249318| 1.52266169956075|   1.02631748255981| -1.57707047840184| -0.172658644566365|-0.00899617409257402|-0.0570361435998535|-0.0536915092211487|-0.0263732767799466|   0.40029973123052|0.0728277709127376|0.0270429343018625|0.0632375727147923|   0.0|    1|\n",
            "|  406.0| -2.3122265423263| 1.95199201064158| -1.60985073229769| 3.9979055875468|-0.522187864667764| -1.42654531920595| -2.53738730624579| 1.39165724829804| -2.77008927719433| -2.77227214465915| 3.20203320709635| -2.89990738849473|-0.595221881324605|-4.28925378244217|0.389724120274487|-1.14074717980657|-2.83005567450437|-0.0168224681808257| 0.416955705037907|  0.126910559061474|   0.517232370861764|-0.0350493686052974| -0.465211076182388|  0.320198198514526| 0.0445191674731724| 0.177839798284401| 0.261145002567677|-0.143275874698919|   0.0|    1|\n",
            "|32686.0|0.287952771527529| 1.72873464521162| -1.65217304572257|3.81354418795523| -1.09092715391318|-0.984744665624589| -2.20231792699069|0.555087932252191| -2.03389204830362| -2.73415555507211| 2.36843367282003| -3.65680265130054|-0.169534683304731|-4.74441333023745|0.765192829294304|-2.47951355643698|-4.93111196829858|  -2.54740252736051| -0.90268980289448|  0.265250210286539|   0.262201510185118| -0.633527564205563| 0.0928910102678184|  0.187612655556196|  0.368708354409639|-0.132474029018571|  0.57656075692479| 0.309842705461879|   0.0|    1|\n",
            "+-------+-----------------+-----------------+------------------+----------------+------------------+------------------+------------------+-----------------+------------------+------------------+-----------------+------------------+------------------+-----------------+-----------------+-----------------+-----------------+-------------------+------------------+-------------------+--------------------+-------------------+-------------------+-------------------+-------------------+------------------+------------------+------------------+------+-----+\n",
            "only showing top 5 rows\n",
            "\n"
          ]
        }
      ],
      "source": [
        "creditcard.filter($\"Class\" > 0)\n",
        ".sort($\"Amount\")\n",
        ".show(5)"
      ]
    },
    {
      "cell_type": "markdown",
      "id": "bd961e9e-c4e7-4037-88c4-2ed990ff181d",
      "metadata": {
        "id": "bd961e9e-c4e7-4037-88c4-2ed990ff181d"
      },
      "source": [
        "#### Task 9\n",
        "##### Group by Class and take the mean of Amount for each group.\n",
        "\n",
        "#### Result:"
      ]
    },
    {
      "cell_type": "code",
      "execution_count": null,
      "id": "c6667f92-466c-4ab2-9f6e-d71ea73e6727",
      "metadata": {
        "id": "c6667f92-466c-4ab2-9f6e-d71ea73e6727",
        "outputId": "d73708b7-081d-482f-bd42-dd88ec0e6a4e"
      },
      "outputs": [
        {
          "name": "stdout",
          "output_type": "stream",
          "text": [
            "+-----+------------------+\n",
            "|Class|       avg(Amount)|\n",
            "+-----+------------------+\n",
            "|    1|122.21132113821135|\n",
            "|    0| 88.29102242228011|\n",
            "+-----+------------------+\n",
            "\n"
          ]
        }
      ],
      "source": [
        "creditcard.select($\"Amount\", $\"Class\")\n",
        ".groupBy($\"Class\")\n",
        ".agg(\"Amount\" -> \"mean\")\n",
        ".show()"
      ]
    },
    {
      "cell_type": "code",
      "execution_count": null,
      "id": "3a8af684-cd60-4daf-a185-37b67cfccc92",
      "metadata": {
        "id": "3a8af684-cd60-4daf-a185-37b67cfccc92"
      },
      "outputs": [],
      "source": []
    },
    {
      "cell_type": "markdown",
      "id": "579848dd-71d0-4f6e-b54e-e3b67ae4489d",
      "metadata": {
        "id": "579848dd-71d0-4f6e-b54e-e3b67ae4489d"
      },
      "source": [
        "## Exercise 3"
      ]
    },
    {
      "cell_type": "markdown",
      "id": "a2e53807-3e3d-4d88-995b-ecda5addabaa",
      "metadata": {
        "id": "a2e53807-3e3d-4d88-995b-ecda5addabaa"
      },
      "source": [
        "#### Task 1\n",
        "##### Define a case class with the types for each of the variables in the DataFrame for the creditcard data and name as creditcard_class.\n",
        "##### Refer to the answer from Exercise 1 Task 2.\n",
        "- For the Time column, make sure to cast as Long type.\n",
        "\n",
        "#### Result:"
      ]
    },
    {
      "cell_type": "code",
      "execution_count": null,
      "id": "c262030b-96c7-4549-91fc-f2833bc4139a",
      "metadata": {
        "id": "c262030b-96c7-4549-91fc-f2833bc4139a",
        "outputId": "a0266865-3019-4b61-cb28-0d2fbca97ac9"
      },
      "outputs": [
        {
          "data": {
            "text/plain": [
              "defined class creditcard_class\n"
            ]
          },
          "execution_count": 17,
          "metadata": {},
          "output_type": "execute_result"
        }
      ],
      "source": [
        "case class creditcard_class (\n",
        "    Time: Double,\n",
        "    V1: Double,\n",
        "    V2: Double,\n",
        "    V3: Double,\n",
        "    V4: Double,\n",
        "    V5: Double,\n",
        "    V6: Double,\n",
        "    V7: Double,\n",
        "    V8: Double,\n",
        "    V9: Double,\n",
        "    V10: Double,\n",
        "    V11: Double,\n",
        "    V12: Double,\n",
        "    V13: Double,\n",
        "    V14: Double,\n",
        "    V15: Double,\n",
        "    V16: Double,\n",
        "    V17: Double,\n",
        "    V18: Double,\n",
        "    V19: Double,\n",
        "    V20: Double,\n",
        "    V21: Double,\n",
        "    V22: Double,\n",
        "    V23: Double,\n",
        "    V24: Double,\n",
        "    V25: Double,\n",
        "    V26: Double,\n",
        "    V27: Double,\n",
        "    V28: Double,\n",
        "    Amount: Double, \n",
        "    `Class`: Integer)"
      ]
    },
    {
      "cell_type": "markdown",
      "id": "6da7fcce-75a5-4756-a92e-6ef0efb7260b",
      "metadata": {
        "id": "6da7fcce-75a5-4756-a92e-6ef0efb7260b"
      },
      "source": [
        "#### Task 2\n",
        "##### Load the file `creditcard.csv` as a DataFrame and type cast as creditcard_class to create a Dataset.\n",
        "##### Save the object as creditcard_set Dataset.\n",
        "\n",
        "#### Result:"
      ]
    },
    {
      "cell_type": "code",
      "execution_count": null,
      "id": "747fc5c4-f3e1-4ebf-b7b8-ac375e6f93bc",
      "metadata": {
        "id": "747fc5c4-f3e1-4ebf-b7b8-ac375e6f93bc",
        "outputId": "f64db157-f0bb-4ebc-e28b-82b861c68c7c"
      },
      "outputs": [
        {
          "data": {
            "text/plain": [
              "creditcard_set: org.apache.spark.sql.Dataset[creditcard_class] = [Time: double, V1: double ... 29 more fields]\n"
            ]
          },
          "execution_count": 18,
          "metadata": {},
          "output_type": "execute_result"
        }
      ],
      "source": [
        "val creditcard_set = spark.read.format(\"csv\")\n",
        "  .option(\"inferSchema\", \"true\")\n",
        "  .option(\"header\", \"true\")\n",
        "  .load(data_dir + \"/creditcard.csv\")\n",
        "  .as[creditcard_class]"
      ]
    },
    {
      "cell_type": "markdown",
      "id": "bdeab9c6-c97c-461b-8dbd-fcd485f3decb",
      "metadata": {
        "id": "bdeab9c6-c97c-461b-8dbd-fcd485f3decb"
      },
      "source": [
        "#### Task 3\n",
        "##### Print the first few rows of the creditcard_set Dataset.\n",
        "\n",
        "#### Result:"
      ]
    },
    {
      "cell_type": "code",
      "execution_count": null,
      "id": "c6dd7a0f-fbb5-4f0a-bfef-afeb705a5541",
      "metadata": {
        "id": "c6dd7a0f-fbb5-4f0a-bfef-afeb705a5541",
        "outputId": "2e7f52bb-cae1-4b03-aaae-ed389250d118"
      },
      "outputs": [
        {
          "name": "stdout",
          "output_type": "stream",
          "text": [
            "creditcard_class(0.0,-1.3598071336738,-0.0727811733098497,2.53634673796914,1.37815522427443,-0.338320769942518,0.462387777762292,0.239598554061257,0.0986979012610507,0.363786969611213,0.0907941719789316,-0.551599533260813,-0.617800855762348,-0.991389847235408,-0.311169353699879,1.46817697209427,-0.470400525259478,0.207971241929242,0.0257905801985591,0.403992960255733,0.251412098239705,-0.018306777944153,0.277837575558899,-0.110473910188767,0.0669280749146731,0.128539358273528,-0.189114843888824,0.133558376740387,-0.0210530534538215,149.62,0)\n",
            "creditcard_class(0.0,1.19185711131486,0.26615071205963,0.16648011335321,0.448154078460911,0.0600176492822243,-0.0823608088155687,-0.0788029833323113,0.0851016549148104,-0.255425128109186,-0.166974414004614,1.61272666105479,1.06523531137287,0.48909501589608,-0.143772296441519,0.635558093258208,0.463917041022171,-0.114804663102346,-0.183361270123994,-0.145783041325259,-0.0690831352230203,-0.225775248033138,-0.638671952771851,0.101288021253234,-0.339846475529127,0.167170404418143,0.125894532368176,-0.00898309914322813,0.0147241691924927,2.69,0)\n",
            "creditcard_class(1.0,-1.35835406159823,-1.34016307473609,1.77320934263119,0.379779593034328,-0.503198133318193,1.80049938079263,0.791460956450422,0.247675786588991,-1.51465432260583,0.207642865216696,0.624501459424895,0.066083685268831,0.717292731410831,-0.165945922763554,2.34586494901581,-2.89008319444231,1.10996937869599,-0.121359313195888,-2.26185709530414,0.524979725224404,0.247998153469754,0.771679401917229,0.909412262347719,-0.689280956490685,-0.327641833735251,-0.139096571514147,-0.0553527940384261,-0.0597518405929204,378.66,0)\n",
            "creditcard_class(1.0,-0.966271711572087,-0.185226008082898,1.79299333957872,-0.863291275036453,-0.0103088796030823,1.24720316752486,0.23760893977178,0.377435874652262,-1.38702406270197,-0.0549519224713749,-0.226487263835401,0.178228225877303,0.507756869957169,-0.28792374549456,-0.631418117709045,-1.0596472454325,-0.684092786345479,1.96577500349538,-1.2326219700892,-0.208037781160366,-0.108300452035545,0.00527359678253453,-0.190320518742841,-1.17557533186321,0.647376034602038,-0.221928844458407,0.0627228487293033,0.0614576285006353,123.5,0)\n",
            "creditcard_class(2.0,-1.15823309349523,0.877736754848451,1.548717846511,0.403033933955121,-0.407193377311653,0.0959214624684256,0.592940745385545,-0.270532677192282,0.817739308235294,0.753074431976354,-0.822842877946363,0.53819555014995,1.3458515932154,-1.11966983471731,0.175121130008994,-0.451449182813529,-0.237033239362776,-0.0381947870352842,0.803486924960175,0.408542360392758,-0.00943069713232919,0.79827849458971,-0.137458079619063,0.141266983824769,-0.206009587619756,0.502292224181569,0.219422229513348,0.215153147499206,69.99,0)\n",
            "creditcard_class(2.0,-0.425965884412454,0.960523044882985,1.14110934232219,-0.168252079760302,0.42098688077219,-0.0297275516639742,0.476200948720027,0.260314333074874,-0.56867137571251,-0.371407196834471,1.34126198001957,0.359893837038039,-0.358090652573631,-0.137133700217612,0.517616806555742,0.401725895589603,-0.0581328233640131,0.0686531494425432,-0.0331937877876282,0.0849676720682049,-0.208253514656728,-0.559824796253248,-0.0263976679795373,-0.371426583174346,-0.232793816737034,0.105914779097957,0.253844224739337,0.0810802569229443,3.67,0)\n",
            "creditcard_class(4.0,1.22965763450793,0.141003507049326,0.0453707735899449,1.20261273673594,0.191880988597645,0.272708122899098,-0.00515900288250983,0.0812129398830894,0.464959994783886,-0.0992543211289237,-1.41690724314928,-0.153825826253651,-0.75106271556262,0.16737196252175,0.0501435942254188,-0.443586797916727,0.00282051247234708,-0.61198733994012,-0.0455750446637976,-0.21963255278686,-0.167716265815783,-0.270709726172363,-0.154103786809305,-0.780055415004671,0.75013693580659,-0.257236845917139,0.0345074297438413,0.00516776890624916,4.99,0)\n",
            "creditcard_class(7.0,-0.644269442348146,1.41796354547385,1.0743803763556,-0.492199018495015,0.948934094764157,0.428118462833089,1.12063135838353,-3.80786423873589,0.615374730667027,1.24937617815176,-0.619467796121913,0.291474353088705,1.75796421396042,-1.32386521970526,0.686132504394383,-0.0761269994382006,-1.2221273453247,-0.358221569869078,0.324504731321494,-0.156741852488285,1.94346533978412,-1.01545470979971,0.057503529867291,-0.649709005559993,-0.415266566234811,-0.0516342969262494,-1.20692108094258,-1.08533918832377,40.8,0)\n",
            "creditcard_class(7.0,-0.89428608220282,0.286157196276544,-0.113192212729871,-0.271526130088604,2.6695986595986,3.72181806112751,0.370145127676916,0.851084443200905,-0.392047586798604,-0.410430432848439,-0.705116586646536,-0.110452261733098,-0.286253632470583,0.0743553603016731,-0.328783050303565,-0.210077268148783,-0.499767968800267,0.118764861004217,0.57032816746536,0.0527356691149697,-0.0734251001059225,-0.268091632235551,-0.204232669947878,1.0115918018785,0.373204680146282,-0.384157307702294,0.0117473564581996,0.14240432992147,93.2,0)\n",
            "creditcard_class(9.0,-0.33826175242575,1.11959337641566,1.04436655157316,-0.222187276738296,0.49936080649727,-0.24676110061991,0.651583206489972,0.0695385865186387,-0.736727316364109,-0.366845639206541,1.01761446783262,0.836389570307029,1.00684351373408,-0.443522816876142,0.150219101422635,0.739452777052119,-0.540979921943059,0.47667726004282,0.451772964394125,0.203711454727929,-0.246913936910008,-0.633752642406113,-0.12079408408185,-0.385049925313426,-0.0697330460416923,0.0941988339514961,0.246219304619926,0.0830756493473326,3.68,0)\n"
          ]
        }
      ],
      "source": [
        "creditcard_set.take(10)  \n",
        ".foreach(println)"
      ]
    },
    {
      "cell_type": "markdown",
      "id": "5b943346-c16e-4852-a6ac-8e57b1ceb6cf",
      "metadata": {
        "id": "5b943346-c16e-4852-a6ac-8e57b1ceb6cf"
      },
      "source": [
        "#### Task 4\n",
        "##### Using the columns and schema function, print the columns and the schema of creditcard_set.\n",
        "\n",
        "#### Result:"
      ]
    },
    {
      "cell_type": "code",
      "execution_count": null,
      "id": "2c286d18-894f-4d2c-bb23-41d44cc8fae8",
      "metadata": {
        "id": "2c286d18-894f-4d2c-bb23-41d44cc8fae8",
        "outputId": "d9d0d7b6-24b1-4370-8eed-5df069753e71"
      },
      "outputs": [
        {
          "data": {
            "text/plain": [
              "res11: Array[String] = Array(Time, V1, V2, V3, V4, V5, V6, V7, V8, V9, V10, V11, V12, V13, V14, V15, V16, V17, V18, V19, V20, V21, V22, V23, V24, V25, V26, V27, V28, Amount, Class)\n"
            ]
          },
          "execution_count": 20,
          "metadata": {},
          "output_type": "execute_result"
        }
      ],
      "source": [
        "creditcard_set.columns"
      ]
    },
    {
      "cell_type": "code",
      "execution_count": null,
      "id": "92fb832f-0c85-4f20-81c8-d724e3a16912",
      "metadata": {
        "id": "92fb832f-0c85-4f20-81c8-d724e3a16912",
        "outputId": "763daaa9-4e1f-4fb1-b769-2f3b10057e78"
      },
      "outputs": [
        {
          "data": {
            "text/plain": [
              "res12: org.apache.spark.sql.types.StructType = StructType(StructField(Time,DoubleType,true), StructField(V1,DoubleType,true), StructField(V2,DoubleType,true), StructField(V3,DoubleType,true), StructField(V4,DoubleType,true), StructField(V5,DoubleType,true), StructField(V6,DoubleType,true), StructField(V7,DoubleType,true), StructField(V8,DoubleType,true), StructField(V9,DoubleType,true), StructField(V10,DoubleType,true), StructField(V11,DoubleType,true), StructField(V12,DoubleType,true), StructField(V13,DoubleType,true), StructField(V14,DoubleType,true), StructField(V15,DoubleType,true), StructField(V16,DoubleType,true), StructField(V17,DoubleType,true), StructField(V18,DoubleType,true), StructField(V19,DoubleType,true), StructField(V20,DoubleType,true), StructField(V21,DoubleType,true),...\n"
            ]
          },
          "execution_count": 21,
          "metadata": {},
          "output_type": "execute_result"
        }
      ],
      "source": [
        "creditcard_set.schema"
      ]
    },
    {
      "cell_type": "markdown",
      "id": "0afc82d3-7805-4ffc-81a6-b5eefc1e89d6",
      "metadata": {
        "id": "0afc82d3-7805-4ffc-81a6-b5eefc1e89d6"
      },
      "source": [
        "#### Task 5\n",
        "##### Using select, print the values from the class column.\n",
        "\n",
        "#### Result: "
      ]
    },
    {
      "cell_type": "code",
      "execution_count": null,
      "id": "7eb3c1d3-f1da-4af3-bc7d-0796924c8bbe",
      "metadata": {
        "id": "7eb3c1d3-f1da-4af3-bc7d-0796924c8bbe",
        "outputId": "3f535071-1307-4292-e112-f505a3416ead"
      },
      "outputs": [
        {
          "name": "stdout",
          "output_type": "stream",
          "text": [
            "[0]\n",
            "[0]\n",
            "[0]\n",
            "[0]\n",
            "[0]\n",
            "[0]\n",
            "[0]\n",
            "[0]\n",
            "[0]\n",
            "[0]\n",
            "[0]\n",
            "[0]\n",
            "[0]\n",
            "[0]\n",
            "[0]\n",
            "[0]\n",
            "[0]\n",
            "[0]\n",
            "[0]\n",
            "[0]\n"
          ]
        }
      ],
      "source": [
        "creditcard_set.select(\"class\")\n",
        ".collect()\n",
        ".take(20)\n",
        ".foreach(println)"
      ]
    },
    {
      "cell_type": "markdown",
      "id": "c7ca8899-34f7-4941-b798-dd2d6c084b1a",
      "metadata": {
        "id": "c7ca8899-34f7-4941-b798-dd2d6c084b1a"
      },
      "source": [
        "#### Task 8\n",
        "##### Group creditcard_set by class and get the sum and the maximum value of Amount.\n",
        "\n",
        "#### Result:"
      ]
    },
    {
      "cell_type": "code",
      "execution_count": null,
      "id": "75ff1e17-0104-44c1-9992-871024d50cac",
      "metadata": {
        "id": "75ff1e17-0104-44c1-9992-871024d50cac",
        "outputId": "9348396f-6fd4-4d99-88f8-b5a14140f05e"
      },
      "outputs": [
        {
          "name": "stdout",
          "output_type": "stream",
          "text": [
            "[1,60127.96999999998,2125.87]\n",
            "[0,2.510246203999057E7,25691.16]\n"
          ]
        }
      ],
      "source": [
        "creditcard_set.groupBy(\"class\")\n",
        ".agg(sum(\"Amount\"), max(\"Amount\"))\n",
        ".collect()\n",
        ".foreach(println)"
      ]
    },
    {
      "cell_type": "markdown",
      "id": "0a2faf5b-22ab-4c25-8407-e85bdea9436c",
      "metadata": {
        "id": "0a2faf5b-22ab-4c25-8407-e85bdea9436c"
      },
      "source": [
        "#### Task 9\n",
        "##### Convert creditcard_set to a Spark RDD and name as creditcard_RDD.\n",
        "\n",
        "#### Result:"
      ]
    },
    {
      "cell_type": "code",
      "execution_count": null,
      "id": "5db25a7c-a005-4d7c-9267-17e7c32c4e77",
      "metadata": {
        "id": "5db25a7c-a005-4d7c-9267-17e7c32c4e77",
        "outputId": "92be1cc9-51a6-4916-cf67-bcb9d5f9955f"
      },
      "outputs": [
        {
          "data": {
            "text/plain": [
              "creditcard_rdd: org.apache.spark.rdd.RDD[creditcard_class] = MapPartitionsRDD[70] at rdd at <console>:26\n"
            ]
          },
          "execution_count": 24,
          "metadata": {},
          "output_type": "execute_result"
        }
      ],
      "source": [
        "val creditcard_rdd = creditcard_set.rdd"
      ]
    },
    {
      "cell_type": "code",
      "execution_count": null,
      "id": "1757d3f9-966d-4dc6-84ae-c7612feca1fc",
      "metadata": {
        "id": "1757d3f9-966d-4dc6-84ae-c7612feca1fc"
      },
      "outputs": [],
      "source": []
    },
    {
      "cell_type": "markdown",
      "id": "1cc02951-94c3-430e-aa21-b9df9bfe5880",
      "metadata": {
        "id": "1cc02951-94c3-430e-aa21-b9df9bfe5880"
      },
      "source": [
        "## Exercise 4"
      ]
    },
    {
      "cell_type": "markdown",
      "id": "a34332bb-94ea-4d74-a5ab-b5d867929378",
      "metadata": {
        "id": "a34332bb-94ea-4d74-a5ab-b5d867929378"
      },
      "source": [
        "#### Task 1\n",
        "##### Let’s go back to using RDD_2, which is a text file we loaded in exercise 1.\n",
        "##### Print the default parallelism in the current Spark context and also the number of partitions for RDD_2.\n",
        "\n",
        "#### Result: "
      ]
    },
    {
      "cell_type": "code",
      "execution_count": null,
      "id": "9b20d2b1-7ffa-49dc-b625-4fa5c0c2c6f4",
      "metadata": {
        "id": "9b20d2b1-7ffa-49dc-b625-4fa5c0c2c6f4",
        "outputId": "8ba7f2c2-fc8d-4793-c09c-b238daa0728c"
      },
      "outputs": [
        {
          "data": {
            "text/plain": [
              "res15: Int = 1\n"
            ]
          },
          "execution_count": 25,
          "metadata": {},
          "output_type": "execute_result"
        }
      ],
      "source": [
        "sc.defaultParallelism"
      ]
    },
    {
      "cell_type": "markdown",
      "id": "813f37bc-85fa-46d0-aa03-5af7521447fa",
      "metadata": {
        "id": "813f37bc-85fa-46d0-aa03-5af7521447fa"
      },
      "source": [
        "#### Task 2\n",
        "##### Reload the rdd_input.txt from `rdd-input-exercises.txt` with 4 partitions.\n",
        "##### Save the object as RDD_4.\n",
        "\n",
        "#### Result: "
      ]
    },
    {
      "cell_type": "code",
      "execution_count": null,
      "id": "71c8623d-e4d0-46f2-98d8-04f410d182ff",
      "metadata": {
        "id": "71c8623d-e4d0-46f2-98d8-04f410d182ff",
        "outputId": "34c76f83-3ac7-4d09-ea8f-1e3b14eb6476"
      },
      "outputs": [
        {
          "data": {
            "text/plain": [
              "RDD_4: org.apache.spark.rdd.RDD[String] = /home/jovyan/scala-spark-training/data/rdd-input-exercises.txt MapPartitionsRDD[72] at textFile at <console>:27\n"
            ]
          },
          "execution_count": 26,
          "metadata": {},
          "output_type": "execute_result"
        }
      ],
      "source": [
        "val RDD_4 = sc.textFile(data_dir + \"/rdd-input-exercises.txt\", 4)"
      ]
    },
    {
      "cell_type": "markdown",
      "id": "ce4ee4b1-afd0-49bd-87c1-4352e769639b",
      "metadata": {
        "id": "ce4ee4b1-afd0-49bd-87c1-4352e769639b"
      },
      "source": [
        "#### Task 3\n",
        "##### Count number of records per partition for RDD_4 and save as ex_num_records.\n",
        "##### Print ex_num_records.\n",
        "\n",
        "#### Result: "
      ]
    },
    {
      "cell_type": "code",
      "execution_count": null,
      "id": "8373527d-483b-46ca-a244-5320251584ab",
      "metadata": {
        "id": "8373527d-483b-46ca-a244-5320251584ab",
        "outputId": "0a9af489-49c4-4600-b0a4-bede460171c0"
      },
      "outputs": [
        {
          "name": "stdout",
          "output_type": "stream",
          "text": [
            "53\n",
            "41\n",
            "54\n",
            "113\n"
          ]
        },
        {
          "data": {
            "text/plain": [
              "ex_num_records: Array[Int] = Array(53, 41, 54, 113)\n"
            ]
          },
          "execution_count": 27,
          "metadata": {},
          "output_type": "execute_result"
        }
      ],
      "source": [
        "val ex_num_records = RDD_4.glom()\n",
        ".map(_.length)\n",
        ".collect()\n",
        "\n",
        "ex_num_records.foreach(println)"
      ]
    },
    {
      "cell_type": "markdown",
      "id": "0ae3e0fa-b2ff-4a92-b458-a769ca037565",
      "metadata": {
        "id": "0ae3e0fa-b2ff-4a92-b458-a769ca037565"
      },
      "source": [
        "#### Task 4\n",
        "##### Make a dataframe listing partitions and number of records in each partition for RDD_4.\n",
        "\n",
        "#### Result: "
      ]
    },
    {
      "cell_type": "code",
      "execution_count": null,
      "id": "1e329b8d-eb5f-463f-b2e6-92aa45ead8d2",
      "metadata": {
        "id": "1e329b8d-eb5f-463f-b2e6-92aa45ead8d2",
        "outputId": "70a05597-8507-4c32-deb9-f934b072b302"
      },
      "outputs": [
        {
          "name": "stdout",
          "output_type": "stream",
          "text": [
            "+------------+-----------------+\n",
            "|partition_id|number_of_records|\n",
            "+------------+-----------------+\n",
            "|           0|               53|\n",
            "|           1|               41|\n",
            "|           2|               54|\n",
            "|           3|              113|\n",
            "+------------+-----------------+\n",
            "\n"
          ]
        }
      ],
      "source": [
        "RDD_4.mapPartitionsWithIndex{\n",
        "    case (id, records) => Iterator((id, records.size))\n",
        "}.toDF(\"partition_id\",\"number_of_records\")\n",
        ".show"
      ]
    },
    {
      "cell_type": "markdown",
      "id": "01f3af2a-0f32-4ba9-989f-48f1431c9c0c",
      "metadata": {
        "id": "01f3af2a-0f32-4ba9-989f-48f1431c9c0c"
      },
      "source": [
        "#### Task 5\n",
        "##### Check number of default partitions in our creditcard variable.\n",
        "\n",
        "#### Result: "
      ]
    },
    {
      "cell_type": "code",
      "execution_count": null,
      "id": "8f30c418-ca66-4f1c-8493-85ebee64d28e",
      "metadata": {
        "id": "8f30c418-ca66-4f1c-8493-85ebee64d28e",
        "outputId": "d4cf482e-7a73-4343-bbbb-8c72a3c69974"
      },
      "outputs": [
        {
          "data": {
            "text/plain": [
              "res18: Int = 2\n"
            ]
          },
          "execution_count": 29,
          "metadata": {},
          "output_type": "execute_result"
        }
      ],
      "source": [
        "creditcard.rdd\n",
        ".getNumPartitions"
      ]
    },
    {
      "cell_type": "markdown",
      "id": "26f7b39c-6a87-498b-abc0-dc97ab0371cd",
      "metadata": {
        "id": "26f7b39c-6a87-498b-abc0-dc97ab0371cd"
      },
      "source": [
        "#### Task 6\n",
        "##### Make a dataframe listing partitions and number of records in each partition for creditcard.\n",
        "\n",
        "#### Result: "
      ]
    },
    {
      "cell_type": "code",
      "execution_count": null,
      "id": "5d6c9ebf-18df-4a48-a943-f34a720cb457",
      "metadata": {
        "id": "5d6c9ebf-18df-4a48-a943-f34a720cb457",
        "outputId": "ec91c901-71fc-4d75-c797-b6e1a24861ae"
      },
      "outputs": [
        {
          "name": "stdout",
          "output_type": "stream",
          "text": [
            "+------------+-----------------+\n",
            "|partition_id|number_of_records|\n",
            "+------------+-----------------+\n",
            "|           0|           253505|\n",
            "|           1|            31302|\n",
            "+------------+-----------------+\n",
            "\n"
          ]
        }
      ],
      "source": [
        "creditcard.rdd\n",
        ".mapPartitionsWithIndex{\n",
        "    case (id, records) => Iterator((id, records.size))\n",
        "}.toDF(\"partition_id\",\"number_of_records\")\n",
        ".show"
      ]
    },
    {
      "cell_type": "code",
      "execution_count": null,
      "id": "9cfbd88f-8458-4eff-b41b-e9c1a2a4cfb4",
      "metadata": {
        "id": "9cfbd88f-8458-4eff-b41b-e9c1a2a4cfb4"
      },
      "outputs": [],
      "source": []
    }
  ],
  "metadata": {
    "kernelspec": {
      "display_name": "spylon-kernel",
      "language": "scala",
      "name": "spylon-kernel"
    },
    "language_info": {
      "codemirror_mode": "text/x-scala",
      "file_extension": ".scala",
      "help_links": [
        {
          "text": "MetaKernel Magics",
          "url": "https://metakernel.readthedocs.io/en/latest/source/README.html"
        }
      ],
      "mimetype": "text/x-scala",
      "name": "scala",
      "pygments_lexer": "scala",
      "version": "0.4.1"
    },
    "colab": {
      "provenance": [],
      "include_colab_link": true
    }
  },
  "nbformat": 4,
  "nbformat_minor": 5
}